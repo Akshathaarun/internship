{
 "cells": [
  {
   "cell_type": "markdown",
   "id": "a512a3bc",
   "metadata": {},
   "source": [
    "# 1)dataanalyst bangalore"
   ]
  },
  {
   "cell_type": "code",
   "execution_count": 2,
   "id": "e79f4ec5",
   "metadata": {
    "collapsed": true
   },
   "outputs": [
    {
     "name": "stdout",
     "output_type": "stream",
     "text": [
      "Collecting selenium\n",
      "  Downloading selenium-4.0.0-py3-none-any.whl (954 kB)\n",
      "\u001b[K     |████████████████████████████████| 954 kB 399 kB/s eta 0:00:01\n",
      "\u001b[?25hCollecting trio~=0.17\n",
      "  Downloading trio-0.19.0-py3-none-any.whl (356 kB)\n",
      "\u001b[K     |████████████████████████████████| 356 kB 778 kB/s eta 0:00:01\n",
      "\u001b[?25hRequirement already satisfied: urllib3[secure]~=1.26 in ./opt/anaconda3/lib/python3.8/site-packages (from selenium) (1.26.4)\n",
      "Collecting trio-websocket~=0.9\n",
      "  Downloading trio_websocket-0.9.2-py3-none-any.whl (16 kB)\n",
      "Requirement already satisfied: attrs>=19.2.0 in ./opt/anaconda3/lib/python3.8/site-packages (from trio~=0.17->selenium) (20.3.0)\n",
      "Requirement already satisfied: sortedcontainers in ./opt/anaconda3/lib/python3.8/site-packages (from trio~=0.17->selenium) (2.3.0)\n",
      "Requirement already satisfied: sniffio in ./opt/anaconda3/lib/python3.8/site-packages (from trio~=0.17->selenium) (1.2.0)\n",
      "Collecting outcome\n",
      "  Downloading outcome-1.1.0-py2.py3-none-any.whl (9.7 kB)\n",
      "Requirement already satisfied: idna in ./opt/anaconda3/lib/python3.8/site-packages (from trio~=0.17->selenium) (2.10)\n",
      "Requirement already satisfied: async-generator>=1.9 in ./opt/anaconda3/lib/python3.8/site-packages (from trio~=0.17->selenium) (1.10)\n",
      "Collecting wsproto>=0.14\n",
      "  Downloading wsproto-1.0.0-py3-none-any.whl (24 kB)\n",
      "Requirement already satisfied: pyOpenSSL>=0.14 in ./opt/anaconda3/lib/python3.8/site-packages (from urllib3[secure]~=1.26->selenium) (20.0.1)\n",
      "Requirement already satisfied: cryptography>=1.3.4 in ./opt/anaconda3/lib/python3.8/site-packages (from urllib3[secure]~=1.26->selenium) (3.4.7)\n",
      "Requirement already satisfied: certifi in ./opt/anaconda3/lib/python3.8/site-packages (from urllib3[secure]~=1.26->selenium) (2020.12.5)\n",
      "Requirement already satisfied: cffi>=1.12 in ./opt/anaconda3/lib/python3.8/site-packages (from cryptography>=1.3.4->urllib3[secure]~=1.26->selenium) (1.14.5)\n",
      "Requirement already satisfied: pycparser in ./opt/anaconda3/lib/python3.8/site-packages (from cffi>=1.12->cryptography>=1.3.4->urllib3[secure]~=1.26->selenium) (2.20)\n",
      "Requirement already satisfied: six>=1.5.2 in ./opt/anaconda3/lib/python3.8/site-packages (from pyOpenSSL>=0.14->urllib3[secure]~=1.26->selenium) (1.15.0)\n",
      "Collecting h11<1,>=0.9.0\n",
      "  Downloading h11-0.12.0-py3-none-any.whl (54 kB)\n",
      "\u001b[K     |████████████████████████████████| 54 kB 1.0 MB/s eta 0:00:01\n",
      "\u001b[?25hInstalling collected packages: outcome, h11, wsproto, trio, trio-websocket, selenium\n",
      "Successfully installed h11-0.12.0 outcome-1.1.0 selenium-4.0.0 trio-0.19.0 trio-websocket-0.9.2 wsproto-1.0.0\n",
      "Note: you may need to restart the kernel to use updated packages.\n"
     ]
    }
   ],
   "source": [
    "##pip install selenium"
   ]
  },
  {
   "cell_type": "code",
   "execution_count": 409,
   "id": "7c3763ed",
   "metadata": {},
   "outputs": [],
   "source": [
    "import selenium"
   ]
  },
  {
   "cell_type": "code",
   "execution_count": 410,
   "id": "bd3cafd1",
   "metadata": {},
   "outputs": [],
   "source": [
    "import pandas as pd"
   ]
  },
  {
   "cell_type": "code",
   "execution_count": 411,
   "id": "294e06ea",
   "metadata": {},
   "outputs": [],
   "source": [
    "from selenium import webdriver\n"
   ]
  },
  {
   "cell_type": "code",
   "execution_count": 412,
   "id": "40c0514a",
   "metadata": {},
   "outputs": [],
   "source": [
    "from selenium.webdriver.chrome.options import Options\n"
   ]
  },
  {
   "cell_type": "code",
   "execution_count": 413,
   "id": "4c92edc0",
   "metadata": {},
   "outputs": [],
   "source": [
    "PATH = r\"/Users/akshathaaravind/Downloads/chromedriver\"\n"
   ]
  },
  {
   "cell_type": "code",
   "execution_count": 414,
   "id": "c5d203a9",
   "metadata": {},
   "outputs": [],
   "source": [
    "driver=webdriver.Chrome(PATH)"
   ]
  },
  {
   "cell_type": "code",
   "execution_count": 41,
   "id": "0cd8d5b7",
   "metadata": {},
   "outputs": [],
   "source": [
    "driver.get(\"https://www.naukri.com/\")"
   ]
  },
  {
   "cell_type": "code",
   "execution_count": 42,
   "id": "b9a282f3",
   "metadata": {
    "collapsed": true
   },
   "outputs": [
    {
     "name": "stderr",
     "output_type": "stream",
     "text": [
      "<ipython-input-42-6c7f9d370546>:1: DeprecationWarning: find_element_by_* commands are deprecated. Please use find_element() instead\n",
      "  search_job=driver.find_element_by_id(\"qsb-keyword-sugg\")\n"
     ]
    }
   ],
   "source": [
    "search_job=driver.find_element_by_id(\"qsb-keyword-sugg\")"
   ]
  },
  {
   "cell_type": "code",
   "execution_count": 43,
   "id": "41c92553",
   "metadata": {},
   "outputs": [],
   "source": [
    "search_job.send_keys(\"Data Analyst\")"
   ]
  },
  {
   "cell_type": "code",
   "execution_count": 44,
   "id": "ac7ed6a3",
   "metadata": {
    "collapsed": true
   },
   "outputs": [
    {
     "name": "stderr",
     "output_type": "stream",
     "text": [
      "<ipython-input-44-23e1e00fe1d1>:1: DeprecationWarning: find_element_by_* commands are deprecated. Please use find_element() instead\n",
      "  search_loc=driver.find_element_by_id(\"qsb-location-sugg\")\n"
     ]
    }
   ],
   "source": [
    "search_loc=driver.find_element_by_id(\"qsb-location-sugg\")"
   ]
  },
  {
   "cell_type": "code",
   "execution_count": 45,
   "id": "8573cc1c",
   "metadata": {},
   "outputs": [],
   "source": [
    "search_loc.send_keys(\"Bangalore\")"
   ]
  },
  {
   "cell_type": "code",
   "execution_count": 46,
   "id": "940e3b84",
   "metadata": {
    "collapsed": true
   },
   "outputs": [
    {
     "name": "stderr",
     "output_type": "stream",
     "text": [
      "<ipython-input-46-e011a32b2927>:1: DeprecationWarning: find_element_by_* commands are deprecated. Please use find_element() instead\n",
      "  search_btn=driver.find_element_by_xpath(\"//div[@class='search-btn']/button\")\n"
     ]
    }
   ],
   "source": [
    "search_btn=driver.find_element_by_xpath(\"//div[@class='search-btn']/button\")\n",
    "#search_btn.click()"
   ]
  },
  {
   "cell_type": "code",
   "execution_count": 48,
   "id": "507b59e5",
   "metadata": {},
   "outputs": [],
   "source": [
    "job_title=[]\n",
    "job_location=[]\n",
    "company_name=[]\n",
    "experiance_required=[]"
   ]
  },
  {
   "cell_type": "code",
   "execution_count": 61,
   "id": "e551eedd",
   "metadata": {
    "collapsed": true
   },
   "outputs": [
    {
     "name": "stderr",
     "output_type": "stream",
     "text": [
      "<ipython-input-61-9517b2e31544>:1: DeprecationWarning: find_elements_by_* commands are deprecated. Please use find_elements() instead\n",
      "  titles_tags=driver.find_elements_by_xpath(\"//a[@class='title fw500 ellipsis']\")\n"
     ]
    },
    {
     "data": {
      "text/plain": [
       "[<selenium.webdriver.remote.webelement.WebElement (session=\"b248cdc433971b7b5016d1aaa5826668\", element=\"a8de6099-a480-4461-86ea-fd7a79f759a3\")>,\n",
       " <selenium.webdriver.remote.webelement.WebElement (session=\"b248cdc433971b7b5016d1aaa5826668\", element=\"34a86b10-25e3-4dac-a007-c4988fbc2073\")>,\n",
       " <selenium.webdriver.remote.webelement.WebElement (session=\"b248cdc433971b7b5016d1aaa5826668\", element=\"334799d2-9e32-45f4-b387-8e6c740f3f8c\")>,\n",
       " <selenium.webdriver.remote.webelement.WebElement (session=\"b248cdc433971b7b5016d1aaa5826668\", element=\"fa9a471a-9c3f-4733-9e4a-cdbef1dad2d0\")>,\n",
       " <selenium.webdriver.remote.webelement.WebElement (session=\"b248cdc433971b7b5016d1aaa5826668\", element=\"43adb3a2-6481-4cd8-95dc-e42261eb519e\")>,\n",
       " <selenium.webdriver.remote.webelement.WebElement (session=\"b248cdc433971b7b5016d1aaa5826668\", element=\"85e8b229-8702-4795-bef5-8a9086e3e9eb\")>,\n",
       " <selenium.webdriver.remote.webelement.WebElement (session=\"b248cdc433971b7b5016d1aaa5826668\", element=\"4cc215b7-bd17-4d9c-92d9-6a8042f6b7fe\")>,\n",
       " <selenium.webdriver.remote.webelement.WebElement (session=\"b248cdc433971b7b5016d1aaa5826668\", element=\"3212a1ef-d14b-4574-a5e5-910e39c1a200\")>,\n",
       " <selenium.webdriver.remote.webelement.WebElement (session=\"b248cdc433971b7b5016d1aaa5826668\", element=\"8d066a1f-3e5c-408e-8162-25424cc88fdb\")>,\n",
       " <selenium.webdriver.remote.webelement.WebElement (session=\"b248cdc433971b7b5016d1aaa5826668\", element=\"608bcb4c-681f-44eb-8f4a-a53979e04855\")>,\n",
       " <selenium.webdriver.remote.webelement.WebElement (session=\"b248cdc433971b7b5016d1aaa5826668\", element=\"c30afe05-f848-4a13-ac07-d329f81f32a3\")>,\n",
       " <selenium.webdriver.remote.webelement.WebElement (session=\"b248cdc433971b7b5016d1aaa5826668\", element=\"3cd92211-795a-4aa7-ad26-22ce48f54f4e\")>,\n",
       " <selenium.webdriver.remote.webelement.WebElement (session=\"b248cdc433971b7b5016d1aaa5826668\", element=\"783a69f0-cc76-4b63-9c3b-6f9f3d9df2b9\")>,\n",
       " <selenium.webdriver.remote.webelement.WebElement (session=\"b248cdc433971b7b5016d1aaa5826668\", element=\"61cec23a-15de-4f33-87bb-cbdb23146280\")>,\n",
       " <selenium.webdriver.remote.webelement.WebElement (session=\"b248cdc433971b7b5016d1aaa5826668\", element=\"98aa41e0-1a7e-4e7f-bfb0-95e09ec9fe74\")>,\n",
       " <selenium.webdriver.remote.webelement.WebElement (session=\"b248cdc433971b7b5016d1aaa5826668\", element=\"2c65abb6-cbd9-46e8-84a5-0917f1277de4\")>,\n",
       " <selenium.webdriver.remote.webelement.WebElement (session=\"b248cdc433971b7b5016d1aaa5826668\", element=\"7e00ca8f-89bd-429f-b2a0-32fd96bb6d7e\")>,\n",
       " <selenium.webdriver.remote.webelement.WebElement (session=\"b248cdc433971b7b5016d1aaa5826668\", element=\"2a56ac7f-b77e-459f-9f67-b557a55140e2\")>,\n",
       " <selenium.webdriver.remote.webelement.WebElement (session=\"b248cdc433971b7b5016d1aaa5826668\", element=\"387909ff-d876-433c-931e-5be783bbaf30\")>,\n",
       " <selenium.webdriver.remote.webelement.WebElement (session=\"b248cdc433971b7b5016d1aaa5826668\", element=\"bd19816e-21ce-4ad2-b887-f4d6491b6adc\")>]"
      ]
     },
     "execution_count": 61,
     "metadata": {},
     "output_type": "execute_result"
    }
   ],
   "source": [
    "titles_tags=driver.find_elements_by_xpath(\"//a[@class='title fw500 ellipsis']\")\n",
    "\n",
    "titles_tags"
   ]
  },
  {
   "cell_type": "code",
   "execution_count": 62,
   "id": "6c0e84c3",
   "metadata": {},
   "outputs": [],
   "source": [
    "for i in titles_tags:\n",
    "    title=i.text\n",
    "    job_title.append(title)"
   ]
  },
  {
   "cell_type": "code",
   "execution_count": 64,
   "id": "4f4c679e",
   "metadata": {},
   "outputs": [
    {
     "data": {
      "text/plain": [
       "['Business Data Analyst - Database Design/Mining',\n",
       " 'Data Analyst',\n",
       " 'Data Analyst',\n",
       " 'Data Analyst',\n",
       " 'Senior Data Analyst',\n",
       " 'Sr Business Data Analyst',\n",
       " 'Business Data Analyst - MIS & Reporting',\n",
       " 'Business Data Analyst',\n",
       " 'Senior Data Analyst - SQL/Tableau/Redshift']"
      ]
     },
     "execution_count": 64,
     "metadata": {},
     "output_type": "execute_result"
    }
   ],
   "source": [
    "job_title[0:9]"
   ]
  },
  {
   "cell_type": "code",
   "execution_count": 65,
   "id": "7b3a994f",
   "metadata": {
    "collapsed": true
   },
   "outputs": [
    {
     "name": "stderr",
     "output_type": "stream",
     "text": [
      "<ipython-input-65-84ae093fe0b5>:1: DeprecationWarning: find_elements_by_* commands are deprecated. Please use find_elements() instead\n",
      "  company_tags=driver.find_elements_by_xpath(\"//a[@class='subTitle ellipsis fleft']\")\n"
     ]
    },
    {
     "data": {
      "text/plain": [
       "[<selenium.webdriver.remote.webelement.WebElement (session=\"b248cdc433971b7b5016d1aaa5826668\", element=\"8202f2f5-dd7a-4c92-a4f4-e8dc87bf63bc\")>,\n",
       " <selenium.webdriver.remote.webelement.WebElement (session=\"b248cdc433971b7b5016d1aaa5826668\", element=\"cbd8a3a8-49a9-4c65-874e-ebe1855bdef9\")>,\n",
       " <selenium.webdriver.remote.webelement.WebElement (session=\"b248cdc433971b7b5016d1aaa5826668\", element=\"42ae18de-ceff-46a9-b6c2-166dfa93a775\")>,\n",
       " <selenium.webdriver.remote.webelement.WebElement (session=\"b248cdc433971b7b5016d1aaa5826668\", element=\"197dea89-68cd-4461-8916-6447152d8644\")>,\n",
       " <selenium.webdriver.remote.webelement.WebElement (session=\"b248cdc433971b7b5016d1aaa5826668\", element=\"46fe835c-30ac-4965-98ec-ad50ede61f0e\")>,\n",
       " <selenium.webdriver.remote.webelement.WebElement (session=\"b248cdc433971b7b5016d1aaa5826668\", element=\"c20df552-9433-455b-9588-dc6cebd7dc6e\")>,\n",
       " <selenium.webdriver.remote.webelement.WebElement (session=\"b248cdc433971b7b5016d1aaa5826668\", element=\"b50913c9-e026-4a7c-8da0-f38b73a404df\")>,\n",
       " <selenium.webdriver.remote.webelement.WebElement (session=\"b248cdc433971b7b5016d1aaa5826668\", element=\"d0f949be-cd30-4246-a80b-5670e28dcae4\")>,\n",
       " <selenium.webdriver.remote.webelement.WebElement (session=\"b248cdc433971b7b5016d1aaa5826668\", element=\"b0498dd8-27ee-4005-b981-5ae4090f7a3c\")>,\n",
       " <selenium.webdriver.remote.webelement.WebElement (session=\"b248cdc433971b7b5016d1aaa5826668\", element=\"2d5d92ff-91c1-40b7-9056-29526c4079e9\")>,\n",
       " <selenium.webdriver.remote.webelement.WebElement (session=\"b248cdc433971b7b5016d1aaa5826668\", element=\"55b59f9f-e5fa-4ee4-b433-81146f412bf1\")>,\n",
       " <selenium.webdriver.remote.webelement.WebElement (session=\"b248cdc433971b7b5016d1aaa5826668\", element=\"d6305efd-2172-4743-ac40-b5daddeb9947\")>,\n",
       " <selenium.webdriver.remote.webelement.WebElement (session=\"b248cdc433971b7b5016d1aaa5826668\", element=\"693964a8-f08e-4fb3-b6be-5e95670ac874\")>,\n",
       " <selenium.webdriver.remote.webelement.WebElement (session=\"b248cdc433971b7b5016d1aaa5826668\", element=\"6d41ae63-6f2a-4302-ba49-7de80a9d203d\")>,\n",
       " <selenium.webdriver.remote.webelement.WebElement (session=\"b248cdc433971b7b5016d1aaa5826668\", element=\"4065c88e-b440-4f40-bab2-65bbe396f152\")>,\n",
       " <selenium.webdriver.remote.webelement.WebElement (session=\"b248cdc433971b7b5016d1aaa5826668\", element=\"10a13db5-f14d-4525-a83a-379022f4cd97\")>,\n",
       " <selenium.webdriver.remote.webelement.WebElement (session=\"b248cdc433971b7b5016d1aaa5826668\", element=\"caa7e445-cee1-4192-8d1b-ae8b3ba434e4\")>,\n",
       " <selenium.webdriver.remote.webelement.WebElement (session=\"b248cdc433971b7b5016d1aaa5826668\", element=\"17c0b416-f8d1-45a1-936f-3a9e36317a43\")>,\n",
       " <selenium.webdriver.remote.webelement.WebElement (session=\"b248cdc433971b7b5016d1aaa5826668\", element=\"6df66a30-a83b-46b1-aecb-791f153b3dd9\")>,\n",
       " <selenium.webdriver.remote.webelement.WebElement (session=\"b248cdc433971b7b5016d1aaa5826668\", element=\"ecba21ba-124c-4f18-bbbe-87db58611089\")>]"
      ]
     },
     "execution_count": 65,
     "metadata": {},
     "output_type": "execute_result"
    }
   ],
   "source": [
    "company_tags=driver.find_elements_by_xpath(\"//a[@class='subTitle ellipsis fleft']\")\n",
    "company_tags"
   ]
  },
  {
   "cell_type": "code",
   "execution_count": 66,
   "id": "2e0ef98f",
   "metadata": {},
   "outputs": [],
   "source": [
    "for i in company_tags:\n",
    "    company_names=i.text\n",
    "    company_name.append(company_names)"
   ]
  },
  {
   "cell_type": "code",
   "execution_count": 67,
   "id": "dbce5f3c",
   "metadata": {},
   "outputs": [
    {
     "data": {
      "text/plain": [
       "['AugmatrixGo',\n",
       " 'Applied Materials',\n",
       " 'Shell',\n",
       " 'Shell',\n",
       " 'Utthunga Technologies Pvt Ltd',\n",
       " 'ExecBoardinAsia',\n",
       " 'INTERTRUST GROUP',\n",
       " 'NetApp',\n",
       " 'Pronto Consulting Services',\n",
       " 'BIOCON BIOLOGICS LIMITED',\n",
       " 'Shell',\n",
       " 'Capgemini',\n",
       " 'Snaphunt',\n",
       " 'flocareer.com',\n",
       " 'Leap29',\n",
       " 'InnovAccer',\n",
       " 'InnovAccer',\n",
       " 'ICON plc (Formerly PRA Health Sciences)',\n",
       " 'WEIWO Communication Pvt. Ltd.',\n",
       " 'Catalyst']"
      ]
     },
     "execution_count": 67,
     "metadata": {},
     "output_type": "execute_result"
    }
   ],
   "source": [
    "company_name"
   ]
  },
  {
   "cell_type": "code",
   "execution_count": 68,
   "id": "8e79fc7c",
   "metadata": {
    "collapsed": true
   },
   "outputs": [
    {
     "name": "stderr",
     "output_type": "stream",
     "text": [
      "<ipython-input-68-a47136cdab8d>:1: DeprecationWarning: find_elements_by_* commands are deprecated. Please use find_elements() instead\n",
      "  experiance_tag=driver.find_elements_by_xpath(\"//li[@class='fleft grey-text br2 placeHolderLi experience']/span[1]\")\n"
     ]
    }
   ],
   "source": [
    "experiance_tag=driver.find_elements_by_xpath(\"//li[@class='fleft grey-text br2 placeHolderLi experience']/span[1]\")"
   ]
  },
  {
   "cell_type": "code",
   "execution_count": 70,
   "id": "e7382d98",
   "metadata": {
    "collapsed": true
   },
   "outputs": [
    {
     "data": {
      "text/plain": [
       "[<selenium.webdriver.remote.webelement.WebElement (session=\"b248cdc433971b7b5016d1aaa5826668\", element=\"e3b52f15-984b-41d9-9dd1-ab460361ebf6\")>,\n",
       " <selenium.webdriver.remote.webelement.WebElement (session=\"b248cdc433971b7b5016d1aaa5826668\", element=\"b22589bc-9d82-410f-bae0-5a25e990dae0\")>,\n",
       " <selenium.webdriver.remote.webelement.WebElement (session=\"b248cdc433971b7b5016d1aaa5826668\", element=\"a8cd0ff2-2def-484f-b981-0e04507c312c\")>,\n",
       " <selenium.webdriver.remote.webelement.WebElement (session=\"b248cdc433971b7b5016d1aaa5826668\", element=\"c9658887-a187-4040-b88c-4c8931799286\")>,\n",
       " <selenium.webdriver.remote.webelement.WebElement (session=\"b248cdc433971b7b5016d1aaa5826668\", element=\"0ca1fb97-5f51-4352-927b-e6c810ecd63c\")>,\n",
       " <selenium.webdriver.remote.webelement.WebElement (session=\"b248cdc433971b7b5016d1aaa5826668\", element=\"2ff62133-e90b-464a-ba58-4a36a2e143b6\")>,\n",
       " <selenium.webdriver.remote.webelement.WebElement (session=\"b248cdc433971b7b5016d1aaa5826668\", element=\"8d2e18b9-390b-4d06-9dab-1ddf29f24dcb\")>,\n",
       " <selenium.webdriver.remote.webelement.WebElement (session=\"b248cdc433971b7b5016d1aaa5826668\", element=\"5b74e8a4-b50c-4540-b192-973341c0af76\")>,\n",
       " <selenium.webdriver.remote.webelement.WebElement (session=\"b248cdc433971b7b5016d1aaa5826668\", element=\"258c2a07-4aa7-459e-8ca8-0b6e36f746dc\")>,\n",
       " <selenium.webdriver.remote.webelement.WebElement (session=\"b248cdc433971b7b5016d1aaa5826668\", element=\"69dafdd9-90a7-468e-8982-aefd8132e20d\")>,\n",
       " <selenium.webdriver.remote.webelement.WebElement (session=\"b248cdc433971b7b5016d1aaa5826668\", element=\"d54e9694-654f-4b8f-9479-1e728d526ea5\")>,\n",
       " <selenium.webdriver.remote.webelement.WebElement (session=\"b248cdc433971b7b5016d1aaa5826668\", element=\"0fe362e8-5bcf-4ad2-b50f-742d6f0a42ff\")>,\n",
       " <selenium.webdriver.remote.webelement.WebElement (session=\"b248cdc433971b7b5016d1aaa5826668\", element=\"2cf05db0-bd7e-4d72-96db-f1aa90008486\")>,\n",
       " <selenium.webdriver.remote.webelement.WebElement (session=\"b248cdc433971b7b5016d1aaa5826668\", element=\"4e1de78e-2cf6-4320-8662-a9302d8b1070\")>,\n",
       " <selenium.webdriver.remote.webelement.WebElement (session=\"b248cdc433971b7b5016d1aaa5826668\", element=\"b69c49e5-fce7-4408-88e8-6f385b61c7e1\")>,\n",
       " <selenium.webdriver.remote.webelement.WebElement (session=\"b248cdc433971b7b5016d1aaa5826668\", element=\"61b4bb8b-a72e-4d88-82a2-c8107e773cc7\")>,\n",
       " <selenium.webdriver.remote.webelement.WebElement (session=\"b248cdc433971b7b5016d1aaa5826668\", element=\"260d5e09-9def-4cd2-8b1d-384a61746efc\")>,\n",
       " <selenium.webdriver.remote.webelement.WebElement (session=\"b248cdc433971b7b5016d1aaa5826668\", element=\"b4c46fb7-c208-48fb-86cd-3e179a95e689\")>,\n",
       " <selenium.webdriver.remote.webelement.WebElement (session=\"b248cdc433971b7b5016d1aaa5826668\", element=\"6f31e24a-85b6-4ffe-9c5a-8ff0f2b23db9\")>,\n",
       " <selenium.webdriver.remote.webelement.WebElement (session=\"b248cdc433971b7b5016d1aaa5826668\", element=\"238a4b03-03e9-489b-b66d-d8d9823cc2e4\")>]"
      ]
     },
     "execution_count": 70,
     "metadata": {},
     "output_type": "execute_result"
    }
   ],
   "source": [
    "experiance_tag"
   ]
  },
  {
   "cell_type": "code",
   "execution_count": 72,
   "id": "65c12ac8",
   "metadata": {},
   "outputs": [],
   "source": [
    "for i in experiance_tag:\n",
    "    experience=i.text\n",
    "    experiance_required.append(experience)"
   ]
  },
  {
   "cell_type": "code",
   "execution_count": 73,
   "id": "dc4f7445",
   "metadata": {},
   "outputs": [
    {
     "data": {
      "text/plain": [
       "['2-5 Yrs',\n",
       " '0-3 Yrs',\n",
       " '5-8 Yrs',\n",
       " '5-10 Yrs',\n",
       " '3-4 Yrs',\n",
       " '5-10 Yrs',\n",
       " '3-8 Yrs',\n",
       " '5-10 Yrs',\n",
       " '6-10 Yrs',\n",
       " '3-8 Yrs',\n",
       " '5-9 Yrs',\n",
       " '2-5 Yrs',\n",
       " '0-2 Yrs',\n",
       " '0-3 Yrs',\n",
       " '3-8 Yrs',\n",
       " '7-12 Yrs',\n",
       " '7-12 Yrs',\n",
       " '1-6 Yrs',\n",
       " '2-7 Yrs',\n",
       " '2-5 Yrs']"
      ]
     },
     "execution_count": 73,
     "metadata": {},
     "output_type": "execute_result"
    }
   ],
   "source": [
    "experiance_required"
   ]
  },
  {
   "cell_type": "code",
   "execution_count": 75,
   "id": "a9ae787d",
   "metadata": {
    "collapsed": true
   },
   "outputs": [
    {
     "name": "stderr",
     "output_type": "stream",
     "text": [
      "<ipython-input-75-aaafaae0492a>:1: DeprecationWarning: find_elements_by_* commands are deprecated. Please use find_elements() instead\n",
      "  locations_tag=driver.find_elements_by_xpath(\"//li[@class='fleft grey-text br2 placeHolderLi location']/span[1]\")\n"
     ]
    }
   ],
   "source": [
    "locations_tag=driver.find_elements_by_xpath(\"//li[@class='fleft grey-text br2 placeHolderLi location']/span[1]\")"
   ]
  },
  {
   "cell_type": "code",
   "execution_count": 77,
   "id": "34de843e",
   "metadata": {
    "collapsed": true
   },
   "outputs": [
    {
     "data": {
      "text/plain": [
       "[<selenium.webdriver.remote.webelement.WebElement (session=\"b248cdc433971b7b5016d1aaa5826668\", element=\"fa18440e-f634-40ee-9519-dd37f8f41081\")>,\n",
       " <selenium.webdriver.remote.webelement.WebElement (session=\"b248cdc433971b7b5016d1aaa5826668\", element=\"e1a646e4-7ea3-4d2b-94f8-4ee5739eb0bb\")>,\n",
       " <selenium.webdriver.remote.webelement.WebElement (session=\"b248cdc433971b7b5016d1aaa5826668\", element=\"b742f707-8807-4c6d-94c6-273c085117d8\")>,\n",
       " <selenium.webdriver.remote.webelement.WebElement (session=\"b248cdc433971b7b5016d1aaa5826668\", element=\"9b8e9428-c761-45c2-a58d-eb4b59825bc9\")>,\n",
       " <selenium.webdriver.remote.webelement.WebElement (session=\"b248cdc433971b7b5016d1aaa5826668\", element=\"132f189c-a9b1-4e46-93d1-ff2606af32a9\")>,\n",
       " <selenium.webdriver.remote.webelement.WebElement (session=\"b248cdc433971b7b5016d1aaa5826668\", element=\"33cf5544-becc-4ed2-bffd-caf17aaa946f\")>,\n",
       " <selenium.webdriver.remote.webelement.WebElement (session=\"b248cdc433971b7b5016d1aaa5826668\", element=\"cbffa12f-54a5-4808-85fa-424316652a40\")>,\n",
       " <selenium.webdriver.remote.webelement.WebElement (session=\"b248cdc433971b7b5016d1aaa5826668\", element=\"e8422eac-868b-43bd-b806-623d24095a08\")>,\n",
       " <selenium.webdriver.remote.webelement.WebElement (session=\"b248cdc433971b7b5016d1aaa5826668\", element=\"efbe2940-eda8-4de1-ad42-249095aa270d\")>,\n",
       " <selenium.webdriver.remote.webelement.WebElement (session=\"b248cdc433971b7b5016d1aaa5826668\", element=\"30f022e1-109b-4942-80ec-935099685cb2\")>,\n",
       " <selenium.webdriver.remote.webelement.WebElement (session=\"b248cdc433971b7b5016d1aaa5826668\", element=\"bbd9aabe-a96c-41f9-9e55-0e0ee053e092\")>,\n",
       " <selenium.webdriver.remote.webelement.WebElement (session=\"b248cdc433971b7b5016d1aaa5826668\", element=\"13da3211-adad-46d1-bc3e-9c518db009c1\")>,\n",
       " <selenium.webdriver.remote.webelement.WebElement (session=\"b248cdc433971b7b5016d1aaa5826668\", element=\"a647e2df-47e3-4fb5-ab9e-5bab9a96d6e1\")>,\n",
       " <selenium.webdriver.remote.webelement.WebElement (session=\"b248cdc433971b7b5016d1aaa5826668\", element=\"727477d5-2a83-46b2-8b13-ef91aee7b1f4\")>,\n",
       " <selenium.webdriver.remote.webelement.WebElement (session=\"b248cdc433971b7b5016d1aaa5826668\", element=\"96e6f454-0cce-45e1-8a1c-e0c8f36df506\")>,\n",
       " <selenium.webdriver.remote.webelement.WebElement (session=\"b248cdc433971b7b5016d1aaa5826668\", element=\"97889afc-f2c5-4667-ac4f-013607c88885\")>,\n",
       " <selenium.webdriver.remote.webelement.WebElement (session=\"b248cdc433971b7b5016d1aaa5826668\", element=\"b4af27f4-8c9a-465a-a7ec-9112af9ca291\")>,\n",
       " <selenium.webdriver.remote.webelement.WebElement (session=\"b248cdc433971b7b5016d1aaa5826668\", element=\"a0d1d008-5269-4884-a416-7e95aee9f9cb\")>,\n",
       " <selenium.webdriver.remote.webelement.WebElement (session=\"b248cdc433971b7b5016d1aaa5826668\", element=\"bc798f6f-8ab7-437b-a367-084a76c90416\")>,\n",
       " <selenium.webdriver.remote.webelement.WebElement (session=\"b248cdc433971b7b5016d1aaa5826668\", element=\"f398b368-3ff6-419d-a8f7-a90ef07cae62\")>]"
      ]
     },
     "execution_count": 77,
     "metadata": {},
     "output_type": "execute_result"
    }
   ],
   "source": [
    "locations_tag"
   ]
  },
  {
   "cell_type": "code",
   "execution_count": 82,
   "id": "16b2d2d1",
   "metadata": {},
   "outputs": [],
   "source": [
    "for i in locations_tag:\n",
    "    locations=i.text\n",
    "    job_location.append(locations)"
   ]
  },
  {
   "cell_type": "code",
   "execution_count": 84,
   "id": "08c0a6ab",
   "metadata": {},
   "outputs": [
    {
     "data": {
      "text/plain": [
       "['Bangalore/Bengaluru',\n",
       " 'Bangalore/Bengaluru',\n",
       " 'Bangalore/Bengaluru',\n",
       " 'Bangalore/Bengaluru',\n",
       " 'Bangalore/Bengaluru',\n",
       " 'Bangalore/Bengaluru',\n",
       " 'Mumbai, Bangalore/Bengaluru',\n",
       " 'Bangalore/Bengaluru',\n",
       " 'Noida, Mumbai, Indore, Hyderabad/Secunderabad, Pune, Chennai, Bangalore/Bengaluru',\n",
       " 'Bangalore/Bengaluru',\n",
       " 'Bangalore/Bengaluru',\n",
       " 'Bangalore/Bengaluru',\n",
       " 'Bangalore/Bengaluru',\n",
       " 'Bangalore/Bengaluru',\n",
       " 'Bangalore/Bengaluru',\n",
       " 'Noida, Bangalore/Bengaluru',\n",
       " 'Noida, Bangalore/Bengaluru',\n",
       " 'Chennai, Bangalore/Bengaluru, Mumbai (All Areas)',\n",
       " 'Bangalore/Bengaluru(Ulsoor)',\n",
       " 'Bangalore/Bengaluru']"
      ]
     },
     "execution_count": 84,
     "metadata": {},
     "output_type": "execute_result"
    }
   ],
   "source": [
    "job_location"
   ]
  },
  {
   "cell_type": "code",
   "execution_count": 85,
   "id": "7851be06",
   "metadata": {},
   "outputs": [
    {
     "name": "stdout",
     "output_type": "stream",
     "text": [
      "20 20 20 20\n"
     ]
    }
   ],
   "source": [
    "print(len(job_title),len(company_name),len(experiance_required),len(job_location))"
   ]
  },
  {
   "cell_type": "code",
   "execution_count": 90,
   "id": "e93f41a5",
   "metadata": {},
   "outputs": [],
   "source": [
    "jobs=pd.DataFrame({})\n",
    "jobs['TITLE']=job_title[0:10]\n",
    "jobs['COMPANY']=company_name[0:10]\n",
    "jobs['EXPERIANCE']=experiance_required[0:10]\n",
    "jobs['LOCATION']=job_location[0:10]"
   ]
  },
  {
   "cell_type": "code",
   "execution_count": 91,
   "id": "78c4f0e6",
   "metadata": {},
   "outputs": [
    {
     "data": {
      "text/html": [
       "<div>\n",
       "<style scoped>\n",
       "    .dataframe tbody tr th:only-of-type {\n",
       "        vertical-align: middle;\n",
       "    }\n",
       "\n",
       "    .dataframe tbody tr th {\n",
       "        vertical-align: top;\n",
       "    }\n",
       "\n",
       "    .dataframe thead th {\n",
       "        text-align: right;\n",
       "    }\n",
       "</style>\n",
       "<table border=\"1\" class=\"dataframe\">\n",
       "  <thead>\n",
       "    <tr style=\"text-align: right;\">\n",
       "      <th></th>\n",
       "      <th>TITLE</th>\n",
       "      <th>COMPANY</th>\n",
       "      <th>EXPERIANCE</th>\n",
       "      <th>LOCATION</th>\n",
       "    </tr>\n",
       "  </thead>\n",
       "  <tbody>\n",
       "    <tr>\n",
       "      <th>0</th>\n",
       "      <td>Business Data Analyst - Database Design/Mining</td>\n",
       "      <td>AugmatrixGo</td>\n",
       "      <td>2-5 Yrs</td>\n",
       "      <td>Bangalore/Bengaluru</td>\n",
       "    </tr>\n",
       "    <tr>\n",
       "      <th>1</th>\n",
       "      <td>Data Analyst</td>\n",
       "      <td>Applied Materials</td>\n",
       "      <td>0-3 Yrs</td>\n",
       "      <td>Bangalore/Bengaluru</td>\n",
       "    </tr>\n",
       "    <tr>\n",
       "      <th>2</th>\n",
       "      <td>Data Analyst</td>\n",
       "      <td>Shell</td>\n",
       "      <td>5-8 Yrs</td>\n",
       "      <td>Bangalore/Bengaluru</td>\n",
       "    </tr>\n",
       "    <tr>\n",
       "      <th>3</th>\n",
       "      <td>Data Analyst</td>\n",
       "      <td>Shell</td>\n",
       "      <td>5-10 Yrs</td>\n",
       "      <td>Bangalore/Bengaluru</td>\n",
       "    </tr>\n",
       "    <tr>\n",
       "      <th>4</th>\n",
       "      <td>Senior Data Analyst</td>\n",
       "      <td>Utthunga Technologies Pvt Ltd</td>\n",
       "      <td>3-4 Yrs</td>\n",
       "      <td>Bangalore/Bengaluru</td>\n",
       "    </tr>\n",
       "    <tr>\n",
       "      <th>5</th>\n",
       "      <td>Sr Business Data Analyst</td>\n",
       "      <td>ExecBoardinAsia</td>\n",
       "      <td>5-10 Yrs</td>\n",
       "      <td>Bangalore/Bengaluru</td>\n",
       "    </tr>\n",
       "    <tr>\n",
       "      <th>6</th>\n",
       "      <td>Business Data Analyst - MIS &amp; Reporting</td>\n",
       "      <td>INTERTRUST GROUP</td>\n",
       "      <td>3-8 Yrs</td>\n",
       "      <td>Mumbai, Bangalore/Bengaluru</td>\n",
       "    </tr>\n",
       "    <tr>\n",
       "      <th>7</th>\n",
       "      <td>Business Data Analyst</td>\n",
       "      <td>NetApp</td>\n",
       "      <td>5-10 Yrs</td>\n",
       "      <td>Bangalore/Bengaluru</td>\n",
       "    </tr>\n",
       "    <tr>\n",
       "      <th>8</th>\n",
       "      <td>Senior Data Analyst - SQL/Tableau/Redshift</td>\n",
       "      <td>Pronto Consulting Services</td>\n",
       "      <td>6-10 Yrs</td>\n",
       "      <td>Noida, Mumbai, Indore, Hyderabad/Secunderabad,...</td>\n",
       "    </tr>\n",
       "    <tr>\n",
       "      <th>9</th>\n",
       "      <td>Power BI - Data Analyst - Biocon Biologics</td>\n",
       "      <td>BIOCON BIOLOGICS LIMITED</td>\n",
       "      <td>3-8 Yrs</td>\n",
       "      <td>Bangalore/Bengaluru</td>\n",
       "    </tr>\n",
       "  </tbody>\n",
       "</table>\n",
       "</div>"
      ],
      "text/plain": [
       "                                            TITLE  \\\n",
       "0  Business Data Analyst - Database Design/Mining   \n",
       "1                                    Data Analyst   \n",
       "2                                    Data Analyst   \n",
       "3                                    Data Analyst   \n",
       "4                             Senior Data Analyst   \n",
       "5                        Sr Business Data Analyst   \n",
       "6         Business Data Analyst - MIS & Reporting   \n",
       "7                           Business Data Analyst   \n",
       "8      Senior Data Analyst - SQL/Tableau/Redshift   \n",
       "9      Power BI - Data Analyst - Biocon Biologics   \n",
       "\n",
       "                         COMPANY EXPERIANCE  \\\n",
       "0                    AugmatrixGo    2-5 Yrs   \n",
       "1              Applied Materials    0-3 Yrs   \n",
       "2                          Shell    5-8 Yrs   \n",
       "3                          Shell   5-10 Yrs   \n",
       "4  Utthunga Technologies Pvt Ltd    3-4 Yrs   \n",
       "5                ExecBoardinAsia   5-10 Yrs   \n",
       "6               INTERTRUST GROUP    3-8 Yrs   \n",
       "7                         NetApp   5-10 Yrs   \n",
       "8     Pronto Consulting Services   6-10 Yrs   \n",
       "9       BIOCON BIOLOGICS LIMITED    3-8 Yrs   \n",
       "\n",
       "                                            LOCATION  \n",
       "0                                Bangalore/Bengaluru  \n",
       "1                                Bangalore/Bengaluru  \n",
       "2                                Bangalore/Bengaluru  \n",
       "3                                Bangalore/Bengaluru  \n",
       "4                                Bangalore/Bengaluru  \n",
       "5                                Bangalore/Bengaluru  \n",
       "6                        Mumbai, Bangalore/Bengaluru  \n",
       "7                                Bangalore/Bengaluru  \n",
       "8  Noida, Mumbai, Indore, Hyderabad/Secunderabad,...  \n",
       "9                                Bangalore/Bengaluru  "
      ]
     },
     "execution_count": 91,
     "metadata": {},
     "output_type": "execute_result"
    }
   ],
   "source": [
    "jobs"
   ]
  },
  {
   "cell_type": "markdown",
   "id": "2fb4dce6",
   "metadata": {},
   "source": [
    "# 2)Datascientist Banglore"
   ]
  },
  {
   "cell_type": "code",
   "execution_count": 98,
   "id": "39372fa3",
   "metadata": {},
   "outputs": [],
   "source": [
    "driver.get(\"https://www.naukri.com/\")"
   ]
  },
  {
   "cell_type": "code",
   "execution_count": 99,
   "id": "7accfcad",
   "metadata": {
    "collapsed": true
   },
   "outputs": [
    {
     "name": "stderr",
     "output_type": "stream",
     "text": [
      "<ipython-input-99-6c7f9d370546>:1: DeprecationWarning: find_element_by_* commands are deprecated. Please use find_element() instead\n",
      "  search_job=driver.find_element_by_id(\"qsb-keyword-sugg\")\n"
     ]
    }
   ],
   "source": [
    "search_job=driver.find_element_by_id(\"qsb-keyword-sugg\")"
   ]
  },
  {
   "cell_type": "code",
   "execution_count": 100,
   "id": "4f143086",
   "metadata": {},
   "outputs": [],
   "source": [
    "search_job.send_keys(\"Data Scientist\")"
   ]
  },
  {
   "cell_type": "code",
   "execution_count": 101,
   "id": "411be512",
   "metadata": {
    "collapsed": true
   },
   "outputs": [
    {
     "name": "stderr",
     "output_type": "stream",
     "text": [
      "<ipython-input-101-23e1e00fe1d1>:1: DeprecationWarning: find_element_by_* commands are deprecated. Please use find_element() instead\n",
      "  search_loc=driver.find_element_by_id(\"qsb-location-sugg\")\n"
     ]
    }
   ],
   "source": [
    "search_loc=driver.find_element_by_id(\"qsb-location-sugg\")"
   ]
  },
  {
   "cell_type": "code",
   "execution_count": 102,
   "id": "7018d4f6",
   "metadata": {},
   "outputs": [],
   "source": [
    "search_loc.send_keys(\"Bangalore\")"
   ]
  },
  {
   "cell_type": "code",
   "execution_count": 103,
   "id": "5714dba7",
   "metadata": {
    "collapsed": true
   },
   "outputs": [
    {
     "name": "stderr",
     "output_type": "stream",
     "text": [
      "<ipython-input-103-e011a32b2927>:1: DeprecationWarning: find_element_by_* commands are deprecated. Please use find_element() instead\n",
      "  search_btn=driver.find_element_by_xpath(\"//div[@class='search-btn']/button\")\n"
     ]
    }
   ],
   "source": [
    "search_btn=driver.find_element_by_xpath(\"//div[@class='search-btn']/button\")\n",
    "search_btn.click()"
   ]
  },
  {
   "cell_type": "code",
   "execution_count": 107,
   "id": "383cb8a6",
   "metadata": {},
   "outputs": [],
   "source": [
    "job_titles=[]\n",
    "job_locations=[]\n",
    "company_names=[]\n",
    "experiances_required=[]"
   ]
  },
  {
   "cell_type": "code",
   "execution_count": 108,
   "id": "38fdac61",
   "metadata": {
    "collapsed": true
   },
   "outputs": [
    {
     "name": "stderr",
     "output_type": "stream",
     "text": [
      "<ipython-input-108-933d8c96f3fd>:1: DeprecationWarning: find_elements_by_* commands are deprecated. Please use find_elements() instead\n",
      "  titles=driver.find_elements_by_xpath(\"//a[@class='title fw500 ellipsis']\")\n"
     ]
    },
    {
     "data": {
      "text/plain": [
       "[<selenium.webdriver.remote.webelement.WebElement (session=\"2a344c2a674c87a168e8d90163290fa2\", element=\"5b3f0f69-cef4-42f5-aff9-2fbbf4f2c3b8\")>,\n",
       " <selenium.webdriver.remote.webelement.WebElement (session=\"2a344c2a674c87a168e8d90163290fa2\", element=\"37abca92-b019-45cb-a628-e4a5961cf65e\")>,\n",
       " <selenium.webdriver.remote.webelement.WebElement (session=\"2a344c2a674c87a168e8d90163290fa2\", element=\"5805b21f-cdd0-4e48-b78e-6f5f534ef143\")>,\n",
       " <selenium.webdriver.remote.webelement.WebElement (session=\"2a344c2a674c87a168e8d90163290fa2\", element=\"fea0ef51-a54e-4962-a991-b32e612b9406\")>,\n",
       " <selenium.webdriver.remote.webelement.WebElement (session=\"2a344c2a674c87a168e8d90163290fa2\", element=\"92b4d116-aed9-4798-bff9-7086fea9bc8f\")>,\n",
       " <selenium.webdriver.remote.webelement.WebElement (session=\"2a344c2a674c87a168e8d90163290fa2\", element=\"49a6a20f-6ddf-48e3-8415-929a4b815db4\")>,\n",
       " <selenium.webdriver.remote.webelement.WebElement (session=\"2a344c2a674c87a168e8d90163290fa2\", element=\"f938d6cb-45b0-4082-bc3e-a444f91700ce\")>,\n",
       " <selenium.webdriver.remote.webelement.WebElement (session=\"2a344c2a674c87a168e8d90163290fa2\", element=\"9e3e3b23-39df-471a-ba19-cf6a42c1df5d\")>,\n",
       " <selenium.webdriver.remote.webelement.WebElement (session=\"2a344c2a674c87a168e8d90163290fa2\", element=\"3f8f3773-548e-4302-9f16-3422e7e1ae89\")>,\n",
       " <selenium.webdriver.remote.webelement.WebElement (session=\"2a344c2a674c87a168e8d90163290fa2\", element=\"a3c80bb5-07ff-4622-83fa-014b58a708c0\")>,\n",
       " <selenium.webdriver.remote.webelement.WebElement (session=\"2a344c2a674c87a168e8d90163290fa2\", element=\"3cb7162f-5c8a-49c6-ae93-f85d29c6eb3f\")>,\n",
       " <selenium.webdriver.remote.webelement.WebElement (session=\"2a344c2a674c87a168e8d90163290fa2\", element=\"6a52c7de-f9a1-4afc-bb2c-45c8f9f7481c\")>,\n",
       " <selenium.webdriver.remote.webelement.WebElement (session=\"2a344c2a674c87a168e8d90163290fa2\", element=\"acb3616a-137b-499e-8bf6-3a9946fca775\")>,\n",
       " <selenium.webdriver.remote.webelement.WebElement (session=\"2a344c2a674c87a168e8d90163290fa2\", element=\"6eae2408-f2d5-4b5a-96d2-492ba814c60c\")>,\n",
       " <selenium.webdriver.remote.webelement.WebElement (session=\"2a344c2a674c87a168e8d90163290fa2\", element=\"e953f82c-d21f-41b3-a381-5cb77958131d\")>,\n",
       " <selenium.webdriver.remote.webelement.WebElement (session=\"2a344c2a674c87a168e8d90163290fa2\", element=\"8f119de7-dde8-4849-8b63-ed8bc8dd804c\")>,\n",
       " <selenium.webdriver.remote.webelement.WebElement (session=\"2a344c2a674c87a168e8d90163290fa2\", element=\"3c8cb13d-2248-4d2d-ad1f-3a7150f0eac6\")>,\n",
       " <selenium.webdriver.remote.webelement.WebElement (session=\"2a344c2a674c87a168e8d90163290fa2\", element=\"86d9df28-c443-4b51-8ab1-5ea5b12a2a52\")>,\n",
       " <selenium.webdriver.remote.webelement.WebElement (session=\"2a344c2a674c87a168e8d90163290fa2\", element=\"127d9b3e-7753-4a37-b619-b80dab0a424b\")>,\n",
       " <selenium.webdriver.remote.webelement.WebElement (session=\"2a344c2a674c87a168e8d90163290fa2\", element=\"fef9131c-c189-448d-934f-5460f23585e8\")>]"
      ]
     },
     "execution_count": 108,
     "metadata": {},
     "output_type": "execute_result"
    }
   ],
   "source": [
    "titles=driver.find_elements_by_xpath(\"//a[@class='title fw500 ellipsis']\")\n",
    "titles\n"
   ]
  },
  {
   "cell_type": "code",
   "execution_count": 111,
   "id": "d8485c09",
   "metadata": {},
   "outputs": [],
   "source": [
    "for i in titles:\n",
    "    title=i.text\n",
    "    job_titles.append(title)"
   ]
  },
  {
   "cell_type": "code",
   "execution_count": 112,
   "id": "27065e53",
   "metadata": {},
   "outputs": [
    {
     "data": {
      "text/plain": [
       "['Data Scientist',\n",
       " 'Data Scientist',\n",
       " 'Senior Data Scientist | Fortune 500 Supermarket Chain',\n",
       " 'Senior Data Scientist',\n",
       " 'Data Scientist',\n",
       " 'Hiring For AI Architect / Lead Data Scientist - Bangalore -Iqvia',\n",
       " 'Lead Data Scientist, Presales',\n",
       " 'Lead Data Scientist/Lead ML Scientist',\n",
       " 'Senior Data Scientist',\n",
       " 'Senior / Lead Data Scientist',\n",
       " 'Lead Data Scientist - Machine Learning/ Data Mining',\n",
       " 'Data Scientist',\n",
       " 'Data Scientist',\n",
       " 'Manager/Senior Manager Data Scientist (Health & Public Service )',\n",
       " 'Data Scientist',\n",
       " 'Data Scientist',\n",
       " 'Data Scientist: Advanced Analytics',\n",
       " 'Data Scientist',\n",
       " 'Data Scientist',\n",
       " 'Cognitive Data Scientist']"
      ]
     },
     "execution_count": 112,
     "metadata": {},
     "output_type": "execute_result"
    }
   ],
   "source": [
    "job_titles"
   ]
  },
  {
   "cell_type": "code",
   "execution_count": 113,
   "id": "25bef01a",
   "metadata": {
    "collapsed": true
   },
   "outputs": [
    {
     "name": "stderr",
     "output_type": "stream",
     "text": [
      "<ipython-input-113-3cbb98c62d12>:1: DeprecationWarning: find_elements_by_* commands are deprecated. Please use find_elements() instead\n",
      "  companies=driver.find_elements_by_xpath(\"//a[@class='subTitle ellipsis fleft']\")\n"
     ]
    },
    {
     "data": {
      "text/plain": [
       "[<selenium.webdriver.remote.webelement.WebElement (session=\"2a344c2a674c87a168e8d90163290fa2\", element=\"f5d64e14-52cd-477c-83dd-fbb38f583147\")>,\n",
       " <selenium.webdriver.remote.webelement.WebElement (session=\"2a344c2a674c87a168e8d90163290fa2\", element=\"b14471e6-6ce1-4487-acc8-08df77be78b2\")>,\n",
       " <selenium.webdriver.remote.webelement.WebElement (session=\"2a344c2a674c87a168e8d90163290fa2\", element=\"a9c9bd9d-72d7-41b4-8ec2-dda03b24d099\")>,\n",
       " <selenium.webdriver.remote.webelement.WebElement (session=\"2a344c2a674c87a168e8d90163290fa2\", element=\"407c4027-c41e-46b9-a23e-58ba2ee50591\")>,\n",
       " <selenium.webdriver.remote.webelement.WebElement (session=\"2a344c2a674c87a168e8d90163290fa2\", element=\"469bfc41-bfbd-4227-8cb0-b7db649093c2\")>,\n",
       " <selenium.webdriver.remote.webelement.WebElement (session=\"2a344c2a674c87a168e8d90163290fa2\", element=\"7d158082-54f9-4d7c-96fc-b912492b9d6f\")>,\n",
       " <selenium.webdriver.remote.webelement.WebElement (session=\"2a344c2a674c87a168e8d90163290fa2\", element=\"d830f03c-43c0-4e2d-b8b1-a1ccc9efe1cc\")>,\n",
       " <selenium.webdriver.remote.webelement.WebElement (session=\"2a344c2a674c87a168e8d90163290fa2\", element=\"23793d8e-a71c-4b07-a4de-bc45ebc56bb7\")>,\n",
       " <selenium.webdriver.remote.webelement.WebElement (session=\"2a344c2a674c87a168e8d90163290fa2\", element=\"6479b463-c759-48ab-b950-58ff682dc705\")>,\n",
       " <selenium.webdriver.remote.webelement.WebElement (session=\"2a344c2a674c87a168e8d90163290fa2\", element=\"b8938190-b5cc-41f3-9012-387523bbd28c\")>,\n",
       " <selenium.webdriver.remote.webelement.WebElement (session=\"2a344c2a674c87a168e8d90163290fa2\", element=\"11061778-bb8c-4b6c-b753-a37412e2e934\")>,\n",
       " <selenium.webdriver.remote.webelement.WebElement (session=\"2a344c2a674c87a168e8d90163290fa2\", element=\"e98cbbe7-10ac-46b0-8bd7-f09bff6a117e\")>,\n",
       " <selenium.webdriver.remote.webelement.WebElement (session=\"2a344c2a674c87a168e8d90163290fa2\", element=\"9d649437-4580-4f74-b35b-3db16b1eb818\")>,\n",
       " <selenium.webdriver.remote.webelement.WebElement (session=\"2a344c2a674c87a168e8d90163290fa2\", element=\"c6d31dd1-ae1d-4d13-80d0-27f2980d6961\")>,\n",
       " <selenium.webdriver.remote.webelement.WebElement (session=\"2a344c2a674c87a168e8d90163290fa2\", element=\"3e8e14b6-c466-40a5-a250-a2cf4c5dc9bb\")>,\n",
       " <selenium.webdriver.remote.webelement.WebElement (session=\"2a344c2a674c87a168e8d90163290fa2\", element=\"4e17eb6a-551e-4806-919a-2791ec0315fa\")>,\n",
       " <selenium.webdriver.remote.webelement.WebElement (session=\"2a344c2a674c87a168e8d90163290fa2\", element=\"98f123cb-c0b1-45bf-a2d5-3e7df9b3f97e\")>,\n",
       " <selenium.webdriver.remote.webelement.WebElement (session=\"2a344c2a674c87a168e8d90163290fa2\", element=\"3c0e78f1-fc8b-4e2f-b584-fdfa768014c9\")>,\n",
       " <selenium.webdriver.remote.webelement.WebElement (session=\"2a344c2a674c87a168e8d90163290fa2\", element=\"dccbdb3d-563d-47ad-a0bd-3f49ce253dd8\")>,\n",
       " <selenium.webdriver.remote.webelement.WebElement (session=\"2a344c2a674c87a168e8d90163290fa2\", element=\"da16eb10-e0b4-498c-89da-a05cca54ca31\")>]"
      ]
     },
     "execution_count": 113,
     "metadata": {},
     "output_type": "execute_result"
    }
   ],
   "source": [
    "companies=driver.find_elements_by_xpath(\"//a[@class='subTitle ellipsis fleft']\")\n",
    "companies"
   ]
  },
  {
   "cell_type": "code",
   "execution_count": 114,
   "id": "aab0f744",
   "metadata": {},
   "outputs": [],
   "source": [
    "for i in companies:\n",
    "    company_name=i.text\n",
    "    company_names.append(company_name)"
   ]
  },
  {
   "cell_type": "code",
   "execution_count": 115,
   "id": "63735b20",
   "metadata": {},
   "outputs": [
    {
     "data": {
      "text/plain": [
       "['Amazon',\n",
       " 'Alstom Transport India Ltd.',\n",
       " 'TALENT500 TECH (INDIA) PRIVATE LIMITED',\n",
       " 'Santechture',\n",
       " 'Evalueserve',\n",
       " 'IQVIA RDS India Pvt Ltd',\n",
       " 'Moveworks',\n",
       " 'ExecBoardinAsia',\n",
       " 'Easy Recruit',\n",
       " 'Bukuwarung',\n",
       " 'Wrackle Technologies Pvt Ltd',\n",
       " 'SG Analytics Pvt. Ltd.',\n",
       " 'Winvest technology consultancy services Pvt Ltd',\n",
       " 'Mount Talent Consulting Private Limited',\n",
       " 'Exact Space',\n",
       " 'Think i',\n",
       " 'IBM India Pvt. Limited',\n",
       " 'Vepsun Technologies Private Limited.',\n",
       " 'Big Data BizViz',\n",
       " 'IBM India Pvt. Limited']"
      ]
     },
     "execution_count": 115,
     "metadata": {},
     "output_type": "execute_result"
    }
   ],
   "source": [
    "company_names"
   ]
  },
  {
   "cell_type": "code",
   "execution_count": 116,
   "id": "a267c5a9",
   "metadata": {},
   "outputs": [
    {
     "name": "stderr",
     "output_type": "stream",
     "text": [
      "<ipython-input-116-7b665126071a>:1: DeprecationWarning: find_elements_by_* commands are deprecated. Please use find_elements() instead\n",
      "  experiance=driver.find_elements_by_xpath(\"//li[@class='fleft grey-text br2 placeHolderLi experience']/span[1]\")\n"
     ]
    }
   ],
   "source": [
    "experiance=driver.find_elements_by_xpath(\"//li[@class='fleft grey-text br2 placeHolderLi experience']/span[1]\")"
   ]
  },
  {
   "cell_type": "code",
   "execution_count": 117,
   "id": "e94a8ac7",
   "metadata": {
    "collapsed": true
   },
   "outputs": [
    {
     "data": {
      "text/plain": [
       "[<selenium.webdriver.remote.webelement.WebElement (session=\"2a344c2a674c87a168e8d90163290fa2\", element=\"b86fb7f4-a528-4a56-85c1-4fca5ad62eca\")>,\n",
       " <selenium.webdriver.remote.webelement.WebElement (session=\"2a344c2a674c87a168e8d90163290fa2\", element=\"bffb8307-313e-4f17-bde9-95cdbb13e63a\")>,\n",
       " <selenium.webdriver.remote.webelement.WebElement (session=\"2a344c2a674c87a168e8d90163290fa2\", element=\"adc45ca7-5161-460e-807e-9e997b3aee1f\")>,\n",
       " <selenium.webdriver.remote.webelement.WebElement (session=\"2a344c2a674c87a168e8d90163290fa2\", element=\"3275b8ff-770d-481a-87ba-e11b3b15f10e\")>,\n",
       " <selenium.webdriver.remote.webelement.WebElement (session=\"2a344c2a674c87a168e8d90163290fa2\", element=\"4df0b7b5-f0ee-4e76-843f-576bb3c02832\")>,\n",
       " <selenium.webdriver.remote.webelement.WebElement (session=\"2a344c2a674c87a168e8d90163290fa2\", element=\"7ef3bb6e-6189-4454-bba0-cbd17d4cf3af\")>,\n",
       " <selenium.webdriver.remote.webelement.WebElement (session=\"2a344c2a674c87a168e8d90163290fa2\", element=\"4c3be59e-55bd-4d8e-bee1-8c63bda1b8dd\")>,\n",
       " <selenium.webdriver.remote.webelement.WebElement (session=\"2a344c2a674c87a168e8d90163290fa2\", element=\"a7e02b8e-835e-4545-bdaa-949615c0c649\")>,\n",
       " <selenium.webdriver.remote.webelement.WebElement (session=\"2a344c2a674c87a168e8d90163290fa2\", element=\"3fa621dc-cd5a-4b7d-ad22-67b0c2ed67c2\")>,\n",
       " <selenium.webdriver.remote.webelement.WebElement (session=\"2a344c2a674c87a168e8d90163290fa2\", element=\"a320b7cc-be32-4942-8b94-6c767c19d373\")>,\n",
       " <selenium.webdriver.remote.webelement.WebElement (session=\"2a344c2a674c87a168e8d90163290fa2\", element=\"8ba473ea-a55d-41ac-a47a-a03f0ef6fb98\")>,\n",
       " <selenium.webdriver.remote.webelement.WebElement (session=\"2a344c2a674c87a168e8d90163290fa2\", element=\"bfbb38d2-a55a-410d-8e66-c9b3f237ddad\")>,\n",
       " <selenium.webdriver.remote.webelement.WebElement (session=\"2a344c2a674c87a168e8d90163290fa2\", element=\"98856e20-5a59-4132-8026-d6b28a944612\")>,\n",
       " <selenium.webdriver.remote.webelement.WebElement (session=\"2a344c2a674c87a168e8d90163290fa2\", element=\"91623af3-a738-4ce5-a5c8-2c3604d5ffe0\")>,\n",
       " <selenium.webdriver.remote.webelement.WebElement (session=\"2a344c2a674c87a168e8d90163290fa2\", element=\"99844043-cb47-4e42-836a-317d9a593667\")>,\n",
       " <selenium.webdriver.remote.webelement.WebElement (session=\"2a344c2a674c87a168e8d90163290fa2\", element=\"762c7071-6c8e-4f87-ab2b-0880c4a7c434\")>,\n",
       " <selenium.webdriver.remote.webelement.WebElement (session=\"2a344c2a674c87a168e8d90163290fa2\", element=\"743f5712-e249-49c1-babd-f2a7b71238db\")>,\n",
       " <selenium.webdriver.remote.webelement.WebElement (session=\"2a344c2a674c87a168e8d90163290fa2\", element=\"40036881-273a-49e2-8de5-57ed86d5bb5a\")>,\n",
       " <selenium.webdriver.remote.webelement.WebElement (session=\"2a344c2a674c87a168e8d90163290fa2\", element=\"b270b5db-5555-44a6-add5-0d56623133a9\")>,\n",
       " <selenium.webdriver.remote.webelement.WebElement (session=\"2a344c2a674c87a168e8d90163290fa2\", element=\"aa26dfd0-f58c-4961-8258-6a757bd4c27f\")>]"
      ]
     },
     "execution_count": 117,
     "metadata": {},
     "output_type": "execute_result"
    }
   ],
   "source": [
    "experiance"
   ]
  },
  {
   "cell_type": "code",
   "execution_count": 118,
   "id": "f0490387",
   "metadata": {},
   "outputs": [],
   "source": [
    "for i in experiance:\n",
    "    experiances=i.text\n",
    "    experiances_required.append(experiances)"
   ]
  },
  {
   "cell_type": "code",
   "execution_count": 119,
   "id": "593807ee",
   "metadata": {},
   "outputs": [
    {
     "data": {
      "text/plain": [
       "['7-11 Yrs',\n",
       " '5-10 Yrs',\n",
       " '7-10 Yrs',\n",
       " '7-12 Yrs',\n",
       " '4-8 Yrs',\n",
       " '7-12 Yrs',\n",
       " '7-12 Yrs',\n",
       " '11-15 Yrs',\n",
       " '8-11 Yrs',\n",
       " '5-10 Yrs',\n",
       " '6-11 Yrs',\n",
       " '3-6 Yrs',\n",
       " '7-12 Yrs',\n",
       " '9-14 Yrs',\n",
       " '2-4 Yrs',\n",
       " '0-2 Yrs',\n",
       " '5-7 Yrs',\n",
       " '2-5 Yrs',\n",
       " '3-8 Yrs',\n",
       " '3-7 Yrs']"
      ]
     },
     "execution_count": 119,
     "metadata": {},
     "output_type": "execute_result"
    }
   ],
   "source": [
    "experiances_required"
   ]
  },
  {
   "cell_type": "code",
   "execution_count": 120,
   "id": "db36b5f0",
   "metadata": {
    "collapsed": true
   },
   "outputs": [
    {
     "name": "stderr",
     "output_type": "stream",
     "text": [
      "<ipython-input-120-f6bf82348079>:1: DeprecationWarning: find_elements_by_* commands are deprecated. Please use find_elements() instead\n",
      "  locations=driver.find_elements_by_xpath(\"//li[@class='fleft grey-text br2 placeHolderLi location']/span[1]\")\n"
     ]
    }
   ],
   "source": [
    "locations=driver.find_elements_by_xpath(\"//li[@class='fleft grey-text br2 placeHolderLi location']/span[1]\")"
   ]
  },
  {
   "cell_type": "code",
   "execution_count": 121,
   "id": "88cfd700",
   "metadata": {
    "collapsed": true
   },
   "outputs": [
    {
     "data": {
      "text/plain": [
       "[<selenium.webdriver.remote.webelement.WebElement (session=\"2a344c2a674c87a168e8d90163290fa2\", element=\"bd2a3564-9e64-4fcb-abf1-c845372f7880\")>,\n",
       " <selenium.webdriver.remote.webelement.WebElement (session=\"2a344c2a674c87a168e8d90163290fa2\", element=\"a8d2d93a-a2ad-4dc2-a356-eb922f13fdaa\")>,\n",
       " <selenium.webdriver.remote.webelement.WebElement (session=\"2a344c2a674c87a168e8d90163290fa2\", element=\"fde98516-c7c3-4c83-acef-68071a1392ad\")>,\n",
       " <selenium.webdriver.remote.webelement.WebElement (session=\"2a344c2a674c87a168e8d90163290fa2\", element=\"ae2ccb83-af24-446a-af57-a4e2269bcaae\")>,\n",
       " <selenium.webdriver.remote.webelement.WebElement (session=\"2a344c2a674c87a168e8d90163290fa2\", element=\"777169fa-ab77-4f3d-9af5-6b97b7b6ca3b\")>,\n",
       " <selenium.webdriver.remote.webelement.WebElement (session=\"2a344c2a674c87a168e8d90163290fa2\", element=\"45c2feaa-bd14-43dd-9ed7-ecfb5ab5aa6f\")>,\n",
       " <selenium.webdriver.remote.webelement.WebElement (session=\"2a344c2a674c87a168e8d90163290fa2\", element=\"16f3d74c-6b39-46bb-a412-bcf13bad279a\")>,\n",
       " <selenium.webdriver.remote.webelement.WebElement (session=\"2a344c2a674c87a168e8d90163290fa2\", element=\"b5b8c5d9-505b-4da0-a0f0-b1f68b61e34a\")>,\n",
       " <selenium.webdriver.remote.webelement.WebElement (session=\"2a344c2a674c87a168e8d90163290fa2\", element=\"980fb85d-1924-48dc-802d-6c9d835ab57b\")>,\n",
       " <selenium.webdriver.remote.webelement.WebElement (session=\"2a344c2a674c87a168e8d90163290fa2\", element=\"b07cf600-fdb4-4df7-a726-024244b474cc\")>,\n",
       " <selenium.webdriver.remote.webelement.WebElement (session=\"2a344c2a674c87a168e8d90163290fa2\", element=\"29a36704-c168-4a9d-8655-d0912adb037d\")>,\n",
       " <selenium.webdriver.remote.webelement.WebElement (session=\"2a344c2a674c87a168e8d90163290fa2\", element=\"66a8cdb1-50d1-45bf-83be-c484bd9f9b79\")>,\n",
       " <selenium.webdriver.remote.webelement.WebElement (session=\"2a344c2a674c87a168e8d90163290fa2\", element=\"694c10fe-8e7d-436f-83df-125455516d6e\")>,\n",
       " <selenium.webdriver.remote.webelement.WebElement (session=\"2a344c2a674c87a168e8d90163290fa2\", element=\"93377356-448d-41fd-94e1-d99e53abd6da\")>,\n",
       " <selenium.webdriver.remote.webelement.WebElement (session=\"2a344c2a674c87a168e8d90163290fa2\", element=\"877b284d-9cdf-43ea-8feb-fc706f238f0f\")>,\n",
       " <selenium.webdriver.remote.webelement.WebElement (session=\"2a344c2a674c87a168e8d90163290fa2\", element=\"4e85f459-1eae-4e73-b288-d65aa2a6f230\")>,\n",
       " <selenium.webdriver.remote.webelement.WebElement (session=\"2a344c2a674c87a168e8d90163290fa2\", element=\"6c8b51a8-cee6-4298-847a-481d7c32383b\")>,\n",
       " <selenium.webdriver.remote.webelement.WebElement (session=\"2a344c2a674c87a168e8d90163290fa2\", element=\"432979ad-68bd-4c11-b42f-fa4323556d44\")>,\n",
       " <selenium.webdriver.remote.webelement.WebElement (session=\"2a344c2a674c87a168e8d90163290fa2\", element=\"e1f6b670-6668-4d3f-bc23-5b745f6eb243\")>,\n",
       " <selenium.webdriver.remote.webelement.WebElement (session=\"2a344c2a674c87a168e8d90163290fa2\", element=\"5d23b9c8-9b6a-4026-ba3b-d17a7e2b90d6\")>]"
      ]
     },
     "execution_count": 121,
     "metadata": {},
     "output_type": "execute_result"
    }
   ],
   "source": [
    "locations"
   ]
  },
  {
   "cell_type": "code",
   "execution_count": 122,
   "id": "3f8f754d",
   "metadata": {},
   "outputs": [],
   "source": [
    "for i in locations:\n",
    "    location=i.text\n",
    "    job_locations.append(location)"
   ]
  },
  {
   "cell_type": "code",
   "execution_count": 123,
   "id": "7f57dd7c",
   "metadata": {},
   "outputs": [
    {
     "data": {
      "text/plain": [
       "['Hyderabad/Secunderabad, Pune, Bangalore/Bengaluru',\n",
       " 'Bangalore/Bengaluru',\n",
       " 'Bangalore/Bengaluru',\n",
       " 'Hyderabad/Secunderabad, Chennai, Bangalore/Bengaluru',\n",
       " 'Bangalore/Bengaluru',\n",
       " 'Bangalore/Bengaluru',\n",
       " 'Bangalore/Bengaluru',\n",
       " 'Bangalore/Bengaluru',\n",
       " 'Bangalore/Bengaluru',\n",
       " 'Bangalore/Bengaluru',\n",
       " 'Bangalore/Bengaluru',\n",
       " 'Hyderabad/Secunderabad, Pune, Bangalore/Bengaluru',\n",
       " 'Mumbai, Bangalore/Bengaluru',\n",
       " 'Gurgaon/Gurugram, Bangalore/Bengaluru, Mumbai (All Areas)',\n",
       " 'Bangalore/Bengaluru',\n",
       " 'Kochi/Cochin, Kolkata, Hyderabad/Secunderabad, Pune, Ahmedabad, Chennai, Bangalore/Bengaluru, Delhi / NCR, Mumbai (All Areas)',\n",
       " 'Bengaluru/Bangalore',\n",
       " 'Bangalore/Bengaluru',\n",
       " 'Hyderabad/Secunderabad, Bangalore/Bengaluru',\n",
       " 'Bengaluru/Bangalore']"
      ]
     },
     "execution_count": 123,
     "metadata": {},
     "output_type": "execute_result"
    }
   ],
   "source": [
    "job_locations"
   ]
  },
  {
   "cell_type": "code",
   "execution_count": 124,
   "id": "983c8547",
   "metadata": {},
   "outputs": [],
   "source": [
    "job=pd.DataFrame({})\n",
    "job['TITLES']=job_titles[0:10]\n",
    "job['COMPANY']=company_names[0:10]\n",
    "job['EXPERIANCE']=experiances_required[0:10]\n",
    "job['LOCATION']=job_locations[0:10]"
   ]
  },
  {
   "cell_type": "code",
   "execution_count": 125,
   "id": "4833202a",
   "metadata": {},
   "outputs": [
    {
     "data": {
      "text/html": [
       "<div>\n",
       "<style scoped>\n",
       "    .dataframe tbody tr th:only-of-type {\n",
       "        vertical-align: middle;\n",
       "    }\n",
       "\n",
       "    .dataframe tbody tr th {\n",
       "        vertical-align: top;\n",
       "    }\n",
       "\n",
       "    .dataframe thead th {\n",
       "        text-align: right;\n",
       "    }\n",
       "</style>\n",
       "<table border=\"1\" class=\"dataframe\">\n",
       "  <thead>\n",
       "    <tr style=\"text-align: right;\">\n",
       "      <th></th>\n",
       "      <th>TITLES</th>\n",
       "      <th>COMPANY</th>\n",
       "      <th>EXPERIANCE</th>\n",
       "      <th>LOCATION</th>\n",
       "    </tr>\n",
       "  </thead>\n",
       "  <tbody>\n",
       "    <tr>\n",
       "      <th>0</th>\n",
       "      <td>Data Scientist</td>\n",
       "      <td>Amazon</td>\n",
       "      <td>7-11 Yrs</td>\n",
       "      <td>Hyderabad/Secunderabad, Pune, Bangalore/Bengaluru</td>\n",
       "    </tr>\n",
       "    <tr>\n",
       "      <th>1</th>\n",
       "      <td>Data Scientist</td>\n",
       "      <td>Alstom Transport India Ltd.</td>\n",
       "      <td>5-10 Yrs</td>\n",
       "      <td>Bangalore/Bengaluru</td>\n",
       "    </tr>\n",
       "    <tr>\n",
       "      <th>2</th>\n",
       "      <td>Senior Data Scientist | Fortune 500 Supermarke...</td>\n",
       "      <td>TALENT500 TECH (INDIA) PRIVATE LIMITED</td>\n",
       "      <td>7-10 Yrs</td>\n",
       "      <td>Bangalore/Bengaluru</td>\n",
       "    </tr>\n",
       "    <tr>\n",
       "      <th>3</th>\n",
       "      <td>Senior Data Scientist</td>\n",
       "      <td>Santechture</td>\n",
       "      <td>7-12 Yrs</td>\n",
       "      <td>Hyderabad/Secunderabad, Chennai, Bangalore/Ben...</td>\n",
       "    </tr>\n",
       "    <tr>\n",
       "      <th>4</th>\n",
       "      <td>Data Scientist</td>\n",
       "      <td>Evalueserve</td>\n",
       "      <td>4-8 Yrs</td>\n",
       "      <td>Bangalore/Bengaluru</td>\n",
       "    </tr>\n",
       "    <tr>\n",
       "      <th>5</th>\n",
       "      <td>Hiring For AI Architect / Lead Data Scientist ...</td>\n",
       "      <td>IQVIA RDS India Pvt Ltd</td>\n",
       "      <td>7-12 Yrs</td>\n",
       "      <td>Bangalore/Bengaluru</td>\n",
       "    </tr>\n",
       "    <tr>\n",
       "      <th>6</th>\n",
       "      <td>Lead Data Scientist, Presales</td>\n",
       "      <td>Moveworks</td>\n",
       "      <td>7-12 Yrs</td>\n",
       "      <td>Bangalore/Bengaluru</td>\n",
       "    </tr>\n",
       "    <tr>\n",
       "      <th>7</th>\n",
       "      <td>Lead Data Scientist/Lead ML Scientist</td>\n",
       "      <td>ExecBoardinAsia</td>\n",
       "      <td>11-15 Yrs</td>\n",
       "      <td>Bangalore/Bengaluru</td>\n",
       "    </tr>\n",
       "    <tr>\n",
       "      <th>8</th>\n",
       "      <td>Senior Data Scientist</td>\n",
       "      <td>Easy Recruit</td>\n",
       "      <td>8-11 Yrs</td>\n",
       "      <td>Bangalore/Bengaluru</td>\n",
       "    </tr>\n",
       "    <tr>\n",
       "      <th>9</th>\n",
       "      <td>Senior / Lead Data Scientist</td>\n",
       "      <td>Bukuwarung</td>\n",
       "      <td>5-10 Yrs</td>\n",
       "      <td>Bangalore/Bengaluru</td>\n",
       "    </tr>\n",
       "  </tbody>\n",
       "</table>\n",
       "</div>"
      ],
      "text/plain": [
       "                                              TITLES  \\\n",
       "0                                     Data Scientist   \n",
       "1                                     Data Scientist   \n",
       "2  Senior Data Scientist | Fortune 500 Supermarke...   \n",
       "3                              Senior Data Scientist   \n",
       "4                                     Data Scientist   \n",
       "5  Hiring For AI Architect / Lead Data Scientist ...   \n",
       "6                      Lead Data Scientist, Presales   \n",
       "7              Lead Data Scientist/Lead ML Scientist   \n",
       "8                              Senior Data Scientist   \n",
       "9                       Senior / Lead Data Scientist   \n",
       "\n",
       "                                  COMPANY EXPERIANCE  \\\n",
       "0                                  Amazon   7-11 Yrs   \n",
       "1             Alstom Transport India Ltd.   5-10 Yrs   \n",
       "2  TALENT500 TECH (INDIA) PRIVATE LIMITED   7-10 Yrs   \n",
       "3                             Santechture   7-12 Yrs   \n",
       "4                             Evalueserve    4-8 Yrs   \n",
       "5                 IQVIA RDS India Pvt Ltd   7-12 Yrs   \n",
       "6                               Moveworks   7-12 Yrs   \n",
       "7                         ExecBoardinAsia  11-15 Yrs   \n",
       "8                            Easy Recruit   8-11 Yrs   \n",
       "9                              Bukuwarung   5-10 Yrs   \n",
       "\n",
       "                                            LOCATION  \n",
       "0  Hyderabad/Secunderabad, Pune, Bangalore/Bengaluru  \n",
       "1                                Bangalore/Bengaluru  \n",
       "2                                Bangalore/Bengaluru  \n",
       "3  Hyderabad/Secunderabad, Chennai, Bangalore/Ben...  \n",
       "4                                Bangalore/Bengaluru  \n",
       "5                                Bangalore/Bengaluru  \n",
       "6                                Bangalore/Bengaluru  \n",
       "7                                Bangalore/Bengaluru  \n",
       "8                                Bangalore/Bengaluru  \n",
       "9                                Bangalore/Bengaluru  "
      ]
     },
     "execution_count": 125,
     "metadata": {},
     "output_type": "execute_result"
    }
   ],
   "source": [
    "job"
   ]
  },
  {
   "cell_type": "markdown",
   "id": "5218c669",
   "metadata": {},
   "source": [
    "# 3)data scientist by filter"
   ]
  },
  {
   "cell_type": "code",
   "execution_count": 126,
   "id": "de698a18",
   "metadata": {},
   "outputs": [],
   "source": [
    "driver.get(\"https://www.naukri.com/\")"
   ]
  },
  {
   "cell_type": "code",
   "execution_count": 127,
   "id": "b4813860",
   "metadata": {
    "collapsed": true
   },
   "outputs": [
    {
     "name": "stderr",
     "output_type": "stream",
     "text": [
      "<ipython-input-127-6c7f9d370546>:1: DeprecationWarning: find_element_by_* commands are deprecated. Please use find_element() instead\n",
      "  search_job=driver.find_element_by_id(\"qsb-keyword-sugg\")\n"
     ]
    }
   ],
   "source": [
    "search_job=driver.find_element_by_id(\"qsb-keyword-sugg\")"
   ]
  },
  {
   "cell_type": "code",
   "execution_count": 128,
   "id": "556ab586",
   "metadata": {},
   "outputs": [],
   "source": [
    "search_job.send_keys(\"Data Scientist\")"
   ]
  },
  {
   "cell_type": "code",
   "execution_count": 129,
   "id": "64142f35",
   "metadata": {
    "collapsed": true
   },
   "outputs": [
    {
     "name": "stderr",
     "output_type": "stream",
     "text": [
      "<ipython-input-129-baf72c72874d>:1: DeprecationWarning: find_element_by_* commands are deprecated. Please use find_element() instead\n",
      "  search_btn=driver.find_element_by_xpath(\"//div[@class='search-btn']/button\")\n"
     ]
    }
   ],
   "source": [
    "search_btn=driver.find_element_by_xpath(\"//div[@class='search-btn']/button\")\n",
    "search_btn.click()"
   ]
  },
  {
   "cell_type": "code",
   "execution_count": 132,
   "id": "653becea",
   "metadata": {
    "collapsed": true
   },
   "outputs": [
    {
     "name": "stderr",
     "output_type": "stream",
     "text": [
      "<ipython-input-132-31f954d6cd12>:1: DeprecationWarning: find_elements_by_* commands are deprecated. Please use find_elements() instead\n",
      "  location=driver.find_elements_by_xpath(\"//span[@class='ellipsis fleft']\")\n"
     ]
    }
   ],
   "source": [
    "location=driver.find_elements_by_xpath(\"//span[@class='ellipsis fleft']\")"
   ]
  },
  {
   "cell_type": "code",
   "execution_count": 133,
   "id": "6e48af88",
   "metadata": {},
   "outputs": [],
   "source": [
    "for i in location:\n",
    "    if i.text=='Delhi / NCR':\n",
    "        i.click()\n",
    "        break"
   ]
  },
  {
   "cell_type": "code",
   "execution_count": 134,
   "id": "005bda5e",
   "metadata": {
    "collapsed": true
   },
   "outputs": [
    {
     "name": "stderr",
     "output_type": "stream",
     "text": [
      "<ipython-input-134-c4e9b1bebebf>:1: DeprecationWarning: find_elements_by_* commands are deprecated. Please use find_elements() instead\n",
      "  salary=driver.find_elements_by_xpath(\"//span[@class='ellipsis fleft']\")\n"
     ]
    }
   ],
   "source": [
    "salary=driver.find_elements_by_xpath(\"//span[@class='ellipsis fleft']\")"
   ]
  },
  {
   "cell_type": "code",
   "execution_count": 135,
   "id": "cb58e96f",
   "metadata": {},
   "outputs": [],
   "source": [
    "for i in salary:\n",
    "    if i.text=='3-6 Lakhs':\n",
    "        i.click()\n",
    "        break"
   ]
  },
  {
   "cell_type": "code",
   "execution_count": 136,
   "id": "2a7ebdfd",
   "metadata": {},
   "outputs": [],
   "source": [
    "job_titles=[]\n",
    "job_locations=[]\n",
    "company_names=[]\n",
    "experiances_required=[]"
   ]
  },
  {
   "cell_type": "code",
   "execution_count": 144,
   "id": "48cbfb27",
   "metadata": {
    "collapsed": true
   },
   "outputs": [
    {
     "name": "stderr",
     "output_type": "stream",
     "text": [
      "<ipython-input-144-933d8c96f3fd>:1: DeprecationWarning: find_elements_by_* commands are deprecated. Please use find_elements() instead\n",
      "  titles=driver.find_elements_by_xpath(\"//a[@class='title fw500 ellipsis']\")\n"
     ]
    },
    {
     "data": {
      "text/plain": [
       "[<selenium.webdriver.remote.webelement.WebElement (session=\"2565d8bd5e5bfaff4b9b2e9fe1f526d9\", element=\"84256189-ec97-4781-b655-d445c12bfefb\")>,\n",
       " <selenium.webdriver.remote.webelement.WebElement (session=\"2565d8bd5e5bfaff4b9b2e9fe1f526d9\", element=\"ed423f86-3181-409d-bd2f-3a1562e6d3ff\")>,\n",
       " <selenium.webdriver.remote.webelement.WebElement (session=\"2565d8bd5e5bfaff4b9b2e9fe1f526d9\", element=\"68765180-d9d9-4140-adc3-b955b7b09d2f\")>,\n",
       " <selenium.webdriver.remote.webelement.WebElement (session=\"2565d8bd5e5bfaff4b9b2e9fe1f526d9\", element=\"714fdd3c-e88f-4bf9-ba9f-26893ccc0779\")>,\n",
       " <selenium.webdriver.remote.webelement.WebElement (session=\"2565d8bd5e5bfaff4b9b2e9fe1f526d9\", element=\"b827b0f3-5c62-4876-9299-c7cf8ddcd9d8\")>,\n",
       " <selenium.webdriver.remote.webelement.WebElement (session=\"2565d8bd5e5bfaff4b9b2e9fe1f526d9\", element=\"01e60591-8461-48f4-a873-de2e7e09b66a\")>,\n",
       " <selenium.webdriver.remote.webelement.WebElement (session=\"2565d8bd5e5bfaff4b9b2e9fe1f526d9\", element=\"c7e0fdbf-e1de-4e8f-a8c5-164e544af79c\")>,\n",
       " <selenium.webdriver.remote.webelement.WebElement (session=\"2565d8bd5e5bfaff4b9b2e9fe1f526d9\", element=\"3f52a7a3-6239-45c7-ad38-7087827c6085\")>,\n",
       " <selenium.webdriver.remote.webelement.WebElement (session=\"2565d8bd5e5bfaff4b9b2e9fe1f526d9\", element=\"7c242d24-c433-46fe-81cc-eeb3efd748c8\")>,\n",
       " <selenium.webdriver.remote.webelement.WebElement (session=\"2565d8bd5e5bfaff4b9b2e9fe1f526d9\", element=\"053f57ac-1376-4278-81d1-9a5978339872\")>,\n",
       " <selenium.webdriver.remote.webelement.WebElement (session=\"2565d8bd5e5bfaff4b9b2e9fe1f526d9\", element=\"e37f6e15-eab2-496d-a898-69980d2409e2\")>,\n",
       " <selenium.webdriver.remote.webelement.WebElement (session=\"2565d8bd5e5bfaff4b9b2e9fe1f526d9\", element=\"71630424-2aad-48bc-b91c-a6bec80defb7\")>,\n",
       " <selenium.webdriver.remote.webelement.WebElement (session=\"2565d8bd5e5bfaff4b9b2e9fe1f526d9\", element=\"d3e6a7e1-46d9-4697-b6c2-11a3f77c6d88\")>,\n",
       " <selenium.webdriver.remote.webelement.WebElement (session=\"2565d8bd5e5bfaff4b9b2e9fe1f526d9\", element=\"0f6ad624-6317-41e5-a587-d60240069e89\")>,\n",
       " <selenium.webdriver.remote.webelement.WebElement (session=\"2565d8bd5e5bfaff4b9b2e9fe1f526d9\", element=\"5132aa73-1c14-460e-bf4b-8c671626a74f\")>,\n",
       " <selenium.webdriver.remote.webelement.WebElement (session=\"2565d8bd5e5bfaff4b9b2e9fe1f526d9\", element=\"4acc296a-eb12-4545-8a10-fe44182015ee\")>,\n",
       " <selenium.webdriver.remote.webelement.WebElement (session=\"2565d8bd5e5bfaff4b9b2e9fe1f526d9\", element=\"9b9c4c5e-58ba-4e72-838c-22f61c557aaa\")>,\n",
       " <selenium.webdriver.remote.webelement.WebElement (session=\"2565d8bd5e5bfaff4b9b2e9fe1f526d9\", element=\"3c1cb1cf-f860-41fa-b24e-052d5c3b310c\")>,\n",
       " <selenium.webdriver.remote.webelement.WebElement (session=\"2565d8bd5e5bfaff4b9b2e9fe1f526d9\", element=\"8d3eb633-06fc-46a9-9c19-0ba39f4f5147\")>,\n",
       " <selenium.webdriver.remote.webelement.WebElement (session=\"2565d8bd5e5bfaff4b9b2e9fe1f526d9\", element=\"b88b06fa-1f85-40ac-a9d7-f39e8ddeecd0\")>]"
      ]
     },
     "execution_count": 144,
     "metadata": {},
     "output_type": "execute_result"
    }
   ],
   "source": [
    "titles=driver.find_elements_by_xpath(\"//a[@class='title fw500 ellipsis']\")\n",
    "titles"
   ]
  },
  {
   "cell_type": "code",
   "execution_count": 145,
   "id": "b6aa33ca",
   "metadata": {},
   "outputs": [],
   "source": [
    "for i in titles:\n",
    "    title=i.text\n",
    "    job_titles.append(title)"
   ]
  },
  {
   "cell_type": "code",
   "execution_count": 146,
   "id": "1fa8248f",
   "metadata": {},
   "outputs": [
    {
     "data": {
      "text/plain": [
       "['Data Scientist',\n",
       " 'Job Opportunity || Data Scientist || HCL Technologies',\n",
       " 'Data Scientist',\n",
       " 'Data Scientist',\n",
       " 'Urgent Hiring || Data Scientist || Delhi',\n",
       " 'Data Scientist',\n",
       " 'Data Scientist',\n",
       " 'Data Scientist Internship',\n",
       " 'Data Scientist',\n",
       " 'Project Manager | Team Leader | Senior Data Scientist',\n",
       " 'Senior Data Scientist',\n",
       " 'Academic Counsellor - Data Scientist',\n",
       " 'Data Scientist',\n",
       " 'Data Scientist',\n",
       " 'Data Scientist',\n",
       " 'Data Scientist',\n",
       " 'Data Scientist',\n",
       " 'Immediate requirement For Data Scientist',\n",
       " 'Data Scientist',\n",
       " 'Associate Data Scientist']"
      ]
     },
     "execution_count": 146,
     "metadata": {},
     "output_type": "execute_result"
    }
   ],
   "source": [
    "job_titles"
   ]
  },
  {
   "cell_type": "code",
   "execution_count": 147,
   "id": "d502e493",
   "metadata": {
    "collapsed": true
   },
   "outputs": [
    {
     "name": "stderr",
     "output_type": "stream",
     "text": [
      "<ipython-input-147-3cbb98c62d12>:1: DeprecationWarning: find_elements_by_* commands are deprecated. Please use find_elements() instead\n",
      "  companies=driver.find_elements_by_xpath(\"//a[@class='subTitle ellipsis fleft']\")\n"
     ]
    },
    {
     "data": {
      "text/plain": [
       "[<selenium.webdriver.remote.webelement.WebElement (session=\"2565d8bd5e5bfaff4b9b2e9fe1f526d9\", element=\"9f3f0f84-49ab-46af-8e43-b1da0db80190\")>,\n",
       " <selenium.webdriver.remote.webelement.WebElement (session=\"2565d8bd5e5bfaff4b9b2e9fe1f526d9\", element=\"5fbbd693-6df4-4616-b47b-558f2fbad85d\")>,\n",
       " <selenium.webdriver.remote.webelement.WebElement (session=\"2565d8bd5e5bfaff4b9b2e9fe1f526d9\", element=\"92ecba05-77e2-42ad-94d3-6931dfce878b\")>,\n",
       " <selenium.webdriver.remote.webelement.WebElement (session=\"2565d8bd5e5bfaff4b9b2e9fe1f526d9\", element=\"e4172894-77db-418f-9b59-2085672bc749\")>,\n",
       " <selenium.webdriver.remote.webelement.WebElement (session=\"2565d8bd5e5bfaff4b9b2e9fe1f526d9\", element=\"89681700-4a0f-473d-a1be-d2a5c72e6db3\")>,\n",
       " <selenium.webdriver.remote.webelement.WebElement (session=\"2565d8bd5e5bfaff4b9b2e9fe1f526d9\", element=\"94e2be38-65e7-4eec-9b8f-ccdfbee9c3e3\")>,\n",
       " <selenium.webdriver.remote.webelement.WebElement (session=\"2565d8bd5e5bfaff4b9b2e9fe1f526d9\", element=\"328cbfe5-c372-454b-8ccc-1dc4539cc0c1\")>,\n",
       " <selenium.webdriver.remote.webelement.WebElement (session=\"2565d8bd5e5bfaff4b9b2e9fe1f526d9\", element=\"b0e2f629-bc7a-4d80-ad15-1007e1cc7ab6\")>,\n",
       " <selenium.webdriver.remote.webelement.WebElement (session=\"2565d8bd5e5bfaff4b9b2e9fe1f526d9\", element=\"9c44e6c9-e139-4481-8acf-6406618bbde5\")>,\n",
       " <selenium.webdriver.remote.webelement.WebElement (session=\"2565d8bd5e5bfaff4b9b2e9fe1f526d9\", element=\"782b13e9-fcd1-482e-b485-cd68043da96f\")>,\n",
       " <selenium.webdriver.remote.webelement.WebElement (session=\"2565d8bd5e5bfaff4b9b2e9fe1f526d9\", element=\"1e6efed9-e6ee-4a9e-a1c9-af2fced52118\")>,\n",
       " <selenium.webdriver.remote.webelement.WebElement (session=\"2565d8bd5e5bfaff4b9b2e9fe1f526d9\", element=\"29867d5c-8939-49ad-800a-acbf3baf1075\")>,\n",
       " <selenium.webdriver.remote.webelement.WebElement (session=\"2565d8bd5e5bfaff4b9b2e9fe1f526d9\", element=\"9d03845e-61e9-454b-8db5-be65be64aea5\")>,\n",
       " <selenium.webdriver.remote.webelement.WebElement (session=\"2565d8bd5e5bfaff4b9b2e9fe1f526d9\", element=\"6fb0daee-c372-4466-a807-ffa391ff90aa\")>,\n",
       " <selenium.webdriver.remote.webelement.WebElement (session=\"2565d8bd5e5bfaff4b9b2e9fe1f526d9\", element=\"587d242a-806b-4b88-9897-a2b2c562040a\")>,\n",
       " <selenium.webdriver.remote.webelement.WebElement (session=\"2565d8bd5e5bfaff4b9b2e9fe1f526d9\", element=\"0bea5ca3-84cf-4e3f-b631-5155d0e7dddb\")>,\n",
       " <selenium.webdriver.remote.webelement.WebElement (session=\"2565d8bd5e5bfaff4b9b2e9fe1f526d9\", element=\"e6547b42-1798-4eea-b0ef-01f3a3937d7d\")>,\n",
       " <selenium.webdriver.remote.webelement.WebElement (session=\"2565d8bd5e5bfaff4b9b2e9fe1f526d9\", element=\"bc69621b-d1bc-4c53-9fcd-722b5b1cf3fd\")>,\n",
       " <selenium.webdriver.remote.webelement.WebElement (session=\"2565d8bd5e5bfaff4b9b2e9fe1f526d9\", element=\"c31d0884-f099-4fb5-ab88-5fb367c96f1e\")>,\n",
       " <selenium.webdriver.remote.webelement.WebElement (session=\"2565d8bd5e5bfaff4b9b2e9fe1f526d9\", element=\"58285ccf-0fc5-441a-838c-29ae3c7000c3\")>]"
      ]
     },
     "execution_count": 147,
     "metadata": {},
     "output_type": "execute_result"
    }
   ],
   "source": [
    "companies=driver.find_elements_by_xpath(\"//a[@class='subTitle ellipsis fleft']\")\n",
    "companies"
   ]
  },
  {
   "cell_type": "code",
   "execution_count": 148,
   "id": "c8770b9d",
   "metadata": {},
   "outputs": [],
   "source": [
    "for i in companies:\n",
    "    company_name=i.text\n",
    "    company_names.append(company_name)"
   ]
  },
  {
   "cell_type": "code",
   "execution_count": 149,
   "id": "ae1d7811",
   "metadata": {},
   "outputs": [
    {
     "data": {
      "text/plain": [
       "['Think i',\n",
       " 'HCL Technologies',\n",
       " 'MoMagic Technologies Pvt. Ltd.',\n",
       " 'MoMagic Technologies Pvt. Ltd.',\n",
       " 'Shriram Automall India Limited',\n",
       " 'Optum Global Solutions (India) Private Limited',\n",
       " 'SVK Global Solutions Private Limited',\n",
       " 'iHackers Inc',\n",
       " 'Fractal Analytics',\n",
       " 'Tidyquant (OPC) Private Limited',\n",
       " 'iNICU',\n",
       " 'GreatLearning',\n",
       " 'Sentieo',\n",
       " 'BlackBuck',\n",
       " 'Country Veggie',\n",
       " 'Mahajan Imaging',\n",
       " 'Mahajan Imaging',\n",
       " 'CALIBEHR BUSINESS SUPPORT SERVICES PRIVATE LIMITED',\n",
       " 'EXL Services.com ( I ) Pvt. Ltd.',\n",
       " 'Right Step Consulting']"
      ]
     },
     "execution_count": 149,
     "metadata": {},
     "output_type": "execute_result"
    }
   ],
   "source": [
    "company_names"
   ]
  },
  {
   "cell_type": "code",
   "execution_count": 151,
   "id": "cf741b22",
   "metadata": {
    "collapsed": true
   },
   "outputs": [
    {
     "name": "stderr",
     "output_type": "stream",
     "text": [
      "<ipython-input-151-8cc9e9d7d7fd>:1: DeprecationWarning: find_elements_by_* commands are deprecated. Please use find_elements() instead\n",
      "  locations=driver.find_elements_by_xpath(\"//li[@class='fleft grey-text br2 placeHolderLi location']/span[1]\")\n"
     ]
    },
    {
     "data": {
      "text/plain": [
       "[<selenium.webdriver.remote.webelement.WebElement (session=\"2565d8bd5e5bfaff4b9b2e9fe1f526d9\", element=\"613f5c84-f55b-497f-b2b3-ec303d38ec88\")>,\n",
       " <selenium.webdriver.remote.webelement.WebElement (session=\"2565d8bd5e5bfaff4b9b2e9fe1f526d9\", element=\"f3502277-463f-4231-8ab4-9dc1a6816e53\")>,\n",
       " <selenium.webdriver.remote.webelement.WebElement (session=\"2565d8bd5e5bfaff4b9b2e9fe1f526d9\", element=\"7828ce07-e7c7-4090-8f74-68d13cf002ad\")>,\n",
       " <selenium.webdriver.remote.webelement.WebElement (session=\"2565d8bd5e5bfaff4b9b2e9fe1f526d9\", element=\"5d6debd4-e4b3-404c-baaa-3eff70476065\")>,\n",
       " <selenium.webdriver.remote.webelement.WebElement (session=\"2565d8bd5e5bfaff4b9b2e9fe1f526d9\", element=\"cbad8286-eec5-4c3f-b52e-e5eb5bc87d2e\")>,\n",
       " <selenium.webdriver.remote.webelement.WebElement (session=\"2565d8bd5e5bfaff4b9b2e9fe1f526d9\", element=\"14256bc7-8774-4da9-946d-773c3bcb9eec\")>,\n",
       " <selenium.webdriver.remote.webelement.WebElement (session=\"2565d8bd5e5bfaff4b9b2e9fe1f526d9\", element=\"25d293a5-5d9c-4e48-9081-242e28ebbf86\")>,\n",
       " <selenium.webdriver.remote.webelement.WebElement (session=\"2565d8bd5e5bfaff4b9b2e9fe1f526d9\", element=\"af48610d-6e94-456e-ad98-a62deabc4f92\")>,\n",
       " <selenium.webdriver.remote.webelement.WebElement (session=\"2565d8bd5e5bfaff4b9b2e9fe1f526d9\", element=\"9866f4e7-eb68-438e-ac96-73067647e4f6\")>,\n",
       " <selenium.webdriver.remote.webelement.WebElement (session=\"2565d8bd5e5bfaff4b9b2e9fe1f526d9\", element=\"96e22b5c-0e35-4147-9a61-638aaa7bc9ed\")>,\n",
       " <selenium.webdriver.remote.webelement.WebElement (session=\"2565d8bd5e5bfaff4b9b2e9fe1f526d9\", element=\"bf0ed03e-5125-4ae1-8244-b4e28cea0ee3\")>,\n",
       " <selenium.webdriver.remote.webelement.WebElement (session=\"2565d8bd5e5bfaff4b9b2e9fe1f526d9\", element=\"661f63b8-4e09-4a66-aa50-8d064cd615a4\")>,\n",
       " <selenium.webdriver.remote.webelement.WebElement (session=\"2565d8bd5e5bfaff4b9b2e9fe1f526d9\", element=\"dc10db3e-a305-4678-ba76-e8f33df2b677\")>,\n",
       " <selenium.webdriver.remote.webelement.WebElement (session=\"2565d8bd5e5bfaff4b9b2e9fe1f526d9\", element=\"530fb2cd-90e4-4449-8191-b15264c99280\")>,\n",
       " <selenium.webdriver.remote.webelement.WebElement (session=\"2565d8bd5e5bfaff4b9b2e9fe1f526d9\", element=\"fea34265-3a9b-42bf-b011-00fbdc31ef1a\")>,\n",
       " <selenium.webdriver.remote.webelement.WebElement (session=\"2565d8bd5e5bfaff4b9b2e9fe1f526d9\", element=\"c6afc1bc-a294-4eb3-af1a-e9ae10b78c21\")>,\n",
       " <selenium.webdriver.remote.webelement.WebElement (session=\"2565d8bd5e5bfaff4b9b2e9fe1f526d9\", element=\"33c0deba-e268-4f7d-a87e-80b84988a178\")>,\n",
       " <selenium.webdriver.remote.webelement.WebElement (session=\"2565d8bd5e5bfaff4b9b2e9fe1f526d9\", element=\"2fc646b9-8e4e-450a-a15c-619abf9930d2\")>,\n",
       " <selenium.webdriver.remote.webelement.WebElement (session=\"2565d8bd5e5bfaff4b9b2e9fe1f526d9\", element=\"0baf03d8-9fb6-4d74-b6f8-97a9241996d3\")>,\n",
       " <selenium.webdriver.remote.webelement.WebElement (session=\"2565d8bd5e5bfaff4b9b2e9fe1f526d9\", element=\"b7511ed6-e456-4631-9127-c6d042089e67\")>]"
      ]
     },
     "execution_count": 151,
     "metadata": {},
     "output_type": "execute_result"
    }
   ],
   "source": [
    "locations=driver.find_elements_by_xpath(\"//li[@class='fleft grey-text br2 placeHolderLi location']/span[1]\")\n",
    "locations"
   ]
  },
  {
   "cell_type": "code",
   "execution_count": 152,
   "id": "ac7614e2",
   "metadata": {},
   "outputs": [],
   "source": [
    "for i in locations:\n",
    "    location=i.text\n",
    "    job_locations.append(location)"
   ]
  },
  {
   "cell_type": "code",
   "execution_count": 153,
   "id": "288c6a44",
   "metadata": {},
   "outputs": [
    {
     "data": {
      "text/plain": [
       "['Kochi/Cochin, Kolkata, Hyderabad/Secunderabad, Pune, Ahmedabad, Chennai, Bangalore/Bengaluru, Delhi / NCR, Mumbai (All Areas)',\n",
       " 'Delhi / NCR',\n",
       " 'Noida(Sector-126 Noida)',\n",
       " 'Noida(Sector-126 Noida)',\n",
       " 'Delhi / NCR(Netaji Subhash Place)',\n",
       " 'Noida, Gurgaon/Gurugram',\n",
       " 'Noida',\n",
       " 'New Delhi',\n",
       " 'Mumbai, Gurgaon/Gurugram, Bangalore/Bengaluru',\n",
       " 'Remote',\n",
       " 'Delhi',\n",
       " 'Gurgaon/Gurugram, Bangalore/Bengaluru',\n",
       " 'Delhi',\n",
       " 'Gurgaon, Bengaluru',\n",
       " 'Bharuch, Jaipur, Bhopal, Mumbai, Jhansi, Nagpur, Ghaziabad, Jaunpur, Kanpur, Delhi, Lucknow, Agra, Gurgaon, Rajkot, Bengaluru',\n",
       " 'Delhi',\n",
       " 'Delhi',\n",
       " 'Mumbai, Hyderabad/Secunderabad, Pune, Chennai, Tamia, Bangalore/Bengaluru, Delhi / NCR',\n",
       " 'Gurgaon/Gurugram, Bangalore/Bengaluru',\n",
       " 'Noida']"
      ]
     },
     "execution_count": 153,
     "metadata": {},
     "output_type": "execute_result"
    }
   ],
   "source": [
    "job_locations"
   ]
  },
  {
   "cell_type": "code",
   "execution_count": 154,
   "id": "0afb35a1",
   "metadata": {
    "collapsed": true
   },
   "outputs": [
    {
     "name": "stderr",
     "output_type": "stream",
     "text": [
      "<ipython-input-154-7b665126071a>:1: DeprecationWarning: find_elements_by_* commands are deprecated. Please use find_elements() instead\n",
      "  experiance=driver.find_elements_by_xpath(\"//li[@class='fleft grey-text br2 placeHolderLi experience']/span[1]\")\n"
     ]
    }
   ],
   "source": [
    "experiance=driver.find_elements_by_xpath(\"//li[@class='fleft grey-text br2 placeHolderLi experience']/span[1]\")"
   ]
  },
  {
   "cell_type": "code",
   "execution_count": 155,
   "id": "539492a9",
   "metadata": {
    "collapsed": true
   },
   "outputs": [
    {
     "data": {
      "text/plain": [
       "[<selenium.webdriver.remote.webelement.WebElement (session=\"2565d8bd5e5bfaff4b9b2e9fe1f526d9\", element=\"b0210674-e56b-4235-9ec6-7c7d63960093\")>,\n",
       " <selenium.webdriver.remote.webelement.WebElement (session=\"2565d8bd5e5bfaff4b9b2e9fe1f526d9\", element=\"603444f8-a19e-4bdc-ab4d-4cda20e04d25\")>,\n",
       " <selenium.webdriver.remote.webelement.WebElement (session=\"2565d8bd5e5bfaff4b9b2e9fe1f526d9\", element=\"f34cba77-1845-45d9-87db-47d54c78de54\")>,\n",
       " <selenium.webdriver.remote.webelement.WebElement (session=\"2565d8bd5e5bfaff4b9b2e9fe1f526d9\", element=\"5bcf62b1-5b3a-41d6-a3b3-26ecf99ec855\")>,\n",
       " <selenium.webdriver.remote.webelement.WebElement (session=\"2565d8bd5e5bfaff4b9b2e9fe1f526d9\", element=\"178a5952-4b38-4be0-bcab-bd40fb5f377f\")>,\n",
       " <selenium.webdriver.remote.webelement.WebElement (session=\"2565d8bd5e5bfaff4b9b2e9fe1f526d9\", element=\"be5d9001-294d-485b-8aba-0286f0459886\")>,\n",
       " <selenium.webdriver.remote.webelement.WebElement (session=\"2565d8bd5e5bfaff4b9b2e9fe1f526d9\", element=\"b8ad68a9-3bb5-40e6-b050-84d2f7b308ca\")>,\n",
       " <selenium.webdriver.remote.webelement.WebElement (session=\"2565d8bd5e5bfaff4b9b2e9fe1f526d9\", element=\"b4441b05-a015-4c95-96fb-0e82257a6ffb\")>,\n",
       " <selenium.webdriver.remote.webelement.WebElement (session=\"2565d8bd5e5bfaff4b9b2e9fe1f526d9\", element=\"41151809-2410-4090-84f8-7cbe8945077d\")>,\n",
       " <selenium.webdriver.remote.webelement.WebElement (session=\"2565d8bd5e5bfaff4b9b2e9fe1f526d9\", element=\"916446f4-f64b-4a59-9055-229dbbe6f5e2\")>,\n",
       " <selenium.webdriver.remote.webelement.WebElement (session=\"2565d8bd5e5bfaff4b9b2e9fe1f526d9\", element=\"993d7487-08b8-45a2-b2f3-745b72bad4a3\")>,\n",
       " <selenium.webdriver.remote.webelement.WebElement (session=\"2565d8bd5e5bfaff4b9b2e9fe1f526d9\", element=\"968e23f7-65f3-463f-bb6a-c954864ab03d\")>,\n",
       " <selenium.webdriver.remote.webelement.WebElement (session=\"2565d8bd5e5bfaff4b9b2e9fe1f526d9\", element=\"b890f004-e5c3-4896-a6d9-3e0dfb2f7dd0\")>,\n",
       " <selenium.webdriver.remote.webelement.WebElement (session=\"2565d8bd5e5bfaff4b9b2e9fe1f526d9\", element=\"d22fccb4-0c70-478f-8c65-d92f2a3c8ee5\")>,\n",
       " <selenium.webdriver.remote.webelement.WebElement (session=\"2565d8bd5e5bfaff4b9b2e9fe1f526d9\", element=\"91a68a73-3974-48ef-9fc9-76b1e61171fe\")>,\n",
       " <selenium.webdriver.remote.webelement.WebElement (session=\"2565d8bd5e5bfaff4b9b2e9fe1f526d9\", element=\"9ca9389d-c5de-4acf-acbc-733b2eac0916\")>,\n",
       " <selenium.webdriver.remote.webelement.WebElement (session=\"2565d8bd5e5bfaff4b9b2e9fe1f526d9\", element=\"e6c00c23-f7a0-4942-9fe8-e816d67cd7b4\")>,\n",
       " <selenium.webdriver.remote.webelement.WebElement (session=\"2565d8bd5e5bfaff4b9b2e9fe1f526d9\", element=\"1fb7cb7d-6659-49cd-b5b0-a7809c8973f7\")>,\n",
       " <selenium.webdriver.remote.webelement.WebElement (session=\"2565d8bd5e5bfaff4b9b2e9fe1f526d9\", element=\"aa6c4684-9be4-46bb-b60e-1fa25ea181bb\")>,\n",
       " <selenium.webdriver.remote.webelement.WebElement (session=\"2565d8bd5e5bfaff4b9b2e9fe1f526d9\", element=\"35dab995-995b-420c-94d3-faeaf4bcf7bf\")>]"
      ]
     },
     "execution_count": 155,
     "metadata": {},
     "output_type": "execute_result"
    }
   ],
   "source": [
    "experiance"
   ]
  },
  {
   "cell_type": "code",
   "execution_count": 156,
   "id": "132024e1",
   "metadata": {},
   "outputs": [],
   "source": [
    "for i in experiance:\n",
    "    experiances=i.text\n",
    "    experiances_required.append(experiances)"
   ]
  },
  {
   "cell_type": "code",
   "execution_count": 157,
   "id": "79bdc5c1",
   "metadata": {},
   "outputs": [
    {
     "data": {
      "text/plain": [
       "['0-2 Yrs',\n",
       " '4-7 Yrs',\n",
       " '4-6 Yrs',\n",
       " '4-6 Yrs',\n",
       " '2-7 Yrs',\n",
       " '2-6 Yrs',\n",
       " '6-10 Yrs',\n",
       " '0-1 Yrs',\n",
       " '3-7 Yrs',\n",
       " '2-7 Yrs',\n",
       " '1-5 Yrs',\n",
       " '1-4 Yrs',\n",
       " '2-7 Yrs',\n",
       " '3-7 Yrs',\n",
       " '1-3 Yrs',\n",
       " '2-6 Yrs',\n",
       " '2-6 Yrs',\n",
       " '2-7 Yrs',\n",
       " '3-5 Yrs',\n",
       " '3-6 Yrs']"
      ]
     },
     "execution_count": 157,
     "metadata": {},
     "output_type": "execute_result"
    }
   ],
   "source": [
    "experiances_required"
   ]
  },
  {
   "cell_type": "code",
   "execution_count": 158,
   "id": "20ed20cb",
   "metadata": {},
   "outputs": [],
   "source": [
    "jobf=pd.DataFrame({})\n",
    "jobf['TITLES']=job_titles[0:10]\n",
    "jobf['COMPANY']=company_names[0:10]\n",
    "jobf['EXPERIANCE']=experiances_required[0:10]\n",
    "jobf['LOCATION']=job_locations[0:10]"
   ]
  },
  {
   "cell_type": "code",
   "execution_count": 159,
   "id": "f24b20d6",
   "metadata": {},
   "outputs": [
    {
     "data": {
      "text/html": [
       "<div>\n",
       "<style scoped>\n",
       "    .dataframe tbody tr th:only-of-type {\n",
       "        vertical-align: middle;\n",
       "    }\n",
       "\n",
       "    .dataframe tbody tr th {\n",
       "        vertical-align: top;\n",
       "    }\n",
       "\n",
       "    .dataframe thead th {\n",
       "        text-align: right;\n",
       "    }\n",
       "</style>\n",
       "<table border=\"1\" class=\"dataframe\">\n",
       "  <thead>\n",
       "    <tr style=\"text-align: right;\">\n",
       "      <th></th>\n",
       "      <th>TITLES</th>\n",
       "      <th>COMPANY</th>\n",
       "      <th>EXPERIANCE</th>\n",
       "      <th>LOCATION</th>\n",
       "    </tr>\n",
       "  </thead>\n",
       "  <tbody>\n",
       "    <tr>\n",
       "      <th>0</th>\n",
       "      <td>Data Scientist</td>\n",
       "      <td>Think i</td>\n",
       "      <td>0-2 Yrs</td>\n",
       "      <td>Kochi/Cochin, Kolkata, Hyderabad/Secunderabad,...</td>\n",
       "    </tr>\n",
       "    <tr>\n",
       "      <th>1</th>\n",
       "      <td>Job Opportunity || Data Scientist || HCL Techn...</td>\n",
       "      <td>HCL Technologies</td>\n",
       "      <td>4-7 Yrs</td>\n",
       "      <td>Delhi / NCR</td>\n",
       "    </tr>\n",
       "    <tr>\n",
       "      <th>2</th>\n",
       "      <td>Data Scientist</td>\n",
       "      <td>MoMagic Technologies Pvt. Ltd.</td>\n",
       "      <td>4-6 Yrs</td>\n",
       "      <td>Noida(Sector-126 Noida)</td>\n",
       "    </tr>\n",
       "    <tr>\n",
       "      <th>3</th>\n",
       "      <td>Data Scientist</td>\n",
       "      <td>MoMagic Technologies Pvt. Ltd.</td>\n",
       "      <td>4-6 Yrs</td>\n",
       "      <td>Noida(Sector-126 Noida)</td>\n",
       "    </tr>\n",
       "    <tr>\n",
       "      <th>4</th>\n",
       "      <td>Urgent Hiring || Data Scientist || Delhi</td>\n",
       "      <td>Shriram Automall India Limited</td>\n",
       "      <td>2-7 Yrs</td>\n",
       "      <td>Delhi / NCR(Netaji Subhash Place)</td>\n",
       "    </tr>\n",
       "    <tr>\n",
       "      <th>5</th>\n",
       "      <td>Data Scientist</td>\n",
       "      <td>Optum Global Solutions (India) Private Limited</td>\n",
       "      <td>2-6 Yrs</td>\n",
       "      <td>Noida, Gurgaon/Gurugram</td>\n",
       "    </tr>\n",
       "    <tr>\n",
       "      <th>6</th>\n",
       "      <td>Data Scientist</td>\n",
       "      <td>SVK Global Solutions Private Limited</td>\n",
       "      <td>6-10 Yrs</td>\n",
       "      <td>Noida</td>\n",
       "    </tr>\n",
       "    <tr>\n",
       "      <th>7</th>\n",
       "      <td>Data Scientist Internship</td>\n",
       "      <td>iHackers Inc</td>\n",
       "      <td>0-1 Yrs</td>\n",
       "      <td>New Delhi</td>\n",
       "    </tr>\n",
       "    <tr>\n",
       "      <th>8</th>\n",
       "      <td>Data Scientist</td>\n",
       "      <td>Fractal Analytics</td>\n",
       "      <td>3-7 Yrs</td>\n",
       "      <td>Mumbai, Gurgaon/Gurugram, Bangalore/Bengaluru</td>\n",
       "    </tr>\n",
       "    <tr>\n",
       "      <th>9</th>\n",
       "      <td>Project Manager | Team Leader | Senior Data Sc...</td>\n",
       "      <td>Tidyquant (OPC) Private Limited</td>\n",
       "      <td>2-7 Yrs</td>\n",
       "      <td>Remote</td>\n",
       "    </tr>\n",
       "  </tbody>\n",
       "</table>\n",
       "</div>"
      ],
      "text/plain": [
       "                                              TITLES  \\\n",
       "0                                     Data Scientist   \n",
       "1  Job Opportunity || Data Scientist || HCL Techn...   \n",
       "2                                     Data Scientist   \n",
       "3                                     Data Scientist   \n",
       "4           Urgent Hiring || Data Scientist || Delhi   \n",
       "5                                     Data Scientist   \n",
       "6                                     Data Scientist   \n",
       "7                          Data Scientist Internship   \n",
       "8                                     Data Scientist   \n",
       "9  Project Manager | Team Leader | Senior Data Sc...   \n",
       "\n",
       "                                          COMPANY EXPERIANCE  \\\n",
       "0                                         Think i    0-2 Yrs   \n",
       "1                                HCL Technologies    4-7 Yrs   \n",
       "2                  MoMagic Technologies Pvt. Ltd.    4-6 Yrs   \n",
       "3                  MoMagic Technologies Pvt. Ltd.    4-6 Yrs   \n",
       "4                  Shriram Automall India Limited    2-7 Yrs   \n",
       "5  Optum Global Solutions (India) Private Limited    2-6 Yrs   \n",
       "6            SVK Global Solutions Private Limited   6-10 Yrs   \n",
       "7                                    iHackers Inc    0-1 Yrs   \n",
       "8                               Fractal Analytics    3-7 Yrs   \n",
       "9                 Tidyquant (OPC) Private Limited    2-7 Yrs   \n",
       "\n",
       "                                            LOCATION  \n",
       "0  Kochi/Cochin, Kolkata, Hyderabad/Secunderabad,...  \n",
       "1                                        Delhi / NCR  \n",
       "2                            Noida(Sector-126 Noida)  \n",
       "3                            Noida(Sector-126 Noida)  \n",
       "4                  Delhi / NCR(Netaji Subhash Place)  \n",
       "5                            Noida, Gurgaon/Gurugram  \n",
       "6                                              Noida  \n",
       "7                                          New Delhi  \n",
       "8      Mumbai, Gurgaon/Gurugram, Bangalore/Bengaluru  \n",
       "9                                             Remote  "
      ]
     },
     "execution_count": 159,
     "metadata": {},
     "output_type": "execute_result"
    }
   ],
   "source": [
    "jobf"
   ]
  },
  {
   "cell_type": "markdown",
   "id": "c29ae30a",
   "metadata": {},
   "source": [
    "# 4)sunglasses from flipkart"
   ]
  },
  {
   "cell_type": "code",
   "execution_count": 323,
   "id": "f1f7a0a2",
   "metadata": {},
   "outputs": [],
   "source": [
    "PATH = r\"/Users/akshathaaravind/Downloads/chromedriver\""
   ]
  },
  {
   "cell_type": "code",
   "execution_count": 324,
   "id": "12fa9af5",
   "metadata": {
    "collapsed": true
   },
   "outputs": [
    {
     "name": "stderr",
     "output_type": "stream",
     "text": [
      "<ipython-input-324-39becb130489>:1: DeprecationWarning: executable_path has been deprecated, please pass in a Service object\n",
      "  driver=webdriver.Chrome(PATH)\n"
     ]
    }
   ],
   "source": [
    "driver=webdriver.Chrome(PATH)"
   ]
  },
  {
   "cell_type": "code",
   "execution_count": 162,
   "id": "475c0416",
   "metadata": {},
   "outputs": [],
   "source": [
    "driver.get(\"https://www.flipkart.com/\")"
   ]
  },
  {
   "cell_type": "code",
   "execution_count": 166,
   "id": "15d17097",
   "metadata": {
    "collapsed": true
   },
   "outputs": [
    {
     "name": "stderr",
     "output_type": "stream",
     "text": [
      "<ipython-input-166-0a9f2461fae6>:1: DeprecationWarning: find_element_by_* commands are deprecated. Please use find_element() instead\n",
      "  search_phone=driver.find_element_by_xpath(\"//input[@name='q']\")\n"
     ]
    }
   ],
   "source": [
    "search_phone=driver.find_element_by_xpath(\"//input[@name='q']\")"
   ]
  },
  {
   "cell_type": "code",
   "execution_count": 167,
   "id": "3e0ef3a6",
   "metadata": {},
   "outputs": [],
   "source": [
    "search_phone.send_keys(\"sunglasses\")"
   ]
  },
  {
   "cell_type": "code",
   "execution_count": 168,
   "id": "6dfa91c1",
   "metadata": {
    "collapsed": true
   },
   "outputs": [
    {
     "name": "stderr",
     "output_type": "stream",
     "text": [
      "<ipython-input-168-cf3f53ced3c9>:1: DeprecationWarning: find_element_by_* commands are deprecated. Please use find_element() instead\n",
      "  search_icon=driver.find_element_by_xpath(\"//button[@class='L0Z3Pu']\")\n"
     ]
    }
   ],
   "source": [
    "search_icon=driver.find_element_by_xpath(\"//button[@class='L0Z3Pu']\")\n",
    "search_icon.click()"
   ]
  },
  {
   "cell_type": "code",
   "execution_count": 169,
   "id": "e1fd2eee",
   "metadata": {},
   "outputs": [],
   "source": [
    "glass_brand=[]\n",
    "glass_discription=[]\n",
    "glass_price=[]\n",
    "glass_offer=[]"
   ]
  },
  {
   "cell_type": "code",
   "execution_count": 172,
   "id": "9a7efb14",
   "metadata": {
    "collapsed": true
   },
   "outputs": [
    {
     "name": "stderr",
     "output_type": "stream",
     "text": [
      "<ipython-input-172-77df57c83b76>:1: DeprecationWarning: find_elements_by_* commands are deprecated. Please use find_elements() instead\n",
      "  brand_tag=driver.find_elements_by_xpath(\"//div[@class='_2WkVRV']\")\n"
     ]
    }
   ],
   "source": [
    "brand_tag=driver.find_elements_by_xpath(\"//div[@class='_2WkVRV']\")"
   ]
  },
  {
   "cell_type": "code",
   "execution_count": 173,
   "id": "0754444c",
   "metadata": {
    "collapsed": true
   },
   "outputs": [
    {
     "data": {
      "text/plain": [
       "[<selenium.webdriver.remote.webelement.WebElement (session=\"8ad37eb264425e988a2656f6c0c37e12\", element=\"506f499a-c280-4686-9e48-a2817e9234a9\")>,\n",
       " <selenium.webdriver.remote.webelement.WebElement (session=\"8ad37eb264425e988a2656f6c0c37e12\", element=\"23af2ee3-d971-4f42-9fc7-bb07e42a4a02\")>,\n",
       " <selenium.webdriver.remote.webelement.WebElement (session=\"8ad37eb264425e988a2656f6c0c37e12\", element=\"21ac03d4-e6af-4935-be4a-492825f08d82\")>,\n",
       " <selenium.webdriver.remote.webelement.WebElement (session=\"8ad37eb264425e988a2656f6c0c37e12\", element=\"6a0ab838-d483-4d58-91d4-bcd1594a3d9b\")>,\n",
       " <selenium.webdriver.remote.webelement.WebElement (session=\"8ad37eb264425e988a2656f6c0c37e12\", element=\"6b8e63a9-fd9a-4dac-ba6e-68c0560a565e\")>,\n",
       " <selenium.webdriver.remote.webelement.WebElement (session=\"8ad37eb264425e988a2656f6c0c37e12\", element=\"6a1fdeab-db6f-4987-867e-36ddff7642ec\")>,\n",
       " <selenium.webdriver.remote.webelement.WebElement (session=\"8ad37eb264425e988a2656f6c0c37e12\", element=\"59e8e45f-39b3-4741-908e-d9b270678d2c\")>,\n",
       " <selenium.webdriver.remote.webelement.WebElement (session=\"8ad37eb264425e988a2656f6c0c37e12\", element=\"a89f86ba-4b0e-409a-a880-4d8d18507d99\")>,\n",
       " <selenium.webdriver.remote.webelement.WebElement (session=\"8ad37eb264425e988a2656f6c0c37e12\", element=\"74fb4a43-a55b-40a7-8423-494cb55bd38c\")>,\n",
       " <selenium.webdriver.remote.webelement.WebElement (session=\"8ad37eb264425e988a2656f6c0c37e12\", element=\"00a48b98-b26b-476f-a893-7e35dd32091f\")>,\n",
       " <selenium.webdriver.remote.webelement.WebElement (session=\"8ad37eb264425e988a2656f6c0c37e12\", element=\"953d24a7-329b-41ba-9ce9-207cc19c9e14\")>,\n",
       " <selenium.webdriver.remote.webelement.WebElement (session=\"8ad37eb264425e988a2656f6c0c37e12\", element=\"0aa9c35a-f8dd-4ace-8868-3d180b25090c\")>,\n",
       " <selenium.webdriver.remote.webelement.WebElement (session=\"8ad37eb264425e988a2656f6c0c37e12\", element=\"bac3b647-75d6-4e12-9497-437e2e2d5a79\")>,\n",
       " <selenium.webdriver.remote.webelement.WebElement (session=\"8ad37eb264425e988a2656f6c0c37e12\", element=\"e698ee3d-0c4b-483f-b61b-734092758189\")>,\n",
       " <selenium.webdriver.remote.webelement.WebElement (session=\"8ad37eb264425e988a2656f6c0c37e12\", element=\"a95a63e0-d413-40f2-b0be-ff3e3fc0e594\")>,\n",
       " <selenium.webdriver.remote.webelement.WebElement (session=\"8ad37eb264425e988a2656f6c0c37e12\", element=\"a100817d-4925-47e0-8f19-f2d92d52b494\")>,\n",
       " <selenium.webdriver.remote.webelement.WebElement (session=\"8ad37eb264425e988a2656f6c0c37e12\", element=\"5b7f2881-ebc9-4ff4-8a35-b277d17f3ac1\")>,\n",
       " <selenium.webdriver.remote.webelement.WebElement (session=\"8ad37eb264425e988a2656f6c0c37e12\", element=\"67d5ec45-6e48-4653-9b1b-bf9ab0fc3512\")>,\n",
       " <selenium.webdriver.remote.webelement.WebElement (session=\"8ad37eb264425e988a2656f6c0c37e12\", element=\"b17af6b3-37f4-4b46-a84e-461ca3ed6ceb\")>,\n",
       " <selenium.webdriver.remote.webelement.WebElement (session=\"8ad37eb264425e988a2656f6c0c37e12\", element=\"33ca9a05-36f9-4d06-b26f-dc5106b5821c\")>,\n",
       " <selenium.webdriver.remote.webelement.WebElement (session=\"8ad37eb264425e988a2656f6c0c37e12\", element=\"5a1004fc-d3f0-4174-997f-b8c42d36f168\")>,\n",
       " <selenium.webdriver.remote.webelement.WebElement (session=\"8ad37eb264425e988a2656f6c0c37e12\", element=\"f068ab2a-1834-47da-9ad3-5098f3c91382\")>,\n",
       " <selenium.webdriver.remote.webelement.WebElement (session=\"8ad37eb264425e988a2656f6c0c37e12\", element=\"95813603-eb66-4237-b4c5-b8df75785fe1\")>,\n",
       " <selenium.webdriver.remote.webelement.WebElement (session=\"8ad37eb264425e988a2656f6c0c37e12\", element=\"57e3e30f-8510-4676-bc3a-b45dcf17751c\")>,\n",
       " <selenium.webdriver.remote.webelement.WebElement (session=\"8ad37eb264425e988a2656f6c0c37e12\", element=\"819354b9-8bf4-417d-b08c-32ff675bf5dd\")>,\n",
       " <selenium.webdriver.remote.webelement.WebElement (session=\"8ad37eb264425e988a2656f6c0c37e12\", element=\"e79e7fd0-b10b-4e2f-8da1-b80ca30f5346\")>,\n",
       " <selenium.webdriver.remote.webelement.WebElement (session=\"8ad37eb264425e988a2656f6c0c37e12\", element=\"e8db53db-b38c-4ca7-9964-802f7bf85305\")>,\n",
       " <selenium.webdriver.remote.webelement.WebElement (session=\"8ad37eb264425e988a2656f6c0c37e12\", element=\"8365518f-c2c8-4512-a79f-9a267a682bde\")>,\n",
       " <selenium.webdriver.remote.webelement.WebElement (session=\"8ad37eb264425e988a2656f6c0c37e12\", element=\"4a97bb27-5c74-49fd-a02b-7266227b604a\")>,\n",
       " <selenium.webdriver.remote.webelement.WebElement (session=\"8ad37eb264425e988a2656f6c0c37e12\", element=\"00b707be-6242-49fc-ac6d-4eeb063ef7eb\")>,\n",
       " <selenium.webdriver.remote.webelement.WebElement (session=\"8ad37eb264425e988a2656f6c0c37e12\", element=\"f817b025-92b2-406c-8820-66db655466c3\")>,\n",
       " <selenium.webdriver.remote.webelement.WebElement (session=\"8ad37eb264425e988a2656f6c0c37e12\", element=\"51ef0b08-6177-43a9-a0d8-f938b829a13c\")>,\n",
       " <selenium.webdriver.remote.webelement.WebElement (session=\"8ad37eb264425e988a2656f6c0c37e12\", element=\"65e0ceeb-6fc8-46a4-b7c9-a34a55187b15\")>,\n",
       " <selenium.webdriver.remote.webelement.WebElement (session=\"8ad37eb264425e988a2656f6c0c37e12\", element=\"e5a01ca3-372c-447e-942f-834d74d1b957\")>,\n",
       " <selenium.webdriver.remote.webelement.WebElement (session=\"8ad37eb264425e988a2656f6c0c37e12\", element=\"62057a41-d2f9-416d-ae1c-9524df2b4f5e\")>,\n",
       " <selenium.webdriver.remote.webelement.WebElement (session=\"8ad37eb264425e988a2656f6c0c37e12\", element=\"ede0da24-a490-4c99-b633-985ea960a28e\")>,\n",
       " <selenium.webdriver.remote.webelement.WebElement (session=\"8ad37eb264425e988a2656f6c0c37e12\", element=\"5c308eaf-03ce-47e2-ace6-c2836b9278a2\")>,\n",
       " <selenium.webdriver.remote.webelement.WebElement (session=\"8ad37eb264425e988a2656f6c0c37e12\", element=\"998ce499-6860-47f7-94b5-ad36719afff8\")>,\n",
       " <selenium.webdriver.remote.webelement.WebElement (session=\"8ad37eb264425e988a2656f6c0c37e12\", element=\"e0e56917-2180-4f27-96b7-5174e400b525\")>,\n",
       " <selenium.webdriver.remote.webelement.WebElement (session=\"8ad37eb264425e988a2656f6c0c37e12\", element=\"05681aec-480c-413d-9b45-11b2d9d24bd3\")>]"
      ]
     },
     "execution_count": 173,
     "metadata": {},
     "output_type": "execute_result"
    }
   ],
   "source": [
    "brand_tag"
   ]
  },
  {
   "cell_type": "code",
   "execution_count": 174,
   "id": "b48a0859",
   "metadata": {},
   "outputs": [],
   "source": [
    "for i in brand_tag:\n",
    "    brand=i.text\n",
    "    glass_brand.append(brand)"
   ]
  },
  {
   "cell_type": "code",
   "execution_count": 175,
   "id": "23cbd25c",
   "metadata": {},
   "outputs": [
    {
     "data": {
      "text/plain": [
       "['Fastrack',\n",
       " 'Fastrack',\n",
       " 'Elligator',\n",
       " 'Fastrack',\n",
       " 'PIRASO',\n",
       " 'PIRASO',\n",
       " 'SHAAH COLLECTIONS',\n",
       " 'Fastrack',\n",
       " 'GANSTA',\n",
       " 'PHENOMENAL',\n",
       " 'ROZZETTA CRAFT',\n",
       " 'Fastrack',\n",
       " 'kingsunglasses',\n",
       " 'New Specs',\n",
       " 'HIPPON',\n",
       " 'VINCENT CHASE',\n",
       " 'SHAAH COLLECTIONS',\n",
       " 'Elligator',\n",
       " 'hipe',\n",
       " 'Fastrack',\n",
       " 'Fastrack',\n",
       " 'Silver Kartz',\n",
       " 'PIRASO',\n",
       " 'VINCENT CHASE',\n",
       " 'ROZZETTA CRAFT',\n",
       " 'Rich Club',\n",
       " 'PIRASO',\n",
       " 'Fastrack',\n",
       " 'kingsunglasses',\n",
       " 'agera',\n",
       " 'Singco India',\n",
       " 'Fastrack',\n",
       " 'NuVew',\n",
       " 'Elligator',\n",
       " 'Elligator',\n",
       " 'VINCENT CHASE',\n",
       " 'SRPM',\n",
       " 'SUNBEE',\n",
       " 'povty',\n",
       " 'ROYAL SON']"
      ]
     },
     "execution_count": 175,
     "metadata": {},
     "output_type": "execute_result"
    }
   ],
   "source": [
    "glass_brand"
   ]
  },
  {
   "cell_type": "code",
   "execution_count": 176,
   "id": "1cde3a1b",
   "metadata": {
    "collapsed": true
   },
   "outputs": [
    {
     "name": "stderr",
     "output_type": "stream",
     "text": [
      "<ipython-input-176-fbc0662fdafd>:1: DeprecationWarning: find_elements_by_* commands are deprecated. Please use find_elements() instead\n",
      "  disc_tag=driver.find_elements_by_xpath(\"//a[@class='IRpwTa']\")\n"
     ]
    }
   ],
   "source": [
    "disc_tag=driver.find_elements_by_xpath(\"//a[@class='IRpwTa']\")"
   ]
  },
  {
   "cell_type": "code",
   "execution_count": 177,
   "id": "5e9eb5cd",
   "metadata": {},
   "outputs": [
    {
     "data": {
      "text/plain": [
       "[<selenium.webdriver.remote.webelement.WebElement (session=\"8ad37eb264425e988a2656f6c0c37e12\", element=\"590c84e0-56f4-479a-a04f-f42191694b9a\")>,\n",
       " <selenium.webdriver.remote.webelement.WebElement (session=\"8ad37eb264425e988a2656f6c0c37e12\", element=\"0d768084-6807-43f4-848f-a9fa6f15ff55\")>,\n",
       " <selenium.webdriver.remote.webelement.WebElement (session=\"8ad37eb264425e988a2656f6c0c37e12\", element=\"59b69854-8cd9-449b-a688-cebc4ee5ba07\")>,\n",
       " <selenium.webdriver.remote.webelement.WebElement (session=\"8ad37eb264425e988a2656f6c0c37e12\", element=\"7d24c8a3-2e44-4c43-b1b3-86c09054debd\")>,\n",
       " <selenium.webdriver.remote.webelement.WebElement (session=\"8ad37eb264425e988a2656f6c0c37e12\", element=\"1b8570f2-0783-45e1-aa3e-7ae5db0a1991\")>,\n",
       " <selenium.webdriver.remote.webelement.WebElement (session=\"8ad37eb264425e988a2656f6c0c37e12\", element=\"acce08b6-0cc9-4d04-a5b0-eb7df2e5ebff\")>,\n",
       " <selenium.webdriver.remote.webelement.WebElement (session=\"8ad37eb264425e988a2656f6c0c37e12\", element=\"234af19c-c6c8-4211-8271-d876ef755486\")>,\n",
       " <selenium.webdriver.remote.webelement.WebElement (session=\"8ad37eb264425e988a2656f6c0c37e12\", element=\"1eb68782-6414-4d78-a640-5d6907376da9\")>,\n",
       " <selenium.webdriver.remote.webelement.WebElement (session=\"8ad37eb264425e988a2656f6c0c37e12\", element=\"d5eecbc7-f450-4200-8cae-c1b43ffd8589\")>,\n",
       " <selenium.webdriver.remote.webelement.WebElement (session=\"8ad37eb264425e988a2656f6c0c37e12\", element=\"14829e66-fc77-4e76-b918-ff0e0dca4256\")>,\n",
       " <selenium.webdriver.remote.webelement.WebElement (session=\"8ad37eb264425e988a2656f6c0c37e12\", element=\"7a90d468-9917-4883-b089-c9c6cedeaead\")>,\n",
       " <selenium.webdriver.remote.webelement.WebElement (session=\"8ad37eb264425e988a2656f6c0c37e12\", element=\"a7604736-057f-4f20-8225-0a79a6698f8b\")>,\n",
       " <selenium.webdriver.remote.webelement.WebElement (session=\"8ad37eb264425e988a2656f6c0c37e12\", element=\"443e013c-b59f-44cc-93d0-bc2fad3d1d46\")>,\n",
       " <selenium.webdriver.remote.webelement.WebElement (session=\"8ad37eb264425e988a2656f6c0c37e12\", element=\"ef0c7475-eca5-4c46-a073-2cb3db08c9b2\")>,\n",
       " <selenium.webdriver.remote.webelement.WebElement (session=\"8ad37eb264425e988a2656f6c0c37e12\", element=\"8d5ab151-d59c-4339-b62c-89a75a4d160e\")>,\n",
       " <selenium.webdriver.remote.webelement.WebElement (session=\"8ad37eb264425e988a2656f6c0c37e12\", element=\"1f850473-2d7a-4341-ae7d-98e4c26d3c8b\")>,\n",
       " <selenium.webdriver.remote.webelement.WebElement (session=\"8ad37eb264425e988a2656f6c0c37e12\", element=\"5f1b7ae1-7e9f-4d25-b212-12dd4904ac1b\")>,\n",
       " <selenium.webdriver.remote.webelement.WebElement (session=\"8ad37eb264425e988a2656f6c0c37e12\", element=\"82838b24-578a-48b0-a8e6-808b7802affe\")>,\n",
       " <selenium.webdriver.remote.webelement.WebElement (session=\"8ad37eb264425e988a2656f6c0c37e12\", element=\"94f55202-3341-4893-83ed-304a18175a0d\")>,\n",
       " <selenium.webdriver.remote.webelement.WebElement (session=\"8ad37eb264425e988a2656f6c0c37e12\", element=\"c447a649-5cfd-4068-9a41-3780eba650e7\")>,\n",
       " <selenium.webdriver.remote.webelement.WebElement (session=\"8ad37eb264425e988a2656f6c0c37e12\", element=\"1d4548b3-8f6f-4fc9-bc9f-ec2ab10a6dfd\")>,\n",
       " <selenium.webdriver.remote.webelement.WebElement (session=\"8ad37eb264425e988a2656f6c0c37e12\", element=\"5a7ae54d-2ca7-47a5-b642-05754b3f8387\")>,\n",
       " <selenium.webdriver.remote.webelement.WebElement (session=\"8ad37eb264425e988a2656f6c0c37e12\", element=\"6664449d-e19c-447e-8784-2daa0b15404d\")>,\n",
       " <selenium.webdriver.remote.webelement.WebElement (session=\"8ad37eb264425e988a2656f6c0c37e12\", element=\"927173af-95a4-4e86-b062-6283b1894170\")>,\n",
       " <selenium.webdriver.remote.webelement.WebElement (session=\"8ad37eb264425e988a2656f6c0c37e12\", element=\"c88e6c39-9b2a-4007-94ae-3cfe57b76fba\")>,\n",
       " <selenium.webdriver.remote.webelement.WebElement (session=\"8ad37eb264425e988a2656f6c0c37e12\", element=\"c57f0508-dcb8-4503-8133-fcef799aa224\")>,\n",
       " <selenium.webdriver.remote.webelement.WebElement (session=\"8ad37eb264425e988a2656f6c0c37e12\", element=\"cf108d05-605b-4049-ada7-465c4363635c\")>,\n",
       " <selenium.webdriver.remote.webelement.WebElement (session=\"8ad37eb264425e988a2656f6c0c37e12\", element=\"3fac9a0f-9a55-47b5-a50e-8e59de9cf39a\")>,\n",
       " <selenium.webdriver.remote.webelement.WebElement (session=\"8ad37eb264425e988a2656f6c0c37e12\", element=\"a0072a55-374d-4937-9116-7b21b0d0701a\")>,\n",
       " <selenium.webdriver.remote.webelement.WebElement (session=\"8ad37eb264425e988a2656f6c0c37e12\", element=\"96fc52b7-3771-4f2d-9190-b09d9f649b51\")>,\n",
       " <selenium.webdriver.remote.webelement.WebElement (session=\"8ad37eb264425e988a2656f6c0c37e12\", element=\"a3369812-2662-4891-8419-2f3455a8b9e5\")>,\n",
       " <selenium.webdriver.remote.webelement.WebElement (session=\"8ad37eb264425e988a2656f6c0c37e12\", element=\"95905ee1-9da2-42b1-b75e-10c4733f3e25\")>,\n",
       " <selenium.webdriver.remote.webelement.WebElement (session=\"8ad37eb264425e988a2656f6c0c37e12\", element=\"0066d9d7-d833-4097-8068-92f08090e4eb\")>,\n",
       " <selenium.webdriver.remote.webelement.WebElement (session=\"8ad37eb264425e988a2656f6c0c37e12\", element=\"f8d11d91-748d-4598-a9d5-bd1c371a0b16\")>,\n",
       " <selenium.webdriver.remote.webelement.WebElement (session=\"8ad37eb264425e988a2656f6c0c37e12\", element=\"af913e60-25c1-41ee-a4bf-6289b942ba72\")>,\n",
       " <selenium.webdriver.remote.webelement.WebElement (session=\"8ad37eb264425e988a2656f6c0c37e12\", element=\"dfdf4f04-3ba7-41be-a274-e225ad789731\")>,\n",
       " <selenium.webdriver.remote.webelement.WebElement (session=\"8ad37eb264425e988a2656f6c0c37e12\", element=\"6a40cf0e-0bd6-4a28-b00f-71cfd5afee2b\")>,\n",
       " <selenium.webdriver.remote.webelement.WebElement (session=\"8ad37eb264425e988a2656f6c0c37e12\", element=\"a8a8975f-f403-43d7-abf7-39288163f8ca\")>,\n",
       " <selenium.webdriver.remote.webelement.WebElement (session=\"8ad37eb264425e988a2656f6c0c37e12\", element=\"06f8444e-3868-4a9a-9a4a-836564494143\")>,\n",
       " <selenium.webdriver.remote.webelement.WebElement (session=\"8ad37eb264425e988a2656f6c0c37e12\", element=\"22ca2ca7-d3c6-4ede-955b-b60ed8fa5b67\")>]"
      ]
     },
     "execution_count": 177,
     "metadata": {},
     "output_type": "execute_result"
    }
   ],
   "source": [
    "disc_tag"
   ]
  },
  {
   "cell_type": "code",
   "execution_count": 178,
   "id": "f39467c5",
   "metadata": {},
   "outputs": [],
   "source": [
    "for i in disc_tag:\n",
    "    discription=i.text\n",
    "    glass_discription.append(discription)"
   ]
  },
  {
   "cell_type": "code",
   "execution_count": 179,
   "id": "6f27b088",
   "metadata": {},
   "outputs": [
    {
     "data": {
      "text/plain": [
       "['UV Protection Aviator Sunglasses (58)',\n",
       " 'UV Protection Wayfarer Sunglasses (Free Size)',\n",
       " 'UV Protection Round Sunglasses (54)',\n",
       " 'UV Protection Rectangular Sunglasses (Free Size)',\n",
       " 'UV Protection Aviator Sunglasses (54)',\n",
       " 'UV Protection Aviator Sunglasses (54)',\n",
       " 'UV Protection, Polarized, Mirrored Rectangular Sunglass...',\n",
       " 'UV Protection Wayfarer Sunglasses (Free Size)',\n",
       " 'UV Protection Aviator Sunglasses (57)',\n",
       " 'UV Protection Retro Square Sunglasses (Free Size)',\n",
       " 'UV Protection Retro Square Sunglasses (Free Size)',\n",
       " 'UV Protection Aviator Sunglasses (58)',\n",
       " 'Mirrored, UV Protection Wayfarer Sunglasses (Free Size)',\n",
       " 'Mirrored, UV Protection, Riding Glasses, Others Round S...',\n",
       " 'UV Protection Wayfarer Sunglasses (55)',\n",
       " 'UV Protection Aviator Sunglasses (53)',\n",
       " 'UV Protection Round Sunglasses (Free Size)',\n",
       " 'UV Protection Round Sunglasses (55)',\n",
       " 'Mirrored, UV Protection, Gradient Round Sunglasses (55)',\n",
       " 'UV Protection Wayfarer Sunglasses (57)',\n",
       " 'UV Protection Wayfarer Sunglasses (Free Size)',\n",
       " 'UV Protection Wayfarer Sunglasses (Free Size)',\n",
       " 'UV Protection Aviator Sunglasses (54)',\n",
       " 'Polarized, UV Protection Wayfarer Sunglasses (57)',\n",
       " 'UV Protection, Gradient Rectangular Sunglasses (Free Si...',\n",
       " 'Polarized Round Sunglasses (48)',\n",
       " 'UV Protection, Polarized Aviator Sunglasses (32)',\n",
       " 'UV Protection Wayfarer Sunglasses (Free Size)',\n",
       " 'Mirrored, UV Protection Wayfarer Sunglasses (Free Size)',\n",
       " 'Gradient Aviator Sunglasses (55)',\n",
       " 'UV Protection Round Sunglasses (Free Size)',\n",
       " 'UV Protection Wayfarer Sunglasses (Free Size)',\n",
       " 'UV Protection, Night Vision, Riding Glasses Sports Sung...',\n",
       " 'Mirrored Round Sunglasses (53)',\n",
       " 'UV Protection Aviator Sunglasses (55)',\n",
       " 'by Lenskart Polarized, UV Protection Wayfarer Sunglasse...',\n",
       " 'UV Protection Wayfarer Sunglasses (53)',\n",
       " 'UV Protection, Polarized, Mirrored Wayfarer Sunglasses ...',\n",
       " 'UV Protection Retro Square Sunglasses (Free Size)',\n",
       " 'UV Protection Rectangular Sunglasses (58)']"
      ]
     },
     "execution_count": 179,
     "metadata": {},
     "output_type": "execute_result"
    }
   ],
   "source": [
    "glass_discription"
   ]
  },
  {
   "cell_type": "code",
   "execution_count": 180,
   "id": "82830e0c",
   "metadata": {
    "collapsed": true
   },
   "outputs": [
    {
     "name": "stderr",
     "output_type": "stream",
     "text": [
      "<ipython-input-180-5bbcf77c327c>:1: DeprecationWarning: find_elements_by_* commands are deprecated. Please use find_elements() instead\n",
      "  price_tag=driver.find_elements_by_xpath(\"//div[@class='_30jeq3']\")\n"
     ]
    }
   ],
   "source": [
    "price_tag=driver.find_elements_by_xpath(\"//div[@class='_30jeq3']\")"
   ]
  },
  {
   "cell_type": "code",
   "execution_count": 181,
   "id": "445eb662",
   "metadata": {
    "collapsed": true
   },
   "outputs": [
    {
     "data": {
      "text/plain": [
       "[<selenium.webdriver.remote.webelement.WebElement (session=\"8ad37eb264425e988a2656f6c0c37e12\", element=\"ba47d32a-c95d-4ac8-857e-25fd0a027cbc\")>,\n",
       " <selenium.webdriver.remote.webelement.WebElement (session=\"8ad37eb264425e988a2656f6c0c37e12\", element=\"217e0174-ffd2-400c-b5c0-097ba947f553\")>,\n",
       " <selenium.webdriver.remote.webelement.WebElement (session=\"8ad37eb264425e988a2656f6c0c37e12\", element=\"e58b4016-0833-444a-af6e-b14ef2a3c546\")>,\n",
       " <selenium.webdriver.remote.webelement.WebElement (session=\"8ad37eb264425e988a2656f6c0c37e12\", element=\"c1c2306e-5219-455c-9448-419fe02ff891\")>,\n",
       " <selenium.webdriver.remote.webelement.WebElement (session=\"8ad37eb264425e988a2656f6c0c37e12\", element=\"9b0337f5-4784-4725-9b3f-5a0622ff7984\")>,\n",
       " <selenium.webdriver.remote.webelement.WebElement (session=\"8ad37eb264425e988a2656f6c0c37e12\", element=\"532f3f80-f48a-4150-97ae-d89b391b7340\")>,\n",
       " <selenium.webdriver.remote.webelement.WebElement (session=\"8ad37eb264425e988a2656f6c0c37e12\", element=\"4be5dcbf-5dd3-40bf-8815-6ea8f55bcbf0\")>,\n",
       " <selenium.webdriver.remote.webelement.WebElement (session=\"8ad37eb264425e988a2656f6c0c37e12\", element=\"47d4c62f-417b-437a-b728-746c5b60f981\")>,\n",
       " <selenium.webdriver.remote.webelement.WebElement (session=\"8ad37eb264425e988a2656f6c0c37e12\", element=\"49b61199-2c7d-4d1e-9c20-0587cd919009\")>,\n",
       " <selenium.webdriver.remote.webelement.WebElement (session=\"8ad37eb264425e988a2656f6c0c37e12\", element=\"bfecd81f-b9be-4d2f-8120-7d3e537badbb\")>,\n",
       " <selenium.webdriver.remote.webelement.WebElement (session=\"8ad37eb264425e988a2656f6c0c37e12\", element=\"2684f758-f17b-4898-8c83-d911bee8dc0f\")>,\n",
       " <selenium.webdriver.remote.webelement.WebElement (session=\"8ad37eb264425e988a2656f6c0c37e12\", element=\"d181461f-aa90-40a4-830f-c6aeb57d2d0c\")>,\n",
       " <selenium.webdriver.remote.webelement.WebElement (session=\"8ad37eb264425e988a2656f6c0c37e12\", element=\"4cd73554-46fe-46a5-89c1-bcc8bed7b5b6\")>,\n",
       " <selenium.webdriver.remote.webelement.WebElement (session=\"8ad37eb264425e988a2656f6c0c37e12\", element=\"077326a9-c9b5-48f2-820c-1bd5104f09de\")>,\n",
       " <selenium.webdriver.remote.webelement.WebElement (session=\"8ad37eb264425e988a2656f6c0c37e12\", element=\"b18631ab-0259-41a4-ba95-aa762b4ce7be\")>,\n",
       " <selenium.webdriver.remote.webelement.WebElement (session=\"8ad37eb264425e988a2656f6c0c37e12\", element=\"2807ac79-69cb-4630-9ebc-fd1fc7508efa\")>,\n",
       " <selenium.webdriver.remote.webelement.WebElement (session=\"8ad37eb264425e988a2656f6c0c37e12\", element=\"7ad752fb-4598-4cbe-a589-27eeada1001a\")>,\n",
       " <selenium.webdriver.remote.webelement.WebElement (session=\"8ad37eb264425e988a2656f6c0c37e12\", element=\"ff1eb26d-21f0-4918-bc2f-1e71ad650d72\")>,\n",
       " <selenium.webdriver.remote.webelement.WebElement (session=\"8ad37eb264425e988a2656f6c0c37e12\", element=\"faa42aa9-afea-40a3-bf46-cf61bba3359b\")>,\n",
       " <selenium.webdriver.remote.webelement.WebElement (session=\"8ad37eb264425e988a2656f6c0c37e12\", element=\"d13a5aef-a5d8-4966-970e-97a010e7d4d6\")>,\n",
       " <selenium.webdriver.remote.webelement.WebElement (session=\"8ad37eb264425e988a2656f6c0c37e12\", element=\"16eed148-a811-4077-ae88-eef0962fe410\")>,\n",
       " <selenium.webdriver.remote.webelement.WebElement (session=\"8ad37eb264425e988a2656f6c0c37e12\", element=\"7609977b-9020-47e0-85a3-0af28acf00d4\")>,\n",
       " <selenium.webdriver.remote.webelement.WebElement (session=\"8ad37eb264425e988a2656f6c0c37e12\", element=\"1f7012ea-562d-4bb0-8253-c7f121e118f1\")>,\n",
       " <selenium.webdriver.remote.webelement.WebElement (session=\"8ad37eb264425e988a2656f6c0c37e12\", element=\"23e9cbfe-44f1-4901-96d0-cda3ce055394\")>,\n",
       " <selenium.webdriver.remote.webelement.WebElement (session=\"8ad37eb264425e988a2656f6c0c37e12\", element=\"7515ac46-5c82-40bf-8023-e0488bd157c1\")>,\n",
       " <selenium.webdriver.remote.webelement.WebElement (session=\"8ad37eb264425e988a2656f6c0c37e12\", element=\"27bdbb04-708b-4bb6-a6c3-0afda06b04e2\")>,\n",
       " <selenium.webdriver.remote.webelement.WebElement (session=\"8ad37eb264425e988a2656f6c0c37e12\", element=\"a55c7bb7-ac45-4190-a43a-e2af9409b8b8\")>,\n",
       " <selenium.webdriver.remote.webelement.WebElement (session=\"8ad37eb264425e988a2656f6c0c37e12\", element=\"9af213e9-8082-4de4-9221-bf85694d7a43\")>,\n",
       " <selenium.webdriver.remote.webelement.WebElement (session=\"8ad37eb264425e988a2656f6c0c37e12\", element=\"f01d06ca-2439-48ed-980b-117ff769adec\")>,\n",
       " <selenium.webdriver.remote.webelement.WebElement (session=\"8ad37eb264425e988a2656f6c0c37e12\", element=\"ca5e940f-d733-4833-b91b-91672bee65a1\")>,\n",
       " <selenium.webdriver.remote.webelement.WebElement (session=\"8ad37eb264425e988a2656f6c0c37e12\", element=\"8b374d04-0c74-4f6c-95b7-0e696b421f0d\")>,\n",
       " <selenium.webdriver.remote.webelement.WebElement (session=\"8ad37eb264425e988a2656f6c0c37e12\", element=\"ba16914d-8f83-4f5c-9029-ca6a4f73efc5\")>,\n",
       " <selenium.webdriver.remote.webelement.WebElement (session=\"8ad37eb264425e988a2656f6c0c37e12\", element=\"c6d58180-6f19-4d20-a504-5934fc59c735\")>,\n",
       " <selenium.webdriver.remote.webelement.WebElement (session=\"8ad37eb264425e988a2656f6c0c37e12\", element=\"2719a929-b1ec-427b-895e-494f1c719649\")>,\n",
       " <selenium.webdriver.remote.webelement.WebElement (session=\"8ad37eb264425e988a2656f6c0c37e12\", element=\"dfd37782-2d70-481d-98f4-f764df87ac08\")>,\n",
       " <selenium.webdriver.remote.webelement.WebElement (session=\"8ad37eb264425e988a2656f6c0c37e12\", element=\"3aec317b-81dd-4e78-86e3-5ab726d30362\")>,\n",
       " <selenium.webdriver.remote.webelement.WebElement (session=\"8ad37eb264425e988a2656f6c0c37e12\", element=\"0376f47d-9556-4563-b6c5-457638f24a99\")>,\n",
       " <selenium.webdriver.remote.webelement.WebElement (session=\"8ad37eb264425e988a2656f6c0c37e12\", element=\"e0aa6bab-9286-45f5-972f-d4bf967e2e6f\")>,\n",
       " <selenium.webdriver.remote.webelement.WebElement (session=\"8ad37eb264425e988a2656f6c0c37e12\", element=\"d0b41e9f-bf6c-47a1-85ba-8e514c885378\")>,\n",
       " <selenium.webdriver.remote.webelement.WebElement (session=\"8ad37eb264425e988a2656f6c0c37e12\", element=\"b9d391e7-04b8-4d23-990f-29be1ec6e0ae\")>]"
      ]
     },
     "execution_count": 181,
     "metadata": {},
     "output_type": "execute_result"
    }
   ],
   "source": [
    "price_tag"
   ]
  },
  {
   "cell_type": "code",
   "execution_count": 182,
   "id": "0745e19e",
   "metadata": {},
   "outputs": [],
   "source": [
    "for i in price_tag:\n",
    "    price=i.text\n",
    "    glass_price.append(price)"
   ]
  },
  {
   "cell_type": "code",
   "execution_count": 183,
   "id": "4ff429be",
   "metadata": {},
   "outputs": [
    {
     "data": {
      "text/plain": [
       "['₹1,085',\n",
       " '₹758',\n",
       " '₹264',\n",
       " '₹513',\n",
       " '₹200',\n",
       " '₹200',\n",
       " '₹177',\n",
       " '₹733',\n",
       " '₹236',\n",
       " '₹329',\n",
       " '₹499',\n",
       " '₹1,059',\n",
       " '₹259',\n",
       " '₹269',\n",
       " '₹231',\n",
       " '₹999',\n",
       " '₹296',\n",
       " '₹239',\n",
       " '₹189',\n",
       " '₹503',\n",
       " '₹758',\n",
       " '₹246',\n",
       " '₹200',\n",
       " '₹999',\n",
       " '₹349',\n",
       " '₹179',\n",
       " '₹175',\n",
       " '₹822',\n",
       " '₹259',\n",
       " '₹196',\n",
       " '₹217',\n",
       " '₹689',\n",
       " '₹270',\n",
       " '₹263',\n",
       " '₹294',\n",
       " '₹999',\n",
       " '₹220',\n",
       " '₹215',\n",
       " '₹329',\n",
       " '₹449']"
      ]
     },
     "execution_count": 183,
     "metadata": {},
     "output_type": "execute_result"
    }
   ],
   "source": [
    "glass_price"
   ]
  },
  {
   "cell_type": "code",
   "execution_count": 184,
   "id": "12c3f2cc",
   "metadata": {
    "collapsed": true
   },
   "outputs": [
    {
     "name": "stderr",
     "output_type": "stream",
     "text": [
      "<ipython-input-184-99b960afd9ca>:1: DeprecationWarning: find_elements_by_* commands are deprecated. Please use find_elements() instead\n",
      "  offer_tag=driver.find_elements_by_xpath(\"//div[@class='_2Tpdn3 _18hQoS']\")\n"
     ]
    },
    {
     "data": {
      "text/plain": [
       "[<selenium.webdriver.remote.webelement.WebElement (session=\"8ad37eb264425e988a2656f6c0c37e12\", element=\"573fa077-286f-463a-84cb-f3fc38f0159d\")>,\n",
       " <selenium.webdriver.remote.webelement.WebElement (session=\"8ad37eb264425e988a2656f6c0c37e12\", element=\"257a9bba-ad91-4e07-8c67-52b14cb9d7ed\")>,\n",
       " <selenium.webdriver.remote.webelement.WebElement (session=\"8ad37eb264425e988a2656f6c0c37e12\", element=\"07c9efc5-f8f6-4a18-bb39-04b93a6c507d\")>,\n",
       " <selenium.webdriver.remote.webelement.WebElement (session=\"8ad37eb264425e988a2656f6c0c37e12\", element=\"e7d57c96-09ab-4f3d-bf30-54d0d8792c34\")>,\n",
       " <selenium.webdriver.remote.webelement.WebElement (session=\"8ad37eb264425e988a2656f6c0c37e12\", element=\"05f8b9c5-726c-4aa8-ab47-afd761884677\")>,\n",
       " <selenium.webdriver.remote.webelement.WebElement (session=\"8ad37eb264425e988a2656f6c0c37e12\", element=\"8f3b40f8-ccbc-4321-86ff-65ad0431df5b\")>,\n",
       " <selenium.webdriver.remote.webelement.WebElement (session=\"8ad37eb264425e988a2656f6c0c37e12\", element=\"b5dfc79a-d30e-4faa-a384-25ffceb549d4\")>,\n",
       " <selenium.webdriver.remote.webelement.WebElement (session=\"8ad37eb264425e988a2656f6c0c37e12\", element=\"334ae26c-7a5f-4cb8-80af-2ed1d8f143ce\")>,\n",
       " <selenium.webdriver.remote.webelement.WebElement (session=\"8ad37eb264425e988a2656f6c0c37e12\", element=\"f8651db3-03cf-4131-9aa2-56f5f8b2ef50\")>,\n",
       " <selenium.webdriver.remote.webelement.WebElement (session=\"8ad37eb264425e988a2656f6c0c37e12\", element=\"2fe2c362-055f-45c1-b581-14edf0191b5e\")>,\n",
       " <selenium.webdriver.remote.webelement.WebElement (session=\"8ad37eb264425e988a2656f6c0c37e12\", element=\"5fa8f4c6-f3e6-4b33-9413-aa42b8291f5f\")>,\n",
       " <selenium.webdriver.remote.webelement.WebElement (session=\"8ad37eb264425e988a2656f6c0c37e12\", element=\"e50a1cb3-6d5b-44d1-baf7-28c544f556b9\")>,\n",
       " <selenium.webdriver.remote.webelement.WebElement (session=\"8ad37eb264425e988a2656f6c0c37e12\", element=\"c549eb3c-298c-4d13-914b-f622e95260bc\")>,\n",
       " <selenium.webdriver.remote.webelement.WebElement (session=\"8ad37eb264425e988a2656f6c0c37e12\", element=\"5a1d9a48-6d88-46f8-acd1-6f5ab2a37249\")>,\n",
       " <selenium.webdriver.remote.webelement.WebElement (session=\"8ad37eb264425e988a2656f6c0c37e12\", element=\"ae11117d-b83b-4eae-aa86-60deb749ee4c\")>,\n",
       " <selenium.webdriver.remote.webelement.WebElement (session=\"8ad37eb264425e988a2656f6c0c37e12\", element=\"acebddfa-8a32-42eb-9df8-597a84730824\")>,\n",
       " <selenium.webdriver.remote.webelement.WebElement (session=\"8ad37eb264425e988a2656f6c0c37e12\", element=\"5ff71f29-d4ee-43fc-8ed4-62420e315918\")>,\n",
       " <selenium.webdriver.remote.webelement.WebElement (session=\"8ad37eb264425e988a2656f6c0c37e12\", element=\"74510a80-aaeb-488e-8ee8-b97888082152\")>,\n",
       " <selenium.webdriver.remote.webelement.WebElement (session=\"8ad37eb264425e988a2656f6c0c37e12\", element=\"4c031f50-06ba-4313-99e5-5de847dbdd45\")>,\n",
       " <selenium.webdriver.remote.webelement.WebElement (session=\"8ad37eb264425e988a2656f6c0c37e12\", element=\"8ab3fdff-b8fd-4457-8bec-3dea5b7b3b8c\")>,\n",
       " <selenium.webdriver.remote.webelement.WebElement (session=\"8ad37eb264425e988a2656f6c0c37e12\", element=\"69538e9e-2c8d-485c-8448-31949057f33a\")>,\n",
       " <selenium.webdriver.remote.webelement.WebElement (session=\"8ad37eb264425e988a2656f6c0c37e12\", element=\"5b388e8e-2317-41c8-9e1f-25e34b928b80\")>,\n",
       " <selenium.webdriver.remote.webelement.WebElement (session=\"8ad37eb264425e988a2656f6c0c37e12\", element=\"4e761023-82d6-4cbf-af4c-00ce3f38fe40\")>,\n",
       " <selenium.webdriver.remote.webelement.WebElement (session=\"8ad37eb264425e988a2656f6c0c37e12\", element=\"cf60bf3b-84dd-4260-bfdd-9fa089ea6278\")>,\n",
       " <selenium.webdriver.remote.webelement.WebElement (session=\"8ad37eb264425e988a2656f6c0c37e12\", element=\"9cf586a4-e631-4671-8631-d5f34f8db29d\")>,\n",
       " <selenium.webdriver.remote.webelement.WebElement (session=\"8ad37eb264425e988a2656f6c0c37e12\", element=\"86668c89-3005-44a5-8354-862587ee156f\")>,\n",
       " <selenium.webdriver.remote.webelement.WebElement (session=\"8ad37eb264425e988a2656f6c0c37e12\", element=\"99eb0b7b-a13a-446a-ae5a-6f4968517869\")>,\n",
       " <selenium.webdriver.remote.webelement.WebElement (session=\"8ad37eb264425e988a2656f6c0c37e12\", element=\"47249209-0faa-45d0-94b3-254edcc4e4db\")>,\n",
       " <selenium.webdriver.remote.webelement.WebElement (session=\"8ad37eb264425e988a2656f6c0c37e12\", element=\"b445f640-1a8f-4c7c-a384-5e5c496a507d\")>]"
      ]
     },
     "execution_count": 184,
     "metadata": {},
     "output_type": "execute_result"
    }
   ],
   "source": [
    "offer_tag=driver.find_elements_by_xpath(\"//div[@class='_2Tpdn3 _18hQoS']\")\n",
    "offer_tag"
   ]
  },
  {
   "cell_type": "code",
   "execution_count": 185,
   "id": "684e03c6",
   "metadata": {},
   "outputs": [],
   "source": [
    "for i in offer_tag:\n",
    "    offer=i.text\n",
    "    glass_offer.append(offer)"
   ]
  },
  {
   "cell_type": "code",
   "execution_count": 186,
   "id": "81c209a4",
   "metadata": {},
   "outputs": [
    {
     "data": {
      "text/plain": [
       "['Buy 2 items, save extra 5%',\n",
       " 'Buy 2 items, save extra 5%',\n",
       " 'Deal of the Day',\n",
       " 'Buy 2 items, save extra 5%',\n",
       " 'Deal of the Day',\n",
       " 'Deal of the Day',\n",
       " 'Limited Time Deal',\n",
       " 'Buy 2 items, save extra 5%',\n",
       " 'Deal of the Day',\n",
       " 'Buy 2 items, save extra 5%',\n",
       " 'Deal of the Day',\n",
       " 'Limited Time Deal',\n",
       " 'Deal of the Day',\n",
       " 'Deal of the Day',\n",
       " 'Buy 2 items, save extra 5%',\n",
       " 'Buy 2 items, save extra 5%',\n",
       " 'Deal of the Day',\n",
       " 'Deal of the Day',\n",
       " 'Deal of the Day',\n",
       " 'Buy 2 items, save extra 5%',\n",
       " 'Deal of the Day',\n",
       " 'Deal of the Day',\n",
       " 'Buy 2 items, save extra 5%',\n",
       " 'Deal of the Day',\n",
       " 'Deal of the Day',\n",
       " 'Deal of the Day',\n",
       " 'Deal of the Day',\n",
       " 'Lowest price since launch',\n",
       " 'Deal of the Day']"
      ]
     },
     "execution_count": 186,
     "metadata": {},
     "output_type": "execute_result"
    }
   ],
   "source": [
    "glass_offer"
   ]
  },
  {
   "cell_type": "code",
   "execution_count": 190,
   "id": "1999d075",
   "metadata": {
    "collapsed": true
   },
   "outputs": [
    {
     "name": "stderr",
     "output_type": "stream",
     "text": [
      "<ipython-input-190-03cd38b6c586>:1: DeprecationWarning: find_element_by_* commands are deprecated. Please use find_element() instead\n",
      "  next_btn=driver.find_element_by_xpath(\"//span[@class='_22Tduf']\")\n"
     ]
    },
    {
     "ename": "ElementNotInteractableException",
     "evalue": "Message: element not interactable\n  (Session info: chrome=95.0.4638.69)\nStacktrace:\n0   chromedriver                        0x000000010130b89c __gxx_personality_v0 + 538736\n1   chromedriver                        0x00000001012a1b64 __gxx_personality_v0 + 105272\n2   chromedriver                        0x0000000100eaa9a0 chromedriver + 158112\n3   chromedriver                        0x0000000100edaf00 chromedriver + 356096\n4   chromedriver                        0x0000000100ed0c14 chromedriver + 314388\n5   chromedriver                        0x0000000100ed0a14 chromedriver + 313876\n6   chromedriver                        0x0000000100f0338c chromedriver + 521100\n7   chromedriver                        0x0000000100ecf4d8 chromedriver + 308440\n8   chromedriver                        0x00000001012ceca0 __gxx_personality_v0 + 289908\n9   chromedriver                        0x00000001012e2dc8 __gxx_personality_v0 + 372124\n10  chromedriver                        0x00000001012e794c __gxx_personality_v0 + 391456\n11  chromedriver                        0x00000001012e3d04 __gxx_personality_v0 + 376024\n12  chromedriver                        0x00000001012c4c88 __gxx_personality_v0 + 248924\n13  chromedriver                        0x00000001012fcbd0 __gxx_personality_v0 + 478116\n14  chromedriver                        0x00000001012fcd44 __gxx_personality_v0 + 478488\n15  chromedriver                        0x0000000101312458 __gxx_personality_v0 + 566316\n16  libsystem_pthread.dylib             0x00000001931df878 _pthread_start + 320\n17  libsystem_pthread.dylib             0x00000001931da5e0 thread_start + 8\n",
     "output_type": "error",
     "traceback": [
      "\u001b[0;31m---------------------------------------------------------------------------\u001b[0m",
      "\u001b[0;31mElementNotInteractableException\u001b[0m           Traceback (most recent call last)",
      "\u001b[0;32m<ipython-input-190-03cd38b6c586>\u001b[0m in \u001b[0;36m<module>\u001b[0;34m\u001b[0m\n\u001b[1;32m      1\u001b[0m \u001b[0mnext_btn\u001b[0m\u001b[0;34m=\u001b[0m\u001b[0mdriver\u001b[0m\u001b[0;34m.\u001b[0m\u001b[0mfind_element_by_xpath\u001b[0m\u001b[0;34m(\u001b[0m\u001b[0;34m\"//span[@class='_22Tduf']\"\u001b[0m\u001b[0;34m)\u001b[0m\u001b[0;34m\u001b[0m\u001b[0;34m\u001b[0m\u001b[0m\n\u001b[1;32m      2\u001b[0m \u001b[0;34m\u001b[0m\u001b[0m\n\u001b[0;32m----> 3\u001b[0;31m \u001b[0mnext_btn\u001b[0m\u001b[0;34m.\u001b[0m\u001b[0mclick\u001b[0m\u001b[0;34m(\u001b[0m\u001b[0;34m)\u001b[0m\u001b[0;34m\u001b[0m\u001b[0;34m\u001b[0m\u001b[0m\n\u001b[0m",
      "\u001b[0;32m~/opt/anaconda3/lib/python3.8/site-packages/selenium/webdriver/remote/webelement.py\u001b[0m in \u001b[0;36mclick\u001b[0;34m(self)\u001b[0m\n\u001b[1;32m     78\u001b[0m     \u001b[0;32mdef\u001b[0m \u001b[0mclick\u001b[0m\u001b[0;34m(\u001b[0m\u001b[0mself\u001b[0m\u001b[0;34m)\u001b[0m \u001b[0;34m->\u001b[0m \u001b[0;32mNone\u001b[0m\u001b[0;34m:\u001b[0m\u001b[0;34m\u001b[0m\u001b[0;34m\u001b[0m\u001b[0m\n\u001b[1;32m     79\u001b[0m         \u001b[0;34m\"\"\"Clicks the element.\"\"\"\u001b[0m\u001b[0;34m\u001b[0m\u001b[0;34m\u001b[0m\u001b[0m\n\u001b[0;32m---> 80\u001b[0;31m         \u001b[0mself\u001b[0m\u001b[0;34m.\u001b[0m\u001b[0m_execute\u001b[0m\u001b[0;34m(\u001b[0m\u001b[0mCommand\u001b[0m\u001b[0;34m.\u001b[0m\u001b[0mCLICK_ELEMENT\u001b[0m\u001b[0;34m)\u001b[0m\u001b[0;34m\u001b[0m\u001b[0;34m\u001b[0m\u001b[0m\n\u001b[0m\u001b[1;32m     81\u001b[0m \u001b[0;34m\u001b[0m\u001b[0m\n\u001b[1;32m     82\u001b[0m     \u001b[0;32mdef\u001b[0m \u001b[0msubmit\u001b[0m\u001b[0;34m(\u001b[0m\u001b[0mself\u001b[0m\u001b[0;34m)\u001b[0m\u001b[0;34m:\u001b[0m\u001b[0;34m\u001b[0m\u001b[0;34m\u001b[0m\u001b[0m\n",
      "\u001b[0;32m~/opt/anaconda3/lib/python3.8/site-packages/selenium/webdriver/remote/webelement.py\u001b[0m in \u001b[0;36m_execute\u001b[0;34m(self, command, params)\u001b[0m\n\u001b[1;32m    691\u001b[0m             \u001b[0mparams\u001b[0m \u001b[0;34m=\u001b[0m \u001b[0;34m{\u001b[0m\u001b[0;34m}\u001b[0m\u001b[0;34m\u001b[0m\u001b[0;34m\u001b[0m\u001b[0m\n\u001b[1;32m    692\u001b[0m         \u001b[0mparams\u001b[0m\u001b[0;34m[\u001b[0m\u001b[0;34m'id'\u001b[0m\u001b[0;34m]\u001b[0m \u001b[0;34m=\u001b[0m \u001b[0mself\u001b[0m\u001b[0;34m.\u001b[0m\u001b[0m_id\u001b[0m\u001b[0;34m\u001b[0m\u001b[0;34m\u001b[0m\u001b[0m\n\u001b[0;32m--> 693\u001b[0;31m         \u001b[0;32mreturn\u001b[0m \u001b[0mself\u001b[0m\u001b[0;34m.\u001b[0m\u001b[0m_parent\u001b[0m\u001b[0;34m.\u001b[0m\u001b[0mexecute\u001b[0m\u001b[0;34m(\u001b[0m\u001b[0mcommand\u001b[0m\u001b[0;34m,\u001b[0m \u001b[0mparams\u001b[0m\u001b[0;34m)\u001b[0m\u001b[0;34m\u001b[0m\u001b[0;34m\u001b[0m\u001b[0m\n\u001b[0m\u001b[1;32m    694\u001b[0m \u001b[0;34m\u001b[0m\u001b[0m\n\u001b[1;32m    695\u001b[0m     \u001b[0;32mdef\u001b[0m \u001b[0mfind_element\u001b[0m\u001b[0;34m(\u001b[0m\u001b[0mself\u001b[0m\u001b[0;34m,\u001b[0m \u001b[0mby\u001b[0m\u001b[0;34m=\u001b[0m\u001b[0mBy\u001b[0m\u001b[0;34m.\u001b[0m\u001b[0mID\u001b[0m\u001b[0;34m,\u001b[0m \u001b[0mvalue\u001b[0m\u001b[0;34m=\u001b[0m\u001b[0;32mNone\u001b[0m\u001b[0;34m)\u001b[0m\u001b[0;34m:\u001b[0m\u001b[0;34m\u001b[0m\u001b[0;34m\u001b[0m\u001b[0m\n",
      "\u001b[0;32m~/opt/anaconda3/lib/python3.8/site-packages/selenium/webdriver/remote/webdriver.py\u001b[0m in \u001b[0;36mexecute\u001b[0;34m(self, driver_command, params)\u001b[0m\n\u001b[1;32m    416\u001b[0m         \u001b[0mresponse\u001b[0m \u001b[0;34m=\u001b[0m \u001b[0mself\u001b[0m\u001b[0;34m.\u001b[0m\u001b[0mcommand_executor\u001b[0m\u001b[0;34m.\u001b[0m\u001b[0mexecute\u001b[0m\u001b[0;34m(\u001b[0m\u001b[0mdriver_command\u001b[0m\u001b[0;34m,\u001b[0m \u001b[0mparams\u001b[0m\u001b[0;34m)\u001b[0m\u001b[0;34m\u001b[0m\u001b[0;34m\u001b[0m\u001b[0m\n\u001b[1;32m    417\u001b[0m         \u001b[0;32mif\u001b[0m \u001b[0mresponse\u001b[0m\u001b[0;34m:\u001b[0m\u001b[0;34m\u001b[0m\u001b[0;34m\u001b[0m\u001b[0m\n\u001b[0;32m--> 418\u001b[0;31m             \u001b[0mself\u001b[0m\u001b[0;34m.\u001b[0m\u001b[0merror_handler\u001b[0m\u001b[0;34m.\u001b[0m\u001b[0mcheck_response\u001b[0m\u001b[0;34m(\u001b[0m\u001b[0mresponse\u001b[0m\u001b[0;34m)\u001b[0m\u001b[0;34m\u001b[0m\u001b[0;34m\u001b[0m\u001b[0m\n\u001b[0m\u001b[1;32m    419\u001b[0m             response['value'] = self._unwrap_value(\n\u001b[1;32m    420\u001b[0m                 response.get('value', None))\n",
      "\u001b[0;32m~/opt/anaconda3/lib/python3.8/site-packages/selenium/webdriver/remote/errorhandler.py\u001b[0m in \u001b[0;36mcheck_response\u001b[0;34m(self, response)\u001b[0m\n\u001b[1;32m    241\u001b[0m                 \u001b[0malert_text\u001b[0m \u001b[0;34m=\u001b[0m \u001b[0mvalue\u001b[0m\u001b[0;34m[\u001b[0m\u001b[0;34m'alert'\u001b[0m\u001b[0;34m]\u001b[0m\u001b[0;34m.\u001b[0m\u001b[0mget\u001b[0m\u001b[0;34m(\u001b[0m\u001b[0;34m'text'\u001b[0m\u001b[0;34m)\u001b[0m\u001b[0;34m\u001b[0m\u001b[0;34m\u001b[0m\u001b[0m\n\u001b[1;32m    242\u001b[0m             \u001b[0;32mraise\u001b[0m \u001b[0mexception_class\u001b[0m\u001b[0;34m(\u001b[0m\u001b[0mmessage\u001b[0m\u001b[0;34m,\u001b[0m \u001b[0mscreen\u001b[0m\u001b[0;34m,\u001b[0m \u001b[0mstacktrace\u001b[0m\u001b[0;34m,\u001b[0m \u001b[0malert_text\u001b[0m\u001b[0;34m)\u001b[0m  \u001b[0;31m# type: ignore[call-arg]  # mypy is not smart enough here\u001b[0m\u001b[0;34m\u001b[0m\u001b[0;34m\u001b[0m\u001b[0m\n\u001b[0;32m--> 243\u001b[0;31m         \u001b[0;32mraise\u001b[0m \u001b[0mexception_class\u001b[0m\u001b[0;34m(\u001b[0m\u001b[0mmessage\u001b[0m\u001b[0;34m,\u001b[0m \u001b[0mscreen\u001b[0m\u001b[0;34m,\u001b[0m \u001b[0mstacktrace\u001b[0m\u001b[0;34m)\u001b[0m\u001b[0;34m\u001b[0m\u001b[0;34m\u001b[0m\u001b[0m\n\u001b[0m\u001b[1;32m    244\u001b[0m \u001b[0;34m\u001b[0m\u001b[0m\n\u001b[1;32m    245\u001b[0m     \u001b[0;32mdef\u001b[0m \u001b[0m_value_or_default\u001b[0m\u001b[0;34m(\u001b[0m\u001b[0mself\u001b[0m\u001b[0;34m,\u001b[0m \u001b[0mobj\u001b[0m\u001b[0;34m:\u001b[0m \u001b[0mMapping\u001b[0m\u001b[0;34m[\u001b[0m\u001b[0m_KT\u001b[0m\u001b[0;34m,\u001b[0m \u001b[0m_VT\u001b[0m\u001b[0;34m]\u001b[0m\u001b[0;34m,\u001b[0m \u001b[0mkey\u001b[0m\u001b[0;34m:\u001b[0m \u001b[0m_KT\u001b[0m\u001b[0;34m,\u001b[0m \u001b[0mdefault\u001b[0m\u001b[0;34m:\u001b[0m \u001b[0m_VT\u001b[0m\u001b[0;34m)\u001b[0m \u001b[0;34m->\u001b[0m \u001b[0m_VT\u001b[0m\u001b[0;34m:\u001b[0m\u001b[0;34m\u001b[0m\u001b[0;34m\u001b[0m\u001b[0m\n",
      "\u001b[0;31mElementNotInteractableException\u001b[0m: Message: element not interactable\n  (Session info: chrome=95.0.4638.69)\nStacktrace:\n0   chromedriver                        0x000000010130b89c __gxx_personality_v0 + 538736\n1   chromedriver                        0x00000001012a1b64 __gxx_personality_v0 + 105272\n2   chromedriver                        0x0000000100eaa9a0 chromedriver + 158112\n3   chromedriver                        0x0000000100edaf00 chromedriver + 356096\n4   chromedriver                        0x0000000100ed0c14 chromedriver + 314388\n5   chromedriver                        0x0000000100ed0a14 chromedriver + 313876\n6   chromedriver                        0x0000000100f0338c chromedriver + 521100\n7   chromedriver                        0x0000000100ecf4d8 chromedriver + 308440\n8   chromedriver                        0x00000001012ceca0 __gxx_personality_v0 + 289908\n9   chromedriver                        0x00000001012e2dc8 __gxx_personality_v0 + 372124\n10  chromedriver                        0x00000001012e794c __gxx_personality_v0 + 391456\n11  chromedriver                        0x00000001012e3d04 __gxx_personality_v0 + 376024\n12  chromedriver                        0x00000001012c4c88 __gxx_personality_v0 + 248924\n13  chromedriver                        0x00000001012fcbd0 __gxx_personality_v0 + 478116\n14  chromedriver                        0x00000001012fcd44 __gxx_personality_v0 + 478488\n15  chromedriver                        0x0000000101312458 __gxx_personality_v0 + 566316\n16  libsystem_pthread.dylib             0x00000001931df878 _pthread_start + 320\n17  libsystem_pthread.dylib             0x00000001931da5e0 thread_start + 8\n"
     ]
    }
   ],
   "source": [
    "next_btn=driver.find_element_by_xpath(\"//span[@class='_22Tduf']\"\n",
    "next_btn.click()                                     "
   ]
  },
  {
   "cell_type": "code",
   "execution_count": 196,
   "id": "15849036",
   "metadata": {
    "collapsed": true
   },
   "outputs": [
    {
     "name": "stderr",
     "output_type": "stream",
     "text": [
      "<ipython-input-196-56ea73025029>:1: DeprecationWarning: find_elements_by_* commands are deprecated. Please use find_elements() instead\n",
      "  brand_tag2=driver.find_elements_by_xpath(\"//div[@class='_2WkVRV']\")\n"
     ]
    }
   ],
   "source": [
    "brand_tag2=driver.find_elements_by_xpath(\"//div[@class='_2WkVRV']\")"
   ]
  },
  {
   "cell_type": "code",
   "execution_count": 197,
   "id": "18b338e5",
   "metadata": {
    "collapsed": true
   },
   "outputs": [
    {
     "data": {
      "text/plain": [
       "[<selenium.webdriver.remote.webelement.WebElement (session=\"8ad37eb264425e988a2656f6c0c37e12\", element=\"97758f6f-9060-4065-9162-8e7fbd185076\")>,\n",
       " <selenium.webdriver.remote.webelement.WebElement (session=\"8ad37eb264425e988a2656f6c0c37e12\", element=\"b231cbb8-8bc9-4d28-88cf-3f1141c75802\")>,\n",
       " <selenium.webdriver.remote.webelement.WebElement (session=\"8ad37eb264425e988a2656f6c0c37e12\", element=\"ae101d30-fef3-422e-9de9-a25d72346858\")>,\n",
       " <selenium.webdriver.remote.webelement.WebElement (session=\"8ad37eb264425e988a2656f6c0c37e12\", element=\"58160a3c-fb99-4496-83a7-42b7543b25e7\")>,\n",
       " <selenium.webdriver.remote.webelement.WebElement (session=\"8ad37eb264425e988a2656f6c0c37e12\", element=\"fb00183f-50e4-4def-8ed1-3ef10c17dcdb\")>,\n",
       " <selenium.webdriver.remote.webelement.WebElement (session=\"8ad37eb264425e988a2656f6c0c37e12\", element=\"68aa72c0-d3eb-478a-a99f-3c68b277ea88\")>,\n",
       " <selenium.webdriver.remote.webelement.WebElement (session=\"8ad37eb264425e988a2656f6c0c37e12\", element=\"196ffa1a-179b-4d9d-bcdf-0da5b83ddbe1\")>,\n",
       " <selenium.webdriver.remote.webelement.WebElement (session=\"8ad37eb264425e988a2656f6c0c37e12\", element=\"c6317f0f-8cf0-4370-831f-8a1297d43dfe\")>,\n",
       " <selenium.webdriver.remote.webelement.WebElement (session=\"8ad37eb264425e988a2656f6c0c37e12\", element=\"7767bd78-894a-4f10-b8fb-d4ba85d1c078\")>,\n",
       " <selenium.webdriver.remote.webelement.WebElement (session=\"8ad37eb264425e988a2656f6c0c37e12\", element=\"84202b20-7495-40f2-859b-cb5216957f86\")>,\n",
       " <selenium.webdriver.remote.webelement.WebElement (session=\"8ad37eb264425e988a2656f6c0c37e12\", element=\"fa437c48-c0dd-4855-a352-8255dcdafe9b\")>,\n",
       " <selenium.webdriver.remote.webelement.WebElement (session=\"8ad37eb264425e988a2656f6c0c37e12\", element=\"1141e561-481e-4d93-b91f-f6c8d0aea0fc\")>,\n",
       " <selenium.webdriver.remote.webelement.WebElement (session=\"8ad37eb264425e988a2656f6c0c37e12\", element=\"36822058-3c63-4114-adcc-cc3d9d90d928\")>,\n",
       " <selenium.webdriver.remote.webelement.WebElement (session=\"8ad37eb264425e988a2656f6c0c37e12\", element=\"ea57ae2f-0ac3-420e-b542-a9ebfde705d7\")>,\n",
       " <selenium.webdriver.remote.webelement.WebElement (session=\"8ad37eb264425e988a2656f6c0c37e12\", element=\"755dcf87-0764-413f-a0f8-f82009367783\")>,\n",
       " <selenium.webdriver.remote.webelement.WebElement (session=\"8ad37eb264425e988a2656f6c0c37e12\", element=\"842da4fc-769a-476c-92a0-eb3d5365df75\")>,\n",
       " <selenium.webdriver.remote.webelement.WebElement (session=\"8ad37eb264425e988a2656f6c0c37e12\", element=\"873d9554-33e1-4a8a-bd80-d7883970dea5\")>,\n",
       " <selenium.webdriver.remote.webelement.WebElement (session=\"8ad37eb264425e988a2656f6c0c37e12\", element=\"2836bf4f-a514-435f-b473-478bef319b8f\")>,\n",
       " <selenium.webdriver.remote.webelement.WebElement (session=\"8ad37eb264425e988a2656f6c0c37e12\", element=\"535e8ee0-69b1-4b18-9340-2f794015f79a\")>,\n",
       " <selenium.webdriver.remote.webelement.WebElement (session=\"8ad37eb264425e988a2656f6c0c37e12\", element=\"d90ff10b-664e-4cb7-8975-da031722d662\")>,\n",
       " <selenium.webdriver.remote.webelement.WebElement (session=\"8ad37eb264425e988a2656f6c0c37e12\", element=\"96632435-a613-40e3-aa10-93bc231baab7\")>,\n",
       " <selenium.webdriver.remote.webelement.WebElement (session=\"8ad37eb264425e988a2656f6c0c37e12\", element=\"947c0766-87a6-439f-8653-cdeb9b57af78\")>,\n",
       " <selenium.webdriver.remote.webelement.WebElement (session=\"8ad37eb264425e988a2656f6c0c37e12\", element=\"617ba92c-b314-409d-80a7-ab2d20915c9f\")>,\n",
       " <selenium.webdriver.remote.webelement.WebElement (session=\"8ad37eb264425e988a2656f6c0c37e12\", element=\"34a5c5f2-eab8-4c13-bdb7-77378b42d0b5\")>,\n",
       " <selenium.webdriver.remote.webelement.WebElement (session=\"8ad37eb264425e988a2656f6c0c37e12\", element=\"6021af46-80d5-4964-bd90-69d321a4917d\")>,\n",
       " <selenium.webdriver.remote.webelement.WebElement (session=\"8ad37eb264425e988a2656f6c0c37e12\", element=\"611e6712-481c-4135-a494-4d209c694b0d\")>,\n",
       " <selenium.webdriver.remote.webelement.WebElement (session=\"8ad37eb264425e988a2656f6c0c37e12\", element=\"fdd23f74-eeb2-47b7-94e1-4c9682956fc2\")>,\n",
       " <selenium.webdriver.remote.webelement.WebElement (session=\"8ad37eb264425e988a2656f6c0c37e12\", element=\"a5dab63d-cc60-40a5-8f81-bb67da72f8c3\")>,\n",
       " <selenium.webdriver.remote.webelement.WebElement (session=\"8ad37eb264425e988a2656f6c0c37e12\", element=\"7f63fbe5-5fb1-4f6f-b3e1-d0726f62c53b\")>,\n",
       " <selenium.webdriver.remote.webelement.WebElement (session=\"8ad37eb264425e988a2656f6c0c37e12\", element=\"84dd9b53-c946-4813-b433-c2223193c035\")>,\n",
       " <selenium.webdriver.remote.webelement.WebElement (session=\"8ad37eb264425e988a2656f6c0c37e12\", element=\"2bb8526c-1668-4735-9069-c072867eadc6\")>,\n",
       " <selenium.webdriver.remote.webelement.WebElement (session=\"8ad37eb264425e988a2656f6c0c37e12\", element=\"9ac07b44-0ae6-4be5-92a9-00b7c6a38242\")>,\n",
       " <selenium.webdriver.remote.webelement.WebElement (session=\"8ad37eb264425e988a2656f6c0c37e12\", element=\"63a904cd-33e2-4e54-a543-cba89b621666\")>,\n",
       " <selenium.webdriver.remote.webelement.WebElement (session=\"8ad37eb264425e988a2656f6c0c37e12\", element=\"8163b145-e601-4b47-bdb4-5fa42763646d\")>,\n",
       " <selenium.webdriver.remote.webelement.WebElement (session=\"8ad37eb264425e988a2656f6c0c37e12\", element=\"b8352c5f-eb56-44f1-b8f7-c2ab5b22a3e9\")>,\n",
       " <selenium.webdriver.remote.webelement.WebElement (session=\"8ad37eb264425e988a2656f6c0c37e12\", element=\"58271cfe-24fd-436c-ad1d-6ed08e5968be\")>,\n",
       " <selenium.webdriver.remote.webelement.WebElement (session=\"8ad37eb264425e988a2656f6c0c37e12\", element=\"f114ba1f-3252-4244-99c2-ae5942d43108\")>,\n",
       " <selenium.webdriver.remote.webelement.WebElement (session=\"8ad37eb264425e988a2656f6c0c37e12\", element=\"c29ce2a8-ac8f-40f1-a971-de1bf00c4a6f\")>,\n",
       " <selenium.webdriver.remote.webelement.WebElement (session=\"8ad37eb264425e988a2656f6c0c37e12\", element=\"5f79936c-f1b8-49fe-96c0-1db5fa14e853\")>,\n",
       " <selenium.webdriver.remote.webelement.WebElement (session=\"8ad37eb264425e988a2656f6c0c37e12\", element=\"bd63322b-386e-477f-a00c-0869c1b098e8\")>]"
      ]
     },
     "execution_count": 197,
     "metadata": {},
     "output_type": "execute_result"
    }
   ],
   "source": [
    "brand_tag2"
   ]
  },
  {
   "cell_type": "code",
   "execution_count": 198,
   "id": "4b899f45",
   "metadata": {},
   "outputs": [],
   "source": [
    "for j in brand_tag2:\n",
    "    brand2=j.text\n",
    "    glass_brand.append(brand2)"
   ]
  },
  {
   "cell_type": "code",
   "execution_count": 201,
   "id": "f3b9fca5",
   "metadata": {},
   "outputs": [
    {
     "data": {
      "text/plain": [
       "['Fastrack',\n",
       " 'Fastrack',\n",
       " 'Elligator',\n",
       " 'Fastrack',\n",
       " 'PIRASO',\n",
       " 'PIRASO',\n",
       " 'SHAAH COLLECTIONS',\n",
       " 'Fastrack',\n",
       " 'GANSTA',\n",
       " 'PHENOMENAL',\n",
       " 'ROZZETTA CRAFT',\n",
       " 'Fastrack',\n",
       " 'kingsunglasses',\n",
       " 'New Specs',\n",
       " 'HIPPON',\n",
       " 'VINCENT CHASE',\n",
       " 'SHAAH COLLECTIONS',\n",
       " 'Elligator',\n",
       " 'hipe',\n",
       " 'Fastrack',\n",
       " 'Fastrack',\n",
       " 'Silver Kartz',\n",
       " 'PIRASO',\n",
       " 'VINCENT CHASE',\n",
       " 'ROZZETTA CRAFT',\n",
       " 'Rich Club',\n",
       " 'PIRASO',\n",
       " 'Fastrack',\n",
       " 'kingsunglasses',\n",
       " 'agera',\n",
       " 'Singco India',\n",
       " 'Fastrack',\n",
       " 'NuVew',\n",
       " 'Elligator',\n",
       " 'Elligator',\n",
       " 'VINCENT CHASE',\n",
       " 'SRPM',\n",
       " 'SUNBEE',\n",
       " 'povty',\n",
       " 'ROYAL SON',\n",
       " 'povty',\n",
       " 'NuVew',\n",
       " 'SUNBEE',\n",
       " 'Fastrack',\n",
       " 'kingsunglasses',\n",
       " 'hipe',\n",
       " 'hipe',\n",
       " 'Fastrack',\n",
       " 'Elligator',\n",
       " 'kingsunglasses',\n",
       " 'SUNBEE',\n",
       " 'Fastrack',\n",
       " 'SRPM',\n",
       " 'ROZZETTA CRAFT',\n",
       " 'New Specs',\n",
       " 'Fastrack',\n",
       " 'SHAAH COLLECTIONS',\n",
       " 'PIRASO',\n",
       " 'Fastrack',\n",
       " 'Fastrack',\n",
       " 'Silver Kartz',\n",
       " 'hipe',\n",
       " 'kingsunglasses',\n",
       " 'VINCENT CHASE',\n",
       " 'PHENOMENAL',\n",
       " 'elegante',\n",
       " 'Fastrack',\n",
       " 'ROYAL SON',\n",
       " 'GANSTA',\n",
       " 'PHENOMENAL',\n",
       " 'Lee Topper',\n",
       " 'Fastrack',\n",
       " 'kingsunglasses',\n",
       " 'Elligator',\n",
       " 'Lee Topper',\n",
       " 'VINCENT CHASE',\n",
       " 'MAXX',\n",
       " 'kingsunglasses',\n",
       " 'ROZZETTA CRAFT',\n",
       " 'VINCENT CHASE']"
      ]
     },
     "execution_count": 201,
     "metadata": {},
     "output_type": "execute_result"
    }
   ],
   "source": [
    "glass_brand"
   ]
  },
  {
   "cell_type": "code",
   "execution_count": 202,
   "id": "e3f10edd",
   "metadata": {
    "collapsed": true
   },
   "outputs": [
    {
     "name": "stderr",
     "output_type": "stream",
     "text": [
      "<ipython-input-202-bfa35bfbbd60>:1: DeprecationWarning: find_elements_by_* commands are deprecated. Please use find_elements() instead\n",
      "  disc_tag2=driver.find_elements_by_xpath(\"//a[@class='IRpwTa']\")\n"
     ]
    }
   ],
   "source": [
    "disc_tag2=driver.find_elements_by_xpath(\"//a[@class='IRpwTa']\")"
   ]
  },
  {
   "cell_type": "code",
   "execution_count": 203,
   "id": "f2edcb0c",
   "metadata": {
    "collapsed": true
   },
   "outputs": [
    {
     "data": {
      "text/plain": [
       "[<selenium.webdriver.remote.webelement.WebElement (session=\"8ad37eb264425e988a2656f6c0c37e12\", element=\"b51d673e-2332-4088-9484-8aa2d5f11050\")>,\n",
       " <selenium.webdriver.remote.webelement.WebElement (session=\"8ad37eb264425e988a2656f6c0c37e12\", element=\"0f95b866-7ddf-460a-ad0b-dd09917d3642\")>,\n",
       " <selenium.webdriver.remote.webelement.WebElement (session=\"8ad37eb264425e988a2656f6c0c37e12\", element=\"baafc73e-7188-4caa-b96f-e71978987a93\")>,\n",
       " <selenium.webdriver.remote.webelement.WebElement (session=\"8ad37eb264425e988a2656f6c0c37e12\", element=\"8570c786-049c-4cdb-b4b7-7d0277ec407b\")>,\n",
       " <selenium.webdriver.remote.webelement.WebElement (session=\"8ad37eb264425e988a2656f6c0c37e12\", element=\"5c8e03f3-9107-48b0-a031-c769c0b829a3\")>,\n",
       " <selenium.webdriver.remote.webelement.WebElement (session=\"8ad37eb264425e988a2656f6c0c37e12\", element=\"c873acfe-50e5-456a-b2c5-dab9e656a1e2\")>,\n",
       " <selenium.webdriver.remote.webelement.WebElement (session=\"8ad37eb264425e988a2656f6c0c37e12\", element=\"9aa5c79a-a1fe-40cb-921e-f3d7b1ba909c\")>,\n",
       " <selenium.webdriver.remote.webelement.WebElement (session=\"8ad37eb264425e988a2656f6c0c37e12\", element=\"61be3559-dac7-46de-a300-aae804ccba06\")>,\n",
       " <selenium.webdriver.remote.webelement.WebElement (session=\"8ad37eb264425e988a2656f6c0c37e12\", element=\"6c415272-be16-46af-98c9-1ebe950039b2\")>,\n",
       " <selenium.webdriver.remote.webelement.WebElement (session=\"8ad37eb264425e988a2656f6c0c37e12\", element=\"f175f33c-bb19-4b62-a750-d0ec5ee800c9\")>,\n",
       " <selenium.webdriver.remote.webelement.WebElement (session=\"8ad37eb264425e988a2656f6c0c37e12\", element=\"da5c7410-92d9-4ccf-bb7e-d236272c7b05\")>,\n",
       " <selenium.webdriver.remote.webelement.WebElement (session=\"8ad37eb264425e988a2656f6c0c37e12\", element=\"c5b577d6-8bfa-480b-84db-07cc44b0f497\")>,\n",
       " <selenium.webdriver.remote.webelement.WebElement (session=\"8ad37eb264425e988a2656f6c0c37e12\", element=\"2a18390f-a018-45e4-8099-bdd44100c19e\")>,\n",
       " <selenium.webdriver.remote.webelement.WebElement (session=\"8ad37eb264425e988a2656f6c0c37e12\", element=\"9d7b9842-8eca-45b6-a532-da61b186f291\")>,\n",
       " <selenium.webdriver.remote.webelement.WebElement (session=\"8ad37eb264425e988a2656f6c0c37e12\", element=\"69ec7936-1e87-4bf6-9385-daaba0c3fed0\")>,\n",
       " <selenium.webdriver.remote.webelement.WebElement (session=\"8ad37eb264425e988a2656f6c0c37e12\", element=\"a9408bca-5fb1-46c5-b8fc-3ecbcb4f4064\")>,\n",
       " <selenium.webdriver.remote.webelement.WebElement (session=\"8ad37eb264425e988a2656f6c0c37e12\", element=\"7e9acad2-9d9b-46f0-ab8d-789387fa0f85\")>,\n",
       " <selenium.webdriver.remote.webelement.WebElement (session=\"8ad37eb264425e988a2656f6c0c37e12\", element=\"70eb0de3-554a-486f-8d78-a1572733830d\")>,\n",
       " <selenium.webdriver.remote.webelement.WebElement (session=\"8ad37eb264425e988a2656f6c0c37e12\", element=\"7e8de23f-ecd1-459a-9810-7f517935dc13\")>,\n",
       " <selenium.webdriver.remote.webelement.WebElement (session=\"8ad37eb264425e988a2656f6c0c37e12\", element=\"d84f79a2-16bb-4168-a159-cea367769001\")>,\n",
       " <selenium.webdriver.remote.webelement.WebElement (session=\"8ad37eb264425e988a2656f6c0c37e12\", element=\"e7f78b40-ddbd-48c4-b16d-379b8011f285\")>,\n",
       " <selenium.webdriver.remote.webelement.WebElement (session=\"8ad37eb264425e988a2656f6c0c37e12\", element=\"e006e395-f36b-4437-8596-f1387dec3fe3\")>,\n",
       " <selenium.webdriver.remote.webelement.WebElement (session=\"8ad37eb264425e988a2656f6c0c37e12\", element=\"049e8e8d-4432-469a-b295-2b0bfb3b836d\")>,\n",
       " <selenium.webdriver.remote.webelement.WebElement (session=\"8ad37eb264425e988a2656f6c0c37e12\", element=\"e581c6c1-8378-48cb-881d-abf56132ee18\")>,\n",
       " <selenium.webdriver.remote.webelement.WebElement (session=\"8ad37eb264425e988a2656f6c0c37e12\", element=\"2fc3cbbe-90e4-4410-a1c1-87954eb9853a\")>,\n",
       " <selenium.webdriver.remote.webelement.WebElement (session=\"8ad37eb264425e988a2656f6c0c37e12\", element=\"8cff0a6e-a361-4531-add8-d1b11bd4c192\")>,\n",
       " <selenium.webdriver.remote.webelement.WebElement (session=\"8ad37eb264425e988a2656f6c0c37e12\", element=\"d2435d38-9849-4cf1-afda-7b051d867f4e\")>,\n",
       " <selenium.webdriver.remote.webelement.WebElement (session=\"8ad37eb264425e988a2656f6c0c37e12\", element=\"f3f25030-9111-4cdd-ad94-8c6c4a23ae81\")>,\n",
       " <selenium.webdriver.remote.webelement.WebElement (session=\"8ad37eb264425e988a2656f6c0c37e12\", element=\"b8c3a1df-d266-4da8-9421-ba07050fd4fa\")>,\n",
       " <selenium.webdriver.remote.webelement.WebElement (session=\"8ad37eb264425e988a2656f6c0c37e12\", element=\"54a1a5a3-354e-4559-80e0-9a97f65210a6\")>,\n",
       " <selenium.webdriver.remote.webelement.WebElement (session=\"8ad37eb264425e988a2656f6c0c37e12\", element=\"c45273f6-bfc6-4aac-a363-a6d97a59fa52\")>,\n",
       " <selenium.webdriver.remote.webelement.WebElement (session=\"8ad37eb264425e988a2656f6c0c37e12\", element=\"ae45f53c-73bd-4c16-a888-4751650ff212\")>,\n",
       " <selenium.webdriver.remote.webelement.WebElement (session=\"8ad37eb264425e988a2656f6c0c37e12\", element=\"13a7b74a-a99a-4eb3-a3d4-3ade8663be72\")>,\n",
       " <selenium.webdriver.remote.webelement.WebElement (session=\"8ad37eb264425e988a2656f6c0c37e12\", element=\"ec15c030-f42f-4063-bd77-71f2d510f81a\")>,\n",
       " <selenium.webdriver.remote.webelement.WebElement (session=\"8ad37eb264425e988a2656f6c0c37e12\", element=\"8f55ca12-27ff-4e36-9b24-62604eb9583d\")>,\n",
       " <selenium.webdriver.remote.webelement.WebElement (session=\"8ad37eb264425e988a2656f6c0c37e12\", element=\"73ae93a2-73bd-48a7-8c65-ab9eeee04b89\")>,\n",
       " <selenium.webdriver.remote.webelement.WebElement (session=\"8ad37eb264425e988a2656f6c0c37e12\", element=\"2d85ebd3-b58e-4efb-9c7f-719f16424265\")>,\n",
       " <selenium.webdriver.remote.webelement.WebElement (session=\"8ad37eb264425e988a2656f6c0c37e12\", element=\"8f417792-6aca-4ed5-974b-b0325cd56c78\")>,\n",
       " <selenium.webdriver.remote.webelement.WebElement (session=\"8ad37eb264425e988a2656f6c0c37e12\", element=\"68dcfc88-8139-458d-a229-af7fdb3731ce\")>,\n",
       " <selenium.webdriver.remote.webelement.WebElement (session=\"8ad37eb264425e988a2656f6c0c37e12\", element=\"7b441a9f-fb98-478c-88f8-f3d0957cd97f\")>]"
      ]
     },
     "execution_count": 203,
     "metadata": {},
     "output_type": "execute_result"
    }
   ],
   "source": [
    "disc_tag2"
   ]
  },
  {
   "cell_type": "code",
   "execution_count": 204,
   "id": "9d5d8792",
   "metadata": {},
   "outputs": [],
   "source": [
    "for j in disc_tag2:\n",
    "    discription2=j.text\n",
    "    glass_discription.append(discription2)"
   ]
  },
  {
   "cell_type": "code",
   "execution_count": 205,
   "id": "a3aef6a7",
   "metadata": {},
   "outputs": [
    {
     "data": {
      "text/plain": [
       "['UV Protection Aviator Sunglasses (58)',\n",
       " 'UV Protection Wayfarer Sunglasses (Free Size)',\n",
       " 'UV Protection Round Sunglasses (54)',\n",
       " 'UV Protection Rectangular Sunglasses (Free Size)',\n",
       " 'UV Protection Aviator Sunglasses (54)',\n",
       " 'UV Protection Aviator Sunglasses (54)',\n",
       " 'UV Protection, Polarized, Mirrored Rectangular Sunglass...',\n",
       " 'UV Protection Wayfarer Sunglasses (Free Size)',\n",
       " 'UV Protection Aviator Sunglasses (57)',\n",
       " 'UV Protection Retro Square Sunglasses (Free Size)',\n",
       " 'UV Protection Retro Square Sunglasses (Free Size)',\n",
       " 'UV Protection Aviator Sunglasses (58)',\n",
       " 'Mirrored, UV Protection Wayfarer Sunglasses (Free Size)',\n",
       " 'Mirrored, UV Protection, Riding Glasses, Others Round S...',\n",
       " 'UV Protection Wayfarer Sunglasses (55)',\n",
       " 'UV Protection Aviator Sunglasses (53)',\n",
       " 'UV Protection Round Sunglasses (Free Size)',\n",
       " 'UV Protection Round Sunglasses (55)',\n",
       " 'Mirrored, UV Protection, Gradient Round Sunglasses (55)',\n",
       " 'UV Protection Wayfarer Sunglasses (57)',\n",
       " 'UV Protection Wayfarer Sunglasses (Free Size)',\n",
       " 'UV Protection Wayfarer Sunglasses (Free Size)',\n",
       " 'UV Protection Aviator Sunglasses (54)',\n",
       " 'Polarized, UV Protection Wayfarer Sunglasses (57)',\n",
       " 'UV Protection, Gradient Rectangular Sunglasses (Free Si...',\n",
       " 'Polarized Round Sunglasses (48)',\n",
       " 'UV Protection, Polarized Aviator Sunglasses (32)',\n",
       " 'UV Protection Wayfarer Sunglasses (Free Size)',\n",
       " 'Mirrored, UV Protection Wayfarer Sunglasses (Free Size)',\n",
       " 'Gradient Aviator Sunglasses (55)',\n",
       " 'UV Protection Round Sunglasses (Free Size)',\n",
       " 'UV Protection Wayfarer Sunglasses (Free Size)',\n",
       " 'UV Protection, Night Vision, Riding Glasses Sports Sung...',\n",
       " 'Mirrored Round Sunglasses (53)',\n",
       " 'UV Protection Aviator Sunglasses (55)',\n",
       " 'by Lenskart Polarized, UV Protection Wayfarer Sunglasse...',\n",
       " 'UV Protection Wayfarer Sunglasses (53)',\n",
       " 'UV Protection, Polarized, Mirrored Wayfarer Sunglasses ...',\n",
       " 'UV Protection Retro Square Sunglasses (Free Size)',\n",
       " 'UV Protection Rectangular Sunglasses (58)',\n",
       " 'UV Protection Retro Square Sunglasses (Free Size)',\n",
       " 'UV Protection, Night Vision, Riding Glasses Sports Sung...',\n",
       " 'UV Protection, Polarized, Mirrored Wayfarer Sunglasses ...',\n",
       " 'UV Protection Rectangular Sunglasses (Free Size)',\n",
       " 'Mirrored, UV Protection Wayfarer Sunglasses (Free Size)',\n",
       " 'Mirrored, Gradient, Riding Glasses Round Sunglasses (55...',\n",
       " 'UV Protection, Gradient, Mirrored, Riding Glasses Aviat...',\n",
       " 'UV Protection Aviator Sunglasses (58)',\n",
       " 'Mirrored Round Sunglasses (53)',\n",
       " 'UV Protection, Others Round, Aviator Sunglasses (54)',\n",
       " 'UV Protection, Polarized, Mirrored Round Sunglasses (Fr...',\n",
       " 'UV Protection Wayfarer Sunglasses (Free Size)',\n",
       " 'UV Protection Wayfarer Sunglasses (56)',\n",
       " 'UV Protection, Gradient Retro Square Sunglasses (Free S...',\n",
       " 'UV Protection Rectangular Sunglasses (Free Size)',\n",
       " 'UV Protection Wayfarer Sunglasses (Free Size)',\n",
       " 'UV Protection Round Sunglasses (Free Size)',\n",
       " 'UV Protection Aviator Sunglasses (54)',\n",
       " 'Gradient, UV Protection Wayfarer Sunglasses (Free Size)',\n",
       " 'UV Protection Aviator Sunglasses (58)',\n",
       " 'UV Protection Aviator Sunglasses (88)',\n",
       " 'UV Protection Sports Sunglasses (Free Size)',\n",
       " 'UV Protection, Night Vision Wayfarer Sunglasses (Free S...',\n",
       " 'UV Protection Aviator Sunglasses (53)',\n",
       " 'UV Protection, Mirrored Retro Square Sunglasses (53)',\n",
       " 'Mirrored Round Sunglasses (Free Size)',\n",
       " 'UV Protection Wayfarer Sunglasses (Free Size)',\n",
       " 'UV Protection Rectangular Sunglasses (58)',\n",
       " 'UV Protection, Night Vision, Riding Glasses Aviator Sun...',\n",
       " 'UV Protection, Mirrored Retro Square Sunglasses (53)',\n",
       " 'Riding Glasses, Night Vision Wrap-around Sunglasses (Fr...',\n",
       " 'UV Protection Wayfarer Sunglasses (57)',\n",
       " 'UV Protection, Mirrored Round Sunglasses (54)',\n",
       " 'UV Protection Wayfarer Sunglasses (53)',\n",
       " 'UV Protection Round Sunglasses (Free Size)',\n",
       " 'Polarized, UV Protection Wayfarer Sunglasses (57)',\n",
       " 'UV Protection Aviator Sunglasses (Free Size)',\n",
       " 'UV Protection Rectangular Sunglasses (55)',\n",
       " 'UV Protection, Gradient Round Sunglasses (Free Size)',\n",
       " 'by Lenskart Polarized, UV Protection Wayfarer Sunglasse...']"
      ]
     },
     "execution_count": 205,
     "metadata": {},
     "output_type": "execute_result"
    }
   ],
   "source": [
    "glass_discription"
   ]
  },
  {
   "cell_type": "code",
   "execution_count": 206,
   "id": "fcebb495",
   "metadata": {
    "collapsed": true
   },
   "outputs": [
    {
     "name": "stderr",
     "output_type": "stream",
     "text": [
      "<ipython-input-206-db19fbbeed19>:1: DeprecationWarning: find_elements_by_* commands are deprecated. Please use find_elements() instead\n",
      "  price_tag2=driver.find_elements_by_xpath(\"//div[@class='_30jeq3']\")\n"
     ]
    }
   ],
   "source": [
    "price_tag2=driver.find_elements_by_xpath(\"//div[@class='_30jeq3']\")"
   ]
  },
  {
   "cell_type": "code",
   "execution_count": 207,
   "id": "75030334",
   "metadata": {
    "collapsed": true
   },
   "outputs": [
    {
     "data": {
      "text/plain": [
       "[<selenium.webdriver.remote.webelement.WebElement (session=\"8ad37eb264425e988a2656f6c0c37e12\", element=\"1cc5e3ec-405d-4ee2-9cae-18c9ccad9770\")>,\n",
       " <selenium.webdriver.remote.webelement.WebElement (session=\"8ad37eb264425e988a2656f6c0c37e12\", element=\"448cb307-c032-4c48-be44-606b9af1ffa5\")>,\n",
       " <selenium.webdriver.remote.webelement.WebElement (session=\"8ad37eb264425e988a2656f6c0c37e12\", element=\"d64f0780-8642-4590-b2cb-b25655b72440\")>,\n",
       " <selenium.webdriver.remote.webelement.WebElement (session=\"8ad37eb264425e988a2656f6c0c37e12\", element=\"a5031ea1-2e80-45bd-8ad1-884494cccab8\")>,\n",
       " <selenium.webdriver.remote.webelement.WebElement (session=\"8ad37eb264425e988a2656f6c0c37e12\", element=\"270b37f5-f5d1-4706-8ac8-63e82b118034\")>,\n",
       " <selenium.webdriver.remote.webelement.WebElement (session=\"8ad37eb264425e988a2656f6c0c37e12\", element=\"bf68013d-a37c-4c87-8f45-30ffb803f906\")>,\n",
       " <selenium.webdriver.remote.webelement.WebElement (session=\"8ad37eb264425e988a2656f6c0c37e12\", element=\"ad6fde22-0378-417e-aa6f-0cfadfc3e3c4\")>,\n",
       " <selenium.webdriver.remote.webelement.WebElement (session=\"8ad37eb264425e988a2656f6c0c37e12\", element=\"7e226e40-b137-4ec0-9952-abb75b923341\")>,\n",
       " <selenium.webdriver.remote.webelement.WebElement (session=\"8ad37eb264425e988a2656f6c0c37e12\", element=\"52277a02-216e-4ca1-abe7-489e2a2791ba\")>,\n",
       " <selenium.webdriver.remote.webelement.WebElement (session=\"8ad37eb264425e988a2656f6c0c37e12\", element=\"6048a4c9-e42e-44b4-8158-9e0da7a711a7\")>,\n",
       " <selenium.webdriver.remote.webelement.WebElement (session=\"8ad37eb264425e988a2656f6c0c37e12\", element=\"7534049d-58aa-4cfe-9eec-251641d99434\")>,\n",
       " <selenium.webdriver.remote.webelement.WebElement (session=\"8ad37eb264425e988a2656f6c0c37e12\", element=\"1369054b-850f-4087-8563-a82e73729cdd\")>,\n",
       " <selenium.webdriver.remote.webelement.WebElement (session=\"8ad37eb264425e988a2656f6c0c37e12\", element=\"d5420380-2af2-4fec-9ec3-580b9c20dab1\")>,\n",
       " <selenium.webdriver.remote.webelement.WebElement (session=\"8ad37eb264425e988a2656f6c0c37e12\", element=\"671d5045-df92-4751-ad6f-196dee689b28\")>,\n",
       " <selenium.webdriver.remote.webelement.WebElement (session=\"8ad37eb264425e988a2656f6c0c37e12\", element=\"b481ac47-30e9-4c44-89ea-db1c504299c7\")>,\n",
       " <selenium.webdriver.remote.webelement.WebElement (session=\"8ad37eb264425e988a2656f6c0c37e12\", element=\"83cdc797-160d-4195-b4c0-9432305018b2\")>,\n",
       " <selenium.webdriver.remote.webelement.WebElement (session=\"8ad37eb264425e988a2656f6c0c37e12\", element=\"d396dbab-45fd-413a-a2d5-820d4e2e4716\")>,\n",
       " <selenium.webdriver.remote.webelement.WebElement (session=\"8ad37eb264425e988a2656f6c0c37e12\", element=\"337eb860-96a8-490d-9e63-04418b8005d2\")>,\n",
       " <selenium.webdriver.remote.webelement.WebElement (session=\"8ad37eb264425e988a2656f6c0c37e12\", element=\"f65d2616-62dc-40df-ab85-8f05a5a7911c\")>,\n",
       " <selenium.webdriver.remote.webelement.WebElement (session=\"8ad37eb264425e988a2656f6c0c37e12\", element=\"dc0eff0f-185e-4d35-94d0-551f65ebf186\")>,\n",
       " <selenium.webdriver.remote.webelement.WebElement (session=\"8ad37eb264425e988a2656f6c0c37e12\", element=\"00a58cd1-82dd-4e19-9fbe-91adedba7d5f\")>,\n",
       " <selenium.webdriver.remote.webelement.WebElement (session=\"8ad37eb264425e988a2656f6c0c37e12\", element=\"24058871-4fb4-43dd-8f4a-29d2bf7de243\")>,\n",
       " <selenium.webdriver.remote.webelement.WebElement (session=\"8ad37eb264425e988a2656f6c0c37e12\", element=\"eeffde1d-fda9-4109-a425-915c6a63a5e2\")>,\n",
       " <selenium.webdriver.remote.webelement.WebElement (session=\"8ad37eb264425e988a2656f6c0c37e12\", element=\"7f47bb91-13bc-4b6c-88e2-a7e2135579d2\")>,\n",
       " <selenium.webdriver.remote.webelement.WebElement (session=\"8ad37eb264425e988a2656f6c0c37e12\", element=\"e8c9e34e-4539-43ab-9c63-22ce85e6286e\")>,\n",
       " <selenium.webdriver.remote.webelement.WebElement (session=\"8ad37eb264425e988a2656f6c0c37e12\", element=\"2d551574-5b80-43a5-95f9-61db68969ba9\")>,\n",
       " <selenium.webdriver.remote.webelement.WebElement (session=\"8ad37eb264425e988a2656f6c0c37e12\", element=\"fe339b31-f577-4a1f-9403-0086e39fb9ac\")>,\n",
       " <selenium.webdriver.remote.webelement.WebElement (session=\"8ad37eb264425e988a2656f6c0c37e12\", element=\"9121bd77-9b72-445b-9a05-6db9ebdef707\")>,\n",
       " <selenium.webdriver.remote.webelement.WebElement (session=\"8ad37eb264425e988a2656f6c0c37e12\", element=\"6458b565-06b5-4a1d-b0df-565eb9f7096e\")>,\n",
       " <selenium.webdriver.remote.webelement.WebElement (session=\"8ad37eb264425e988a2656f6c0c37e12\", element=\"42b7e2fd-7ff8-4a36-a4c9-9692d2614977\")>,\n",
       " <selenium.webdriver.remote.webelement.WebElement (session=\"8ad37eb264425e988a2656f6c0c37e12\", element=\"adedd37b-d834-43af-adee-cd7241f0fdc1\")>,\n",
       " <selenium.webdriver.remote.webelement.WebElement (session=\"8ad37eb264425e988a2656f6c0c37e12\", element=\"43633fb6-2f10-4811-a5db-3eb377d03086\")>,\n",
       " <selenium.webdriver.remote.webelement.WebElement (session=\"8ad37eb264425e988a2656f6c0c37e12\", element=\"63594719-e211-4ad1-8ed0-d651ccde21b8\")>,\n",
       " <selenium.webdriver.remote.webelement.WebElement (session=\"8ad37eb264425e988a2656f6c0c37e12\", element=\"f5de980e-34c4-4737-8515-c51ba44d2e9a\")>,\n",
       " <selenium.webdriver.remote.webelement.WebElement (session=\"8ad37eb264425e988a2656f6c0c37e12\", element=\"8bba515d-ba0a-4415-91d4-5b82062cbe9e\")>,\n",
       " <selenium.webdriver.remote.webelement.WebElement (session=\"8ad37eb264425e988a2656f6c0c37e12\", element=\"5231baf7-eb2e-4e76-b300-658370db60b1\")>,\n",
       " <selenium.webdriver.remote.webelement.WebElement (session=\"8ad37eb264425e988a2656f6c0c37e12\", element=\"0079bdce-8022-4e87-9233-da634bab464f\")>,\n",
       " <selenium.webdriver.remote.webelement.WebElement (session=\"8ad37eb264425e988a2656f6c0c37e12\", element=\"43a79222-a9ab-4992-993a-4e6cae49ada7\")>,\n",
       " <selenium.webdriver.remote.webelement.WebElement (session=\"8ad37eb264425e988a2656f6c0c37e12\", element=\"92a27403-7750-43e5-b58e-bb24a9f5275e\")>,\n",
       " <selenium.webdriver.remote.webelement.WebElement (session=\"8ad37eb264425e988a2656f6c0c37e12\", element=\"9cd7c93b-c9e1-4017-8b5c-5b54c9148b29\")>]"
      ]
     },
     "execution_count": 207,
     "metadata": {},
     "output_type": "execute_result"
    }
   ],
   "source": [
    "price_tag2"
   ]
  },
  {
   "cell_type": "code",
   "execution_count": 208,
   "id": "22d118da",
   "metadata": {},
   "outputs": [],
   "source": [
    "for i in price_tag2:\n",
    "    price2=i.text\n",
    "    glass_price.append(price2)"
   ]
  },
  {
   "cell_type": "code",
   "execution_count": 209,
   "id": "48069fee",
   "metadata": {},
   "outputs": [
    {
     "data": {
      "text/plain": [
       "['₹1,085',\n",
       " '₹758',\n",
       " '₹264',\n",
       " '₹513',\n",
       " '₹200',\n",
       " '₹200',\n",
       " '₹177',\n",
       " '₹733',\n",
       " '₹236',\n",
       " '₹329',\n",
       " '₹499',\n",
       " '₹1,059',\n",
       " '₹259',\n",
       " '₹269',\n",
       " '₹231',\n",
       " '₹999',\n",
       " '₹296',\n",
       " '₹239',\n",
       " '₹189',\n",
       " '₹503',\n",
       " '₹758',\n",
       " '₹246',\n",
       " '₹200',\n",
       " '₹999',\n",
       " '₹349',\n",
       " '₹179',\n",
       " '₹175',\n",
       " '₹822',\n",
       " '₹259',\n",
       " '₹196',\n",
       " '₹217',\n",
       " '₹689',\n",
       " '₹270',\n",
       " '₹263',\n",
       " '₹294',\n",
       " '₹999',\n",
       " '₹220',\n",
       " '₹215',\n",
       " '₹329',\n",
       " '₹449',\n",
       " '₹329',\n",
       " '₹270',\n",
       " '₹215',\n",
       " '₹513',\n",
       " '₹259',\n",
       " '₹189',\n",
       " '₹209',\n",
       " '₹1,085',\n",
       " '₹263',\n",
       " '₹189',\n",
       " '₹276',\n",
       " '₹758',\n",
       " '₹188',\n",
       " '₹325',\n",
       " '₹199',\n",
       " '₹733',\n",
       " '₹299',\n",
       " '₹200',\n",
       " '₹509',\n",
       " '₹1,059',\n",
       " '₹255',\n",
       " '₹287',\n",
       " '₹299',\n",
       " '₹999',\n",
       " '₹329',\n",
       " '₹340',\n",
       " '₹649',\n",
       " '₹449',\n",
       " '₹295',\n",
       " '₹329',\n",
       " '₹276',\n",
       " '₹503',\n",
       " '₹219',\n",
       " '₹299',\n",
       " '₹259',\n",
       " '₹999',\n",
       " '₹166',\n",
       " '₹169',\n",
       " '₹449',\n",
       " '₹999']"
      ]
     },
     "execution_count": 209,
     "metadata": {},
     "output_type": "execute_result"
    }
   ],
   "source": [
    "glass_price"
   ]
  },
  {
   "cell_type": "code",
   "execution_count": 210,
   "id": "cc891094",
   "metadata": {
    "collapsed": true
   },
   "outputs": [
    {
     "name": "stderr",
     "output_type": "stream",
     "text": [
      "<ipython-input-210-f3d3497c53c4>:1: DeprecationWarning: find_elements_by_* commands are deprecated. Please use find_elements() instead\n",
      "  offer_tag2=driver.find_elements_by_xpath(\"//div[@class='_2Tpdn3 _18hQoS']\")\n"
     ]
    },
    {
     "data": {
      "text/plain": [
       "[<selenium.webdriver.remote.webelement.WebElement (session=\"8ad37eb264425e988a2656f6c0c37e12\", element=\"d1b94463-9e37-4bc9-8383-94f693acbe8c\")>,\n",
       " <selenium.webdriver.remote.webelement.WebElement (session=\"8ad37eb264425e988a2656f6c0c37e12\", element=\"9073ee1d-6be3-4ef3-a58c-5f83985eeb2c\")>,\n",
       " <selenium.webdriver.remote.webelement.WebElement (session=\"8ad37eb264425e988a2656f6c0c37e12\", element=\"43036a9d-3250-47da-b3a7-46339c12e723\")>,\n",
       " <selenium.webdriver.remote.webelement.WebElement (session=\"8ad37eb264425e988a2656f6c0c37e12\", element=\"274b5057-4e65-4a86-8c25-c94d5327d38f\")>,\n",
       " <selenium.webdriver.remote.webelement.WebElement (session=\"8ad37eb264425e988a2656f6c0c37e12\", element=\"199bf3f7-1dec-462b-b955-baa81b89b9ff\")>,\n",
       " <selenium.webdriver.remote.webelement.WebElement (session=\"8ad37eb264425e988a2656f6c0c37e12\", element=\"82930022-ef6a-4a6c-9a91-abca157251bb\")>,\n",
       " <selenium.webdriver.remote.webelement.WebElement (session=\"8ad37eb264425e988a2656f6c0c37e12\", element=\"147c07ab-f70e-460b-9913-ad1d26675c61\")>,\n",
       " <selenium.webdriver.remote.webelement.WebElement (session=\"8ad37eb264425e988a2656f6c0c37e12\", element=\"f0745af3-e67a-4035-906a-7979b0fe7ae1\")>,\n",
       " <selenium.webdriver.remote.webelement.WebElement (session=\"8ad37eb264425e988a2656f6c0c37e12\", element=\"068a522a-e939-4f5f-af84-fdcca2df6b5e\")>,\n",
       " <selenium.webdriver.remote.webelement.WebElement (session=\"8ad37eb264425e988a2656f6c0c37e12\", element=\"e8bbc9e4-628f-4010-976e-9510018d3e6f\")>,\n",
       " <selenium.webdriver.remote.webelement.WebElement (session=\"8ad37eb264425e988a2656f6c0c37e12\", element=\"6dac0123-5d63-4010-9748-f17ee4195fca\")>,\n",
       " <selenium.webdriver.remote.webelement.WebElement (session=\"8ad37eb264425e988a2656f6c0c37e12\", element=\"ead15fed-5885-4b87-a9b1-66a97c9d7f51\")>,\n",
       " <selenium.webdriver.remote.webelement.WebElement (session=\"8ad37eb264425e988a2656f6c0c37e12\", element=\"2906bad9-9910-4be2-8ce4-b581acb8fe4a\")>,\n",
       " <selenium.webdriver.remote.webelement.WebElement (session=\"8ad37eb264425e988a2656f6c0c37e12\", element=\"98bec8cc-2fda-4ace-ba96-b0615dd64ff2\")>,\n",
       " <selenium.webdriver.remote.webelement.WebElement (session=\"8ad37eb264425e988a2656f6c0c37e12\", element=\"ce7c1498-34b7-4814-8322-6808d4b33527\")>,\n",
       " <selenium.webdriver.remote.webelement.WebElement (session=\"8ad37eb264425e988a2656f6c0c37e12\", element=\"3fc2dd04-7b8a-4db3-9f84-204b8c4601fb\")>,\n",
       " <selenium.webdriver.remote.webelement.WebElement (session=\"8ad37eb264425e988a2656f6c0c37e12\", element=\"05cfcb79-d2dc-45b0-a90c-53ae9e2dc4f3\")>,\n",
       " <selenium.webdriver.remote.webelement.WebElement (session=\"8ad37eb264425e988a2656f6c0c37e12\", element=\"419667e6-4261-4ca2-8e98-48b4c0085204\")>,\n",
       " <selenium.webdriver.remote.webelement.WebElement (session=\"8ad37eb264425e988a2656f6c0c37e12\", element=\"8b5d6935-2c44-4f34-820c-5b354ef40d7d\")>,\n",
       " <selenium.webdriver.remote.webelement.WebElement (session=\"8ad37eb264425e988a2656f6c0c37e12\", element=\"6b4f9c26-9395-4dc1-944f-c71311bf7923\")>,\n",
       " <selenium.webdriver.remote.webelement.WebElement (session=\"8ad37eb264425e988a2656f6c0c37e12\", element=\"2b4a9d4b-cb42-4f6a-96d3-a73d737ab593\")>,\n",
       " <selenium.webdriver.remote.webelement.WebElement (session=\"8ad37eb264425e988a2656f6c0c37e12\", element=\"b384b228-217e-4d9e-bb40-c1b537e17968\")>,\n",
       " <selenium.webdriver.remote.webelement.WebElement (session=\"8ad37eb264425e988a2656f6c0c37e12\", element=\"e5e5fadf-8bab-4eb6-a843-f45045174a4d\")>,\n",
       " <selenium.webdriver.remote.webelement.WebElement (session=\"8ad37eb264425e988a2656f6c0c37e12\", element=\"8c91762f-b5a1-4ccb-bd29-0543290ff4f3\")>]"
      ]
     },
     "execution_count": 210,
     "metadata": {},
     "output_type": "execute_result"
    }
   ],
   "source": [
    "offer_tag2=driver.find_elements_by_xpath(\"//div[@class='_2Tpdn3 _18hQoS']\")\n",
    "offer_tag2"
   ]
  },
  {
   "cell_type": "code",
   "execution_count": 211,
   "id": "7fef7689",
   "metadata": {},
   "outputs": [],
   "source": [
    "for i in offer_tag2:\n",
    "    offer2=i.text\n",
    "    glass_offer.append(offer2)"
   ]
  },
  {
   "cell_type": "code",
   "execution_count": 234,
   "id": "c13c2b4b",
   "metadata": {},
   "outputs": [
    {
     "data": {
      "text/plain": [
       "79"
      ]
     },
     "execution_count": 234,
     "metadata": {},
     "output_type": "execute_result"
    }
   ],
   "source": [
    "len(glass_offer)"
   ]
  },
  {
   "cell_type": "code",
   "execution_count": 215,
   "id": "4c28931b",
   "metadata": {
    "collapsed": true
   },
   "outputs": [
    {
     "name": "stderr",
     "output_type": "stream",
     "text": [
      "<ipython-input-215-e528decb5da6>:1: DeprecationWarning: find_element_by_* commands are deprecated. Please use find_element() instead\n",
      "  next_btn2=driver.find_element_by_xpath(\"//span[@class='_22Tduf']\")\n"
     ]
    }
   ],
   "source": [
    "next_btn2=driver.find_element_by_xpath(\"//span[@class='_22Tduf']\")  \n",
    " next_btn.click() "
   ]
  },
  {
   "cell_type": "code",
   "execution_count": 216,
   "id": "2c0a6211",
   "metadata": {
    "collapsed": true
   },
   "outputs": [
    {
     "name": "stderr",
     "output_type": "stream",
     "text": [
      "<ipython-input-216-324eb2eedc0b>:1: DeprecationWarning: find_elements_by_* commands are deprecated. Please use find_elements() instead\n",
      "  brand_tag3=driver.find_elements_by_xpath(\"//div[@class='_2WkVRV']\")\n"
     ]
    },
    {
     "data": {
      "text/plain": [
       "[<selenium.webdriver.remote.webelement.WebElement (session=\"8ad37eb264425e988a2656f6c0c37e12\", element=\"70bce90d-8b3e-4a9b-b4a8-39112dbd3c84\")>,\n",
       " <selenium.webdriver.remote.webelement.WebElement (session=\"8ad37eb264425e988a2656f6c0c37e12\", element=\"793241dc-e277-4a12-aad7-eb91844d1c8c\")>,\n",
       " <selenium.webdriver.remote.webelement.WebElement (session=\"8ad37eb264425e988a2656f6c0c37e12\", element=\"18d2aa63-0b42-470d-b0a5-5a3d3b6c44b3\")>,\n",
       " <selenium.webdriver.remote.webelement.WebElement (session=\"8ad37eb264425e988a2656f6c0c37e12\", element=\"204ec926-0746-4dc4-b2b0-d5a409837a41\")>,\n",
       " <selenium.webdriver.remote.webelement.WebElement (session=\"8ad37eb264425e988a2656f6c0c37e12\", element=\"9d062f4d-7297-407b-b246-1555e5737cdc\")>,\n",
       " <selenium.webdriver.remote.webelement.WebElement (session=\"8ad37eb264425e988a2656f6c0c37e12\", element=\"d8ce0d28-1ba6-4896-aac8-45078f36abb7\")>,\n",
       " <selenium.webdriver.remote.webelement.WebElement (session=\"8ad37eb264425e988a2656f6c0c37e12\", element=\"40056c99-11c4-44d1-aaee-69187e1b15b3\")>,\n",
       " <selenium.webdriver.remote.webelement.WebElement (session=\"8ad37eb264425e988a2656f6c0c37e12\", element=\"f71f82ec-5a09-4ec1-94d9-cc75f3d71ca8\")>,\n",
       " <selenium.webdriver.remote.webelement.WebElement (session=\"8ad37eb264425e988a2656f6c0c37e12\", element=\"009a1d72-97e8-4544-b6fe-f76782c5421e\")>,\n",
       " <selenium.webdriver.remote.webelement.WebElement (session=\"8ad37eb264425e988a2656f6c0c37e12\", element=\"be6e3909-db5e-4599-bab7-d4081fbe692c\")>,\n",
       " <selenium.webdriver.remote.webelement.WebElement (session=\"8ad37eb264425e988a2656f6c0c37e12\", element=\"7d228790-7701-4c67-af52-083d085f43a4\")>,\n",
       " <selenium.webdriver.remote.webelement.WebElement (session=\"8ad37eb264425e988a2656f6c0c37e12\", element=\"486fedd7-6f13-4e27-8bbc-e10bf48ff7aa\")>,\n",
       " <selenium.webdriver.remote.webelement.WebElement (session=\"8ad37eb264425e988a2656f6c0c37e12\", element=\"bac2e8ea-e3c6-426c-ad7c-abe3fa7af197\")>,\n",
       " <selenium.webdriver.remote.webelement.WebElement (session=\"8ad37eb264425e988a2656f6c0c37e12\", element=\"c6cd0c3d-57b8-4927-998e-cac786635e9f\")>,\n",
       " <selenium.webdriver.remote.webelement.WebElement (session=\"8ad37eb264425e988a2656f6c0c37e12\", element=\"1d52fa8f-e961-444c-9cdd-321eb8533032\")>,\n",
       " <selenium.webdriver.remote.webelement.WebElement (session=\"8ad37eb264425e988a2656f6c0c37e12\", element=\"a40672de-9ae5-4c2c-a200-c53f335fcdbd\")>,\n",
       " <selenium.webdriver.remote.webelement.WebElement (session=\"8ad37eb264425e988a2656f6c0c37e12\", element=\"320af67b-77a5-414f-a081-59e49ecaa5d9\")>,\n",
       " <selenium.webdriver.remote.webelement.WebElement (session=\"8ad37eb264425e988a2656f6c0c37e12\", element=\"4cbd250c-4890-414d-b2e9-8a9efcef70ce\")>,\n",
       " <selenium.webdriver.remote.webelement.WebElement (session=\"8ad37eb264425e988a2656f6c0c37e12\", element=\"89e21f47-9732-4254-8c43-7757f6b1a216\")>,\n",
       " <selenium.webdriver.remote.webelement.WebElement (session=\"8ad37eb264425e988a2656f6c0c37e12\", element=\"b6b99b5c-d6e0-4011-a7c0-a6d56096d3e1\")>,\n",
       " <selenium.webdriver.remote.webelement.WebElement (session=\"8ad37eb264425e988a2656f6c0c37e12\", element=\"268cc59b-557a-456e-af50-b2c93f5c50b3\")>,\n",
       " <selenium.webdriver.remote.webelement.WebElement (session=\"8ad37eb264425e988a2656f6c0c37e12\", element=\"e2b9a7bc-9f2d-443e-8c3b-9912c6233f52\")>,\n",
       " <selenium.webdriver.remote.webelement.WebElement (session=\"8ad37eb264425e988a2656f6c0c37e12\", element=\"c225aeaf-3355-4df6-acc5-d98b9b88b6be\")>,\n",
       " <selenium.webdriver.remote.webelement.WebElement (session=\"8ad37eb264425e988a2656f6c0c37e12\", element=\"882a3a4d-d141-4299-af08-ed0a2180f31b\")>,\n",
       " <selenium.webdriver.remote.webelement.WebElement (session=\"8ad37eb264425e988a2656f6c0c37e12\", element=\"a0aebbb1-9b30-4116-8c3d-5cb06bb83beb\")>,\n",
       " <selenium.webdriver.remote.webelement.WebElement (session=\"8ad37eb264425e988a2656f6c0c37e12\", element=\"889b61bc-8532-4ae3-a1d2-093aeb3fbce3\")>,\n",
       " <selenium.webdriver.remote.webelement.WebElement (session=\"8ad37eb264425e988a2656f6c0c37e12\", element=\"f9562a73-445d-4628-9599-c4dc697a5e72\")>,\n",
       " <selenium.webdriver.remote.webelement.WebElement (session=\"8ad37eb264425e988a2656f6c0c37e12\", element=\"d6134ace-5a49-4f69-8ab1-f0879b57cfa3\")>,\n",
       " <selenium.webdriver.remote.webelement.WebElement (session=\"8ad37eb264425e988a2656f6c0c37e12\", element=\"6d66340e-c23a-4b14-a01a-b865cee80700\")>,\n",
       " <selenium.webdriver.remote.webelement.WebElement (session=\"8ad37eb264425e988a2656f6c0c37e12\", element=\"6fe3ed62-c759-4d8f-83dd-9a9e9656d08c\")>,\n",
       " <selenium.webdriver.remote.webelement.WebElement (session=\"8ad37eb264425e988a2656f6c0c37e12\", element=\"50047113-f46f-4d49-bfd8-e4c033f5b587\")>,\n",
       " <selenium.webdriver.remote.webelement.WebElement (session=\"8ad37eb264425e988a2656f6c0c37e12\", element=\"6b61b097-e862-458b-baa0-22f798c87e78\")>,\n",
       " <selenium.webdriver.remote.webelement.WebElement (session=\"8ad37eb264425e988a2656f6c0c37e12\", element=\"59fd7e60-5476-453f-b866-9a535770a05e\")>,\n",
       " <selenium.webdriver.remote.webelement.WebElement (session=\"8ad37eb264425e988a2656f6c0c37e12\", element=\"2f96592c-8827-4ad1-b5f4-470204649063\")>,\n",
       " <selenium.webdriver.remote.webelement.WebElement (session=\"8ad37eb264425e988a2656f6c0c37e12\", element=\"8b132a6a-28bb-4757-962a-8a83457afdeb\")>,\n",
       " <selenium.webdriver.remote.webelement.WebElement (session=\"8ad37eb264425e988a2656f6c0c37e12\", element=\"87d80823-951c-4d0c-a57d-648688c2b6d5\")>,\n",
       " <selenium.webdriver.remote.webelement.WebElement (session=\"8ad37eb264425e988a2656f6c0c37e12\", element=\"d18803f7-100c-4525-ac3a-8266d6319c2a\")>,\n",
       " <selenium.webdriver.remote.webelement.WebElement (session=\"8ad37eb264425e988a2656f6c0c37e12\", element=\"b489d592-ec1c-4cdd-8a99-2c12f1501d3b\")>,\n",
       " <selenium.webdriver.remote.webelement.WebElement (session=\"8ad37eb264425e988a2656f6c0c37e12\", element=\"83afd55f-c166-4bec-a8d6-941074d0ba37\")>,\n",
       " <selenium.webdriver.remote.webelement.WebElement (session=\"8ad37eb264425e988a2656f6c0c37e12\", element=\"d4d15f5f-8727-41ce-9840-41097cf4d126\")>]"
      ]
     },
     "execution_count": 216,
     "metadata": {},
     "output_type": "execute_result"
    }
   ],
   "source": [
    "brand_tag3=driver.find_elements_by_xpath(\"//div[@class='_2WkVRV']\")\n",
    "brand_tag3\n",
    "   "
   ]
  },
  {
   "cell_type": "code",
   "execution_count": 217,
   "id": "86fb0606",
   "metadata": {},
   "outputs": [],
   "source": [
    "for i in brand_tag3:\n",
    "    brand3=i.text\n",
    "    glass_brand.append(brand3)"
   ]
  },
  {
   "cell_type": "code",
   "execution_count": 219,
   "id": "3fc6a330",
   "metadata": {},
   "outputs": [
    {
     "data": {
      "text/plain": [
       "120"
      ]
     },
     "execution_count": 219,
     "metadata": {},
     "output_type": "execute_result"
    }
   ],
   "source": [
    "len(glass_brand)"
   ]
  },
  {
   "cell_type": "code",
   "execution_count": 220,
   "id": "7f0be3c6",
   "metadata": {},
   "outputs": [
    {
     "data": {
      "text/plain": [
       "['Fastrack',\n",
       " 'Fastrack',\n",
       " 'Elligator',\n",
       " 'Fastrack',\n",
       " 'PIRASO',\n",
       " 'PIRASO',\n",
       " 'SHAAH COLLECTIONS',\n",
       " 'Fastrack',\n",
       " 'GANSTA',\n",
       " 'PHENOMENAL',\n",
       " 'ROZZETTA CRAFT',\n",
       " 'Fastrack',\n",
       " 'kingsunglasses',\n",
       " 'New Specs',\n",
       " 'HIPPON',\n",
       " 'VINCENT CHASE',\n",
       " 'SHAAH COLLECTIONS',\n",
       " 'Elligator',\n",
       " 'hipe',\n",
       " 'Fastrack',\n",
       " 'Fastrack',\n",
       " 'Silver Kartz',\n",
       " 'PIRASO',\n",
       " 'VINCENT CHASE',\n",
       " 'ROZZETTA CRAFT',\n",
       " 'Rich Club',\n",
       " 'PIRASO',\n",
       " 'Fastrack',\n",
       " 'kingsunglasses',\n",
       " 'agera',\n",
       " 'Singco India',\n",
       " 'Fastrack',\n",
       " 'NuVew',\n",
       " 'Elligator',\n",
       " 'Elligator',\n",
       " 'VINCENT CHASE',\n",
       " 'SRPM',\n",
       " 'SUNBEE',\n",
       " 'povty',\n",
       " 'ROYAL SON',\n",
       " 'povty',\n",
       " 'NuVew',\n",
       " 'SUNBEE',\n",
       " 'Fastrack',\n",
       " 'kingsunglasses',\n",
       " 'hipe',\n",
       " 'hipe',\n",
       " 'Fastrack',\n",
       " 'Elligator',\n",
       " 'kingsunglasses',\n",
       " 'SUNBEE',\n",
       " 'Fastrack',\n",
       " 'SRPM',\n",
       " 'ROZZETTA CRAFT',\n",
       " 'New Specs',\n",
       " 'Fastrack',\n",
       " 'SHAAH COLLECTIONS',\n",
       " 'PIRASO',\n",
       " 'Fastrack',\n",
       " 'Fastrack',\n",
       " 'Silver Kartz',\n",
       " 'hipe',\n",
       " 'kingsunglasses',\n",
       " 'VINCENT CHASE',\n",
       " 'PHENOMENAL',\n",
       " 'elegante',\n",
       " 'Fastrack',\n",
       " 'ROYAL SON',\n",
       " 'GANSTA',\n",
       " 'PHENOMENAL',\n",
       " 'Lee Topper',\n",
       " 'Fastrack',\n",
       " 'kingsunglasses',\n",
       " 'Elligator',\n",
       " 'Lee Topper',\n",
       " 'VINCENT CHASE',\n",
       " 'MAXX',\n",
       " 'kingsunglasses',\n",
       " 'ROZZETTA CRAFT',\n",
       " 'VINCENT CHASE',\n",
       " 'kingsunglasses',\n",
       " 'PIRASO',\n",
       " 'Rich Club',\n",
       " 'Fastrack',\n",
       " 'PHENOMENAL',\n",
       " 'kingsunglasses',\n",
       " 'GANSTA',\n",
       " 'Fastrack',\n",
       " 'DEIXELS',\n",
       " 'PIRASO',\n",
       " 'SUNBEE',\n",
       " 'Fastrack',\n",
       " 'GANSTA',\n",
       " 'PIRASO',\n",
       " 'ROYAL SON',\n",
       " 'Fastrack',\n",
       " 'Elligator',\n",
       " 'Elligator',\n",
       " 'ABNER',\n",
       " 'Fastrack',\n",
       " 'Singco India',\n",
       " 'Fastrack',\n",
       " 'ROYAL SON',\n",
       " 'VINCENT CHASE',\n",
       " 'GANSTA',\n",
       " 'PIRASO',\n",
       " 'Singco',\n",
       " 'elegante',\n",
       " 'hipe',\n",
       " 'NuVew',\n",
       " 'Ray-Ban',\n",
       " 'VINCENT CHASE',\n",
       " 'Elligator',\n",
       " 'kingsunglasses',\n",
       " 'kingsunglasses',\n",
       " 'Fastrack',\n",
       " 'Rich Club',\n",
       " 'Fravy',\n",
       " 'ROZZETTA CRAFT',\n",
       " 'Fastrack']"
      ]
     },
     "execution_count": 220,
     "metadata": {},
     "output_type": "execute_result"
    }
   ],
   "source": [
    "glass_brand"
   ]
  },
  {
   "cell_type": "code",
   "execution_count": 221,
   "id": "14935dd9",
   "metadata": {
    "collapsed": true
   },
   "outputs": [
    {
     "name": "stderr",
     "output_type": "stream",
     "text": [
      "<ipython-input-221-14655168c0fa>:1: DeprecationWarning: find_elements_by_* commands are deprecated. Please use find_elements() instead\n",
      "  disc_tag3=driver.find_elements_by_xpath(\"//a[@class='IRpwTa']\")\n"
     ]
    }
   ],
   "source": [
    "disc_tag3=driver.find_elements_by_xpath(\"//a[@class='IRpwTa']\")"
   ]
  },
  {
   "cell_type": "code",
   "execution_count": 222,
   "id": "1a4aa7a4",
   "metadata": {},
   "outputs": [],
   "source": [
    "for j in disc_tag3:\n",
    "    discription3=j.text\n",
    "    glass_discription.append(discription3)"
   ]
  },
  {
   "cell_type": "code",
   "execution_count": 223,
   "id": "65fdd9fe",
   "metadata": {},
   "outputs": [
    {
     "data": {
      "text/plain": [
       "['UV Protection Aviator Sunglasses (58)',\n",
       " 'UV Protection Wayfarer Sunglasses (Free Size)',\n",
       " 'UV Protection Round Sunglasses (54)',\n",
       " 'UV Protection Rectangular Sunglasses (Free Size)',\n",
       " 'UV Protection Aviator Sunglasses (54)',\n",
       " 'UV Protection Aviator Sunglasses (54)',\n",
       " 'UV Protection, Polarized, Mirrored Rectangular Sunglass...',\n",
       " 'UV Protection Wayfarer Sunglasses (Free Size)',\n",
       " 'UV Protection Aviator Sunglasses (57)',\n",
       " 'UV Protection Retro Square Sunglasses (Free Size)',\n",
       " 'UV Protection Retro Square Sunglasses (Free Size)',\n",
       " 'UV Protection Aviator Sunglasses (58)',\n",
       " 'Mirrored, UV Protection Wayfarer Sunglasses (Free Size)',\n",
       " 'Mirrored, UV Protection, Riding Glasses, Others Round S...',\n",
       " 'UV Protection Wayfarer Sunglasses (55)',\n",
       " 'UV Protection Aviator Sunglasses (53)',\n",
       " 'UV Protection Round Sunglasses (Free Size)',\n",
       " 'UV Protection Round Sunglasses (55)',\n",
       " 'Mirrored, UV Protection, Gradient Round Sunglasses (55)',\n",
       " 'UV Protection Wayfarer Sunglasses (57)',\n",
       " 'UV Protection Wayfarer Sunglasses (Free Size)',\n",
       " 'UV Protection Wayfarer Sunglasses (Free Size)',\n",
       " 'UV Protection Aviator Sunglasses (54)',\n",
       " 'Polarized, UV Protection Wayfarer Sunglasses (57)',\n",
       " 'UV Protection, Gradient Rectangular Sunglasses (Free Si...',\n",
       " 'Polarized Round Sunglasses (48)',\n",
       " 'UV Protection, Polarized Aviator Sunglasses (32)',\n",
       " 'UV Protection Wayfarer Sunglasses (Free Size)',\n",
       " 'Mirrored, UV Protection Wayfarer Sunglasses (Free Size)',\n",
       " 'Gradient Aviator Sunglasses (55)',\n",
       " 'UV Protection Round Sunglasses (Free Size)',\n",
       " 'UV Protection Wayfarer Sunglasses (Free Size)',\n",
       " 'UV Protection, Night Vision, Riding Glasses Sports Sung...',\n",
       " 'Mirrored Round Sunglasses (53)',\n",
       " 'UV Protection Aviator Sunglasses (55)',\n",
       " 'by Lenskart Polarized, UV Protection Wayfarer Sunglasse...',\n",
       " 'UV Protection Wayfarer Sunglasses (53)',\n",
       " 'UV Protection, Polarized, Mirrored Wayfarer Sunglasses ...',\n",
       " 'UV Protection Retro Square Sunglasses (Free Size)',\n",
       " 'UV Protection Rectangular Sunglasses (58)',\n",
       " 'UV Protection Retro Square Sunglasses (Free Size)',\n",
       " 'UV Protection, Night Vision, Riding Glasses Sports Sung...',\n",
       " 'UV Protection, Polarized, Mirrored Wayfarer Sunglasses ...',\n",
       " 'UV Protection Rectangular Sunglasses (Free Size)',\n",
       " 'Mirrored, UV Protection Wayfarer Sunglasses (Free Size)',\n",
       " 'Mirrored, Gradient, Riding Glasses Round Sunglasses (55...',\n",
       " 'UV Protection, Gradient, Mirrored, Riding Glasses Aviat...',\n",
       " 'UV Protection Aviator Sunglasses (58)',\n",
       " 'Mirrored Round Sunglasses (53)',\n",
       " 'UV Protection, Others Round, Aviator Sunglasses (54)',\n",
       " 'UV Protection, Polarized, Mirrored Round Sunglasses (Fr...',\n",
       " 'UV Protection Wayfarer Sunglasses (Free Size)',\n",
       " 'UV Protection Wayfarer Sunglasses (56)',\n",
       " 'UV Protection, Gradient Retro Square Sunglasses (Free S...',\n",
       " 'UV Protection Rectangular Sunglasses (Free Size)',\n",
       " 'UV Protection Wayfarer Sunglasses (Free Size)',\n",
       " 'UV Protection Round Sunglasses (Free Size)',\n",
       " 'UV Protection Aviator Sunglasses (54)',\n",
       " 'Gradient, UV Protection Wayfarer Sunglasses (Free Size)',\n",
       " 'UV Protection Aviator Sunglasses (58)',\n",
       " 'UV Protection Aviator Sunglasses (88)',\n",
       " 'UV Protection Sports Sunglasses (Free Size)',\n",
       " 'UV Protection, Night Vision Wayfarer Sunglasses (Free S...',\n",
       " 'UV Protection Aviator Sunglasses (53)',\n",
       " 'UV Protection, Mirrored Retro Square Sunglasses (53)',\n",
       " 'Mirrored Round Sunglasses (Free Size)',\n",
       " 'UV Protection Wayfarer Sunglasses (Free Size)',\n",
       " 'UV Protection Rectangular Sunglasses (58)',\n",
       " 'UV Protection, Night Vision, Riding Glasses Aviator Sun...',\n",
       " 'UV Protection, Mirrored Retro Square Sunglasses (53)',\n",
       " 'Riding Glasses, Night Vision Wrap-around Sunglasses (Fr...',\n",
       " 'UV Protection Wayfarer Sunglasses (57)',\n",
       " 'UV Protection, Mirrored Round Sunglasses (54)',\n",
       " 'UV Protection Wayfarer Sunglasses (53)',\n",
       " 'UV Protection Round Sunglasses (Free Size)',\n",
       " 'Polarized, UV Protection Wayfarer Sunglasses (57)',\n",
       " 'UV Protection Aviator Sunglasses (Free Size)',\n",
       " 'UV Protection Rectangular Sunglasses (55)',\n",
       " 'UV Protection, Gradient Round Sunglasses (Free Size)',\n",
       " 'by Lenskart Polarized, UV Protection Wayfarer Sunglasse...',\n",
       " 'UV Protection Round Sunglasses (Free Size)',\n",
       " 'UV Protection Butterfly Sunglasses (65)',\n",
       " 'Polarized Round Sunglasses (48)',\n",
       " 'UV Protection Rectangular Sunglasses (Free Size)',\n",
       " 'UV Protection, Mirrored Retro Square Sunglasses (Free S...',\n",
       " 'UV Protection, Mirrored Round Sunglasses (Free Size)',\n",
       " 'UV Protection Rectangular Sunglasses (60)',\n",
       " 'UV Protection Aviator Sunglasses (58)',\n",
       " 'Polarized, UV Protection, Riding Glasses Wayfarer Sungl...',\n",
       " 'UV Protection Aviator Sunglasses (58)',\n",
       " 'UV Protection, Polarized Wayfarer Sunglasses (Free Size...',\n",
       " 'UV Protection Wayfarer Sunglasses (Free Size)',\n",
       " 'UV Protection, Gradient, Riding Glasses Wayfarer Sungla...',\n",
       " 'UV Protection Wayfarer Sunglasses (32)',\n",
       " 'UV Protection Round Sunglasses (50)',\n",
       " 'UV Protection Wayfarer Sunglasses (Free Size)',\n",
       " 'UV Protection, Riding Glasses Rectangular, Retro Square...',\n",
       " 'UV Protection Round Sunglasses (53)',\n",
       " 'UV Protection Retro Square Sunglasses (Free Size)',\n",
       " 'UV Protection Aviator Sunglasses (58)',\n",
       " 'Riding Glasses, UV Protection, Others Aviator Sunglasse...',\n",
       " 'UV Protection Wayfarer Sunglasses (Free Size)',\n",
       " 'UV Protection Round Sunglasses (50)',\n",
       " 'UV Protection Aviator Sunglasses (53)',\n",
       " 'UV Protection, Riding Glasses Wayfarer Sunglasses (53)',\n",
       " 'UV Protection Aviator Sunglasses (58)',\n",
       " 'UV Protection Aviator Sunglasses (Free Size)',\n",
       " 'UV Protection Oval Sunglasses (Free Size)',\n",
       " 'UV Protection, Night Vision, Riding Glasses, Gradient, ...',\n",
       " 'UV Protection, Mirrored, Night Vision, Riding Glasses S...',\n",
       " 'Mirrored, UV Protection Aviator Sunglasses (58)',\n",
       " 'Polarized, UV Protection Wayfarer Sunglasses (57)',\n",
       " 'UV Protection, Riding Glasses Rectangular, Retro Square...',\n",
       " 'UV Protection Rectangular Sunglasses (55)',\n",
       " 'UV Protection, Mirrored Aviator Sunglasses (Free Size)',\n",
       " 'UV Protection Wayfarer Sunglasses (57)',\n",
       " 'UV Protection, Others Round Sunglasses (48)',\n",
       " 'UV Protection Retro Square Sunglasses (Free Size)',\n",
       " 'UV Protection, Riding Glasses Rectangular Sunglasses (F...',\n",
       " 'UV Protection Wayfarer Sunglasses (Free Size)']"
      ]
     },
     "execution_count": 223,
     "metadata": {},
     "output_type": "execute_result"
    }
   ],
   "source": [
    "glass_discription"
   ]
  },
  {
   "cell_type": "code",
   "execution_count": 224,
   "id": "dd20d452",
   "metadata": {
    "collapsed": true
   },
   "outputs": [
    {
     "name": "stderr",
     "output_type": "stream",
     "text": [
      "<ipython-input-224-cde487096ebb>:1: DeprecationWarning: find_elements_by_* commands are deprecated. Please use find_elements() instead\n",
      "  price_tag3=driver.find_elements_by_xpath(\"//div[@class='_30jeq3']\")\n"
     ]
    },
    {
     "data": {
      "text/plain": [
       "[<selenium.webdriver.remote.webelement.WebElement (session=\"8ad37eb264425e988a2656f6c0c37e12\", element=\"b400f393-328f-453a-9fe3-6f45ed5d4fb7\")>,\n",
       " <selenium.webdriver.remote.webelement.WebElement (session=\"8ad37eb264425e988a2656f6c0c37e12\", element=\"4d0d05f2-8f05-4a00-8f6e-e0555cd216a9\")>,\n",
       " <selenium.webdriver.remote.webelement.WebElement (session=\"8ad37eb264425e988a2656f6c0c37e12\", element=\"4b3a168f-ce43-4f6e-84c7-f70921243e45\")>,\n",
       " <selenium.webdriver.remote.webelement.WebElement (session=\"8ad37eb264425e988a2656f6c0c37e12\", element=\"4a04f8a3-f0f9-433a-909a-3b67a980633c\")>,\n",
       " <selenium.webdriver.remote.webelement.WebElement (session=\"8ad37eb264425e988a2656f6c0c37e12\", element=\"f9ddb478-226d-4a61-97d1-c90f61fa997f\")>,\n",
       " <selenium.webdriver.remote.webelement.WebElement (session=\"8ad37eb264425e988a2656f6c0c37e12\", element=\"5f0a940f-6295-43e0-9577-0066b40743fe\")>,\n",
       " <selenium.webdriver.remote.webelement.WebElement (session=\"8ad37eb264425e988a2656f6c0c37e12\", element=\"10bd86a3-dd6f-42de-9426-c61d5843881c\")>,\n",
       " <selenium.webdriver.remote.webelement.WebElement (session=\"8ad37eb264425e988a2656f6c0c37e12\", element=\"4bf11c66-5bfc-485f-a9b6-983d999201b7\")>,\n",
       " <selenium.webdriver.remote.webelement.WebElement (session=\"8ad37eb264425e988a2656f6c0c37e12\", element=\"ddc0d0a5-c988-4b85-a1e8-152ff3b05bf3\")>,\n",
       " <selenium.webdriver.remote.webelement.WebElement (session=\"8ad37eb264425e988a2656f6c0c37e12\", element=\"ef169921-6ad5-4333-9374-b5a9bbeb85da\")>,\n",
       " <selenium.webdriver.remote.webelement.WebElement (session=\"8ad37eb264425e988a2656f6c0c37e12\", element=\"36cc15ba-2498-4123-9c62-772b625c07d7\")>,\n",
       " <selenium.webdriver.remote.webelement.WebElement (session=\"8ad37eb264425e988a2656f6c0c37e12\", element=\"2de77ac1-ebff-4cbe-81ba-b67a685ef40a\")>,\n",
       " <selenium.webdriver.remote.webelement.WebElement (session=\"8ad37eb264425e988a2656f6c0c37e12\", element=\"59c08f27-110e-4d4f-b139-ef59da78708d\")>,\n",
       " <selenium.webdriver.remote.webelement.WebElement (session=\"8ad37eb264425e988a2656f6c0c37e12\", element=\"31162d90-5c34-4ca9-8022-5d9c85bb80a8\")>,\n",
       " <selenium.webdriver.remote.webelement.WebElement (session=\"8ad37eb264425e988a2656f6c0c37e12\", element=\"5bc73d7c-8508-4e40-ad3d-a42d9c3a610f\")>,\n",
       " <selenium.webdriver.remote.webelement.WebElement (session=\"8ad37eb264425e988a2656f6c0c37e12\", element=\"e2a83bef-9106-4bf9-ac07-df5dc70729ae\")>,\n",
       " <selenium.webdriver.remote.webelement.WebElement (session=\"8ad37eb264425e988a2656f6c0c37e12\", element=\"3da9d8c8-adfe-4b16-8db5-92851f1376d5\")>,\n",
       " <selenium.webdriver.remote.webelement.WebElement (session=\"8ad37eb264425e988a2656f6c0c37e12\", element=\"d97cdd46-f9ba-4c6e-a81f-eec2bf80ca98\")>,\n",
       " <selenium.webdriver.remote.webelement.WebElement (session=\"8ad37eb264425e988a2656f6c0c37e12\", element=\"364ba021-4612-4297-a5e3-3c42a24ef559\")>,\n",
       " <selenium.webdriver.remote.webelement.WebElement (session=\"8ad37eb264425e988a2656f6c0c37e12\", element=\"a1737cf4-f4bb-4e2e-8862-d75fe079a456\")>,\n",
       " <selenium.webdriver.remote.webelement.WebElement (session=\"8ad37eb264425e988a2656f6c0c37e12\", element=\"275ed6da-0ea7-4a06-9f00-def9522cd59b\")>,\n",
       " <selenium.webdriver.remote.webelement.WebElement (session=\"8ad37eb264425e988a2656f6c0c37e12\", element=\"3a7d78f4-ce17-4a5d-8cc3-df44fd0d41f2\")>,\n",
       " <selenium.webdriver.remote.webelement.WebElement (session=\"8ad37eb264425e988a2656f6c0c37e12\", element=\"001d8ba5-a304-4e6f-998b-a360a3dd99b2\")>,\n",
       " <selenium.webdriver.remote.webelement.WebElement (session=\"8ad37eb264425e988a2656f6c0c37e12\", element=\"43fe194f-36ef-4804-8d7d-99da5e5f423a\")>,\n",
       " <selenium.webdriver.remote.webelement.WebElement (session=\"8ad37eb264425e988a2656f6c0c37e12\", element=\"d745f2b1-ab89-4f04-91c7-75c1a3721960\")>,\n",
       " <selenium.webdriver.remote.webelement.WebElement (session=\"8ad37eb264425e988a2656f6c0c37e12\", element=\"99c3a9af-fbaa-42f1-999a-7fc014252964\")>,\n",
       " <selenium.webdriver.remote.webelement.WebElement (session=\"8ad37eb264425e988a2656f6c0c37e12\", element=\"d5e39c38-7167-4e3e-8ea0-ba34f0fa0c43\")>,\n",
       " <selenium.webdriver.remote.webelement.WebElement (session=\"8ad37eb264425e988a2656f6c0c37e12\", element=\"2f6cf38e-3778-4915-830b-3130a8615dd2\")>,\n",
       " <selenium.webdriver.remote.webelement.WebElement (session=\"8ad37eb264425e988a2656f6c0c37e12\", element=\"dd9e08bb-4271-464d-92df-693a7cb9d7ca\")>,\n",
       " <selenium.webdriver.remote.webelement.WebElement (session=\"8ad37eb264425e988a2656f6c0c37e12\", element=\"aab937d1-16d1-48a8-8242-078833c562b8\")>,\n",
       " <selenium.webdriver.remote.webelement.WebElement (session=\"8ad37eb264425e988a2656f6c0c37e12\", element=\"41a1524a-b2ae-4188-9f32-c06a5127e64a\")>,\n",
       " <selenium.webdriver.remote.webelement.WebElement (session=\"8ad37eb264425e988a2656f6c0c37e12\", element=\"7a308c1b-d296-4e45-8978-ca2249179cc6\")>,\n",
       " <selenium.webdriver.remote.webelement.WebElement (session=\"8ad37eb264425e988a2656f6c0c37e12\", element=\"044a198d-0c39-4f62-9f47-d7536625aea7\")>,\n",
       " <selenium.webdriver.remote.webelement.WebElement (session=\"8ad37eb264425e988a2656f6c0c37e12\", element=\"27950341-e763-4b97-8dc7-f030e4722149\")>,\n",
       " <selenium.webdriver.remote.webelement.WebElement (session=\"8ad37eb264425e988a2656f6c0c37e12\", element=\"e41c380c-0d5c-403e-b100-63bcff762fbb\")>,\n",
       " <selenium.webdriver.remote.webelement.WebElement (session=\"8ad37eb264425e988a2656f6c0c37e12\", element=\"2cd19641-bbce-479b-b430-82add626f037\")>,\n",
       " <selenium.webdriver.remote.webelement.WebElement (session=\"8ad37eb264425e988a2656f6c0c37e12\", element=\"2eeb0e3a-cfa6-4261-9019-f2c792eae477\")>,\n",
       " <selenium.webdriver.remote.webelement.WebElement (session=\"8ad37eb264425e988a2656f6c0c37e12\", element=\"33055b79-9583-4b22-9815-1d26ebe41fd2\")>,\n",
       " <selenium.webdriver.remote.webelement.WebElement (session=\"8ad37eb264425e988a2656f6c0c37e12\", element=\"01b6ebb2-6dde-4f6b-b4e3-5f4c8ede71ed\")>,\n",
       " <selenium.webdriver.remote.webelement.WebElement (session=\"8ad37eb264425e988a2656f6c0c37e12\", element=\"9125e347-c21a-4f5d-b605-242a11c2fb6a\")>]"
      ]
     },
     "execution_count": 224,
     "metadata": {},
     "output_type": "execute_result"
    }
   ],
   "source": [
    "price_tag3=driver.find_elements_by_xpath(\"//div[@class='_30jeq3']\")\n",
    "price_tag3"
   ]
  },
  {
   "cell_type": "code",
   "execution_count": 225,
   "id": "3c25eabd",
   "metadata": {},
   "outputs": [],
   "source": [
    "for i in price_tag3:\n",
    "    price3=i.text\n",
    "    glass_price.append(price3)"
   ]
  },
  {
   "cell_type": "code",
   "execution_count": 226,
   "id": "5d11881d",
   "metadata": {},
   "outputs": [
    {
     "data": {
      "text/plain": [
       "['₹1,085',\n",
       " '₹758',\n",
       " '₹264',\n",
       " '₹513',\n",
       " '₹200',\n",
       " '₹200',\n",
       " '₹177',\n",
       " '₹733',\n",
       " '₹236',\n",
       " '₹329',\n",
       " '₹499',\n",
       " '₹1,059',\n",
       " '₹259',\n",
       " '₹269',\n",
       " '₹231',\n",
       " '₹999',\n",
       " '₹296',\n",
       " '₹239',\n",
       " '₹189',\n",
       " '₹503',\n",
       " '₹758',\n",
       " '₹246',\n",
       " '₹200',\n",
       " '₹999',\n",
       " '₹349',\n",
       " '₹179',\n",
       " '₹175',\n",
       " '₹822',\n",
       " '₹259',\n",
       " '₹196',\n",
       " '₹217',\n",
       " '₹689',\n",
       " '₹270',\n",
       " '₹263',\n",
       " '₹294',\n",
       " '₹999',\n",
       " '₹220',\n",
       " '₹215',\n",
       " '₹329',\n",
       " '₹449',\n",
       " '₹329',\n",
       " '₹270',\n",
       " '₹215',\n",
       " '₹513',\n",
       " '₹259',\n",
       " '₹189',\n",
       " '₹209',\n",
       " '₹1,085',\n",
       " '₹263',\n",
       " '₹189',\n",
       " '₹276',\n",
       " '₹758',\n",
       " '₹188',\n",
       " '₹325',\n",
       " '₹199',\n",
       " '₹733',\n",
       " '₹299',\n",
       " '₹200',\n",
       " '₹509',\n",
       " '₹1,059',\n",
       " '₹255',\n",
       " '₹287',\n",
       " '₹299',\n",
       " '₹999',\n",
       " '₹329',\n",
       " '₹340',\n",
       " '₹649',\n",
       " '₹449',\n",
       " '₹295',\n",
       " '₹329',\n",
       " '₹276',\n",
       " '₹503',\n",
       " '₹219',\n",
       " '₹299',\n",
       " '₹259',\n",
       " '₹999',\n",
       " '₹166',\n",
       " '₹169',\n",
       " '₹449',\n",
       " '₹999',\n",
       " '₹299',\n",
       " '₹359',\n",
       " '₹179',\n",
       " '₹513',\n",
       " '₹329',\n",
       " '₹249',\n",
       " '₹186',\n",
       " '₹1,085',\n",
       " '₹236',\n",
       " '₹319',\n",
       " '₹276',\n",
       " '₹758',\n",
       " '₹227',\n",
       " '₹200',\n",
       " '₹359',\n",
       " '₹733',\n",
       " '₹332',\n",
       " '₹264',\n",
       " '₹319',\n",
       " '₹1,059',\n",
       " '₹226',\n",
       " '₹619',\n",
       " '₹359',\n",
       " '₹999',\n",
       " '₹209',\n",
       " '₹319',\n",
       " '₹526',\n",
       " '₹359',\n",
       " '₹189',\n",
       " '₹345',\n",
       " '₹3,142',\n",
       " '₹999',\n",
       " '₹332',\n",
       " '₹269',\n",
       " '₹249',\n",
       " '₹503',\n",
       " '₹260',\n",
       " '₹299',\n",
       " '₹379',\n",
       " '₹822']"
      ]
     },
     "execution_count": 226,
     "metadata": {},
     "output_type": "execute_result"
    }
   ],
   "source": [
    "glass_price"
   ]
  },
  {
   "cell_type": "code",
   "execution_count": 528,
   "id": "facad7e1",
   "metadata": {
    "collapsed": true
   },
   "outputs": [
    {
     "data": {
      "text/plain": [
       "[]"
      ]
     },
     "execution_count": 528,
     "metadata": {},
     "output_type": "execute_result"
    }
   ],
   "source": [
    "offer_tag3=driver.find_elements_by_xpath(\"//div[@class='_2Tpdn3 _18hQoS']\")\n",
    "offer_tag3"
   ]
  },
  {
   "cell_type": "code",
   "execution_count": 235,
   "id": "1ceefd80",
   "metadata": {},
   "outputs": [],
   "source": [
    "for j in offer_tag3:\n",
    "    offer3=j.text\n",
    "    glass_offer.append(offer3)"
   ]
  },
  {
   "cell_type": "code",
   "execution_count": 236,
   "id": "c69aa75f",
   "metadata": {},
   "outputs": [
    {
     "data": {
      "text/plain": [
       "105"
      ]
     },
     "execution_count": 236,
     "metadata": {},
     "output_type": "execute_result"
    }
   ],
   "source": [
    "len(glass_offer)"
   ]
  },
  {
   "cell_type": "code",
   "execution_count": 237,
   "id": "18905725",
   "metadata": {},
   "outputs": [],
   "source": [
    "glass=pd.DataFrame({})"
   ]
  },
  {
   "cell_type": "code",
   "execution_count": 238,
   "id": "8b39db85",
   "metadata": {},
   "outputs": [],
   "source": [
    "glass['NAME']=glass_brand[0:100]\n",
    "glass['DISCRIPTION']=glass_discription[0:100]\n",
    "glass['PRICE']=glass_price[0:100]\n",
    "glass['OFFER']=glass_offer[0:100]"
   ]
  },
  {
   "cell_type": "code",
   "execution_count": 239,
   "id": "4529738d",
   "metadata": {},
   "outputs": [
    {
     "data": {
      "text/html": [
       "<div>\n",
       "<style scoped>\n",
       "    .dataframe tbody tr th:only-of-type {\n",
       "        vertical-align: middle;\n",
       "    }\n",
       "\n",
       "    .dataframe tbody tr th {\n",
       "        vertical-align: top;\n",
       "    }\n",
       "\n",
       "    .dataframe thead th {\n",
       "        text-align: right;\n",
       "    }\n",
       "</style>\n",
       "<table border=\"1\" class=\"dataframe\">\n",
       "  <thead>\n",
       "    <tr style=\"text-align: right;\">\n",
       "      <th></th>\n",
       "      <th>NAME</th>\n",
       "      <th>DISCRIPTION</th>\n",
       "      <th>PRICE</th>\n",
       "      <th>OFFER</th>\n",
       "    </tr>\n",
       "  </thead>\n",
       "  <tbody>\n",
       "    <tr>\n",
       "      <th>0</th>\n",
       "      <td>Fastrack</td>\n",
       "      <td>UV Protection Aviator Sunglasses (58)</td>\n",
       "      <td>₹1,085</td>\n",
       "      <td>Buy 2 items, save extra 5%</td>\n",
       "    </tr>\n",
       "    <tr>\n",
       "      <th>1</th>\n",
       "      <td>Fastrack</td>\n",
       "      <td>UV Protection Wayfarer Sunglasses (Free Size)</td>\n",
       "      <td>₹758</td>\n",
       "      <td>Buy 2 items, save extra 5%</td>\n",
       "    </tr>\n",
       "    <tr>\n",
       "      <th>2</th>\n",
       "      <td>Elligator</td>\n",
       "      <td>UV Protection Round Sunglasses (54)</td>\n",
       "      <td>₹264</td>\n",
       "      <td>Deal of the Day</td>\n",
       "    </tr>\n",
       "    <tr>\n",
       "      <th>3</th>\n",
       "      <td>Fastrack</td>\n",
       "      <td>UV Protection Rectangular Sunglasses (Free Size)</td>\n",
       "      <td>₹513</td>\n",
       "      <td>Buy 2 items, save extra 5%</td>\n",
       "    </tr>\n",
       "    <tr>\n",
       "      <th>4</th>\n",
       "      <td>PIRASO</td>\n",
       "      <td>UV Protection Aviator Sunglasses (54)</td>\n",
       "      <td>₹200</td>\n",
       "      <td>Deal of the Day</td>\n",
       "    </tr>\n",
       "    <tr>\n",
       "      <th>...</th>\n",
       "      <td>...</td>\n",
       "      <td>...</td>\n",
       "      <td>...</td>\n",
       "      <td>...</td>\n",
       "    </tr>\n",
       "    <tr>\n",
       "      <th>95</th>\n",
       "      <td>Fastrack</td>\n",
       "      <td>UV Protection Wayfarer Sunglasses (Free Size)</td>\n",
       "      <td>₹733</td>\n",
       "      <td>Buy 2 items, save extra 5%</td>\n",
       "    </tr>\n",
       "    <tr>\n",
       "      <th>96</th>\n",
       "      <td>Elligator</td>\n",
       "      <td>UV Protection, Riding Glasses Rectangular, Ret...</td>\n",
       "      <td>₹332</td>\n",
       "      <td>Deal of the Day</td>\n",
       "    </tr>\n",
       "    <tr>\n",
       "      <th>97</th>\n",
       "      <td>Elligator</td>\n",
       "      <td>UV Protection Round Sunglasses (53)</td>\n",
       "      <td>₹264</td>\n",
       "      <td>Deal of the Day</td>\n",
       "    </tr>\n",
       "    <tr>\n",
       "      <th>98</th>\n",
       "      <td>ABNER</td>\n",
       "      <td>UV Protection Retro Square Sunglasses (Free Size)</td>\n",
       "      <td>₹319</td>\n",
       "      <td>Deal of the Day</td>\n",
       "    </tr>\n",
       "    <tr>\n",
       "      <th>99</th>\n",
       "      <td>Fastrack</td>\n",
       "      <td>UV Protection Aviator Sunglasses (58)</td>\n",
       "      <td>₹1,059</td>\n",
       "      <td>Deal of the Day</td>\n",
       "    </tr>\n",
       "  </tbody>\n",
       "</table>\n",
       "<p>100 rows × 4 columns</p>\n",
       "</div>"
      ],
      "text/plain": [
       "         NAME                                        DISCRIPTION   PRICE  \\\n",
       "0    Fastrack              UV Protection Aviator Sunglasses (58)  ₹1,085   \n",
       "1    Fastrack      UV Protection Wayfarer Sunglasses (Free Size)    ₹758   \n",
       "2   Elligator                UV Protection Round Sunglasses (54)    ₹264   \n",
       "3    Fastrack   UV Protection Rectangular Sunglasses (Free Size)    ₹513   \n",
       "4      PIRASO              UV Protection Aviator Sunglasses (54)    ₹200   \n",
       "..        ...                                                ...     ...   \n",
       "95   Fastrack      UV Protection Wayfarer Sunglasses (Free Size)    ₹733   \n",
       "96  Elligator  UV Protection, Riding Glasses Rectangular, Ret...    ₹332   \n",
       "97  Elligator                UV Protection Round Sunglasses (53)    ₹264   \n",
       "98      ABNER  UV Protection Retro Square Sunglasses (Free Size)    ₹319   \n",
       "99   Fastrack              UV Protection Aviator Sunglasses (58)  ₹1,059   \n",
       "\n",
       "                         OFFER  \n",
       "0   Buy 2 items, save extra 5%  \n",
       "1   Buy 2 items, save extra 5%  \n",
       "2              Deal of the Day  \n",
       "3   Buy 2 items, save extra 5%  \n",
       "4              Deal of the Day  \n",
       "..                         ...  \n",
       "95  Buy 2 items, save extra 5%  \n",
       "96             Deal of the Day  \n",
       "97             Deal of the Day  \n",
       "98             Deal of the Day  \n",
       "99             Deal of the Day  \n",
       "\n",
       "[100 rows x 4 columns]"
      ]
     },
     "execution_count": 239,
     "metadata": {},
     "output_type": "execute_result"
    }
   ],
   "source": [
    "glass"
   ]
  },
  {
   "cell_type": "markdown",
   "id": "8b34409e",
   "metadata": {},
   "source": [
    "# 5)100 reviews of iphone11 in flipkart"
   ]
  },
  {
   "cell_type": "code",
   "execution_count": 475,
   "id": "1573f74c",
   "metadata": {},
   "outputs": [],
   "source": [
    "PATH = r\"/Users/akshathaaravind/Downloads/chromedriver\""
   ]
  },
  {
   "cell_type": "code",
   "execution_count": 476,
   "id": "b8c535a7",
   "metadata": {},
   "outputs": [],
   "source": [
    "driver=webdriver.Chrome(PATH)"
   ]
  },
  {
   "cell_type": "code",
   "execution_count": 477,
   "id": "b5f8df34",
   "metadata": {},
   "outputs": [],
   "source": [
    "driver.get(\"https://www.flipkart.com/apple-iphone-11-black-64-gb-includes-earpods-power-adapter/product-reviews/itm0f37c2240b217?pid=MOBFKCTSVZAXUHGR&lid=LSTMOBFKCTSVZAXUHGREPBFGI&marketplace=FLIPKART\")"
   ]
  },
  {
   "cell_type": "code",
   "execution_count": 478,
   "id": "52589c36",
   "metadata": {},
   "outputs": [],
   "source": [
    "rating_tag=driver.find_elements_by_xpath(\"//div[@class='_3LWZlK _1BLPMq']\")"
   ]
  },
  {
   "cell_type": "code",
   "execution_count": 479,
   "id": "30fe03fc",
   "metadata": {
    "collapsed": true
   },
   "outputs": [
    {
     "data": {
      "text/plain": [
       "[<selenium.webdriver.remote.webelement.WebElement (session=\"58d04a734468e9ed81c940dbfd751cfa\", element=\"3a56df1a-19d6-4353-823a-31e373a727c1\")>,\n",
       " <selenium.webdriver.remote.webelement.WebElement (session=\"58d04a734468e9ed81c940dbfd751cfa\", element=\"d7dc20e9-5777-438d-8009-d37cebcdaedc\")>,\n",
       " <selenium.webdriver.remote.webelement.WebElement (session=\"58d04a734468e9ed81c940dbfd751cfa\", element=\"1e92f581-6c70-4604-bbf1-08c0c6e4c9e1\")>,\n",
       " <selenium.webdriver.remote.webelement.WebElement (session=\"58d04a734468e9ed81c940dbfd751cfa\", element=\"b55b472b-56a7-4440-a270-787dfb187397\")>,\n",
       " <selenium.webdriver.remote.webelement.WebElement (session=\"58d04a734468e9ed81c940dbfd751cfa\", element=\"c4cbb5f3-a6e5-4560-b246-96c8ede998ea\")>,\n",
       " <selenium.webdriver.remote.webelement.WebElement (session=\"58d04a734468e9ed81c940dbfd751cfa\", element=\"ea076254-7df5-4a3e-893d-2539a3873f2f\")>,\n",
       " <selenium.webdriver.remote.webelement.WebElement (session=\"58d04a734468e9ed81c940dbfd751cfa\", element=\"bbf0335c-aaa1-4153-9e8d-8c238be18b3c\")>,\n",
       " <selenium.webdriver.remote.webelement.WebElement (session=\"58d04a734468e9ed81c940dbfd751cfa\", element=\"99f1658a-5399-47f8-8680-6adb9a6812bb\")>,\n",
       " <selenium.webdriver.remote.webelement.WebElement (session=\"58d04a734468e9ed81c940dbfd751cfa\", element=\"b3c1d852-b402-4687-a1a7-400157f7eb07\")>,\n",
       " <selenium.webdriver.remote.webelement.WebElement (session=\"58d04a734468e9ed81c940dbfd751cfa\", element=\"76eae550-96dd-4e2b-83cb-ea9cfad20f9e\")>]"
      ]
     },
     "execution_count": 479,
     "metadata": {},
     "output_type": "execute_result"
    }
   ],
   "source": [
    "rating_tag"
   ]
  },
  {
   "cell_type": "code",
   "execution_count": 480,
   "id": "18b22bf0",
   "metadata": {},
   "outputs": [],
   "source": [
    "rating=[]\n",
    "reviewsummary=[]\n",
    "fullreview=[]"
   ]
  },
  {
   "cell_type": "code",
   "execution_count": 482,
   "id": "ccd6b888",
   "metadata": {},
   "outputs": [],
   "source": [
    "for i in rating_tag:\n",
    "    ratings=i.text\n",
    "    rating.append(ratings)"
   ]
  },
  {
   "cell_type": "code",
   "execution_count": 483,
   "id": "28eee9c1",
   "metadata": {},
   "outputs": [
    {
     "data": {
      "text/plain": [
       "['5', '5', '5', '5', '5', '5', '5', '4', '5', '5']"
      ]
     },
     "execution_count": 483,
     "metadata": {},
     "output_type": "execute_result"
    }
   ],
   "source": [
    "rating"
   ]
  },
  {
   "cell_type": "code",
   "execution_count": 484,
   "id": "a6f9c71d",
   "metadata": {},
   "outputs": [],
   "source": [
    "reviewsum=driver.find_elements_by_xpath(\"//p[@class='_2-N8zT']\")"
   ]
  },
  {
   "cell_type": "code",
   "execution_count": 485,
   "id": "59ad3d13",
   "metadata": {
    "collapsed": true
   },
   "outputs": [
    {
     "data": {
      "text/plain": [
       "[<selenium.webdriver.remote.webelement.WebElement (session=\"58d04a734468e9ed81c940dbfd751cfa\", element=\"3c84f8c9-01c2-42b9-b6ad-ff212bc49df7\")>,\n",
       " <selenium.webdriver.remote.webelement.WebElement (session=\"58d04a734468e9ed81c940dbfd751cfa\", element=\"a3561aea-cc7e-4611-979e-c14828098285\")>,\n",
       " <selenium.webdriver.remote.webelement.WebElement (session=\"58d04a734468e9ed81c940dbfd751cfa\", element=\"77540a72-05f3-4510-b107-0766104f6329\")>,\n",
       " <selenium.webdriver.remote.webelement.WebElement (session=\"58d04a734468e9ed81c940dbfd751cfa\", element=\"a11e96d5-e082-49cd-8a69-86aeeca13f4a\")>,\n",
       " <selenium.webdriver.remote.webelement.WebElement (session=\"58d04a734468e9ed81c940dbfd751cfa\", element=\"f2299453-8c37-4dfa-8fea-32984339d0a2\")>,\n",
       " <selenium.webdriver.remote.webelement.WebElement (session=\"58d04a734468e9ed81c940dbfd751cfa\", element=\"b285e90a-3a97-4826-93ff-107688d101ac\")>,\n",
       " <selenium.webdriver.remote.webelement.WebElement (session=\"58d04a734468e9ed81c940dbfd751cfa\", element=\"9e0b527f-9ad2-4add-8388-65803513d10b\")>,\n",
       " <selenium.webdriver.remote.webelement.WebElement (session=\"58d04a734468e9ed81c940dbfd751cfa\", element=\"824cbbc6-634f-4372-87c2-9b2b4dffb80b\")>,\n",
       " <selenium.webdriver.remote.webelement.WebElement (session=\"58d04a734468e9ed81c940dbfd751cfa\", element=\"e486336a-fb51-45ba-b474-e660228beb97\")>,\n",
       " <selenium.webdriver.remote.webelement.WebElement (session=\"58d04a734468e9ed81c940dbfd751cfa\", element=\"15687ce1-db57-4235-a523-99d1fdfa0b81\")>]"
      ]
     },
     "execution_count": 485,
     "metadata": {},
     "output_type": "execute_result"
    }
   ],
   "source": [
    "reviewsum"
   ]
  },
  {
   "cell_type": "code",
   "execution_count": 487,
   "id": "725295e7",
   "metadata": {},
   "outputs": [],
   "source": [
    "for i in reviewsum:\n",
    "    summary=i.text\n",
    "    reviewsummary.append(summary)"
   ]
  },
  {
   "cell_type": "code",
   "execution_count": 488,
   "id": "11ed2d45",
   "metadata": {},
   "outputs": [
    {
     "data": {
      "text/plain": [
       "['Brilliant',\n",
       " 'Simply awesome',\n",
       " 'Perfect product!',\n",
       " 'Worth every penny',\n",
       " 'Fabulous!',\n",
       " 'Best in the market!',\n",
       " 'Great product',\n",
       " 'Good choice',\n",
       " 'Worth every penny',\n",
       " 'Highly recommended']"
      ]
     },
     "execution_count": 488,
     "metadata": {},
     "output_type": "execute_result"
    }
   ],
   "source": [
    "reviewsummary"
   ]
  },
  {
   "cell_type": "code",
   "execution_count": 489,
   "id": "11cecc4e",
   "metadata": {},
   "outputs": [],
   "source": [
    "review=driver.find_elements_by_xpath(\"//div[@class='t-ZTKy']\")"
   ]
  },
  {
   "cell_type": "code",
   "execution_count": 490,
   "id": "e31316e1",
   "metadata": {
    "collapsed": true
   },
   "outputs": [
    {
     "data": {
      "text/plain": [
       "[<selenium.webdriver.remote.webelement.WebElement (session=\"58d04a734468e9ed81c940dbfd751cfa\", element=\"49bcba0b-5ec3-4b12-a8a5-139c172e4fa5\")>,\n",
       " <selenium.webdriver.remote.webelement.WebElement (session=\"58d04a734468e9ed81c940dbfd751cfa\", element=\"fd1df3a1-06b4-414b-86d6-f58d02ab43cc\")>,\n",
       " <selenium.webdriver.remote.webelement.WebElement (session=\"58d04a734468e9ed81c940dbfd751cfa\", element=\"6be548d6-53db-4013-8a9f-be4397b7d6b6\")>,\n",
       " <selenium.webdriver.remote.webelement.WebElement (session=\"58d04a734468e9ed81c940dbfd751cfa\", element=\"d1fdf4f5-2564-49e3-a4e0-328ee4ae721c\")>,\n",
       " <selenium.webdriver.remote.webelement.WebElement (session=\"58d04a734468e9ed81c940dbfd751cfa\", element=\"25a3d097-0ac4-426f-8094-5d81ab8be766\")>,\n",
       " <selenium.webdriver.remote.webelement.WebElement (session=\"58d04a734468e9ed81c940dbfd751cfa\", element=\"cf7100c4-9639-4019-9973-2fc23f264910\")>,\n",
       " <selenium.webdriver.remote.webelement.WebElement (session=\"58d04a734468e9ed81c940dbfd751cfa\", element=\"19f430b8-7a4d-4af1-81f3-697b73fb54a1\")>,\n",
       " <selenium.webdriver.remote.webelement.WebElement (session=\"58d04a734468e9ed81c940dbfd751cfa\", element=\"f70425f7-30b9-4b55-a5f3-2dbd333f85a3\")>,\n",
       " <selenium.webdriver.remote.webelement.WebElement (session=\"58d04a734468e9ed81c940dbfd751cfa\", element=\"4668fce2-cb41-4e19-b2b2-b072918eab57\")>,\n",
       " <selenium.webdriver.remote.webelement.WebElement (session=\"58d04a734468e9ed81c940dbfd751cfa\", element=\"6b4cb185-627e-4d2b-9693-7798523837f9\")>]"
      ]
     },
     "execution_count": 490,
     "metadata": {},
     "output_type": "execute_result"
    }
   ],
   "source": [
    "review"
   ]
  },
  {
   "cell_type": "code",
   "execution_count": 491,
   "id": "31c35f75",
   "metadata": {},
   "outputs": [],
   "source": [
    "for i in review:\n",
    "    fullsummary=i.text\n",
    "    fullreview.append(fullsummary)"
   ]
  },
  {
   "cell_type": "code",
   "execution_count": 492,
   "id": "e92f404d",
   "metadata": {},
   "outputs": [
    {
     "data": {
      "text/plain": [
       "['The Best Phone for the Money\\n\\nThe iPhone 11 offers superb cameras, a more durable design and excellent battery life for an affordable price.\\n\\nCompelling ultra-wide camera\\nNew Night mode is excellent\\nLong battery life',\n",
       " 'Really satisfied with the Product I received... It’s totally genuine and the packaging was also really good so if ur planning to buy just go for it.',\n",
       " 'Amazing phone with great cameras and better battery which gives you the best performance. I just love the camera .',\n",
       " 'Previously I was using one plus 3t it was a great phone\\nAnd then I decided to upgrade I am stuck between Samsung s10 plus or iPhone 11\\nI have seen the specs and everything were good except the display it’s somewhere between 720-1080 and it’s not even an amoled it’s an LCD display\\nBut I decided to go with iPhone because I have never used an IOS device I have Been an android user from the past 9 years I ordered IPhone 11 (128gb) product red\\nMy experience after using 3 weeks\\n1. The delivery ...\\nREAD MORE',\n",
       " 'This is my first iOS phone. I am very happy with this product. Very much satisfied with this. I love this phone.',\n",
       " 'Great iPhone very snappy experience as apple kind. Upgraded from iPhone 7.\\nPros\\n-Camera top class\\n- Battery top performed\\n-Chipset no need to say as apple kind\\n-Security as you expect from apple\\n- Display super bright industry leading colour\\naccuracy and super responsive\\n-Build quality as expect from apple sturdy\\npremium durable beautiful stylish.\\n-Os most stable os in smartphone industry\\n\\nCons\\n-No 5G\\n-Display is not based on OLED technology\\n-Charger headphones and 1 apple stic...\\nREAD MORE',\n",
       " 'Amazing Powerful and Durable Gadget.\\n\\nI’m am very happy with the camera picture quality, Amazing face id unlocked in dark room, Strong battery with perfect screen size as you can carry easily in pocket. This is my third iPhone.\\n\\nI shifted from android Samsung Note series to iPhone because of the strong build quality and peace of mind for next 3-4 years.\\n\\nDon’t think to much just go for it and I suggest you to go for minimum 128gb variant or more 256gb.\\n\\nI’ve attached my puppy pics and no fi...\\nREAD MORE',\n",
       " 'So far it’s been an AMAZING experience coming back to iOS after nearly a decade but it’s not as versatile as android though phone is sturdy dropped it accidentally a couple of times and nothing happened fortunately camera is awesome',\n",
       " 'i11 is worthy to buy, too much happy with the product. Thank u flipkart I received the item on time..loved it..',\n",
       " 'iphone 11 is a very good phone to buy only if you can compromise for the display. The display on this is device is pretty good but you can get other options with better displays in this price segment.\\nIf you can survive with an HD+ LCD panel with thicker bezels and a notch up top then this is a very good phone for you.\\nCameras are awesome, battery backup excellent, great performance and a decent premium look. Good job Apple !']"
      ]
     },
     "execution_count": 492,
     "metadata": {},
     "output_type": "execute_result"
    }
   ],
   "source": [
    "fullreview"
   ]
  },
  {
   "cell_type": "code",
   "execution_count": 495,
   "id": "83b87544",
   "metadata": {},
   "outputs": [],
   "source": [
    "next=driver.find_element_by_xpath(\"//a[@class='_1LKTO3']\")"
   ]
  },
  {
   "cell_type": "code",
   "execution_count": 496,
   "id": "63df880f",
   "metadata": {},
   "outputs": [],
   "source": [
    "next.click()"
   ]
  },
  {
   "cell_type": "code",
   "execution_count": 497,
   "id": "9cedf81e",
   "metadata": {},
   "outputs": [],
   "source": [
    "rating_tag2=driver.find_elements_by_xpath(\"//div[@class='_3LWZlK _1BLPMq']\")"
   ]
  },
  {
   "cell_type": "code",
   "execution_count": 498,
   "id": "8f78facb",
   "metadata": {
    "collapsed": true
   },
   "outputs": [
    {
     "data": {
      "text/plain": [
       "[<selenium.webdriver.remote.webelement.WebElement (session=\"58d04a734468e9ed81c940dbfd751cfa\", element=\"d913e2ac-c996-4ceb-9c3b-f9731592ee63\")>,\n",
       " <selenium.webdriver.remote.webelement.WebElement (session=\"58d04a734468e9ed81c940dbfd751cfa\", element=\"107cbbca-1107-4903-b435-a3e92c1a255a\")>,\n",
       " <selenium.webdriver.remote.webelement.WebElement (session=\"58d04a734468e9ed81c940dbfd751cfa\", element=\"cd6721e0-fdfb-41e0-bdf5-ccdf8ff27a5a\")>,\n",
       " <selenium.webdriver.remote.webelement.WebElement (session=\"58d04a734468e9ed81c940dbfd751cfa\", element=\"8c87d661-2bef-49a8-b3d5-dc4f1d1397dc\")>,\n",
       " <selenium.webdriver.remote.webelement.WebElement (session=\"58d04a734468e9ed81c940dbfd751cfa\", element=\"57511e3b-9191-4b86-aa53-b4a8405c4076\")>,\n",
       " <selenium.webdriver.remote.webelement.WebElement (session=\"58d04a734468e9ed81c940dbfd751cfa\", element=\"80da0e9c-51ab-4be2-84a6-9777ad275bf0\")>,\n",
       " <selenium.webdriver.remote.webelement.WebElement (session=\"58d04a734468e9ed81c940dbfd751cfa\", element=\"41b41fcc-ccf2-4532-8edb-0c919e094be4\")>,\n",
       " <selenium.webdriver.remote.webelement.WebElement (session=\"58d04a734468e9ed81c940dbfd751cfa\", element=\"eddfd13a-c346-4d76-858b-7577e7a8863f\")>,\n",
       " <selenium.webdriver.remote.webelement.WebElement (session=\"58d04a734468e9ed81c940dbfd751cfa\", element=\"fcf67e98-fb0c-4b9e-8d49-9f41a6883d77\")>,\n",
       " <selenium.webdriver.remote.webelement.WebElement (session=\"58d04a734468e9ed81c940dbfd751cfa\", element=\"699e9cd1-9140-4b00-8f2e-b65cddd714df\")>]"
      ]
     },
     "execution_count": 498,
     "metadata": {},
     "output_type": "execute_result"
    }
   ],
   "source": [
    "rating_tag2"
   ]
  },
  {
   "cell_type": "code",
   "execution_count": 499,
   "id": "89dcdd29",
   "metadata": {},
   "outputs": [],
   "source": [
    "for i in rating_tag2:\n",
    "    ratings2=i.text\n",
    "    rating.append(ratings2)"
   ]
  },
  {
   "cell_type": "code",
   "execution_count": 500,
   "id": "e8376f94",
   "metadata": {},
   "outputs": [
    {
     "data": {
      "text/plain": [
       "['5',\n",
       " '5',\n",
       " '5',\n",
       " '5',\n",
       " '5',\n",
       " '5',\n",
       " '5',\n",
       " '4',\n",
       " '5',\n",
       " '5',\n",
       " '5',\n",
       " '5',\n",
       " '5',\n",
       " '5',\n",
       " '5',\n",
       " '5',\n",
       " '5',\n",
       " '5',\n",
       " '5',\n",
       " '5']"
      ]
     },
     "execution_count": 500,
     "metadata": {},
     "output_type": "execute_result"
    }
   ],
   "source": [
    "rating"
   ]
  },
  {
   "cell_type": "code",
   "execution_count": 501,
   "id": "8228149b",
   "metadata": {},
   "outputs": [],
   "source": [
    "reviewsum2=driver.find_elements_by_xpath(\"//p[@class='_2-N8zT']\")"
   ]
  },
  {
   "cell_type": "code",
   "execution_count": 502,
   "id": "ac597d44",
   "metadata": {
    "collapsed": true
   },
   "outputs": [
    {
     "data": {
      "text/plain": [
       "[<selenium.webdriver.remote.webelement.WebElement (session=\"58d04a734468e9ed81c940dbfd751cfa\", element=\"4c5bdb54-095d-4354-b068-37cc352e85f0\")>,\n",
       " <selenium.webdriver.remote.webelement.WebElement (session=\"58d04a734468e9ed81c940dbfd751cfa\", element=\"d50df61e-aad8-4561-a15d-97ea7692ef44\")>,\n",
       " <selenium.webdriver.remote.webelement.WebElement (session=\"58d04a734468e9ed81c940dbfd751cfa\", element=\"11f1334d-ee84-450f-a9e0-5cd3b2e25a1c\")>,\n",
       " <selenium.webdriver.remote.webelement.WebElement (session=\"58d04a734468e9ed81c940dbfd751cfa\", element=\"7720428e-d214-49e7-9dd7-5140a5f28546\")>,\n",
       " <selenium.webdriver.remote.webelement.WebElement (session=\"58d04a734468e9ed81c940dbfd751cfa\", element=\"9c5232b5-5c25-41bc-a440-3328b6166736\")>,\n",
       " <selenium.webdriver.remote.webelement.WebElement (session=\"58d04a734468e9ed81c940dbfd751cfa\", element=\"9c3f628d-df37-4bce-b26a-bfbe33bea0eb\")>,\n",
       " <selenium.webdriver.remote.webelement.WebElement (session=\"58d04a734468e9ed81c940dbfd751cfa\", element=\"0ef01cc3-2061-43c4-a137-499becf1858f\")>,\n",
       " <selenium.webdriver.remote.webelement.WebElement (session=\"58d04a734468e9ed81c940dbfd751cfa\", element=\"d44c6f5a-30ee-427e-8f1e-24769b68723c\")>,\n",
       " <selenium.webdriver.remote.webelement.WebElement (session=\"58d04a734468e9ed81c940dbfd751cfa\", element=\"7f81b686-482e-4d16-a27a-5221692417bb\")>,\n",
       " <selenium.webdriver.remote.webelement.WebElement (session=\"58d04a734468e9ed81c940dbfd751cfa\", element=\"617043d6-a8d2-4cbd-8c72-f85dc95a4b75\")>]"
      ]
     },
     "execution_count": 502,
     "metadata": {},
     "output_type": "execute_result"
    }
   ],
   "source": [
    "reviewsum2"
   ]
  },
  {
   "cell_type": "code",
   "execution_count": 503,
   "id": "6e9a8910",
   "metadata": {},
   "outputs": [],
   "source": [
    "for i in reviewsum2:\n",
    "    summary2=i.text\n",
    "    reviewsummary.append(summary2)"
   ]
  },
  {
   "cell_type": "code",
   "execution_count": 504,
   "id": "4b5f6804",
   "metadata": {},
   "outputs": [
    {
     "data": {
      "text/plain": [
       "['Brilliant',\n",
       " 'Simply awesome',\n",
       " 'Perfect product!',\n",
       " 'Worth every penny',\n",
       " 'Fabulous!',\n",
       " 'Best in the market!',\n",
       " 'Great product',\n",
       " 'Good choice',\n",
       " 'Worth every penny',\n",
       " 'Highly recommended',\n",
       " 'Highly recommended',\n",
       " 'Perfect product!',\n",
       " 'Perfect product!',\n",
       " 'Classy product',\n",
       " 'Worth every penny',\n",
       " 'Simply awesome',\n",
       " 'Perfect product!',\n",
       " 'Highly recommended',\n",
       " 'Worth every penny',\n",
       " 'Worth every penny']"
      ]
     },
     "execution_count": 504,
     "metadata": {},
     "output_type": "execute_result"
    }
   ],
   "source": [
    "reviewsummary"
   ]
  },
  {
   "cell_type": "code",
   "execution_count": 505,
   "id": "98b04507",
   "metadata": {},
   "outputs": [],
   "source": [
    "review2=driver.find_elements_by_xpath(\"//div[@class='t-ZTKy']\")"
   ]
  },
  {
   "cell_type": "code",
   "execution_count": 506,
   "id": "41a274d5",
   "metadata": {},
   "outputs": [
    {
     "data": {
      "text/plain": [
       "[<selenium.webdriver.remote.webelement.WebElement (session=\"58d04a734468e9ed81c940dbfd751cfa\", element=\"3c361154-d35f-4388-90ca-9834d91d6d9b\")>,\n",
       " <selenium.webdriver.remote.webelement.WebElement (session=\"58d04a734468e9ed81c940dbfd751cfa\", element=\"d3dd454f-7e66-4a9d-83fa-14a8d37bdb93\")>,\n",
       " <selenium.webdriver.remote.webelement.WebElement (session=\"58d04a734468e9ed81c940dbfd751cfa\", element=\"bc9a4c95-753e-4ab7-a5d2-08d34a6875f3\")>,\n",
       " <selenium.webdriver.remote.webelement.WebElement (session=\"58d04a734468e9ed81c940dbfd751cfa\", element=\"90e5f0e0-9f52-4046-aa2b-05a928a00687\")>,\n",
       " <selenium.webdriver.remote.webelement.WebElement (session=\"58d04a734468e9ed81c940dbfd751cfa\", element=\"a4a9ce2a-9135-4a4a-b36b-2746a9caf487\")>,\n",
       " <selenium.webdriver.remote.webelement.WebElement (session=\"58d04a734468e9ed81c940dbfd751cfa\", element=\"0a126fd7-c042-464c-8581-4b9221bb8706\")>,\n",
       " <selenium.webdriver.remote.webelement.WebElement (session=\"58d04a734468e9ed81c940dbfd751cfa\", element=\"9ef6afca-434d-4cdc-af43-d646a8ac9846\")>,\n",
       " <selenium.webdriver.remote.webelement.WebElement (session=\"58d04a734468e9ed81c940dbfd751cfa\", element=\"6a7ea541-7baa-4b6b-b385-b64354e5ea15\")>,\n",
       " <selenium.webdriver.remote.webelement.WebElement (session=\"58d04a734468e9ed81c940dbfd751cfa\", element=\"9fa05347-02ee-4b75-ac1a-50a9623c7816\")>,\n",
       " <selenium.webdriver.remote.webelement.WebElement (session=\"58d04a734468e9ed81c940dbfd751cfa\", element=\"c7d717b7-10a5-4765-901f-5abee90a9146\")>]"
      ]
     },
     "execution_count": 506,
     "metadata": {},
     "output_type": "execute_result"
    }
   ],
   "source": [
    "review2"
   ]
  },
  {
   "cell_type": "code",
   "execution_count": 507,
   "id": "4773a4d2",
   "metadata": {},
   "outputs": [],
   "source": [
    "for i in review2:\n",
    "    fullsummary2=i.text\n",
    "    fullreview.append(fullsummary2)"
   ]
  },
  {
   "cell_type": "code",
   "execution_count": 508,
   "id": "529bbe4b",
   "metadata": {},
   "outputs": [
    {
     "data": {
      "text/plain": [
       "['The Best Phone for the Money\\n\\nThe iPhone 11 offers superb cameras, a more durable design and excellent battery life for an affordable price.\\n\\nCompelling ultra-wide camera\\nNew Night mode is excellent\\nLong battery life',\n",
       " 'Really satisfied with the Product I received... It’s totally genuine and the packaging was also really good so if ur planning to buy just go for it.',\n",
       " 'Amazing phone with great cameras and better battery which gives you the best performance. I just love the camera .',\n",
       " 'Previously I was using one plus 3t it was a great phone\\nAnd then I decided to upgrade I am stuck between Samsung s10 plus or iPhone 11\\nI have seen the specs and everything were good except the display it’s somewhere between 720-1080 and it’s not even an amoled it’s an LCD display\\nBut I decided to go with iPhone because I have never used an IOS device I have Been an android user from the past 9 years I ordered IPhone 11 (128gb) product red\\nMy experience after using 3 weeks\\n1. The delivery ...\\nREAD MORE',\n",
       " 'This is my first iOS phone. I am very happy with this product. Very much satisfied with this. I love this phone.',\n",
       " 'Great iPhone very snappy experience as apple kind. Upgraded from iPhone 7.\\nPros\\n-Camera top class\\n- Battery top performed\\n-Chipset no need to say as apple kind\\n-Security as you expect from apple\\n- Display super bright industry leading colour\\naccuracy and super responsive\\n-Build quality as expect from apple sturdy\\npremium durable beautiful stylish.\\n-Os most stable os in smartphone industry\\n\\nCons\\n-No 5G\\n-Display is not based on OLED technology\\n-Charger headphones and 1 apple stic...\\nREAD MORE',\n",
       " 'Amazing Powerful and Durable Gadget.\\n\\nI’m am very happy with the camera picture quality, Amazing face id unlocked in dark room, Strong battery with perfect screen size as you can carry easily in pocket. This is my third iPhone.\\n\\nI shifted from android Samsung Note series to iPhone because of the strong build quality and peace of mind for next 3-4 years.\\n\\nDon’t think to much just go for it and I suggest you to go for minimum 128gb variant or more 256gb.\\n\\nI’ve attached my puppy pics and no fi...\\nREAD MORE',\n",
       " 'So far it’s been an AMAZING experience coming back to iOS after nearly a decade but it’s not as versatile as android though phone is sturdy dropped it accidentally a couple of times and nothing happened fortunately camera is awesome',\n",
       " 'i11 is worthy to buy, too much happy with the product. Thank u flipkart I received the item on time..loved it..',\n",
       " 'iphone 11 is a very good phone to buy only if you can compromise for the display. The display on this is device is pretty good but you can get other options with better displays in this price segment.\\nIf you can survive with an HD+ LCD panel with thicker bezels and a notch up top then this is a very good phone for you.\\nCameras are awesome, battery backup excellent, great performance and a decent premium look. Good job Apple !',\n",
       " 'What a camera .....just awesome ..you can feel this iPhone just awesome . Good for gaming also ...try pubg in hd it’s just wow',\n",
       " 'It’s a must buy who is looking for an upgrade from previous generation of iPhones. If you are using XR then still you can hold on for sometime and upgrade to 2020 model else this phone is a must buy . Camera quality is amazing and wide angle is something to count upon. Performance wise it’s amazing and feels premium while holding in hand. So a big YES for this device. Go for 128 GB variant as the 4K videos will occupy lots of space and the storage can get over very quickly. Try to buy it with...\\nREAD MORE',\n",
       " 'Value for money❤️❤️\\nIts awesome mobile phone in the world ...\\nDisplay was very good and bright ..\\nTrust me freinds you r never regret after Buying..\\nJust go for it....\\nI love this phone and i switch to iphone x to 11',\n",
       " 'Totally in love with this ❤ the camera quality is amazing just love it 😘😘😘 itsss dammnnnnnn amazing... Must buy iPhone 11 this is my best experience ever ☀👌👌🧡🧡🧡🧡🧡 thanku apple ❤',\n",
       " 'Best budget Iphone till date ❤️ go for it guys without second thought. Let me explain you guys about Camera, Display, battery, and performance.\\n\\nCamera: at this price range there is no comparison of camera, you’ll love the picture quality as well as video quality. I am a Vlogger I wanted an iPhone with 4k video by front camera and I got this phone and I am more than happy 😃\\n\\nBattery: I use this phone roughly as I am active social media person and I have a youtube channel. so the battery ba...\\nREAD MORE',\n",
       " 'Excellent camera, good performance, no lag. The lcd display is also good.. but difference come when we watch movie in prime and Netflix, the colours are not vibrant.. as we see in amoled display.. and the charger in box is of 5 watts.. takes more than 3 hours to charge from 0 to 100.. so guys be prepare to buy 18 watts charger . Finally I am an android user, it was my first Iapple phone, I promise u guys the iOS is so smooth.. overall the phone is damn good.... close eyes to buy it.. thanks t...\\nREAD MORE',\n",
       " \"Iphone is just awesome.. battery backup is very very nice.. continuously for 10 hours we can use it.camera is just awesome.. display is just fab.i love it alot..i had to wait 15 days for it as i pre ordered it..overalll it's worth the price..these all images are clicked by my iPhone..and i love it.\",\n",
       " \"It's my first time to use iOS phone and I am loving my upgradation 😍😍 I love the color, I love the assebility of the phone....I need to learn more about its functionality, but as far as I have seen, it's quite easy and it has a lot of functions to work on, specially if you are a content writer or a blogger you get a lot of content creation platforms and they are really amazing.\\n\\nThis phone not only for good quality photography but a lot of other task too.😍💯\",\n",
       " 'It’s been almost a month since I have been using this phone. I upgraded from an iPhone 8. The main issue with my 8 was battery and this phone is just awesome when it comes to battery. It lasts a day and a half for me with my regular use , internet connected always with 4g\\nCan’t move forward without saying this. Battery of this phone is a life saver when I am traveling or at work when I don’t get the option to charge\\nCamera is superb. Front cam selfies and back cam photos are just awesome.\\n...\\nREAD MORE',\n",
       " 'Smooth like butter, camera like fantabulous, sound is crystal clear & its red color is damn attractive, i am just loving it. Must buy if you love photography.\\n\\nLucky to get it in sale, thank you Flipkart.']"
      ]
     },
     "execution_count": 508,
     "metadata": {},
     "output_type": "execute_result"
    }
   ],
   "source": [
    "fullreview"
   ]
  },
  {
   "cell_type": "code",
   "execution_count": 509,
   "id": "7a812eaf",
   "metadata": {},
   "outputs": [],
   "source": [
    "next=driver.find_element_by_xpath(\"//a[@class='_1LKTO3']\")"
   ]
  },
  {
   "cell_type": "code",
   "execution_count": 510,
   "id": "48ce5b87",
   "metadata": {},
   "outputs": [],
   "source": [
    "next.click()"
   ]
  },
  {
   "cell_type": "code",
   "execution_count": 511,
   "id": "8b8bed13",
   "metadata": {},
   "outputs": [],
   "source": [
    "rating_tag3=driver.find_elements_by_xpath(\"//div[@class='_3LWZlK _1BLPMq']\")"
   ]
  },
  {
   "cell_type": "code",
   "execution_count": 512,
   "id": "77973d3c",
   "metadata": {
    "collapsed": true
   },
   "outputs": [
    {
     "data": {
      "text/plain": [
       "[<selenium.webdriver.remote.webelement.WebElement (session=\"58d04a734468e9ed81c940dbfd751cfa\", element=\"ba1e883e-5dca-4e93-9e8a-c6cf79d066e5\")>,\n",
       " <selenium.webdriver.remote.webelement.WebElement (session=\"58d04a734468e9ed81c940dbfd751cfa\", element=\"d3a0335d-39b7-4586-b272-0af807add40a\")>,\n",
       " <selenium.webdriver.remote.webelement.WebElement (session=\"58d04a734468e9ed81c940dbfd751cfa\", element=\"4d8eccb3-62b9-4371-ad99-8edc3bd3a7c5\")>,\n",
       " <selenium.webdriver.remote.webelement.WebElement (session=\"58d04a734468e9ed81c940dbfd751cfa\", element=\"eceb6c46-c857-496c-9777-4f957d2de849\")>,\n",
       " <selenium.webdriver.remote.webelement.WebElement (session=\"58d04a734468e9ed81c940dbfd751cfa\", element=\"b19cf528-6c56-4222-b932-72e30e6affeb\")>,\n",
       " <selenium.webdriver.remote.webelement.WebElement (session=\"58d04a734468e9ed81c940dbfd751cfa\", element=\"19218249-90fe-44cd-af02-76fdc9d7685c\")>,\n",
       " <selenium.webdriver.remote.webelement.WebElement (session=\"58d04a734468e9ed81c940dbfd751cfa\", element=\"e8433277-93bb-4f45-b872-c27e27726f8e\")>,\n",
       " <selenium.webdriver.remote.webelement.WebElement (session=\"58d04a734468e9ed81c940dbfd751cfa\", element=\"70f3581b-c92c-40c6-8da1-5ffc4b80b509\")>,\n",
       " <selenium.webdriver.remote.webelement.WebElement (session=\"58d04a734468e9ed81c940dbfd751cfa\", element=\"64dae451-6ecf-47bb-86d7-418c2c79a3f1\")>,\n",
       " <selenium.webdriver.remote.webelement.WebElement (session=\"58d04a734468e9ed81c940dbfd751cfa\", element=\"9000db50-7c07-4219-9e34-a0654c938f38\")>]"
      ]
     },
     "execution_count": 512,
     "metadata": {},
     "output_type": "execute_result"
    }
   ],
   "source": [
    "rating_tag3"
   ]
  },
  {
   "cell_type": "code",
   "execution_count": 513,
   "id": "039ff881",
   "metadata": {},
   "outputs": [],
   "source": [
    "for i in rating_tag3:\n",
    "    ratings3=i.text\n",
    "    rating.append(ratings3)"
   ]
  },
  {
   "cell_type": "code",
   "execution_count": 514,
   "id": "bffd5057",
   "metadata": {},
   "outputs": [
    {
     "data": {
      "text/plain": [
       "['5',\n",
       " '5',\n",
       " '5',\n",
       " '5',\n",
       " '5',\n",
       " '5',\n",
       " '5',\n",
       " '4',\n",
       " '5',\n",
       " '5',\n",
       " '5',\n",
       " '5',\n",
       " '5',\n",
       " '5',\n",
       " '5',\n",
       " '5',\n",
       " '5',\n",
       " '5',\n",
       " '5',\n",
       " '5',\n",
       " '5',\n",
       " '5',\n",
       " '4',\n",
       " '5',\n",
       " '5',\n",
       " '5',\n",
       " '5',\n",
       " '5',\n",
       " '4',\n",
       " '5']"
      ]
     },
     "execution_count": 514,
     "metadata": {},
     "output_type": "execute_result"
    }
   ],
   "source": [
    "rating"
   ]
  },
  {
   "cell_type": "code",
   "execution_count": 515,
   "id": "54f9aaae",
   "metadata": {},
   "outputs": [],
   "source": [
    "reviewsum3=driver.find_elements_by_xpath(\"//p[@class='_2-N8zT']\")"
   ]
  },
  {
   "cell_type": "code",
   "execution_count": 516,
   "id": "abf8010f",
   "metadata": {
    "collapsed": true
   },
   "outputs": [
    {
     "data": {
      "text/plain": [
       "[<selenium.webdriver.remote.webelement.WebElement (session=\"58d04a734468e9ed81c940dbfd751cfa\", element=\"7245e475-3a1d-4b6d-8d96-415d473b4494\")>,\n",
       " <selenium.webdriver.remote.webelement.WebElement (session=\"58d04a734468e9ed81c940dbfd751cfa\", element=\"c4a0da78-2e44-4c14-bdf2-d9dbc516381f\")>,\n",
       " <selenium.webdriver.remote.webelement.WebElement (session=\"58d04a734468e9ed81c940dbfd751cfa\", element=\"ef2cb210-4293-4b12-b860-2a7de02b9ad1\")>,\n",
       " <selenium.webdriver.remote.webelement.WebElement (session=\"58d04a734468e9ed81c940dbfd751cfa\", element=\"db053d71-53cf-4cc5-a8cb-ebe18323b07a\")>,\n",
       " <selenium.webdriver.remote.webelement.WebElement (session=\"58d04a734468e9ed81c940dbfd751cfa\", element=\"71190166-8d22-476e-83ac-b72613e66ab4\")>,\n",
       " <selenium.webdriver.remote.webelement.WebElement (session=\"58d04a734468e9ed81c940dbfd751cfa\", element=\"b4f13436-0b16-4281-a61e-0ae7d4970f57\")>,\n",
       " <selenium.webdriver.remote.webelement.WebElement (session=\"58d04a734468e9ed81c940dbfd751cfa\", element=\"e890b8f4-2a89-4767-a1ff-378cc896cb03\")>,\n",
       " <selenium.webdriver.remote.webelement.WebElement (session=\"58d04a734468e9ed81c940dbfd751cfa\", element=\"a15e56c1-1497-4208-93ed-0760d191b4f2\")>,\n",
       " <selenium.webdriver.remote.webelement.WebElement (session=\"58d04a734468e9ed81c940dbfd751cfa\", element=\"43fef2db-777d-48a1-b349-5475de7cdb68\")>,\n",
       " <selenium.webdriver.remote.webelement.WebElement (session=\"58d04a734468e9ed81c940dbfd751cfa\", element=\"8c1fcadb-d5f2-4eb5-adba-18f8dcd0d133\")>]"
      ]
     },
     "execution_count": 516,
     "metadata": {},
     "output_type": "execute_result"
    }
   ],
   "source": [
    "reviewsum3"
   ]
  },
  {
   "cell_type": "code",
   "execution_count": 517,
   "id": "a861d7c5",
   "metadata": {},
   "outputs": [],
   "source": [
    "for i in reviewsum3:\n",
    "    summary3=i.text\n",
    "    reviewsummary.append(summary3)"
   ]
  },
  {
   "cell_type": "code",
   "execution_count": 518,
   "id": "a47c5159",
   "metadata": {},
   "outputs": [
    {
     "data": {
      "text/plain": [
       "['Brilliant',\n",
       " 'Simply awesome',\n",
       " 'Perfect product!',\n",
       " 'Worth every penny',\n",
       " 'Fabulous!',\n",
       " 'Best in the market!',\n",
       " 'Great product',\n",
       " 'Good choice',\n",
       " 'Worth every penny',\n",
       " 'Highly recommended',\n",
       " 'Highly recommended',\n",
       " 'Perfect product!',\n",
       " 'Perfect product!',\n",
       " 'Classy product',\n",
       " 'Worth every penny',\n",
       " 'Simply awesome',\n",
       " 'Perfect product!',\n",
       " 'Highly recommended',\n",
       " 'Worth every penny',\n",
       " 'Worth every penny',\n",
       " 'Terrific',\n",
       " 'Wonderful',\n",
       " 'Nice product',\n",
       " 'Perfect product!',\n",
       " 'Brilliant',\n",
       " 'Classy product',\n",
       " 'Must buy!',\n",
       " 'Wonderful',\n",
       " 'Good choice',\n",
       " 'Perfect product!']"
      ]
     },
     "execution_count": 518,
     "metadata": {},
     "output_type": "execute_result"
    }
   ],
   "source": [
    "reviewsummary"
   ]
  },
  {
   "cell_type": "code",
   "execution_count": 519,
   "id": "9c84f325",
   "metadata": {},
   "outputs": [],
   "source": [
    "review3=driver.find_elements_by_xpath(\"//div[@class='t-ZTKy']\")"
   ]
  },
  {
   "cell_type": "code",
   "execution_count": 520,
   "id": "98b86e68",
   "metadata": {
    "collapsed": true
   },
   "outputs": [
    {
     "data": {
      "text/plain": [
       "[<selenium.webdriver.remote.webelement.WebElement (session=\"58d04a734468e9ed81c940dbfd751cfa\", element=\"24f00433-d8a9-46e6-9840-b757b9b8c4ba\")>,\n",
       " <selenium.webdriver.remote.webelement.WebElement (session=\"58d04a734468e9ed81c940dbfd751cfa\", element=\"a4995267-ee17-400e-9625-db513c7fe0b2\")>,\n",
       " <selenium.webdriver.remote.webelement.WebElement (session=\"58d04a734468e9ed81c940dbfd751cfa\", element=\"43bd0c49-3a2c-4c17-aee8-38e503ed6c36\")>,\n",
       " <selenium.webdriver.remote.webelement.WebElement (session=\"58d04a734468e9ed81c940dbfd751cfa\", element=\"547aaf36-3cdb-4d89-bfca-236cc8e458e7\")>,\n",
       " <selenium.webdriver.remote.webelement.WebElement (session=\"58d04a734468e9ed81c940dbfd751cfa\", element=\"abb23a1b-de47-485d-b421-e2b69d44c4e7\")>,\n",
       " <selenium.webdriver.remote.webelement.WebElement (session=\"58d04a734468e9ed81c940dbfd751cfa\", element=\"0289a305-4695-4b88-9bc1-1b112a2ce48f\")>,\n",
       " <selenium.webdriver.remote.webelement.WebElement (session=\"58d04a734468e9ed81c940dbfd751cfa\", element=\"7a3a455e-386b-40a3-a143-aa276ba16a89\")>,\n",
       " <selenium.webdriver.remote.webelement.WebElement (session=\"58d04a734468e9ed81c940dbfd751cfa\", element=\"7be3a124-83c1-444b-bb85-a1bf1718a5f4\")>,\n",
       " <selenium.webdriver.remote.webelement.WebElement (session=\"58d04a734468e9ed81c940dbfd751cfa\", element=\"6d81d037-6fdb-4be2-8822-59e802cce919\")>,\n",
       " <selenium.webdriver.remote.webelement.WebElement (session=\"58d04a734468e9ed81c940dbfd751cfa\", element=\"929e71f3-aee5-44ec-9601-77550d0ddd2d\")>]"
      ]
     },
     "execution_count": 520,
     "metadata": {},
     "output_type": "execute_result"
    }
   ],
   "source": [
    "review3"
   ]
  },
  {
   "cell_type": "code",
   "execution_count": 521,
   "id": "d4f6d8e1",
   "metadata": {},
   "outputs": [],
   "source": [
    "for i in review3:\n",
    "    fullsummary3=i.text\n",
    "    fullreview.append(fullsummary3)"
   ]
  },
  {
   "cell_type": "code",
   "execution_count": 522,
   "id": "be216bcf",
   "metadata": {},
   "outputs": [
    {
     "data": {
      "text/plain": [
       "['The Best Phone for the Money\\n\\nThe iPhone 11 offers superb cameras, a more durable design and excellent battery life for an affordable price.\\n\\nCompelling ultra-wide camera\\nNew Night mode is excellent\\nLong battery life',\n",
       " 'Really satisfied with the Product I received... It’s totally genuine and the packaging was also really good so if ur planning to buy just go for it.',\n",
       " 'Amazing phone with great cameras and better battery which gives you the best performance. I just love the camera .',\n",
       " 'Previously I was using one plus 3t it was a great phone\\nAnd then I decided to upgrade I am stuck between Samsung s10 plus or iPhone 11\\nI have seen the specs and everything were good except the display it’s somewhere between 720-1080 and it’s not even an amoled it’s an LCD display\\nBut I decided to go with iPhone because I have never used an IOS device I have Been an android user from the past 9 years I ordered IPhone 11 (128gb) product red\\nMy experience after using 3 weeks\\n1. The delivery ...\\nREAD MORE',\n",
       " 'This is my first iOS phone. I am very happy with this product. Very much satisfied with this. I love this phone.',\n",
       " 'Great iPhone very snappy experience as apple kind. Upgraded from iPhone 7.\\nPros\\n-Camera top class\\n- Battery top performed\\n-Chipset no need to say as apple kind\\n-Security as you expect from apple\\n- Display super bright industry leading colour\\naccuracy and super responsive\\n-Build quality as expect from apple sturdy\\npremium durable beautiful stylish.\\n-Os most stable os in smartphone industry\\n\\nCons\\n-No 5G\\n-Display is not based on OLED technology\\n-Charger headphones and 1 apple stic...\\nREAD MORE',\n",
       " 'Amazing Powerful and Durable Gadget.\\n\\nI’m am very happy with the camera picture quality, Amazing face id unlocked in dark room, Strong battery with perfect screen size as you can carry easily in pocket. This is my third iPhone.\\n\\nI shifted from android Samsung Note series to iPhone because of the strong build quality and peace of mind for next 3-4 years.\\n\\nDon’t think to much just go for it and I suggest you to go for minimum 128gb variant or more 256gb.\\n\\nI’ve attached my puppy pics and no fi...\\nREAD MORE',\n",
       " 'So far it’s been an AMAZING experience coming back to iOS after nearly a decade but it’s not as versatile as android though phone is sturdy dropped it accidentally a couple of times and nothing happened fortunately camera is awesome',\n",
       " 'i11 is worthy to buy, too much happy with the product. Thank u flipkart I received the item on time..loved it..',\n",
       " 'iphone 11 is a very good phone to buy only if you can compromise for the display. The display on this is device is pretty good but you can get other options with better displays in this price segment.\\nIf you can survive with an HD+ LCD panel with thicker bezels and a notch up top then this is a very good phone for you.\\nCameras are awesome, battery backup excellent, great performance and a decent premium look. Good job Apple !',\n",
       " 'What a camera .....just awesome ..you can feel this iPhone just awesome . Good for gaming also ...try pubg in hd it’s just wow',\n",
       " 'It’s a must buy who is looking for an upgrade from previous generation of iPhones. If you are using XR then still you can hold on for sometime and upgrade to 2020 model else this phone is a must buy . Camera quality is amazing and wide angle is something to count upon. Performance wise it’s amazing and feels premium while holding in hand. So a big YES for this device. Go for 128 GB variant as the 4K videos will occupy lots of space and the storage can get over very quickly. Try to buy it with...\\nREAD MORE',\n",
       " 'Value for money❤️❤️\\nIts awesome mobile phone in the world ...\\nDisplay was very good and bright ..\\nTrust me freinds you r never regret after Buying..\\nJust go for it....\\nI love this phone and i switch to iphone x to 11',\n",
       " 'Totally in love with this ❤ the camera quality is amazing just love it 😘😘😘 itsss dammnnnnnn amazing... Must buy iPhone 11 this is my best experience ever ☀👌👌🧡🧡🧡🧡🧡 thanku apple ❤',\n",
       " 'Best budget Iphone till date ❤️ go for it guys without second thought. Let me explain you guys about Camera, Display, battery, and performance.\\n\\nCamera: at this price range there is no comparison of camera, you’ll love the picture quality as well as video quality. I am a Vlogger I wanted an iPhone with 4k video by front camera and I got this phone and I am more than happy 😃\\n\\nBattery: I use this phone roughly as I am active social media person and I have a youtube channel. so the battery ba...\\nREAD MORE',\n",
       " 'Excellent camera, good performance, no lag. The lcd display is also good.. but difference come when we watch movie in prime and Netflix, the colours are not vibrant.. as we see in amoled display.. and the charger in box is of 5 watts.. takes more than 3 hours to charge from 0 to 100.. so guys be prepare to buy 18 watts charger . Finally I am an android user, it was my first Iapple phone, I promise u guys the iOS is so smooth.. overall the phone is damn good.... close eyes to buy it.. thanks t...\\nREAD MORE',\n",
       " \"Iphone is just awesome.. battery backup is very very nice.. continuously for 10 hours we can use it.camera is just awesome.. display is just fab.i love it alot..i had to wait 15 days for it as i pre ordered it..overalll it's worth the price..these all images are clicked by my iPhone..and i love it.\",\n",
       " \"It's my first time to use iOS phone and I am loving my upgradation 😍😍 I love the color, I love the assebility of the phone....I need to learn more about its functionality, but as far as I have seen, it's quite easy and it has a lot of functions to work on, specially if you are a content writer or a blogger you get a lot of content creation platforms and they are really amazing.\\n\\nThis phone not only for good quality photography but a lot of other task too.😍💯\",\n",
       " 'It’s been almost a month since I have been using this phone. I upgraded from an iPhone 8. The main issue with my 8 was battery and this phone is just awesome when it comes to battery. It lasts a day and a half for me with my regular use , internet connected always with 4g\\nCan’t move forward without saying this. Battery of this phone is a life saver when I am traveling or at work when I don’t get the option to charge\\nCamera is superb. Front cam selfies and back cam photos are just awesome.\\n...\\nREAD MORE',\n",
       " 'Smooth like butter, camera like fantabulous, sound is crystal clear & its red color is damn attractive, i am just loving it. Must buy if you love photography.\\n\\nLucky to get it in sale, thank you Flipkart.',\n",
       " 'Really worth of money. i just love it. It is the best phone ever.',\n",
       " 'This is my first ever I phone. Before this I was using my google nexus 5. But moving from android to iOS is a great experience. It’s worth at this price. I will highly recommend it if you want to move to iOS. The best part of this phone is it’s camera and it’s battery life. This two things have won my heart. I loved it. Happy to have it in my hand. Still exploring its features. And can’t forget to mention Flipkart service. Very prompt service and fast delivery.',\n",
       " 'Awesome Phone. Slightly high price but worth. Better than iPhone XR.\\nCamera is superb and wide angle camera is very clear.\\n12MP selfie camera is also very good.\\nA13 Chip gives a very good and smooth performance.',\n",
       " 'Battery backup is extraordinary, camera is decent & performance offered by A13 bionic is awsome. The display is good in practical usage like the visibility of display is very good in direct sun light compare to pro models. Iam extremely satisfied for the money I spent.',\n",
       " 'I have migrated from OP 7pro... and trust me, iPhone 11 is totally worth it.. following are the reasons:-\\n1)there is ABSOLUTELY NO ISSUE WITH THE DISPLAY... its crisp, sharp and I found it to be much much better than OP7 pro. Netflix, Prime video all run crisply... you won’t miss a thing. True Tone works flawlessly...the display brightness is perfect. OP have not calibrated their screens properly.\\n2) iPhone 11 series have really good cameras... others have spoken in depth about them.\\n3) bat...\\nREAD MORE',\n",
       " 'Superb Product !!!\\nA big and worthy upgrade from mi 3S to iphone 11 .\\nTotally loved it !',\n",
       " 'It’s an amazing product from apple and the camera is simply superb. Phone is faster.Night shot is simply superb and detailing and colour differentiation from camera is an added advantage\\n\\nThis review I have written from iPhone 11 only and I am glad to say outside.\\n\\nCons wise if we see HD+ display only, no battery percentage indicator as in older iPhone 8.\\nNo assistive touch control button in it\\nNo oleophobic coating on back panel glass and finger prints are visible but since I bought mint gr...\\nREAD MORE',\n",
       " 'I just directly switch from iphone 6s to iphone 11 .The best premium smartphone I recommend to everyone. Excellent quality and colors the iphone have in 11 series.\\nCamera quality is just awesome and the major feel when we hold in our hands. The sound quality and volume is also higher then the previous models.\\nI will recommend to buy iphone 11 instead of pro models , there is nothing much difference as this model contains everything which fulfill our needs.\\n\\nOnly one thing that I dislike abo...\\nREAD MORE',\n",
       " 'Looking so good 👍 😍 super 👌 stylish 😎 phone\\nClean box 📦 good 👍 delivery 👌 fast delivery\\nOriginal box Original iphone 📱 👌 😍😍😍',\n",
       " 'After 1 month use I found camera quality best compared to my previous Samsung note 10+.Display not good as note 10 also charging too slow.Apple should add fast charger like 11 plus and pro.Best phone for daily use']"
      ]
     },
     "execution_count": 522,
     "metadata": {},
     "output_type": "execute_result"
    }
   ],
   "source": [
    "fullreview"
   ]
  },
  {
   "cell_type": "code",
   "execution_count": 525,
   "id": "c64c718d",
   "metadata": {},
   "outputs": [],
   "source": [
    "iphone11=pd.DataFrame({})"
   ]
  },
  {
   "cell_type": "code",
   "execution_count": 526,
   "id": "da8c7a1d",
   "metadata": {},
   "outputs": [],
   "source": [
    "iphone11['RATING']=rating\n",
    "iphone11['SUMMARY']=reviewsummary\n",
    "iphone11['REVIEW']=fullreview"
   ]
  },
  {
   "cell_type": "code",
   "execution_count": 527,
   "id": "512ca073",
   "metadata": {},
   "outputs": [
    {
     "data": {
      "text/html": [
       "<div>\n",
       "<style scoped>\n",
       "    .dataframe tbody tr th:only-of-type {\n",
       "        vertical-align: middle;\n",
       "    }\n",
       "\n",
       "    .dataframe tbody tr th {\n",
       "        vertical-align: top;\n",
       "    }\n",
       "\n",
       "    .dataframe thead th {\n",
       "        text-align: right;\n",
       "    }\n",
       "</style>\n",
       "<table border=\"1\" class=\"dataframe\">\n",
       "  <thead>\n",
       "    <tr style=\"text-align: right;\">\n",
       "      <th></th>\n",
       "      <th>RATING</th>\n",
       "      <th>SUMMARY</th>\n",
       "      <th>REVIEW</th>\n",
       "    </tr>\n",
       "  </thead>\n",
       "  <tbody>\n",
       "    <tr>\n",
       "      <th>0</th>\n",
       "      <td>5</td>\n",
       "      <td>Brilliant</td>\n",
       "      <td>The Best Phone for the Money\\n\\nThe iPhone 11 ...</td>\n",
       "    </tr>\n",
       "    <tr>\n",
       "      <th>1</th>\n",
       "      <td>5</td>\n",
       "      <td>Simply awesome</td>\n",
       "      <td>Really satisfied with the Product I received.....</td>\n",
       "    </tr>\n",
       "    <tr>\n",
       "      <th>2</th>\n",
       "      <td>5</td>\n",
       "      <td>Perfect product!</td>\n",
       "      <td>Amazing phone with great cameras and better ba...</td>\n",
       "    </tr>\n",
       "    <tr>\n",
       "      <th>3</th>\n",
       "      <td>5</td>\n",
       "      <td>Worth every penny</td>\n",
       "      <td>Previously I was using one plus 3t it was a gr...</td>\n",
       "    </tr>\n",
       "    <tr>\n",
       "      <th>4</th>\n",
       "      <td>5</td>\n",
       "      <td>Fabulous!</td>\n",
       "      <td>This is my first iOS phone. I am very happy wi...</td>\n",
       "    </tr>\n",
       "    <tr>\n",
       "      <th>5</th>\n",
       "      <td>5</td>\n",
       "      <td>Best in the market!</td>\n",
       "      <td>Great iPhone very snappy experience as apple k...</td>\n",
       "    </tr>\n",
       "    <tr>\n",
       "      <th>6</th>\n",
       "      <td>5</td>\n",
       "      <td>Great product</td>\n",
       "      <td>Amazing Powerful and Durable Gadget.\\n\\nI’m am...</td>\n",
       "    </tr>\n",
       "    <tr>\n",
       "      <th>7</th>\n",
       "      <td>4</td>\n",
       "      <td>Good choice</td>\n",
       "      <td>So far it’s been an AMAZING experience coming ...</td>\n",
       "    </tr>\n",
       "    <tr>\n",
       "      <th>8</th>\n",
       "      <td>5</td>\n",
       "      <td>Worth every penny</td>\n",
       "      <td>i11 is worthy to buy, too much happy with the ...</td>\n",
       "    </tr>\n",
       "    <tr>\n",
       "      <th>9</th>\n",
       "      <td>5</td>\n",
       "      <td>Highly recommended</td>\n",
       "      <td>iphone 11 is a very good phone to buy only if ...</td>\n",
       "    </tr>\n",
       "    <tr>\n",
       "      <th>10</th>\n",
       "      <td>5</td>\n",
       "      <td>Highly recommended</td>\n",
       "      <td>What a camera .....just awesome ..you can feel...</td>\n",
       "    </tr>\n",
       "    <tr>\n",
       "      <th>11</th>\n",
       "      <td>5</td>\n",
       "      <td>Perfect product!</td>\n",
       "      <td>It’s a must buy who is looking for an upgrade ...</td>\n",
       "    </tr>\n",
       "    <tr>\n",
       "      <th>12</th>\n",
       "      <td>5</td>\n",
       "      <td>Perfect product!</td>\n",
       "      <td>Value for money❤️❤️\\nIts awesome mobile phone ...</td>\n",
       "    </tr>\n",
       "    <tr>\n",
       "      <th>13</th>\n",
       "      <td>5</td>\n",
       "      <td>Classy product</td>\n",
       "      <td>Totally in love with this ❤ the camera quality...</td>\n",
       "    </tr>\n",
       "    <tr>\n",
       "      <th>14</th>\n",
       "      <td>5</td>\n",
       "      <td>Worth every penny</td>\n",
       "      <td>Best budget Iphone till date ❤️ go for it guys...</td>\n",
       "    </tr>\n",
       "    <tr>\n",
       "      <th>15</th>\n",
       "      <td>5</td>\n",
       "      <td>Simply awesome</td>\n",
       "      <td>Excellent camera, good performance, no lag. Th...</td>\n",
       "    </tr>\n",
       "    <tr>\n",
       "      <th>16</th>\n",
       "      <td>5</td>\n",
       "      <td>Perfect product!</td>\n",
       "      <td>Iphone is just awesome.. battery backup is ver...</td>\n",
       "    </tr>\n",
       "    <tr>\n",
       "      <th>17</th>\n",
       "      <td>5</td>\n",
       "      <td>Highly recommended</td>\n",
       "      <td>It's my first time to use iOS phone and I am l...</td>\n",
       "    </tr>\n",
       "    <tr>\n",
       "      <th>18</th>\n",
       "      <td>5</td>\n",
       "      <td>Worth every penny</td>\n",
       "      <td>It’s been almost a month since I have been usi...</td>\n",
       "    </tr>\n",
       "    <tr>\n",
       "      <th>19</th>\n",
       "      <td>5</td>\n",
       "      <td>Worth every penny</td>\n",
       "      <td>Smooth like butter, camera like fantabulous, s...</td>\n",
       "    </tr>\n",
       "    <tr>\n",
       "      <th>20</th>\n",
       "      <td>5</td>\n",
       "      <td>Terrific</td>\n",
       "      <td>Really worth of money. i just love it. It is t...</td>\n",
       "    </tr>\n",
       "    <tr>\n",
       "      <th>21</th>\n",
       "      <td>5</td>\n",
       "      <td>Wonderful</td>\n",
       "      <td>This is my first ever I phone. Before this I w...</td>\n",
       "    </tr>\n",
       "    <tr>\n",
       "      <th>22</th>\n",
       "      <td>4</td>\n",
       "      <td>Nice product</td>\n",
       "      <td>Awesome Phone. Slightly high price but worth. ...</td>\n",
       "    </tr>\n",
       "    <tr>\n",
       "      <th>23</th>\n",
       "      <td>5</td>\n",
       "      <td>Perfect product!</td>\n",
       "      <td>Battery backup is extraordinary, camera is dec...</td>\n",
       "    </tr>\n",
       "    <tr>\n",
       "      <th>24</th>\n",
       "      <td>5</td>\n",
       "      <td>Brilliant</td>\n",
       "      <td>I have migrated from OP 7pro... and trust me, ...</td>\n",
       "    </tr>\n",
       "    <tr>\n",
       "      <th>25</th>\n",
       "      <td>5</td>\n",
       "      <td>Classy product</td>\n",
       "      <td>Superb Product !!!\\nA big and worthy upgrade f...</td>\n",
       "    </tr>\n",
       "    <tr>\n",
       "      <th>26</th>\n",
       "      <td>5</td>\n",
       "      <td>Must buy!</td>\n",
       "      <td>It’s an amazing product from apple and the cam...</td>\n",
       "    </tr>\n",
       "    <tr>\n",
       "      <th>27</th>\n",
       "      <td>5</td>\n",
       "      <td>Wonderful</td>\n",
       "      <td>I just directly switch from iphone 6s to iphon...</td>\n",
       "    </tr>\n",
       "    <tr>\n",
       "      <th>28</th>\n",
       "      <td>4</td>\n",
       "      <td>Good choice</td>\n",
       "      <td>Looking so good 👍 😍 super 👌 stylish 😎 phone\\nC...</td>\n",
       "    </tr>\n",
       "    <tr>\n",
       "      <th>29</th>\n",
       "      <td>5</td>\n",
       "      <td>Perfect product!</td>\n",
       "      <td>After 1 month use I found camera quality best ...</td>\n",
       "    </tr>\n",
       "  </tbody>\n",
       "</table>\n",
       "</div>"
      ],
      "text/plain": [
       "   RATING              SUMMARY  \\\n",
       "0       5            Brilliant   \n",
       "1       5       Simply awesome   \n",
       "2       5     Perfect product!   \n",
       "3       5    Worth every penny   \n",
       "4       5            Fabulous!   \n",
       "5       5  Best in the market!   \n",
       "6       5        Great product   \n",
       "7       4          Good choice   \n",
       "8       5    Worth every penny   \n",
       "9       5   Highly recommended   \n",
       "10      5   Highly recommended   \n",
       "11      5     Perfect product!   \n",
       "12      5     Perfect product!   \n",
       "13      5       Classy product   \n",
       "14      5    Worth every penny   \n",
       "15      5       Simply awesome   \n",
       "16      5     Perfect product!   \n",
       "17      5   Highly recommended   \n",
       "18      5    Worth every penny   \n",
       "19      5    Worth every penny   \n",
       "20      5             Terrific   \n",
       "21      5            Wonderful   \n",
       "22      4         Nice product   \n",
       "23      5     Perfect product!   \n",
       "24      5            Brilliant   \n",
       "25      5       Classy product   \n",
       "26      5            Must buy!   \n",
       "27      5            Wonderful   \n",
       "28      4          Good choice   \n",
       "29      5     Perfect product!   \n",
       "\n",
       "                                               REVIEW  \n",
       "0   The Best Phone for the Money\\n\\nThe iPhone 11 ...  \n",
       "1   Really satisfied with the Product I received.....  \n",
       "2   Amazing phone with great cameras and better ba...  \n",
       "3   Previously I was using one plus 3t it was a gr...  \n",
       "4   This is my first iOS phone. I am very happy wi...  \n",
       "5   Great iPhone very snappy experience as apple k...  \n",
       "6   Amazing Powerful and Durable Gadget.\\n\\nI’m am...  \n",
       "7   So far it’s been an AMAZING experience coming ...  \n",
       "8   i11 is worthy to buy, too much happy with the ...  \n",
       "9   iphone 11 is a very good phone to buy only if ...  \n",
       "10  What a camera .....just awesome ..you can feel...  \n",
       "11  It’s a must buy who is looking for an upgrade ...  \n",
       "12  Value for money❤️❤️\\nIts awesome mobile phone ...  \n",
       "13  Totally in love with this ❤ the camera quality...  \n",
       "14  Best budget Iphone till date ❤️ go for it guys...  \n",
       "15  Excellent camera, good performance, no lag. Th...  \n",
       "16  Iphone is just awesome.. battery backup is ver...  \n",
       "17  It's my first time to use iOS phone and I am l...  \n",
       "18  It’s been almost a month since I have been usi...  \n",
       "19  Smooth like butter, camera like fantabulous, s...  \n",
       "20  Really worth of money. i just love it. It is t...  \n",
       "21  This is my first ever I phone. Before this I w...  \n",
       "22  Awesome Phone. Slightly high price but worth. ...  \n",
       "23  Battery backup is extraordinary, camera is dec...  \n",
       "24  I have migrated from OP 7pro... and trust me, ...  \n",
       "25  Superb Product !!!\\nA big and worthy upgrade f...  \n",
       "26  It’s an amazing product from apple and the cam...  \n",
       "27  I just directly switch from iphone 6s to iphon...  \n",
       "28  Looking so good 👍 😍 super 👌 stylish 😎 phone\\nC...  \n",
       "29  After 1 month use I found camera quality best ...  "
      ]
     },
     "execution_count": 527,
     "metadata": {},
     "output_type": "execute_result"
    }
   ],
   "source": [
    "iphone11"
   ]
  },
  {
   "cell_type": "markdown",
   "id": "57b5f27e",
   "metadata": {},
   "source": [
    "# 6)100 sneakers from flipkart"
   ]
  },
  {
   "cell_type": "code",
   "execution_count": 325,
   "id": "d911a1fe",
   "metadata": {},
   "outputs": [],
   "source": [
    "driver.get(\"https://www.flipkart.com/\")"
   ]
  },
  {
   "cell_type": "code",
   "execution_count": 326,
   "id": "b538cd12",
   "metadata": {
    "collapsed": true
   },
   "outputs": [
    {
     "name": "stderr",
     "output_type": "stream",
     "text": [
      "<ipython-input-326-d52d9250eeab>:1: DeprecationWarning: find_element_by_* commands are deprecated. Please use find_element() instead\n",
      "  search_sneakers=driver.find_element_by_xpath(\"//input[@name='q']\")\n"
     ]
    }
   ],
   "source": [
    "search_sneakers=driver.find_element_by_xpath(\"//input[@name='q']\")"
   ]
  },
  {
   "cell_type": "code",
   "execution_count": 327,
   "id": "415c16fa",
   "metadata": {},
   "outputs": [],
   "source": [
    "search_sneakers.send_keys(\"sneakers\")"
   ]
  },
  {
   "cell_type": "code",
   "execution_count": 328,
   "id": "b4eff127",
   "metadata": {
    "collapsed": true
   },
   "outputs": [
    {
     "name": "stderr",
     "output_type": "stream",
     "text": [
      "<ipython-input-328-cf3f53ced3c9>:1: DeprecationWarning: find_element_by_* commands are deprecated. Please use find_element() instead\n",
      "  search_icon=driver.find_element_by_xpath(\"//button[@class='L0Z3Pu']\")\n"
     ]
    }
   ],
   "source": [
    "search_icon=driver.find_element_by_xpath(\"//button[@class='L0Z3Pu']\")"
   ]
  },
  {
   "cell_type": "code",
   "execution_count": 248,
   "id": "cb957c4a",
   "metadata": {},
   "outputs": [],
   "source": [
    "search_icon.click()"
   ]
  },
  {
   "cell_type": "code",
   "execution_count": 329,
   "id": "b4380884",
   "metadata": {},
   "outputs": [],
   "source": [
    "sneaker_brand=[]\n",
    "sneaker_discription=[]\n",
    "sneaker_price=[]\n",
    "sneaker_offer=[]"
   ]
  },
  {
   "cell_type": "code",
   "execution_count": 330,
   "id": "237f8476",
   "metadata": {
    "collapsed": true
   },
   "outputs": [
    {
     "name": "stderr",
     "output_type": "stream",
     "text": [
      "<ipython-input-330-874efc71e5c8>:1: DeprecationWarning: find_elements_by_* commands are deprecated. Please use find_elements() instead\n",
      "  sbrand_tag=driver.find_elements_by_xpath(\"//div[@class='_2WkVRV']\")\n"
     ]
    }
   ],
   "source": [
    "sbrand_tag=driver.find_elements_by_xpath(\"//div[@class='_2WkVRV']\")"
   ]
  },
  {
   "cell_type": "code",
   "execution_count": 331,
   "id": "f7483460",
   "metadata": {
    "collapsed": true
   },
   "outputs": [
    {
     "data": {
      "text/plain": [
       "[<selenium.webdriver.remote.webelement.WebElement (session=\"e3416535b51d6df72ad7c773b019b76a\", element=\"4e2c545f-b59a-4f8c-94d7-1d8fc18bba85\")>,\n",
       " <selenium.webdriver.remote.webelement.WebElement (session=\"e3416535b51d6df72ad7c773b019b76a\", element=\"ea08c3c7-e53a-4da5-a294-87fd5885ed64\")>,\n",
       " <selenium.webdriver.remote.webelement.WebElement (session=\"e3416535b51d6df72ad7c773b019b76a\", element=\"1e594fc1-1816-42a6-81ec-d336d5491b42\")>,\n",
       " <selenium.webdriver.remote.webelement.WebElement (session=\"e3416535b51d6df72ad7c773b019b76a\", element=\"1dfec98c-369f-4e43-a4d9-03fedac26dec\")>,\n",
       " <selenium.webdriver.remote.webelement.WebElement (session=\"e3416535b51d6df72ad7c773b019b76a\", element=\"cd6116cc-55de-4a94-9f64-75a246224c1c\")>,\n",
       " <selenium.webdriver.remote.webelement.WebElement (session=\"e3416535b51d6df72ad7c773b019b76a\", element=\"a3548b88-5933-4cfb-9258-9aa8690c747a\")>,\n",
       " <selenium.webdriver.remote.webelement.WebElement (session=\"e3416535b51d6df72ad7c773b019b76a\", element=\"e6463907-d0b4-44a6-ad4e-c6899e3f812b\")>,\n",
       " <selenium.webdriver.remote.webelement.WebElement (session=\"e3416535b51d6df72ad7c773b019b76a\", element=\"98fc2c9f-9c5f-44f9-ab4b-a3aa09095249\")>,\n",
       " <selenium.webdriver.remote.webelement.WebElement (session=\"e3416535b51d6df72ad7c773b019b76a\", element=\"152a468a-a678-4e6e-bfc5-9ef639b5a177\")>,\n",
       " <selenium.webdriver.remote.webelement.WebElement (session=\"e3416535b51d6df72ad7c773b019b76a\", element=\"f088c2d6-6ae4-4043-b2dd-27ae4d8b1375\")>,\n",
       " <selenium.webdriver.remote.webelement.WebElement (session=\"e3416535b51d6df72ad7c773b019b76a\", element=\"c82478e9-ae96-4ff2-8626-99eac9cccc08\")>,\n",
       " <selenium.webdriver.remote.webelement.WebElement (session=\"e3416535b51d6df72ad7c773b019b76a\", element=\"a38360cb-bec5-4689-8e48-14f087aa38e6\")>,\n",
       " <selenium.webdriver.remote.webelement.WebElement (session=\"e3416535b51d6df72ad7c773b019b76a\", element=\"cbd8d64e-04f7-4d79-b5d3-ef5c2bcb38e3\")>,\n",
       " <selenium.webdriver.remote.webelement.WebElement (session=\"e3416535b51d6df72ad7c773b019b76a\", element=\"234b080c-33a8-47c5-8339-24810150fbcb\")>,\n",
       " <selenium.webdriver.remote.webelement.WebElement (session=\"e3416535b51d6df72ad7c773b019b76a\", element=\"fcbb1594-6292-4744-9e53-da169fb9f78e\")>,\n",
       " <selenium.webdriver.remote.webelement.WebElement (session=\"e3416535b51d6df72ad7c773b019b76a\", element=\"35f5a174-2a41-4f07-b018-958c5cac9207\")>,\n",
       " <selenium.webdriver.remote.webelement.WebElement (session=\"e3416535b51d6df72ad7c773b019b76a\", element=\"7e897d10-37f2-4a59-a99c-12d6bf2c27d5\")>,\n",
       " <selenium.webdriver.remote.webelement.WebElement (session=\"e3416535b51d6df72ad7c773b019b76a\", element=\"3d44581e-047f-43bb-a764-2ae97e70a0f8\")>,\n",
       " <selenium.webdriver.remote.webelement.WebElement (session=\"e3416535b51d6df72ad7c773b019b76a\", element=\"13564c32-7499-4177-a93d-8aef490463a6\")>,\n",
       " <selenium.webdriver.remote.webelement.WebElement (session=\"e3416535b51d6df72ad7c773b019b76a\", element=\"d24df6e3-0c26-4235-b1f5-d3247d44c308\")>,\n",
       " <selenium.webdriver.remote.webelement.WebElement (session=\"e3416535b51d6df72ad7c773b019b76a\", element=\"91f68f65-aaf1-4b60-9271-310f4687fe2b\")>,\n",
       " <selenium.webdriver.remote.webelement.WebElement (session=\"e3416535b51d6df72ad7c773b019b76a\", element=\"50e86119-11c4-4a0f-9b38-335da196d349\")>,\n",
       " <selenium.webdriver.remote.webelement.WebElement (session=\"e3416535b51d6df72ad7c773b019b76a\", element=\"4494f913-6af8-44e2-b8a0-4dafafe0d6bc\")>,\n",
       " <selenium.webdriver.remote.webelement.WebElement (session=\"e3416535b51d6df72ad7c773b019b76a\", element=\"892f66e7-ae76-4b3f-92fd-27790446af37\")>,\n",
       " <selenium.webdriver.remote.webelement.WebElement (session=\"e3416535b51d6df72ad7c773b019b76a\", element=\"100c5453-1c4d-469f-a64d-2d1c86c3870e\")>,\n",
       " <selenium.webdriver.remote.webelement.WebElement (session=\"e3416535b51d6df72ad7c773b019b76a\", element=\"4fb9142a-ab97-47fa-a0ee-4b6e0f9d4b0d\")>,\n",
       " <selenium.webdriver.remote.webelement.WebElement (session=\"e3416535b51d6df72ad7c773b019b76a\", element=\"4fc0306e-03ef-44ec-80fd-60d348be0d78\")>,\n",
       " <selenium.webdriver.remote.webelement.WebElement (session=\"e3416535b51d6df72ad7c773b019b76a\", element=\"a2622013-c30f-4563-9310-1e74e917ce6d\")>,\n",
       " <selenium.webdriver.remote.webelement.WebElement (session=\"e3416535b51d6df72ad7c773b019b76a\", element=\"1c1899ca-b4c8-4bb1-8723-30a8318cf9a3\")>,\n",
       " <selenium.webdriver.remote.webelement.WebElement (session=\"e3416535b51d6df72ad7c773b019b76a\", element=\"25f3f3c2-c90e-405e-b7c4-4426fc8c42b2\")>,\n",
       " <selenium.webdriver.remote.webelement.WebElement (session=\"e3416535b51d6df72ad7c773b019b76a\", element=\"b5ace06b-b12c-4d3a-9615-289ec764f799\")>,\n",
       " <selenium.webdriver.remote.webelement.WebElement (session=\"e3416535b51d6df72ad7c773b019b76a\", element=\"70c6b57d-ca51-4bf2-a580-9e841dbebc25\")>,\n",
       " <selenium.webdriver.remote.webelement.WebElement (session=\"e3416535b51d6df72ad7c773b019b76a\", element=\"fb7c8a1d-4f20-4267-8ed3-8a24c23e9afc\")>,\n",
       " <selenium.webdriver.remote.webelement.WebElement (session=\"e3416535b51d6df72ad7c773b019b76a\", element=\"6cb8a6ac-0b68-45c8-b37c-536a5248592f\")>,\n",
       " <selenium.webdriver.remote.webelement.WebElement (session=\"e3416535b51d6df72ad7c773b019b76a\", element=\"393acf55-1491-4aef-850d-036b4216a9fc\")>,\n",
       " <selenium.webdriver.remote.webelement.WebElement (session=\"e3416535b51d6df72ad7c773b019b76a\", element=\"a2c0bff5-ee9d-4bb0-9fe9-4aac5a98582f\")>,\n",
       " <selenium.webdriver.remote.webelement.WebElement (session=\"e3416535b51d6df72ad7c773b019b76a\", element=\"740b21e4-a9f9-40ce-8f54-bdccd4c1975b\")>,\n",
       " <selenium.webdriver.remote.webelement.WebElement (session=\"e3416535b51d6df72ad7c773b019b76a\", element=\"054e6d8c-0bbf-4d33-ad03-c03774aea77a\")>,\n",
       " <selenium.webdriver.remote.webelement.WebElement (session=\"e3416535b51d6df72ad7c773b019b76a\", element=\"0947d668-8428-4020-97fb-b796cec291d4\")>,\n",
       " <selenium.webdriver.remote.webelement.WebElement (session=\"e3416535b51d6df72ad7c773b019b76a\", element=\"ae0f80ba-93e6-483d-a0ed-c9cea81263f8\")>]"
      ]
     },
     "execution_count": 331,
     "metadata": {},
     "output_type": "execute_result"
    }
   ],
   "source": [
    "sbrand_tag"
   ]
  },
  {
   "cell_type": "code",
   "execution_count": 332,
   "id": "330eaff7",
   "metadata": {},
   "outputs": [],
   "source": [
    "for i in sbrand_tag:\n",
    "    sbrand=i.text\n",
    "    sneaker_brand.append(sbrand)"
   ]
  },
  {
   "cell_type": "code",
   "execution_count": 333,
   "id": "b4c8b164",
   "metadata": {},
   "outputs": [
    {
     "data": {
      "text/plain": [
       "['Footaction',\n",
       " 'SUSON',\n",
       " 'ASTEROID',\n",
       " 'Chevit',\n",
       " 'Magnolia',\n",
       " 'Numenzo',\n",
       " 'Chevit',\n",
       " 'STRANGER BROTHERS',\n",
       " 'Numenzo',\n",
       " 'Chevit',\n",
       " 'URBANBOX',\n",
       " 'Extoes',\n",
       " 'ASTEROID',\n",
       " 'FOOTGRAB',\n",
       " 'Kraasa',\n",
       " 'Extoes',\n",
       " 'SPARX',\n",
       " 'SCATCHITE',\n",
       " 'BRUTON',\n",
       " 'CALCADOS',\n",
       " 'Robbie jones',\n",
       " 'D-SNEAKERZ',\n",
       " 'Numenzo',\n",
       " 'FAUSTO',\n",
       " 'BRUTON',\n",
       " 'Kraasa',\n",
       " 'India hub',\n",
       " 'U.S. POLO ASSN.',\n",
       " 'Arohi',\n",
       " 'BIRDE',\n",
       " 'Robbie jones',\n",
       " \"Neeman's\",\n",
       " 'believe',\n",
       " 'Shoes Bank',\n",
       " 'India hub',\n",
       " 'aadi',\n",
       " 'BRUTON',\n",
       " 'SPARX',\n",
       " 'Robbie jones',\n",
       " 'Blackberrys']"
      ]
     },
     "execution_count": 333,
     "metadata": {},
     "output_type": "execute_result"
    }
   ],
   "source": [
    "sneaker_brand"
   ]
  },
  {
   "cell_type": "code",
   "execution_count": 334,
   "id": "ab0aeb72",
   "metadata": {},
   "outputs": [
    {
     "data": {
      "text/plain": [
       "40"
      ]
     },
     "execution_count": 334,
     "metadata": {},
     "output_type": "execute_result"
    }
   ],
   "source": [
    "len(sneaker_brand)"
   ]
  },
  {
   "cell_type": "code",
   "execution_count": 335,
   "id": "efe8044b",
   "metadata": {
    "collapsed": true
   },
   "outputs": [
    {
     "name": "stderr",
     "output_type": "stream",
     "text": [
      "<ipython-input-335-b966e6c79c26>:1: DeprecationWarning: find_elements_by_* commands are deprecated. Please use find_elements() instead\n",
      "  sdisc_tag=driver.find_elements_by_xpath(\"//a[@class='IRpwTa']\")\n"
     ]
    }
   ],
   "source": [
    "sdisc_tag=driver.find_elements_by_xpath(\"//a[@class='IRpwTa']\")"
   ]
  },
  {
   "cell_type": "code",
   "execution_count": 336,
   "id": "99c55cc9",
   "metadata": {
    "collapsed": true
   },
   "outputs": [
    {
     "data": {
      "text/plain": [
       "[<selenium.webdriver.remote.webelement.WebElement (session=\"e3416535b51d6df72ad7c773b019b76a\", element=\"3de67728-57d1-4da4-8d6b-c6c5115a106b\")>,\n",
       " <selenium.webdriver.remote.webelement.WebElement (session=\"e3416535b51d6df72ad7c773b019b76a\", element=\"9bea7898-a3ff-43dd-98c7-39d3097a9b0d\")>,\n",
       " <selenium.webdriver.remote.webelement.WebElement (session=\"e3416535b51d6df72ad7c773b019b76a\", element=\"a6aa22c6-0262-4cfa-8c67-b0b1e942acb9\")>,\n",
       " <selenium.webdriver.remote.webelement.WebElement (session=\"e3416535b51d6df72ad7c773b019b76a\", element=\"bb256bfb-462a-472d-98b1-ce2b59fb7c0d\")>,\n",
       " <selenium.webdriver.remote.webelement.WebElement (session=\"e3416535b51d6df72ad7c773b019b76a\", element=\"1a5216e8-3ed1-430d-ba75-71c6b1a36fda\")>,\n",
       " <selenium.webdriver.remote.webelement.WebElement (session=\"e3416535b51d6df72ad7c773b019b76a\", element=\"4bc768a7-46e3-4ebc-9f32-fc1d7b0bf52d\")>,\n",
       " <selenium.webdriver.remote.webelement.WebElement (session=\"e3416535b51d6df72ad7c773b019b76a\", element=\"d5828f17-2418-4d3a-849e-80f9a23df598\")>,\n",
       " <selenium.webdriver.remote.webelement.WebElement (session=\"e3416535b51d6df72ad7c773b019b76a\", element=\"3e8cdae7-7526-4e06-9cf2-568b1f4102bb\")>,\n",
       " <selenium.webdriver.remote.webelement.WebElement (session=\"e3416535b51d6df72ad7c773b019b76a\", element=\"f3a57160-2d0c-4a0f-a3c6-ef4356a136a6\")>,\n",
       " <selenium.webdriver.remote.webelement.WebElement (session=\"e3416535b51d6df72ad7c773b019b76a\", element=\"fe5531fb-8b13-4586-ba9c-67baca5bf84b\")>,\n",
       " <selenium.webdriver.remote.webelement.WebElement (session=\"e3416535b51d6df72ad7c773b019b76a\", element=\"9f6a27e5-a386-408c-9576-76d0b9e49870\")>,\n",
       " <selenium.webdriver.remote.webelement.WebElement (session=\"e3416535b51d6df72ad7c773b019b76a\", element=\"dd8274e6-afc3-476e-a46f-4ae2c96b0319\")>,\n",
       " <selenium.webdriver.remote.webelement.WebElement (session=\"e3416535b51d6df72ad7c773b019b76a\", element=\"356e6d72-46b6-4a64-8687-6b7671d7252f\")>,\n",
       " <selenium.webdriver.remote.webelement.WebElement (session=\"e3416535b51d6df72ad7c773b019b76a\", element=\"06f42741-f945-4185-971e-7a015962a3ab\")>,\n",
       " <selenium.webdriver.remote.webelement.WebElement (session=\"e3416535b51d6df72ad7c773b019b76a\", element=\"24dc90d7-b4a9-4f35-8f5e-cbab06d48607\")>,\n",
       " <selenium.webdriver.remote.webelement.WebElement (session=\"e3416535b51d6df72ad7c773b019b76a\", element=\"f8c78aef-003f-4c0c-8cb9-b0f0439562f8\")>,\n",
       " <selenium.webdriver.remote.webelement.WebElement (session=\"e3416535b51d6df72ad7c773b019b76a\", element=\"596a9499-de5a-45d7-9de4-071e0d5cdf57\")>,\n",
       " <selenium.webdriver.remote.webelement.WebElement (session=\"e3416535b51d6df72ad7c773b019b76a\", element=\"46e922e4-6e01-4612-ac6f-28360e09cbf1\")>,\n",
       " <selenium.webdriver.remote.webelement.WebElement (session=\"e3416535b51d6df72ad7c773b019b76a\", element=\"60fe0ca9-d8c9-48ac-af01-a996f2a8a5cb\")>,\n",
       " <selenium.webdriver.remote.webelement.WebElement (session=\"e3416535b51d6df72ad7c773b019b76a\", element=\"74dde03e-0407-4d08-a231-bbf01af97c89\")>,\n",
       " <selenium.webdriver.remote.webelement.WebElement (session=\"e3416535b51d6df72ad7c773b019b76a\", element=\"d161b2f4-04fb-471d-9fea-97cc8b715d87\")>,\n",
       " <selenium.webdriver.remote.webelement.WebElement (session=\"e3416535b51d6df72ad7c773b019b76a\", element=\"f33bfcd5-48e0-4d45-9475-bdbe2dd42a4e\")>,\n",
       " <selenium.webdriver.remote.webelement.WebElement (session=\"e3416535b51d6df72ad7c773b019b76a\", element=\"8cf87cda-4314-4dd5-a4f4-6f3c06d3307b\")>,\n",
       " <selenium.webdriver.remote.webelement.WebElement (session=\"e3416535b51d6df72ad7c773b019b76a\", element=\"b694d0d1-11a5-42c5-b7cb-a7c13e9a6c22\")>,\n",
       " <selenium.webdriver.remote.webelement.WebElement (session=\"e3416535b51d6df72ad7c773b019b76a\", element=\"a446f432-16c3-4cde-9a41-9c2929a3a976\")>,\n",
       " <selenium.webdriver.remote.webelement.WebElement (session=\"e3416535b51d6df72ad7c773b019b76a\", element=\"ad33145f-15dc-44bc-b352-4c4b6dea88b9\")>,\n",
       " <selenium.webdriver.remote.webelement.WebElement (session=\"e3416535b51d6df72ad7c773b019b76a\", element=\"87016c3a-933a-4878-a969-632579646362\")>,\n",
       " <selenium.webdriver.remote.webelement.WebElement (session=\"e3416535b51d6df72ad7c773b019b76a\", element=\"1425dfca-337e-473a-975b-0b02f7cd503e\")>,\n",
       " <selenium.webdriver.remote.webelement.WebElement (session=\"e3416535b51d6df72ad7c773b019b76a\", element=\"e9c84bc7-e57e-4d17-8048-574e3157601c\")>,\n",
       " <selenium.webdriver.remote.webelement.WebElement (session=\"e3416535b51d6df72ad7c773b019b76a\", element=\"077736e6-ae60-4442-afda-148bd827d947\")>,\n",
       " <selenium.webdriver.remote.webelement.WebElement (session=\"e3416535b51d6df72ad7c773b019b76a\", element=\"d9a4a87d-6c74-4389-951a-b23e78a8c8be\")>,\n",
       " <selenium.webdriver.remote.webelement.WebElement (session=\"e3416535b51d6df72ad7c773b019b76a\", element=\"87c8404c-ca3a-490a-bfd9-1dd9c82f94d1\")>,\n",
       " <selenium.webdriver.remote.webelement.WebElement (session=\"e3416535b51d6df72ad7c773b019b76a\", element=\"b48d52ad-e448-443a-ab7d-b7374b3abd55\")>,\n",
       " <selenium.webdriver.remote.webelement.WebElement (session=\"e3416535b51d6df72ad7c773b019b76a\", element=\"015db657-2ae7-41a2-bfa1-bc28569e93a4\")>,\n",
       " <selenium.webdriver.remote.webelement.WebElement (session=\"e3416535b51d6df72ad7c773b019b76a\", element=\"ec2076f1-2500-495f-a5ad-217c87c68cf5\")>]"
      ]
     },
     "execution_count": 336,
     "metadata": {},
     "output_type": "execute_result"
    }
   ],
   "source": [
    "sdisc_tag"
   ]
  },
  {
   "cell_type": "code",
   "execution_count": 337,
   "id": "dbbe7c61",
   "metadata": {},
   "outputs": [],
   "source": [
    "for i in sdisc_tag:\n",
    "    sdiscription=i.text\n",
    "    sneaker_discription.append(sdiscription)"
   ]
  },
  {
   "cell_type": "code",
   "execution_count": 338,
   "id": "f32348e9",
   "metadata": {},
   "outputs": [
    {
     "data": {
      "text/plain": [
       "['Gym/Walking/Running Sneakers For Men',\n",
       " \"Original Luxury Branded Fashionable Men's Casual Walkin...\",\n",
       " 'Super Stylish & Trendy Combo Pack of 02 Pairs Sneakers ...',\n",
       " 'Sneakers For Men',\n",
       " '411 Casual Sneakers For Men',\n",
       " 'Unique & Perfect Collection Combo Pack of 02 Shoes for ...',\n",
       " 'Sneakers For Men',\n",
       " 'Perfect & Affordable Combo Pack of 02 Pairs Sneakers Ou...',\n",
       " 'Relaxed Attractive Combo pack of 3 Sneakers For Men',\n",
       " \"Original Luxury Branded Fashionable Men's Casual Walkin...\",\n",
       " 'White Boots || High Tops || Sneakers For Men',\n",
       " 'Shark-41 Sneakers For Men',\n",
       " 'Relaxed Attractive Combo pack of 4 Sneakers For Men',\n",
       " 'Sneakers Sneakers For Men',\n",
       " 'Combo Pack Of 4 Casual Shoes Loafer Shoes Sneakers For ...',\n",
       " 'Relaxed Attractive Combo pack of 4 Sneakers For Men',\n",
       " 'Casual Sneakers Shoes For Men Sneakers For Men',\n",
       " \"Casual , Partywear Sneakers Shoes For Men's And Boys Wh...\",\n",
       " 'Numenzo Black Sneaker For Men Sneakers For Men',\n",
       " 'Lace Up Trendy Sneakers For Men',\n",
       " 'Modern Trendy Shoes Sneakers For Men',\n",
       " 'Series 7 Sneakers For Men',\n",
       " 'Fashionable sneaker casual shoes Sneakers For Men',\n",
       " 'Sneakers For Men',\n",
       " 'Sneakers For Men',\n",
       " 'Sports Running Shoes Sneakers For Men',\n",
       " 'Sneakers For Men',\n",
       " 'Sneakers for men(black_6) Sneakers For Men',\n",
       " \"White Sneaker For Men's/Boy's Sneakers For Men\",\n",
       " 'Sneakers For Men',\n",
       " 'Sneakers For Men',\n",
       " 'Combo Pack Of 2 Latest Stylish Casual Shoes for Men Lac...',\n",
       " 'Canvas Casual Partywear Outdoor Sneakers Shoes For Mens...',\n",
       " 'Sneakers For Men',\n",
       " 'Sneakers For Men']"
      ]
     },
     "execution_count": 338,
     "metadata": {},
     "output_type": "execute_result"
    }
   ],
   "source": [
    "sneaker_discription"
   ]
  },
  {
   "cell_type": "code",
   "execution_count": 339,
   "id": "399efdd6",
   "metadata": {
    "collapsed": true
   },
   "outputs": [
    {
     "name": "stderr",
     "output_type": "stream",
     "text": [
      "<ipython-input-339-66c5d1ce6fbf>:1: DeprecationWarning: find_elements_by_* commands are deprecated. Please use find_elements() instead\n",
      "  sprice_tag=driver.find_elements_by_xpath(\"//div[@class='_30jeq3']\")\n"
     ]
    },
    {
     "data": {
      "text/plain": [
       "[<selenium.webdriver.remote.webelement.WebElement (session=\"e3416535b51d6df72ad7c773b019b76a\", element=\"ef90c637-a5b1-40b6-b74e-7adbeed0ef01\")>,\n",
       " <selenium.webdriver.remote.webelement.WebElement (session=\"e3416535b51d6df72ad7c773b019b76a\", element=\"02ff9cc3-8826-4168-b56b-f23d8ee25277\")>,\n",
       " <selenium.webdriver.remote.webelement.WebElement (session=\"e3416535b51d6df72ad7c773b019b76a\", element=\"b02b4e2e-5eb2-4765-8977-726afaf7f8d4\")>,\n",
       " <selenium.webdriver.remote.webelement.WebElement (session=\"e3416535b51d6df72ad7c773b019b76a\", element=\"1e905e5c-e36b-40f6-8856-09eb75427ac6\")>,\n",
       " <selenium.webdriver.remote.webelement.WebElement (session=\"e3416535b51d6df72ad7c773b019b76a\", element=\"91df0ec4-53d8-465e-9feb-db08d9952d9b\")>,\n",
       " <selenium.webdriver.remote.webelement.WebElement (session=\"e3416535b51d6df72ad7c773b019b76a\", element=\"e09561c1-68e5-4eba-a0c8-e27521e4af6f\")>,\n",
       " <selenium.webdriver.remote.webelement.WebElement (session=\"e3416535b51d6df72ad7c773b019b76a\", element=\"ad421144-81cd-4625-9b7e-fe962f6e630c\")>,\n",
       " <selenium.webdriver.remote.webelement.WebElement (session=\"e3416535b51d6df72ad7c773b019b76a\", element=\"a9841753-6a50-435e-9d05-185cc88a485d\")>,\n",
       " <selenium.webdriver.remote.webelement.WebElement (session=\"e3416535b51d6df72ad7c773b019b76a\", element=\"225f0d07-6d3b-4b8a-a219-a5a371b37212\")>,\n",
       " <selenium.webdriver.remote.webelement.WebElement (session=\"e3416535b51d6df72ad7c773b019b76a\", element=\"3f5a0bb4-44f9-412a-b57a-680e78793d57\")>,\n",
       " <selenium.webdriver.remote.webelement.WebElement (session=\"e3416535b51d6df72ad7c773b019b76a\", element=\"4cb7ed9d-0ed6-4270-bdd0-dba872b7f487\")>,\n",
       " <selenium.webdriver.remote.webelement.WebElement (session=\"e3416535b51d6df72ad7c773b019b76a\", element=\"f71d2845-7f67-4749-8d9c-a517d77ce55c\")>,\n",
       " <selenium.webdriver.remote.webelement.WebElement (session=\"e3416535b51d6df72ad7c773b019b76a\", element=\"d18fea7e-f9e1-4f08-9c79-d64bb1abccc1\")>,\n",
       " <selenium.webdriver.remote.webelement.WebElement (session=\"e3416535b51d6df72ad7c773b019b76a\", element=\"c8c74603-070f-4ba6-b49b-346264a8a6b7\")>,\n",
       " <selenium.webdriver.remote.webelement.WebElement (session=\"e3416535b51d6df72ad7c773b019b76a\", element=\"fb964376-6dd5-4694-b198-9ead9fdec61c\")>,\n",
       " <selenium.webdriver.remote.webelement.WebElement (session=\"e3416535b51d6df72ad7c773b019b76a\", element=\"5ec48e56-fc8f-4d08-856e-abb49e60a972\")>,\n",
       " <selenium.webdriver.remote.webelement.WebElement (session=\"e3416535b51d6df72ad7c773b019b76a\", element=\"1c1454c2-44c6-4725-80b2-e88b7185bf8e\")>,\n",
       " <selenium.webdriver.remote.webelement.WebElement (session=\"e3416535b51d6df72ad7c773b019b76a\", element=\"5a515401-ee88-4935-aa08-bfde6435b796\")>,\n",
       " <selenium.webdriver.remote.webelement.WebElement (session=\"e3416535b51d6df72ad7c773b019b76a\", element=\"e6879783-9915-4fd2-8978-036f549466a3\")>,\n",
       " <selenium.webdriver.remote.webelement.WebElement (session=\"e3416535b51d6df72ad7c773b019b76a\", element=\"381f1fc2-ae24-421c-a847-c1aa5a19a2d7\")>,\n",
       " <selenium.webdriver.remote.webelement.WebElement (session=\"e3416535b51d6df72ad7c773b019b76a\", element=\"ffb92241-d888-4d46-abcb-ccffb23e5907\")>,\n",
       " <selenium.webdriver.remote.webelement.WebElement (session=\"e3416535b51d6df72ad7c773b019b76a\", element=\"c9b09089-a502-4003-9b48-4f9ad629fee0\")>,\n",
       " <selenium.webdriver.remote.webelement.WebElement (session=\"e3416535b51d6df72ad7c773b019b76a\", element=\"8109fb41-e1ad-4c68-a79c-c405a5d2e0f1\")>,\n",
       " <selenium.webdriver.remote.webelement.WebElement (session=\"e3416535b51d6df72ad7c773b019b76a\", element=\"4216516b-2e33-43e9-aa71-3647e63f6ba2\")>,\n",
       " <selenium.webdriver.remote.webelement.WebElement (session=\"e3416535b51d6df72ad7c773b019b76a\", element=\"4fc8401f-cdb4-424c-91ad-5be12c742221\")>,\n",
       " <selenium.webdriver.remote.webelement.WebElement (session=\"e3416535b51d6df72ad7c773b019b76a\", element=\"92df1f40-e8e7-4ecf-b019-6f97ce73c229\")>,\n",
       " <selenium.webdriver.remote.webelement.WebElement (session=\"e3416535b51d6df72ad7c773b019b76a\", element=\"316cdb2b-5b0f-4456-9199-cf472525f47a\")>,\n",
       " <selenium.webdriver.remote.webelement.WebElement (session=\"e3416535b51d6df72ad7c773b019b76a\", element=\"98bec1fc-d69c-4323-9f92-7a06bf4ba693\")>,\n",
       " <selenium.webdriver.remote.webelement.WebElement (session=\"e3416535b51d6df72ad7c773b019b76a\", element=\"94db3f2c-59ff-4115-a82a-96ed8d08d182\")>,\n",
       " <selenium.webdriver.remote.webelement.WebElement (session=\"e3416535b51d6df72ad7c773b019b76a\", element=\"c2e221c8-3675-4d7b-878d-62bd118dff31\")>,\n",
       " <selenium.webdriver.remote.webelement.WebElement (session=\"e3416535b51d6df72ad7c773b019b76a\", element=\"f08f760a-bde0-4725-9352-77d38ef03101\")>,\n",
       " <selenium.webdriver.remote.webelement.WebElement (session=\"e3416535b51d6df72ad7c773b019b76a\", element=\"a867637d-3685-4692-9764-a39e37ca51ef\")>,\n",
       " <selenium.webdriver.remote.webelement.WebElement (session=\"e3416535b51d6df72ad7c773b019b76a\", element=\"9c6495d0-0481-4cdf-bdff-1d1794dd708e\")>,\n",
       " <selenium.webdriver.remote.webelement.WebElement (session=\"e3416535b51d6df72ad7c773b019b76a\", element=\"0025e999-30ae-408d-9843-199f849e986f\")>,\n",
       " <selenium.webdriver.remote.webelement.WebElement (session=\"e3416535b51d6df72ad7c773b019b76a\", element=\"40c18667-f216-417e-b382-dddc88e748d3\")>,\n",
       " <selenium.webdriver.remote.webelement.WebElement (session=\"e3416535b51d6df72ad7c773b019b76a\", element=\"6466e596-beb2-4bf9-8470-8ae48a37afe0\")>,\n",
       " <selenium.webdriver.remote.webelement.WebElement (session=\"e3416535b51d6df72ad7c773b019b76a\", element=\"ca24b8bd-cfb4-4c89-950e-880afd2c46ca\")>,\n",
       " <selenium.webdriver.remote.webelement.WebElement (session=\"e3416535b51d6df72ad7c773b019b76a\", element=\"be96af6a-94cc-4097-b17b-4953688785c8\")>,\n",
       " <selenium.webdriver.remote.webelement.WebElement (session=\"e3416535b51d6df72ad7c773b019b76a\", element=\"a3f8190f-11a7-4a30-b4f7-fdbc1ee51112\")>,\n",
       " <selenium.webdriver.remote.webelement.WebElement (session=\"e3416535b51d6df72ad7c773b019b76a\", element=\"3562f1cc-5c59-4f9c-bd72-6070fe702b6d\")>]"
      ]
     },
     "execution_count": 339,
     "metadata": {},
     "output_type": "execute_result"
    }
   ],
   "source": [
    "sprice_tag=driver.find_elements_by_xpath(\"//div[@class='_30jeq3']\")\n",
    "sprice_tag"
   ]
  },
  {
   "cell_type": "code",
   "execution_count": 340,
   "id": "ff171bab",
   "metadata": {},
   "outputs": [],
   "source": [
    "for i in sprice_tag:\n",
    "    sprice=i.text\n",
    "    sneaker_price.append(sprice)"
   ]
  },
  {
   "cell_type": "code",
   "execution_count": 341,
   "id": "2b3e427c",
   "metadata": {},
   "outputs": [
    {
     "data": {
      "text/plain": [
       "['₹419',\n",
       " '₹379',\n",
       " '₹499',\n",
       " '₹699',\n",
       " '₹398',\n",
       " '₹499',\n",
       " '₹599',\n",
       " '₹431',\n",
       " '₹479',\n",
       " '₹599',\n",
       " '₹220',\n",
       " '₹729',\n",
       " '₹499',\n",
       " '₹549',\n",
       " '₹499',\n",
       " '₹698',\n",
       " '₹639',\n",
       " '₹398',\n",
       " '₹666',\n",
       " '₹699',\n",
       " '₹399',\n",
       " '₹348',\n",
       " '₹499',\n",
       " '₹1,049',\n",
       " '₹379',\n",
       " '₹499',\n",
       " '₹448',\n",
       " '₹1,350',\n",
       " '₹458',\n",
       " '₹299',\n",
       " '₹499',\n",
       " '₹2,399',\n",
       " '₹499',\n",
       " '₹345',\n",
       " '₹499',\n",
       " '₹473',\n",
       " '₹592',\n",
       " '₹645',\n",
       " '₹499',\n",
       " '₹3,496']"
      ]
     },
     "execution_count": 341,
     "metadata": {},
     "output_type": "execute_result"
    }
   ],
   "source": [
    "sneaker_price"
   ]
  },
  {
   "cell_type": "code",
   "execution_count": 342,
   "id": "e3fcded2",
   "metadata": {
    "collapsed": true
   },
   "outputs": [
    {
     "name": "stderr",
     "output_type": "stream",
     "text": [
      "<ipython-input-342-28bf0b6d2abf>:1: DeprecationWarning: find_elements_by_* commands are deprecated. Please use find_elements() instead\n",
      "  soffer_tag=driver.find_elements_by_xpath(\"//div[@class='_3Ay6Sb']\")\n"
     ]
    },
    {
     "data": {
      "text/plain": [
       "[<selenium.webdriver.remote.webelement.WebElement (session=\"e3416535b51d6df72ad7c773b019b76a\", element=\"224f4c6c-d8fd-4a93-ba94-c8227091f7a2\")>,\n",
       " <selenium.webdriver.remote.webelement.WebElement (session=\"e3416535b51d6df72ad7c773b019b76a\", element=\"8f46b3e6-1930-4d7b-9b7d-a5764eaa24a6\")>,\n",
       " <selenium.webdriver.remote.webelement.WebElement (session=\"e3416535b51d6df72ad7c773b019b76a\", element=\"510ce27f-a62f-47a2-b2af-bd705a59b45f\")>,\n",
       " <selenium.webdriver.remote.webelement.WebElement (session=\"e3416535b51d6df72ad7c773b019b76a\", element=\"bcbb11f2-aebf-4f3c-a5c7-717e404b0d41\")>,\n",
       " <selenium.webdriver.remote.webelement.WebElement (session=\"e3416535b51d6df72ad7c773b019b76a\", element=\"a526d1d4-832d-4016-a8cc-a45f276a882b\")>,\n",
       " <selenium.webdriver.remote.webelement.WebElement (session=\"e3416535b51d6df72ad7c773b019b76a\", element=\"856f9809-e825-4b5b-b04c-d41ee52aa5ad\")>,\n",
       " <selenium.webdriver.remote.webelement.WebElement (session=\"e3416535b51d6df72ad7c773b019b76a\", element=\"cf448c5a-386a-44d7-86d5-8caedd302b23\")>,\n",
       " <selenium.webdriver.remote.webelement.WebElement (session=\"e3416535b51d6df72ad7c773b019b76a\", element=\"36f1be6d-a021-4042-9fc1-7042c6a94d3d\")>,\n",
       " <selenium.webdriver.remote.webelement.WebElement (session=\"e3416535b51d6df72ad7c773b019b76a\", element=\"f029b6e0-32da-46ed-a0d2-17e1894f6d21\")>,\n",
       " <selenium.webdriver.remote.webelement.WebElement (session=\"e3416535b51d6df72ad7c773b019b76a\", element=\"769b1192-e72b-4a46-85ef-803905c926d3\")>,\n",
       " <selenium.webdriver.remote.webelement.WebElement (session=\"e3416535b51d6df72ad7c773b019b76a\", element=\"c3144ada-a2cb-4ccf-8d87-f476003a9418\")>,\n",
       " <selenium.webdriver.remote.webelement.WebElement (session=\"e3416535b51d6df72ad7c773b019b76a\", element=\"181e6295-06e5-4a72-bbd6-9c83541c5c9e\")>,\n",
       " <selenium.webdriver.remote.webelement.WebElement (session=\"e3416535b51d6df72ad7c773b019b76a\", element=\"fd4da5f3-9158-435a-be7d-bf6c24427fa0\")>,\n",
       " <selenium.webdriver.remote.webelement.WebElement (session=\"e3416535b51d6df72ad7c773b019b76a\", element=\"37b7014e-e295-4c6a-bd63-a7feb38ee826\")>,\n",
       " <selenium.webdriver.remote.webelement.WebElement (session=\"e3416535b51d6df72ad7c773b019b76a\", element=\"3b1e3d33-2150-4f95-9987-08da37748547\")>,\n",
       " <selenium.webdriver.remote.webelement.WebElement (session=\"e3416535b51d6df72ad7c773b019b76a\", element=\"73707154-979c-4e93-a751-3aa3e7a4efa9\")>,\n",
       " <selenium.webdriver.remote.webelement.WebElement (session=\"e3416535b51d6df72ad7c773b019b76a\", element=\"4179e544-1cb8-480d-a3d2-2357b3afc748\")>,\n",
       " <selenium.webdriver.remote.webelement.WebElement (session=\"e3416535b51d6df72ad7c773b019b76a\", element=\"e3194b06-b13e-485b-b942-7e533e5e4cb4\")>,\n",
       " <selenium.webdriver.remote.webelement.WebElement (session=\"e3416535b51d6df72ad7c773b019b76a\", element=\"ed9daa8a-98a7-45e1-9b14-93a6d8be47b3\")>,\n",
       " <selenium.webdriver.remote.webelement.WebElement (session=\"e3416535b51d6df72ad7c773b019b76a\", element=\"69975cb5-5fe3-48fb-a2b7-e19fa0748936\")>,\n",
       " <selenium.webdriver.remote.webelement.WebElement (session=\"e3416535b51d6df72ad7c773b019b76a\", element=\"ac61a1da-364f-45b7-9826-d374d6dc8b54\")>,\n",
       " <selenium.webdriver.remote.webelement.WebElement (session=\"e3416535b51d6df72ad7c773b019b76a\", element=\"d02ad676-2339-471b-97d8-f51d099a72ca\")>,\n",
       " <selenium.webdriver.remote.webelement.WebElement (session=\"e3416535b51d6df72ad7c773b019b76a\", element=\"aec7c78e-0955-4dbe-a7db-4162ddf93f40\")>,\n",
       " <selenium.webdriver.remote.webelement.WebElement (session=\"e3416535b51d6df72ad7c773b019b76a\", element=\"674172bd-4149-408c-879e-e4800567a634\")>,\n",
       " <selenium.webdriver.remote.webelement.WebElement (session=\"e3416535b51d6df72ad7c773b019b76a\", element=\"64ef74c2-b923-4a15-b3f0-bf63b1be7798\")>,\n",
       " <selenium.webdriver.remote.webelement.WebElement (session=\"e3416535b51d6df72ad7c773b019b76a\", element=\"537e191d-0f0f-4fbe-b97a-7833ba8568fd\")>,\n",
       " <selenium.webdriver.remote.webelement.WebElement (session=\"e3416535b51d6df72ad7c773b019b76a\", element=\"038f90a4-037a-4e21-9b20-3638fb8f2a73\")>,\n",
       " <selenium.webdriver.remote.webelement.WebElement (session=\"e3416535b51d6df72ad7c773b019b76a\", element=\"f6e71495-2005-4661-83e8-6524704f16f3\")>,\n",
       " <selenium.webdriver.remote.webelement.WebElement (session=\"e3416535b51d6df72ad7c773b019b76a\", element=\"c4328ba6-8737-4d0b-869f-2a191276e44c\")>,\n",
       " <selenium.webdriver.remote.webelement.WebElement (session=\"e3416535b51d6df72ad7c773b019b76a\", element=\"f2f4e27d-23a4-41d6-9966-cc9b81a571ee\")>,\n",
       " <selenium.webdriver.remote.webelement.WebElement (session=\"e3416535b51d6df72ad7c773b019b76a\", element=\"e5dc6a7e-b147-4a23-81bb-e26bb288cbc0\")>,\n",
       " <selenium.webdriver.remote.webelement.WebElement (session=\"e3416535b51d6df72ad7c773b019b76a\", element=\"73d01f70-5180-4742-b45d-94ea5b68e623\")>,\n",
       " <selenium.webdriver.remote.webelement.WebElement (session=\"e3416535b51d6df72ad7c773b019b76a\", element=\"df03ffb1-b2b6-46ee-b0f6-295bbc72bf59\")>,\n",
       " <selenium.webdriver.remote.webelement.WebElement (session=\"e3416535b51d6df72ad7c773b019b76a\", element=\"c77e0dc9-540d-4293-89cf-36daeb5714f3\")>,\n",
       " <selenium.webdriver.remote.webelement.WebElement (session=\"e3416535b51d6df72ad7c773b019b76a\", element=\"438b5ef9-282c-4a9b-9ec9-191c872c3c61\")>,\n",
       " <selenium.webdriver.remote.webelement.WebElement (session=\"e3416535b51d6df72ad7c773b019b76a\", element=\"3c3609c7-8fdd-41ef-9534-803d4ae99bcd\")>,\n",
       " <selenium.webdriver.remote.webelement.WebElement (session=\"e3416535b51d6df72ad7c773b019b76a\", element=\"5627e484-f6b4-4a32-ad4a-c2917d9f0350\")>,\n",
       " <selenium.webdriver.remote.webelement.WebElement (session=\"e3416535b51d6df72ad7c773b019b76a\", element=\"d6618c2c-479a-498a-9a47-7e222c2a4289\")>,\n",
       " <selenium.webdriver.remote.webelement.WebElement (session=\"e3416535b51d6df72ad7c773b019b76a\", element=\"d8089377-6beb-4030-aae9-176c41ce9159\")>]"
      ]
     },
     "execution_count": 342,
     "metadata": {},
     "output_type": "execute_result"
    }
   ],
   "source": [
    "soffer_tag=driver.find_elements_by_xpath(\"//div[@class='_3Ay6Sb']\")\n",
    "soffer_tag"
   ]
  },
  {
   "cell_type": "code",
   "execution_count": 343,
   "id": "763b7773",
   "metadata": {},
   "outputs": [],
   "source": [
    "for j in soffer_tag:\n",
    "    soffer=j.text\n",
    "    sneaker_offer.append(soffer)"
   ]
  },
  {
   "cell_type": "code",
   "execution_count": 344,
   "id": "a40c7e60",
   "metadata": {},
   "outputs": [
    {
     "data": {
      "text/plain": [
       "39"
      ]
     },
     "execution_count": 344,
     "metadata": {},
     "output_type": "execute_result"
    }
   ],
   "source": [
    "len(sneaker_offer)"
   ]
  },
  {
   "cell_type": "code",
   "execution_count": 347,
   "id": "209a2c50",
   "metadata": {},
   "outputs": [
    {
     "data": {
      "text/plain": [
       "['58% off',\n",
       " '62% off',\n",
       " '75% off',\n",
       " '56% off',\n",
       " '60% off',\n",
       " '75% off',\n",
       " '60% off',\n",
       " '56% off',\n",
       " '63% off',\n",
       " '66% off',\n",
       " '77% off',\n",
       " '51% off',\n",
       " '50% off',\n",
       " '45% off',\n",
       " '50% off',\n",
       " '65% off',\n",
       " '14% off',\n",
       " '60% off',\n",
       " '80% off',\n",
       " '64% off',\n",
       " '60% off',\n",
       " '47% off',\n",
       " '61% off',\n",
       " '70% off',\n",
       " '50% off',\n",
       " '77% off',\n",
       " '54% off',\n",
       " '54% off',\n",
       " '40% off',\n",
       " '50% off',\n",
       " '20% off',\n",
       " '50% off',\n",
       " '65% off',\n",
       " '75% off',\n",
       " '76% off',\n",
       " '76% off',\n",
       " '13% off',\n",
       " '50% off',\n",
       " '30% off']"
      ]
     },
     "execution_count": 347,
     "metadata": {},
     "output_type": "execute_result"
    }
   ],
   "source": [
    "sneaker_offer"
   ]
  },
  {
   "cell_type": "code",
   "execution_count": 348,
   "id": "9cf2a64f",
   "metadata": {
    "collapsed": true
   },
   "outputs": [
    {
     "name": "stderr",
     "output_type": "stream",
     "text": [
      "<ipython-input-348-d7671b18a189>:1: DeprecationWarning: find_element_by_* commands are deprecated. Please use find_element() instead\n",
      "  next_btn2=driver.find_element_by_xpath(\"//span[@class='_22Tduf']\")\n"
     ]
    }
   ],
   "source": [
    "next_btn2=driver.find_element_by_xpath(\"//span[@class='_22Tduf']\")  \n",
    "next_btn.click() "
   ]
  },
  {
   "cell_type": "code",
   "execution_count": 349,
   "id": "adea4fb9",
   "metadata": {
    "collapsed": true
   },
   "outputs": [
    {
     "name": "stderr",
     "output_type": "stream",
     "text": [
      "<ipython-input-349-2e21f62aadc6>:1: DeprecationWarning: find_elements_by_* commands are deprecated. Please use find_elements() instead\n",
      "  sbrand_tag2=driver.find_elements_by_xpath(\"//div[@class='_2WkVRV']\")\n"
     ]
    }
   ],
   "source": [
    "sbrand_tag2=driver.find_elements_by_xpath(\"//div[@class='_2WkVRV']\")"
   ]
  },
  {
   "cell_type": "code",
   "execution_count": 275,
   "id": "83a7b799",
   "metadata": {
    "collapsed": true
   },
   "outputs": [
    {
     "data": {
      "text/plain": [
       "[<selenium.webdriver.remote.webelement.WebElement (session=\"8ad37eb264425e988a2656f6c0c37e12\", element=\"4caed0db-3f47-4b2f-8c78-de8eb204c8c3\")>,\n",
       " <selenium.webdriver.remote.webelement.WebElement (session=\"8ad37eb264425e988a2656f6c0c37e12\", element=\"533e09c6-a247-4e6a-a4ac-556af97dd6d3\")>,\n",
       " <selenium.webdriver.remote.webelement.WebElement (session=\"8ad37eb264425e988a2656f6c0c37e12\", element=\"c536f32f-f0ad-44f2-9c78-81e2b15f587d\")>,\n",
       " <selenium.webdriver.remote.webelement.WebElement (session=\"8ad37eb264425e988a2656f6c0c37e12\", element=\"5e8af9e5-fff5-4cda-bb57-5b97957f449a\")>,\n",
       " <selenium.webdriver.remote.webelement.WebElement (session=\"8ad37eb264425e988a2656f6c0c37e12\", element=\"6e4bc4b3-a558-46e4-9039-fc64f5ec9426\")>,\n",
       " <selenium.webdriver.remote.webelement.WebElement (session=\"8ad37eb264425e988a2656f6c0c37e12\", element=\"bbaeedd4-a4ee-442a-8a19-1c6f8450d8db\")>,\n",
       " <selenium.webdriver.remote.webelement.WebElement (session=\"8ad37eb264425e988a2656f6c0c37e12\", element=\"66cd140a-66ed-48dc-bd0f-7a00bd715c92\")>,\n",
       " <selenium.webdriver.remote.webelement.WebElement (session=\"8ad37eb264425e988a2656f6c0c37e12\", element=\"720fc8e0-9068-443d-b5f1-0faeaeca5602\")>,\n",
       " <selenium.webdriver.remote.webelement.WebElement (session=\"8ad37eb264425e988a2656f6c0c37e12\", element=\"8a8e74f1-cb31-4054-94fb-12df224806e3\")>,\n",
       " <selenium.webdriver.remote.webelement.WebElement (session=\"8ad37eb264425e988a2656f6c0c37e12\", element=\"8758017c-ab3e-4eef-9893-aa6d94ca49d6\")>,\n",
       " <selenium.webdriver.remote.webelement.WebElement (session=\"8ad37eb264425e988a2656f6c0c37e12\", element=\"d17c04f8-8a2a-4cd9-9f1a-a2497c8eb977\")>,\n",
       " <selenium.webdriver.remote.webelement.WebElement (session=\"8ad37eb264425e988a2656f6c0c37e12\", element=\"642af120-c39b-4fcd-b60c-adb68931fcc9\")>,\n",
       " <selenium.webdriver.remote.webelement.WebElement (session=\"8ad37eb264425e988a2656f6c0c37e12\", element=\"6b1ee4ff-2285-4f5f-bc15-fa7b8bb8daec\")>,\n",
       " <selenium.webdriver.remote.webelement.WebElement (session=\"8ad37eb264425e988a2656f6c0c37e12\", element=\"2e381fb6-b2ad-4205-b31e-9454933d79f6\")>,\n",
       " <selenium.webdriver.remote.webelement.WebElement (session=\"8ad37eb264425e988a2656f6c0c37e12\", element=\"d3a98d7e-9564-4433-896b-207a40f137d4\")>,\n",
       " <selenium.webdriver.remote.webelement.WebElement (session=\"8ad37eb264425e988a2656f6c0c37e12\", element=\"8ee64516-64e7-4c76-9695-332bb87ed012\")>,\n",
       " <selenium.webdriver.remote.webelement.WebElement (session=\"8ad37eb264425e988a2656f6c0c37e12\", element=\"5f58ad3d-9bb1-4571-9ee2-c5604ebe922b\")>,\n",
       " <selenium.webdriver.remote.webelement.WebElement (session=\"8ad37eb264425e988a2656f6c0c37e12\", element=\"2a5f0de3-2b17-4326-ba33-e61ba8c07508\")>,\n",
       " <selenium.webdriver.remote.webelement.WebElement (session=\"8ad37eb264425e988a2656f6c0c37e12\", element=\"02b80a8a-8891-4dff-88e1-04066d661a89\")>,\n",
       " <selenium.webdriver.remote.webelement.WebElement (session=\"8ad37eb264425e988a2656f6c0c37e12\", element=\"2b8796b6-df4d-407f-8637-f66811718998\")>,\n",
       " <selenium.webdriver.remote.webelement.WebElement (session=\"8ad37eb264425e988a2656f6c0c37e12\", element=\"8b79325b-bcbe-43df-bd67-d0849e26faeb\")>,\n",
       " <selenium.webdriver.remote.webelement.WebElement (session=\"8ad37eb264425e988a2656f6c0c37e12\", element=\"c8d40a43-4971-45fd-94f3-cebfb493f2e2\")>,\n",
       " <selenium.webdriver.remote.webelement.WebElement (session=\"8ad37eb264425e988a2656f6c0c37e12\", element=\"0cc3a650-1165-44c4-b286-72e82b358a30\")>,\n",
       " <selenium.webdriver.remote.webelement.WebElement (session=\"8ad37eb264425e988a2656f6c0c37e12\", element=\"54a771e5-a447-40dd-b233-1f56992b5fb6\")>,\n",
       " <selenium.webdriver.remote.webelement.WebElement (session=\"8ad37eb264425e988a2656f6c0c37e12\", element=\"f0e41e53-a64a-4db7-92b5-86750b1d77ef\")>,\n",
       " <selenium.webdriver.remote.webelement.WebElement (session=\"8ad37eb264425e988a2656f6c0c37e12\", element=\"8f1750db-e60c-418c-b96d-0eae375f5383\")>,\n",
       " <selenium.webdriver.remote.webelement.WebElement (session=\"8ad37eb264425e988a2656f6c0c37e12\", element=\"ad688d32-9443-48d2-b2d3-9c5f2a598041\")>,\n",
       " <selenium.webdriver.remote.webelement.WebElement (session=\"8ad37eb264425e988a2656f6c0c37e12\", element=\"1e925ecc-3815-47bf-880f-c282398704df\")>,\n",
       " <selenium.webdriver.remote.webelement.WebElement (session=\"8ad37eb264425e988a2656f6c0c37e12\", element=\"909c52b3-3aa8-4149-a944-a7484f937eba\")>,\n",
       " <selenium.webdriver.remote.webelement.WebElement (session=\"8ad37eb264425e988a2656f6c0c37e12\", element=\"2fc56295-a8d6-415a-a8dd-4477109c9c45\")>,\n",
       " <selenium.webdriver.remote.webelement.WebElement (session=\"8ad37eb264425e988a2656f6c0c37e12\", element=\"7d5dee57-aaa5-49f0-9724-f896d4c2d189\")>,\n",
       " <selenium.webdriver.remote.webelement.WebElement (session=\"8ad37eb264425e988a2656f6c0c37e12\", element=\"91d9e7aa-b224-47e7-ad25-13f0242f2790\")>,\n",
       " <selenium.webdriver.remote.webelement.WebElement (session=\"8ad37eb264425e988a2656f6c0c37e12\", element=\"9785213a-f780-471c-9cb4-b688e21ea5a0\")>,\n",
       " <selenium.webdriver.remote.webelement.WebElement (session=\"8ad37eb264425e988a2656f6c0c37e12\", element=\"726c590c-a57e-4531-b0d7-3d25c6906fb3\")>,\n",
       " <selenium.webdriver.remote.webelement.WebElement (session=\"8ad37eb264425e988a2656f6c0c37e12\", element=\"73a3b634-f45f-4a26-84be-c58b009c4303\")>,\n",
       " <selenium.webdriver.remote.webelement.WebElement (session=\"8ad37eb264425e988a2656f6c0c37e12\", element=\"1bc190d8-3c88-4914-b3cc-d0e5af7793c0\")>,\n",
       " <selenium.webdriver.remote.webelement.WebElement (session=\"8ad37eb264425e988a2656f6c0c37e12\", element=\"d25add33-c350-4960-994c-de6fd97b4276\")>,\n",
       " <selenium.webdriver.remote.webelement.WebElement (session=\"8ad37eb264425e988a2656f6c0c37e12\", element=\"00bab010-edc1-4dd0-8a0b-13d2d01a8edc\")>,\n",
       " <selenium.webdriver.remote.webelement.WebElement (session=\"8ad37eb264425e988a2656f6c0c37e12\", element=\"79ab0175-8397-487f-9825-4c5821a0052e\")>,\n",
       " <selenium.webdriver.remote.webelement.WebElement (session=\"8ad37eb264425e988a2656f6c0c37e12\", element=\"2076ea7e-8e25-4b18-a594-2e0aaba19d0a\")>]"
      ]
     },
     "execution_count": 275,
     "metadata": {},
     "output_type": "execute_result"
    }
   ],
   "source": [
    "sbrand_tag2"
   ]
  },
  {
   "cell_type": "code",
   "execution_count": 350,
   "id": "848f881b",
   "metadata": {},
   "outputs": [],
   "source": [
    "for i in sbrand_tag2:\n",
    "    sbrand2=i.text\n",
    "    sneaker_brand.append(sbrand2)"
   ]
  },
  {
   "cell_type": "code",
   "execution_count": 351,
   "id": "afcb3a8f",
   "metadata": {},
   "outputs": [
    {
     "data": {
      "text/plain": [
       "80"
      ]
     },
     "execution_count": 351,
     "metadata": {},
     "output_type": "execute_result"
    }
   ],
   "source": [
    "len(sneaker_brand)"
   ]
  },
  {
   "cell_type": "code",
   "execution_count": 279,
   "id": "c07582b9",
   "metadata": {},
   "outputs": [
    {
     "data": {
      "text/plain": [
       "['Footaction',\n",
       " 'STRANGER BROTHERS',\n",
       " 'ASTEROID',\n",
       " 'Chevit',\n",
       " 'Magnolia',\n",
       " 'Numenzo',\n",
       " 'Numenzo',\n",
       " 'Extoes',\n",
       " 'Chevit',\n",
       " 'Chevit',\n",
       " 'URBANBOX',\n",
       " 'Shuzer68',\n",
       " 'ASTEROID',\n",
       " 'FOOTGRAB',\n",
       " 'Kraasa',\n",
       " 'Extoes',\n",
       " 'SPARX',\n",
       " 'SCATCHITE',\n",
       " 'BRUTON',\n",
       " 'U.S. POLO ASSN.',\n",
       " 'Robbie jones',\n",
       " 'Numenzo',\n",
       " 'BRUTON',\n",
       " 'FOOTSTAIR',\n",
       " 'D-SNEAKERZ',\n",
       " 'Kraasa',\n",
       " 'India hub',\n",
       " 'FAUSTO',\n",
       " 'Arohi',\n",
       " 'BIRDE',\n",
       " 'Robbie jones',\n",
       " 'FITTRACKS',\n",
       " 'believe',\n",
       " 'Shoes Bank',\n",
       " 'India hub',\n",
       " \"Neeman's\",\n",
       " 'BRUTON',\n",
       " 'SPARX',\n",
       " 'Robbie jones',\n",
       " 'aadi',\n",
       " 'Robbie jones',\n",
       " 'RODDICK SHOES',\n",
       " 'Robbie jones',\n",
       " 'Footaction',\n",
       " 'Chevit',\n",
       " 'luxury fashion',\n",
       " 'T-ROCK',\n",
       " 'SUSON',\n",
       " 'Rzisbo',\n",
       " 'ESSENCE',\n",
       " 'Absolute comfort',\n",
       " 'STRANGER BROTHERS',\n",
       " 'PUMA',\n",
       " 'Edoeviv',\n",
       " 'PUMA',\n",
       " 'Extoes',\n",
       " 'VORII',\n",
       " 'Airland',\n",
       " 'Wlinzak',\n",
       " 'Extoes',\n",
       " 'India hub',\n",
       " 'RODDICK SHOES',\n",
       " 'Robbie jones',\n",
       " 'CALCADOS',\n",
       " 'URBANBOX',\n",
       " 'SPARX',\n",
       " 'RODDICK SHOES',\n",
       " 'FAUSTO',\n",
       " 'Chevit',\n",
       " 'D-SNEAKERZ',\n",
       " 'BRUTON',\n",
       " 'U.S. POLO ASSN.',\n",
       " 'SneakerVilla',\n",
       " 'rodox',\n",
       " 'SPARX',\n",
       " 'aadi',\n",
       " 'bluemaker',\n",
       " 'Labbin',\n",
       " 'bluemaker',\n",
       " \"Neeman's\"]"
      ]
     },
     "execution_count": 279,
     "metadata": {},
     "output_type": "execute_result"
    }
   ],
   "source": [
    "sneaker_brand"
   ]
  },
  {
   "cell_type": "code",
   "execution_count": 353,
   "id": "067428f1",
   "metadata": {
    "collapsed": true
   },
   "outputs": [
    {
     "name": "stderr",
     "output_type": "stream",
     "text": [
      "<ipython-input-353-d7bcecc9fc11>:1: DeprecationWarning: find_elements_by_* commands are deprecated. Please use find_elements() instead\n",
      "  sdisc_tag2=driver.find_elements_by_xpath(\"//a[@class='IRpwTa']\")\n"
     ]
    },
    {
     "data": {
      "text/plain": [
       "[<selenium.webdriver.remote.webelement.WebElement (session=\"e3416535b51d6df72ad7c773b019b76a\", element=\"71ef42fe-bec8-439e-97ef-433bec56c449\")>,\n",
       " <selenium.webdriver.remote.webelement.WebElement (session=\"e3416535b51d6df72ad7c773b019b76a\", element=\"746b58c4-f24c-41ee-9e26-2fecefbf8f46\")>,\n",
       " <selenium.webdriver.remote.webelement.WebElement (session=\"e3416535b51d6df72ad7c773b019b76a\", element=\"dc261f53-fd46-4066-a384-edc30646e0e8\")>,\n",
       " <selenium.webdriver.remote.webelement.WebElement (session=\"e3416535b51d6df72ad7c773b019b76a\", element=\"803b1b55-58d1-48f3-87e0-817e9d600e7c\")>,\n",
       " <selenium.webdriver.remote.webelement.WebElement (session=\"e3416535b51d6df72ad7c773b019b76a\", element=\"360225b6-e10c-492d-81b2-0329db2cf833\")>,\n",
       " <selenium.webdriver.remote.webelement.WebElement (session=\"e3416535b51d6df72ad7c773b019b76a\", element=\"7fff2a19-6800-4586-a6aa-10c3453c58ed\")>,\n",
       " <selenium.webdriver.remote.webelement.WebElement (session=\"e3416535b51d6df72ad7c773b019b76a\", element=\"058676e3-fc45-4517-b5d5-8c8994438b2a\")>,\n",
       " <selenium.webdriver.remote.webelement.WebElement (session=\"e3416535b51d6df72ad7c773b019b76a\", element=\"ec59897a-3629-45b8-9a68-23c0d4e96643\")>,\n",
       " <selenium.webdriver.remote.webelement.WebElement (session=\"e3416535b51d6df72ad7c773b019b76a\", element=\"7b5b8657-8ee1-49c3-94d3-3b78beb9a26c\")>,\n",
       " <selenium.webdriver.remote.webelement.WebElement (session=\"e3416535b51d6df72ad7c773b019b76a\", element=\"cd263a81-3434-4089-aa26-b779055f54c0\")>,\n",
       " <selenium.webdriver.remote.webelement.WebElement (session=\"e3416535b51d6df72ad7c773b019b76a\", element=\"37194135-790a-46eb-8dfa-73a4b76ca141\")>,\n",
       " <selenium.webdriver.remote.webelement.WebElement (session=\"e3416535b51d6df72ad7c773b019b76a\", element=\"0a144604-bd23-4850-8779-ce222ee2383c\")>,\n",
       " <selenium.webdriver.remote.webelement.WebElement (session=\"e3416535b51d6df72ad7c773b019b76a\", element=\"9e4c5815-138c-43c7-a16b-6bf01344f1bf\")>,\n",
       " <selenium.webdriver.remote.webelement.WebElement (session=\"e3416535b51d6df72ad7c773b019b76a\", element=\"f1798d09-12d1-41b0-aa15-b4e9b1cca74c\")>,\n",
       " <selenium.webdriver.remote.webelement.WebElement (session=\"e3416535b51d6df72ad7c773b019b76a\", element=\"2856973d-59f9-4eef-a13c-897d243615ec\")>,\n",
       " <selenium.webdriver.remote.webelement.WebElement (session=\"e3416535b51d6df72ad7c773b019b76a\", element=\"58881a70-4119-4df1-a40c-85edc15ff16b\")>,\n",
       " <selenium.webdriver.remote.webelement.WebElement (session=\"e3416535b51d6df72ad7c773b019b76a\", element=\"3982e63b-d2cd-41c3-94d4-06fcb471919e\")>,\n",
       " <selenium.webdriver.remote.webelement.WebElement (session=\"e3416535b51d6df72ad7c773b019b76a\", element=\"2536325b-a064-4272-8355-56ee185c7a3d\")>,\n",
       " <selenium.webdriver.remote.webelement.WebElement (session=\"e3416535b51d6df72ad7c773b019b76a\", element=\"6b3e5b69-d4e8-4326-b05f-acf0e51ecc1f\")>,\n",
       " <selenium.webdriver.remote.webelement.WebElement (session=\"e3416535b51d6df72ad7c773b019b76a\", element=\"36ce52ae-6715-481f-9697-f71918643faf\")>,\n",
       " <selenium.webdriver.remote.webelement.WebElement (session=\"e3416535b51d6df72ad7c773b019b76a\", element=\"6321492d-ac4a-4ade-bc21-4bb9edb436c8\")>,\n",
       " <selenium.webdriver.remote.webelement.WebElement (session=\"e3416535b51d6df72ad7c773b019b76a\", element=\"274bc4a2-1265-422f-929f-2374ab96d372\")>,\n",
       " <selenium.webdriver.remote.webelement.WebElement (session=\"e3416535b51d6df72ad7c773b019b76a\", element=\"c35e7b13-c97f-402a-886a-896dd26a6c94\")>,\n",
       " <selenium.webdriver.remote.webelement.WebElement (session=\"e3416535b51d6df72ad7c773b019b76a\", element=\"07b32275-366f-4d9b-807f-83f83fc8bfc8\")>,\n",
       " <selenium.webdriver.remote.webelement.WebElement (session=\"e3416535b51d6df72ad7c773b019b76a\", element=\"1d3263ab-8903-45cf-b802-219e94ea7be0\")>,\n",
       " <selenium.webdriver.remote.webelement.WebElement (session=\"e3416535b51d6df72ad7c773b019b76a\", element=\"16902e9c-5053-4308-917b-72bcf1d9bb64\")>,\n",
       " <selenium.webdriver.remote.webelement.WebElement (session=\"e3416535b51d6df72ad7c773b019b76a\", element=\"5227f7d8-a678-4e6c-a944-c9ae781462f2\")>,\n",
       " <selenium.webdriver.remote.webelement.WebElement (session=\"e3416535b51d6df72ad7c773b019b76a\", element=\"9da422cd-587f-4d84-864b-31ae9fd4d72a\")>]"
      ]
     },
     "execution_count": 353,
     "metadata": {},
     "output_type": "execute_result"
    }
   ],
   "source": [
    "sdisc_tag2=driver.find_elements_by_xpath(\"//a[@class='IRpwTa']\")\n",
    "sdisc_tag2"
   ]
  },
  {
   "cell_type": "code",
   "execution_count": 354,
   "id": "833c7fab",
   "metadata": {},
   "outputs": [],
   "source": [
    "for i in sdisc_tag2:\n",
    "    sdiscription2=i.text\n",
    "    sneaker_discription.append(sdiscription2)"
   ]
  },
  {
   "cell_type": "code",
   "execution_count": 356,
   "id": "611461eb",
   "metadata": {},
   "outputs": [
    {
     "data": {
      "text/plain": [
       "63"
      ]
     },
     "execution_count": 356,
     "metadata": {},
     "output_type": "execute_result"
    }
   ],
   "source": [
    "len(sneaker_discription)"
   ]
  },
  {
   "cell_type": "code",
   "execution_count": 357,
   "id": "7c85bc83",
   "metadata": {
    "collapsed": true
   },
   "outputs": [
    {
     "name": "stderr",
     "output_type": "stream",
     "text": [
      "<ipython-input-357-bf7c0260a195>:1: DeprecationWarning: find_elements_by_* commands are deprecated. Please use find_elements() instead\n",
      "  sprice_tag2=driver.find_elements_by_xpath(\"//div[@class='_30jeq3']\")\n"
     ]
    },
    {
     "data": {
      "text/plain": [
       "[<selenium.webdriver.remote.webelement.WebElement (session=\"e3416535b51d6df72ad7c773b019b76a\", element=\"faf2afaf-3d84-4ddb-810a-bcef791df1c6\")>,\n",
       " <selenium.webdriver.remote.webelement.WebElement (session=\"e3416535b51d6df72ad7c773b019b76a\", element=\"168842f2-63b4-4525-9581-fc9c868f2ac7\")>,\n",
       " <selenium.webdriver.remote.webelement.WebElement (session=\"e3416535b51d6df72ad7c773b019b76a\", element=\"6dd1498d-74e9-42f5-9c28-fb712a1890d2\")>,\n",
       " <selenium.webdriver.remote.webelement.WebElement (session=\"e3416535b51d6df72ad7c773b019b76a\", element=\"24219602-f4cb-4e20-a33f-c38ed1d61f08\")>,\n",
       " <selenium.webdriver.remote.webelement.WebElement (session=\"e3416535b51d6df72ad7c773b019b76a\", element=\"75aee161-1d2a-4228-a503-e3891a0e463c\")>,\n",
       " <selenium.webdriver.remote.webelement.WebElement (session=\"e3416535b51d6df72ad7c773b019b76a\", element=\"ad0af31a-43ae-4449-bc25-83223fac1595\")>,\n",
       " <selenium.webdriver.remote.webelement.WebElement (session=\"e3416535b51d6df72ad7c773b019b76a\", element=\"27801700-aaa5-4d66-a31e-9dbdd93d9f94\")>,\n",
       " <selenium.webdriver.remote.webelement.WebElement (session=\"e3416535b51d6df72ad7c773b019b76a\", element=\"139586fa-be91-4eee-8fd9-2ec4eb4a96c1\")>,\n",
       " <selenium.webdriver.remote.webelement.WebElement (session=\"e3416535b51d6df72ad7c773b019b76a\", element=\"33fd2ca9-7c4a-4ecc-a151-2c81e4a39c2c\")>,\n",
       " <selenium.webdriver.remote.webelement.WebElement (session=\"e3416535b51d6df72ad7c773b019b76a\", element=\"d31aec8c-73b7-4f82-a67f-e9cef3692993\")>,\n",
       " <selenium.webdriver.remote.webelement.WebElement (session=\"e3416535b51d6df72ad7c773b019b76a\", element=\"5d24c23f-5b2e-4a70-8529-62adb8c24ddc\")>,\n",
       " <selenium.webdriver.remote.webelement.WebElement (session=\"e3416535b51d6df72ad7c773b019b76a\", element=\"251c9b72-fda0-40d7-a917-1b17b991331f\")>,\n",
       " <selenium.webdriver.remote.webelement.WebElement (session=\"e3416535b51d6df72ad7c773b019b76a\", element=\"364a7008-bed5-4bd3-a8af-cc1821601182\")>,\n",
       " <selenium.webdriver.remote.webelement.WebElement (session=\"e3416535b51d6df72ad7c773b019b76a\", element=\"fbf32363-4792-4026-8ece-144a61215982\")>,\n",
       " <selenium.webdriver.remote.webelement.WebElement (session=\"e3416535b51d6df72ad7c773b019b76a\", element=\"153b12ae-14d0-4040-8203-cdaeeb09cd39\")>,\n",
       " <selenium.webdriver.remote.webelement.WebElement (session=\"e3416535b51d6df72ad7c773b019b76a\", element=\"41020f82-9f5b-437c-8469-07c3894e2622\")>,\n",
       " <selenium.webdriver.remote.webelement.WebElement (session=\"e3416535b51d6df72ad7c773b019b76a\", element=\"ba92f792-a96d-41e1-b56e-c2d6a9ae2b8a\")>,\n",
       " <selenium.webdriver.remote.webelement.WebElement (session=\"e3416535b51d6df72ad7c773b019b76a\", element=\"d040eefa-461a-45ea-ba5f-2afcd284f646\")>,\n",
       " <selenium.webdriver.remote.webelement.WebElement (session=\"e3416535b51d6df72ad7c773b019b76a\", element=\"d5ada1b2-db30-412d-a4c6-ebeba5be8c5e\")>,\n",
       " <selenium.webdriver.remote.webelement.WebElement (session=\"e3416535b51d6df72ad7c773b019b76a\", element=\"e13c61f8-6089-4bb4-90e4-6415df3d736a\")>,\n",
       " <selenium.webdriver.remote.webelement.WebElement (session=\"e3416535b51d6df72ad7c773b019b76a\", element=\"c8b63a31-fbfc-4f68-9a79-d34111df176b\")>,\n",
       " <selenium.webdriver.remote.webelement.WebElement (session=\"e3416535b51d6df72ad7c773b019b76a\", element=\"02e52694-720a-418f-aac1-cb3f7592d29f\")>,\n",
       " <selenium.webdriver.remote.webelement.WebElement (session=\"e3416535b51d6df72ad7c773b019b76a\", element=\"052586e3-6201-4ff2-9467-4454122a94a6\")>,\n",
       " <selenium.webdriver.remote.webelement.WebElement (session=\"e3416535b51d6df72ad7c773b019b76a\", element=\"59334eeb-1719-483a-965d-43c0ca39d930\")>,\n",
       " <selenium.webdriver.remote.webelement.WebElement (session=\"e3416535b51d6df72ad7c773b019b76a\", element=\"411e981c-08c0-41c3-80fa-42c55995af9d\")>,\n",
       " <selenium.webdriver.remote.webelement.WebElement (session=\"e3416535b51d6df72ad7c773b019b76a\", element=\"05390fd4-1093-4886-846d-42a639d889fb\")>,\n",
       " <selenium.webdriver.remote.webelement.WebElement (session=\"e3416535b51d6df72ad7c773b019b76a\", element=\"b94c350a-ce9e-495f-82bc-0e0d8062053b\")>,\n",
       " <selenium.webdriver.remote.webelement.WebElement (session=\"e3416535b51d6df72ad7c773b019b76a\", element=\"4510faea-563d-446b-8f71-8f2a874352cc\")>,\n",
       " <selenium.webdriver.remote.webelement.WebElement (session=\"e3416535b51d6df72ad7c773b019b76a\", element=\"ffab63dd-a6cc-4041-924e-25014a653e34\")>,\n",
       " <selenium.webdriver.remote.webelement.WebElement (session=\"e3416535b51d6df72ad7c773b019b76a\", element=\"293e99ef-2a4b-4683-a9d3-97f1b77f09da\")>,\n",
       " <selenium.webdriver.remote.webelement.WebElement (session=\"e3416535b51d6df72ad7c773b019b76a\", element=\"4ddb1bd9-565f-420e-8475-db9b0b3953b8\")>,\n",
       " <selenium.webdriver.remote.webelement.WebElement (session=\"e3416535b51d6df72ad7c773b019b76a\", element=\"ca8ccdb3-7871-4894-b7e6-10568bc110a4\")>,\n",
       " <selenium.webdriver.remote.webelement.WebElement (session=\"e3416535b51d6df72ad7c773b019b76a\", element=\"74986c2a-dd58-4f25-8990-83b114cdc0be\")>,\n",
       " <selenium.webdriver.remote.webelement.WebElement (session=\"e3416535b51d6df72ad7c773b019b76a\", element=\"cedc8456-e0a1-4788-8e1a-b183f0e64131\")>,\n",
       " <selenium.webdriver.remote.webelement.WebElement (session=\"e3416535b51d6df72ad7c773b019b76a\", element=\"2e9e072b-33ac-48db-bd29-543d2d038728\")>,\n",
       " <selenium.webdriver.remote.webelement.WebElement (session=\"e3416535b51d6df72ad7c773b019b76a\", element=\"8e94b879-d304-4688-98eb-55bc9eff1cbe\")>,\n",
       " <selenium.webdriver.remote.webelement.WebElement (session=\"e3416535b51d6df72ad7c773b019b76a\", element=\"e9f4a4f6-dad2-4b3c-9077-37eaefdf7a5c\")>,\n",
       " <selenium.webdriver.remote.webelement.WebElement (session=\"e3416535b51d6df72ad7c773b019b76a\", element=\"406fb2ec-a470-4f29-b417-7b5ac73341c9\")>,\n",
       " <selenium.webdriver.remote.webelement.WebElement (session=\"e3416535b51d6df72ad7c773b019b76a\", element=\"d09f012c-1696-458a-94cb-b8a0588b4ee2\")>,\n",
       " <selenium.webdriver.remote.webelement.WebElement (session=\"e3416535b51d6df72ad7c773b019b76a\", element=\"dd3dee1b-f837-4ded-aa85-a11255402334\")>]"
      ]
     },
     "execution_count": 357,
     "metadata": {},
     "output_type": "execute_result"
    }
   ],
   "source": [
    "sprice_tag2=driver.find_elements_by_xpath(\"//div[@class='_30jeq3']\")\n",
    "sprice_tag2"
   ]
  },
  {
   "cell_type": "code",
   "execution_count": 358,
   "id": "c2ebc55a",
   "metadata": {},
   "outputs": [],
   "source": [
    "for i in sprice_tag2:\n",
    "    sprice2=i.text\n",
    "    sneaker_price.append(sprice2)"
   ]
  },
  {
   "cell_type": "code",
   "execution_count": 359,
   "id": "77eb1373",
   "metadata": {},
   "outputs": [
    {
     "data": {
      "text/plain": [
       "['₹419',\n",
       " '₹379',\n",
       " '₹499',\n",
       " '₹699',\n",
       " '₹398',\n",
       " '₹499',\n",
       " '₹599',\n",
       " '₹431',\n",
       " '₹479',\n",
       " '₹599',\n",
       " '₹220',\n",
       " '₹729',\n",
       " '₹499',\n",
       " '₹549',\n",
       " '₹499',\n",
       " '₹698',\n",
       " '₹639',\n",
       " '₹398',\n",
       " '₹666',\n",
       " '₹699',\n",
       " '₹399',\n",
       " '₹348',\n",
       " '₹499',\n",
       " '₹1,049',\n",
       " '₹379',\n",
       " '₹499',\n",
       " '₹448',\n",
       " '₹1,350',\n",
       " '₹458',\n",
       " '₹299',\n",
       " '₹499',\n",
       " '₹2,399',\n",
       " '₹499',\n",
       " '₹345',\n",
       " '₹499',\n",
       " '₹473',\n",
       " '₹592',\n",
       " '₹645',\n",
       " '₹499',\n",
       " '₹3,496',\n",
       " '₹499',\n",
       " '₹499',\n",
       " '₹499',\n",
       " '₹943',\n",
       " '₹449',\n",
       " '₹399',\n",
       " '₹499',\n",
       " '₹3,146',\n",
       " '₹379',\n",
       " '₹499',\n",
       " '₹499',\n",
       " '₹1,898',\n",
       " '₹166',\n",
       " '₹1,599',\n",
       " '₹1,719',\n",
       " '₹999',\n",
       " '₹469',\n",
       " '₹197',\n",
       " '₹399',\n",
       " '₹999',\n",
       " '₹499',\n",
       " '₹399',\n",
       " '₹499',\n",
       " '₹528',\n",
       " '₹499',\n",
       " '₹788',\n",
       " '₹166',\n",
       " '₹2,399',\n",
       " '₹799',\n",
       " '₹499',\n",
       " '₹384',\n",
       " '₹799',\n",
       " '₹474',\n",
       " '₹699',\n",
       " '₹849',\n",
       " '₹1,049',\n",
       " '₹399',\n",
       " '₹549',\n",
       " '₹474',\n",
       " '₹1,049']"
      ]
     },
     "execution_count": 359,
     "metadata": {},
     "output_type": "execute_result"
    }
   ],
   "source": [
    "sneaker_price"
   ]
  },
  {
   "cell_type": "code",
   "execution_count": 361,
   "id": "ff860fba",
   "metadata": {
    "collapsed": true
   },
   "outputs": [
    {
     "name": "stderr",
     "output_type": "stream",
     "text": [
      "<ipython-input-361-722ff0d77b9d>:1: DeprecationWarning: find_elements_by_* commands are deprecated. Please use find_elements() instead\n",
      "  soffer_tag2=driver.find_elements_by_xpath(\"//div[@class='_3Ay6Sb']\")\n"
     ]
    },
    {
     "data": {
      "text/plain": [
       "[<selenium.webdriver.remote.webelement.WebElement (session=\"e3416535b51d6df72ad7c773b019b76a\", element=\"104f6f1a-6329-4144-b93d-c7fef67e2374\")>,\n",
       " <selenium.webdriver.remote.webelement.WebElement (session=\"e3416535b51d6df72ad7c773b019b76a\", element=\"73b13b31-a9db-41df-9e93-d5c504263d51\")>,\n",
       " <selenium.webdriver.remote.webelement.WebElement (session=\"e3416535b51d6df72ad7c773b019b76a\", element=\"91163f70-89a9-4c7f-89be-251c9b9ae8f1\")>,\n",
       " <selenium.webdriver.remote.webelement.WebElement (session=\"e3416535b51d6df72ad7c773b019b76a\", element=\"56079cea-09ee-480e-a4a0-b7400ed7a71b\")>,\n",
       " <selenium.webdriver.remote.webelement.WebElement (session=\"e3416535b51d6df72ad7c773b019b76a\", element=\"5af13846-8175-488a-ad17-cab80d62ec4a\")>,\n",
       " <selenium.webdriver.remote.webelement.WebElement (session=\"e3416535b51d6df72ad7c773b019b76a\", element=\"645b4a52-3cfd-4488-b7cd-adabe1e23c8c\")>,\n",
       " <selenium.webdriver.remote.webelement.WebElement (session=\"e3416535b51d6df72ad7c773b019b76a\", element=\"873ad74f-6757-49b0-965f-83c801d8585c\")>,\n",
       " <selenium.webdriver.remote.webelement.WebElement (session=\"e3416535b51d6df72ad7c773b019b76a\", element=\"31da1ad3-bcef-4169-bd75-b5d514fc2d8a\")>,\n",
       " <selenium.webdriver.remote.webelement.WebElement (session=\"e3416535b51d6df72ad7c773b019b76a\", element=\"acb373ad-1fb1-4d07-8b53-a5f77a78734a\")>,\n",
       " <selenium.webdriver.remote.webelement.WebElement (session=\"e3416535b51d6df72ad7c773b019b76a\", element=\"70b0b3f9-7cd1-4839-b1b8-322fde9c3538\")>,\n",
       " <selenium.webdriver.remote.webelement.WebElement (session=\"e3416535b51d6df72ad7c773b019b76a\", element=\"02f2f90c-6c8d-42c9-9aa5-0b1581da5de6\")>,\n",
       " <selenium.webdriver.remote.webelement.WebElement (session=\"e3416535b51d6df72ad7c773b019b76a\", element=\"3fdba611-24ff-4f8f-915e-03ad30a14525\")>,\n",
       " <selenium.webdriver.remote.webelement.WebElement (session=\"e3416535b51d6df72ad7c773b019b76a\", element=\"b84ad071-b75e-4f8d-b720-bc7f87454610\")>,\n",
       " <selenium.webdriver.remote.webelement.WebElement (session=\"e3416535b51d6df72ad7c773b019b76a\", element=\"91a0b21c-ae3a-48d8-82ec-f902a05a673e\")>,\n",
       " <selenium.webdriver.remote.webelement.WebElement (session=\"e3416535b51d6df72ad7c773b019b76a\", element=\"c3d1591e-9426-4d89-aeb1-b01502769e4c\")>,\n",
       " <selenium.webdriver.remote.webelement.WebElement (session=\"e3416535b51d6df72ad7c773b019b76a\", element=\"b193671b-19c9-4be8-a10b-9377a7eab2f4\")>,\n",
       " <selenium.webdriver.remote.webelement.WebElement (session=\"e3416535b51d6df72ad7c773b019b76a\", element=\"50d5f280-bf41-43e7-a241-c7d4c17def2d\")>,\n",
       " <selenium.webdriver.remote.webelement.WebElement (session=\"e3416535b51d6df72ad7c773b019b76a\", element=\"1facf240-f036-4458-b202-3bf39f48e73d\")>,\n",
       " <selenium.webdriver.remote.webelement.WebElement (session=\"e3416535b51d6df72ad7c773b019b76a\", element=\"92c59096-af03-4a5a-9282-f621dd70acd6\")>,\n",
       " <selenium.webdriver.remote.webelement.WebElement (session=\"e3416535b51d6df72ad7c773b019b76a\", element=\"14c113fd-bb5d-4689-9ab0-f379a974aedb\")>,\n",
       " <selenium.webdriver.remote.webelement.WebElement (session=\"e3416535b51d6df72ad7c773b019b76a\", element=\"8080e7ca-e804-4ded-baae-bdf0a823733a\")>,\n",
       " <selenium.webdriver.remote.webelement.WebElement (session=\"e3416535b51d6df72ad7c773b019b76a\", element=\"e9516ce4-c212-460a-b517-e00dba937691\")>,\n",
       " <selenium.webdriver.remote.webelement.WebElement (session=\"e3416535b51d6df72ad7c773b019b76a\", element=\"41cafdb8-a5ed-42cb-a6cb-f24577216a90\")>,\n",
       " <selenium.webdriver.remote.webelement.WebElement (session=\"e3416535b51d6df72ad7c773b019b76a\", element=\"c62e6a18-8c40-494e-a809-12ef94c479cf\")>,\n",
       " <selenium.webdriver.remote.webelement.WebElement (session=\"e3416535b51d6df72ad7c773b019b76a\", element=\"e4922a78-9323-4236-84b6-861d271ebdc0\")>,\n",
       " <selenium.webdriver.remote.webelement.WebElement (session=\"e3416535b51d6df72ad7c773b019b76a\", element=\"4b5ff0ac-a0e2-4840-b4a0-d260c902d8fd\")>,\n",
       " <selenium.webdriver.remote.webelement.WebElement (session=\"e3416535b51d6df72ad7c773b019b76a\", element=\"c3394adc-f990-48de-913e-a2709723bda4\")>,\n",
       " <selenium.webdriver.remote.webelement.WebElement (session=\"e3416535b51d6df72ad7c773b019b76a\", element=\"08933271-f7cd-446f-ba7e-9637a63edc51\")>,\n",
       " <selenium.webdriver.remote.webelement.WebElement (session=\"e3416535b51d6df72ad7c773b019b76a\", element=\"281c5f02-9c1f-4476-81fe-30716a60eba6\")>,\n",
       " <selenium.webdriver.remote.webelement.WebElement (session=\"e3416535b51d6df72ad7c773b019b76a\", element=\"28a4b65b-715b-4eae-9eca-4fca23297beb\")>,\n",
       " <selenium.webdriver.remote.webelement.WebElement (session=\"e3416535b51d6df72ad7c773b019b76a\", element=\"05d945b8-dc0c-4389-add3-f371a03aaf1b\")>,\n",
       " <selenium.webdriver.remote.webelement.WebElement (session=\"e3416535b51d6df72ad7c773b019b76a\", element=\"fec8793f-64ad-41b9-80a5-d64b67c9085d\")>,\n",
       " <selenium.webdriver.remote.webelement.WebElement (session=\"e3416535b51d6df72ad7c773b019b76a\", element=\"1fc410d8-741a-4847-bd72-5892b881eff0\")>,\n",
       " <selenium.webdriver.remote.webelement.WebElement (session=\"e3416535b51d6df72ad7c773b019b76a\", element=\"c403cf3d-b039-4e1d-8b2b-0dc5d5d50f6d\")>,\n",
       " <selenium.webdriver.remote.webelement.WebElement (session=\"e3416535b51d6df72ad7c773b019b76a\", element=\"9e277896-e429-4a21-bcb1-49b1231b5a09\")>,\n",
       " <selenium.webdriver.remote.webelement.WebElement (session=\"e3416535b51d6df72ad7c773b019b76a\", element=\"d45f070b-9dc4-488f-8842-2f0b005a4acd\")>]"
      ]
     },
     "execution_count": 361,
     "metadata": {},
     "output_type": "execute_result"
    }
   ],
   "source": [
    "soffer_tag2=driver.find_elements_by_xpath(\"//div[@class='_3Ay6Sb']\")\n",
    "soffer_tag2"
   ]
  },
  {
   "cell_type": "code",
   "execution_count": 362,
   "id": "f9df56b5",
   "metadata": {},
   "outputs": [],
   "source": [
    "for j in soffer_tag2:\n",
    "    soffer2=j.text\n",
    "    sneaker_offer.append(soffer2)"
   ]
  },
  {
   "cell_type": "code",
   "execution_count": 363,
   "id": "f03fc36c",
   "metadata": {},
   "outputs": [
    {
     "data": {
      "text/plain": [
       "['58% off',\n",
       " '62% off',\n",
       " '75% off',\n",
       " '56% off',\n",
       " '60% off',\n",
       " '75% off',\n",
       " '60% off',\n",
       " '56% off',\n",
       " '63% off',\n",
       " '66% off',\n",
       " '77% off',\n",
       " '51% off',\n",
       " '50% off',\n",
       " '45% off',\n",
       " '50% off',\n",
       " '65% off',\n",
       " '14% off',\n",
       " '60% off',\n",
       " '80% off',\n",
       " '64% off',\n",
       " '60% off',\n",
       " '47% off',\n",
       " '61% off',\n",
       " '70% off',\n",
       " '50% off',\n",
       " '77% off',\n",
       " '54% off',\n",
       " '54% off',\n",
       " '40% off',\n",
       " '50% off',\n",
       " '20% off',\n",
       " '50% off',\n",
       " '65% off',\n",
       " '75% off',\n",
       " '76% off',\n",
       " '76% off',\n",
       " '13% off',\n",
       " '50% off',\n",
       " '30% off',\n",
       " '50% off',\n",
       " '50% off',\n",
       " '50% off',\n",
       " '27% off',\n",
       " '65% off',\n",
       " '60% off',\n",
       " '50% off',\n",
       " '30% off',\n",
       " '62% off',\n",
       " '50% off',\n",
       " '83% off',\n",
       " '62% off',\n",
       " '66% off',\n",
       " '60% off',\n",
       " '50% off',\n",
       " '53% off',\n",
       " '60% off',\n",
       " '60% off',\n",
       " '71% off',\n",
       " '37% off',\n",
       " '60% off',\n",
       " '50% off',\n",
       " '64% off',\n",
       " '50% off',\n",
       " '12% off',\n",
       " '66% off',\n",
       " '20% off',\n",
       " '65% off',\n",
       " '50% off',\n",
       " '61% off',\n",
       " '81% off',\n",
       " '58% off',\n",
       " '15% off',\n",
       " '60% off',\n",
       " '45% off',\n",
       " '52% off']"
      ]
     },
     "execution_count": 363,
     "metadata": {},
     "output_type": "execute_result"
    }
   ],
   "source": [
    "sneaker_offer"
   ]
  },
  {
   "cell_type": "code",
   "execution_count": 365,
   "id": "c59f819e",
   "metadata": {
    "collapsed": true
   },
   "outputs": [
    {
     "name": "stderr",
     "output_type": "stream",
     "text": [
      "<ipython-input-365-d7671b18a189>:1: DeprecationWarning: find_element_by_* commands are deprecated. Please use find_element() instead\n",
      "  next_btn2=driver.find_element_by_xpath(\"//span[@class='_22Tduf']\")\n"
     ]
    }
   ],
   "source": [
    "next_btn2=driver.find_element_by_xpath(\"//span[@class='_22Tduf']\")  \n",
    "next_btn.click() "
   ]
  },
  {
   "cell_type": "code",
   "execution_count": 366,
   "id": "3cd676d8",
   "metadata": {
    "collapsed": true
   },
   "outputs": [
    {
     "name": "stderr",
     "output_type": "stream",
     "text": [
      "<ipython-input-366-035fe3da7b9c>:1: DeprecationWarning: find_elements_by_* commands are deprecated. Please use find_elements() instead\n",
      "  sbrand_tag3=driver.find_elements_by_xpath(\"//div[@class='_2WkVRV']\")\n"
     ]
    },
    {
     "data": {
      "text/plain": [
       "[<selenium.webdriver.remote.webelement.WebElement (session=\"e3416535b51d6df72ad7c773b019b76a\", element=\"28e57716-2c1d-4178-a2e6-c171e6dea1af\")>,\n",
       " <selenium.webdriver.remote.webelement.WebElement (session=\"e3416535b51d6df72ad7c773b019b76a\", element=\"1e643c82-1607-4976-8ae2-7dd17ca2daa2\")>,\n",
       " <selenium.webdriver.remote.webelement.WebElement (session=\"e3416535b51d6df72ad7c773b019b76a\", element=\"5c8f99fb-4ef8-40d3-bf11-94798c62dc64\")>,\n",
       " <selenium.webdriver.remote.webelement.WebElement (session=\"e3416535b51d6df72ad7c773b019b76a\", element=\"c73e5c68-4e2a-45f2-9a04-144d0801dc6c\")>,\n",
       " <selenium.webdriver.remote.webelement.WebElement (session=\"e3416535b51d6df72ad7c773b019b76a\", element=\"e86c055a-e950-43c8-87a1-0413bb29fb3b\")>,\n",
       " <selenium.webdriver.remote.webelement.WebElement (session=\"e3416535b51d6df72ad7c773b019b76a\", element=\"1b95b989-d9b8-4d61-91e3-c948a64b2b42\")>,\n",
       " <selenium.webdriver.remote.webelement.WebElement (session=\"e3416535b51d6df72ad7c773b019b76a\", element=\"2801bf31-2e0c-4047-9d04-8b5c70ae1ce6\")>,\n",
       " <selenium.webdriver.remote.webelement.WebElement (session=\"e3416535b51d6df72ad7c773b019b76a\", element=\"3daad034-a761-4e6c-916a-767a26724f8d\")>,\n",
       " <selenium.webdriver.remote.webelement.WebElement (session=\"e3416535b51d6df72ad7c773b019b76a\", element=\"27a6e59f-a923-42c3-be96-09f87bcebd10\")>,\n",
       " <selenium.webdriver.remote.webelement.WebElement (session=\"e3416535b51d6df72ad7c773b019b76a\", element=\"e7dd0de4-b501-4591-a9b6-fd4c405ac258\")>,\n",
       " <selenium.webdriver.remote.webelement.WebElement (session=\"e3416535b51d6df72ad7c773b019b76a\", element=\"2d80a2df-5423-4023-889d-2aac27acf2fa\")>,\n",
       " <selenium.webdriver.remote.webelement.WebElement (session=\"e3416535b51d6df72ad7c773b019b76a\", element=\"4d811e92-7e32-4904-9ce0-20d0d4ae9e0a\")>,\n",
       " <selenium.webdriver.remote.webelement.WebElement (session=\"e3416535b51d6df72ad7c773b019b76a\", element=\"05e36f7f-8a11-471c-b6da-4da8e7085f19\")>,\n",
       " <selenium.webdriver.remote.webelement.WebElement (session=\"e3416535b51d6df72ad7c773b019b76a\", element=\"cd382aee-192b-4aa3-9719-5742c120df80\")>,\n",
       " <selenium.webdriver.remote.webelement.WebElement (session=\"e3416535b51d6df72ad7c773b019b76a\", element=\"1f6b7681-f476-4573-9c43-f41ad38d89e3\")>,\n",
       " <selenium.webdriver.remote.webelement.WebElement (session=\"e3416535b51d6df72ad7c773b019b76a\", element=\"b47eb140-7a08-4471-976c-a2c3f3ad324b\")>,\n",
       " <selenium.webdriver.remote.webelement.WebElement (session=\"e3416535b51d6df72ad7c773b019b76a\", element=\"ae923b36-15f9-4d27-a98e-92fd71915800\")>,\n",
       " <selenium.webdriver.remote.webelement.WebElement (session=\"e3416535b51d6df72ad7c773b019b76a\", element=\"e105534e-b144-4c76-96ea-a15822c0888a\")>,\n",
       " <selenium.webdriver.remote.webelement.WebElement (session=\"e3416535b51d6df72ad7c773b019b76a\", element=\"42bb78c9-8b39-4358-be55-7a54d59ac5fe\")>,\n",
       " <selenium.webdriver.remote.webelement.WebElement (session=\"e3416535b51d6df72ad7c773b019b76a\", element=\"c4742bac-e259-4745-86e0-a80d24f9087d\")>,\n",
       " <selenium.webdriver.remote.webelement.WebElement (session=\"e3416535b51d6df72ad7c773b019b76a\", element=\"c6d89b45-680c-4339-91f8-b67736d5914b\")>,\n",
       " <selenium.webdriver.remote.webelement.WebElement (session=\"e3416535b51d6df72ad7c773b019b76a\", element=\"6798e55a-72b1-4330-b4fb-1b237d1b5175\")>,\n",
       " <selenium.webdriver.remote.webelement.WebElement (session=\"e3416535b51d6df72ad7c773b019b76a\", element=\"47c355a5-b43e-4259-990f-2372165f6593\")>,\n",
       " <selenium.webdriver.remote.webelement.WebElement (session=\"e3416535b51d6df72ad7c773b019b76a\", element=\"2d7ce913-9356-43b5-9fe2-ed73db11f9bd\")>,\n",
       " <selenium.webdriver.remote.webelement.WebElement (session=\"e3416535b51d6df72ad7c773b019b76a\", element=\"d996085f-b3e5-4f27-b457-297eec04f5d8\")>,\n",
       " <selenium.webdriver.remote.webelement.WebElement (session=\"e3416535b51d6df72ad7c773b019b76a\", element=\"92d8af76-014f-4d4a-a9fb-0800aba226f1\")>,\n",
       " <selenium.webdriver.remote.webelement.WebElement (session=\"e3416535b51d6df72ad7c773b019b76a\", element=\"479f5aff-66d0-4e78-af79-9b9d98948e56\")>,\n",
       " <selenium.webdriver.remote.webelement.WebElement (session=\"e3416535b51d6df72ad7c773b019b76a\", element=\"674a49a1-a6e8-4a85-a2d2-f76582297994\")>,\n",
       " <selenium.webdriver.remote.webelement.WebElement (session=\"e3416535b51d6df72ad7c773b019b76a\", element=\"97932eed-11c4-42c9-abd5-2935610533ed\")>,\n",
       " <selenium.webdriver.remote.webelement.WebElement (session=\"e3416535b51d6df72ad7c773b019b76a\", element=\"ac2f8492-71cd-4824-ac66-d703e649df13\")>,\n",
       " <selenium.webdriver.remote.webelement.WebElement (session=\"e3416535b51d6df72ad7c773b019b76a\", element=\"d4d6538a-5a96-42a2-875e-c89e150062e5\")>,\n",
       " <selenium.webdriver.remote.webelement.WebElement (session=\"e3416535b51d6df72ad7c773b019b76a\", element=\"ab80af0c-4b52-411e-81d5-2e061dc056a7\")>,\n",
       " <selenium.webdriver.remote.webelement.WebElement (session=\"e3416535b51d6df72ad7c773b019b76a\", element=\"87734229-74ba-4dec-a662-b8422801130a\")>,\n",
       " <selenium.webdriver.remote.webelement.WebElement (session=\"e3416535b51d6df72ad7c773b019b76a\", element=\"9bb2372a-474f-45b5-82cb-a152dbcde456\")>,\n",
       " <selenium.webdriver.remote.webelement.WebElement (session=\"e3416535b51d6df72ad7c773b019b76a\", element=\"94bbd3b8-abae-4fdb-ac44-9f898e0afe1c\")>,\n",
       " <selenium.webdriver.remote.webelement.WebElement (session=\"e3416535b51d6df72ad7c773b019b76a\", element=\"bf7aaf7a-d8dd-420d-8b78-b2b45a82b712\")>,\n",
       " <selenium.webdriver.remote.webelement.WebElement (session=\"e3416535b51d6df72ad7c773b019b76a\", element=\"37c7f03f-4e81-4056-88c2-48a379881cd2\")>,\n",
       " <selenium.webdriver.remote.webelement.WebElement (session=\"e3416535b51d6df72ad7c773b019b76a\", element=\"6d1619a7-e500-4935-ade2-f0702c7ba479\")>,\n",
       " <selenium.webdriver.remote.webelement.WebElement (session=\"e3416535b51d6df72ad7c773b019b76a\", element=\"680a91b9-3bdc-4dfc-afb5-e7a9b993437c\")>,\n",
       " <selenium.webdriver.remote.webelement.WebElement (session=\"e3416535b51d6df72ad7c773b019b76a\", element=\"2c9a303d-f2da-4e1d-81a5-b3baad7f8236\")>]"
      ]
     },
     "execution_count": 366,
     "metadata": {},
     "output_type": "execute_result"
    }
   ],
   "source": [
    "sbrand_tag3=driver.find_elements_by_xpath(\"//div[@class='_2WkVRV']\")\n",
    "sbrand_tag3"
   ]
  },
  {
   "cell_type": "code",
   "execution_count": 368,
   "id": "d9cb15ee",
   "metadata": {},
   "outputs": [],
   "source": [
    "for i in sbrand_tag3:\n",
    "    sbrand3=i.text\n",
    "    sneaker_brand.append(sbrand3)"
   ]
  },
  {
   "cell_type": "code",
   "execution_count": 369,
   "id": "64de3e4f",
   "metadata": {},
   "outputs": [
    {
     "data": {
      "text/plain": [
       "['Footaction',\n",
       " 'SUSON',\n",
       " 'ASTEROID',\n",
       " 'Chevit',\n",
       " 'Magnolia',\n",
       " 'Numenzo',\n",
       " 'Chevit',\n",
       " 'STRANGER BROTHERS',\n",
       " 'Numenzo',\n",
       " 'Chevit',\n",
       " 'URBANBOX',\n",
       " 'Extoes',\n",
       " 'ASTEROID',\n",
       " 'FOOTGRAB',\n",
       " 'Kraasa',\n",
       " 'Extoes',\n",
       " 'SPARX',\n",
       " 'SCATCHITE',\n",
       " 'BRUTON',\n",
       " 'CALCADOS',\n",
       " 'Robbie jones',\n",
       " 'D-SNEAKERZ',\n",
       " 'Numenzo',\n",
       " 'FAUSTO',\n",
       " 'BRUTON',\n",
       " 'Kraasa',\n",
       " 'India hub',\n",
       " 'U.S. POLO ASSN.',\n",
       " 'Arohi',\n",
       " 'BIRDE',\n",
       " 'Robbie jones',\n",
       " \"Neeman's\",\n",
       " 'believe',\n",
       " 'Shoes Bank',\n",
       " 'India hub',\n",
       " 'aadi',\n",
       " 'BRUTON',\n",
       " 'SPARX',\n",
       " 'Robbie jones',\n",
       " 'Blackberrys',\n",
       " 'Robbie jones',\n",
       " 'RODDICK SHOES',\n",
       " 'Robbie jones',\n",
       " 'ALBERTO TORRESI',\n",
       " 'luxury fashion',\n",
       " 'Chevit',\n",
       " 'Rzisbo',\n",
       " 'Blackberrys',\n",
       " 'T-ROCK',\n",
       " 'ESSENCE',\n",
       " 'India hub',\n",
       " 'SAN FRISSCO',\n",
       " 'Absolute comfort',\n",
       " 'PUMA',\n",
       " 'PUMA',\n",
       " 'FAUSTO',\n",
       " 'VORII',\n",
       " 'Airland',\n",
       " 'FEWROK',\n",
       " 'REFOAM',\n",
       " 'Edoeviv',\n",
       " 'Wlinzak',\n",
       " 'RODDICK SHOES',\n",
       " 'Pieds',\n",
       " 'Robbie jones',\n",
       " 'SPARX',\n",
       " 'URBANBOX',\n",
       " \"Neeman's\",\n",
       " 'Chevit',\n",
       " 'RODDICK SHOES',\n",
       " 'D-SNEAKERZ',\n",
       " 'FAUSTO',\n",
       " 'BRUTON',\n",
       " 'rodox',\n",
       " 'SPARX',\n",
       " 'FAUSTO',\n",
       " 'Labbin',\n",
       " 'SneakerVilla',\n",
       " 'bluemaker',\n",
       " 'FAUSTO',\n",
       " 'bluemaker',\n",
       " 'Numenzo',\n",
       " 'SPARX',\n",
       " 'REFOAM',\n",
       " 'LuvShus',\n",
       " 'PUMA',\n",
       " 'ASIAN',\n",
       " 'ENJOY the celebration people',\n",
       " 'ESSENCE',\n",
       " 'Echor',\n",
       " 'HOTSTYLE',\n",
       " 'FAUSTO',\n",
       " 'PEXLO',\n",
       " 'RODDICK SHOES',\n",
       " 'India hub',\n",
       " \"Khadim's\",\n",
       " 'Echor',\n",
       " 'Robbie jones',\n",
       " 'Robbie jones',\n",
       " 'FAUSTO',\n",
       " 'BOOYO',\n",
       " 'BIRDE',\n",
       " 'Jack Diamond',\n",
       " \"Khadim's\",\n",
       " 'Xtoon',\n",
       " 'SPARX',\n",
       " 'RapidBox',\n",
       " 'SAN FRISSCO',\n",
       " 'Clymb',\n",
       " 'PEXLO',\n",
       " 'BRUTON',\n",
       " 'Blackberrys',\n",
       " 'BIRDE',\n",
       " 'HOC',\n",
       " 'SPADE CLUB',\n",
       " 'REEBOK CLASSICS',\n",
       " 'NBL Sports',\n",
       " 'ESSENCE',\n",
       " 'OUTALYFE',\n",
       " 'ADIDAS',\n",
       " 'bluemaker',\n",
       " 'Numenzo',\n",
       " 'SPARX',\n",
       " 'REFOAM',\n",
       " 'LuvShus',\n",
       " 'PUMA',\n",
       " 'ASIAN',\n",
       " 'ENJOY the celebration people',\n",
       " 'ESSENCE',\n",
       " 'Echor',\n",
       " 'HOTSTYLE',\n",
       " 'FAUSTO',\n",
       " 'PEXLO',\n",
       " 'RODDICK SHOES',\n",
       " 'India hub',\n",
       " \"Khadim's\",\n",
       " 'Echor',\n",
       " 'Robbie jones',\n",
       " 'Robbie jones',\n",
       " 'FAUSTO',\n",
       " 'BOOYO',\n",
       " 'BIRDE',\n",
       " 'Jack Diamond',\n",
       " \"Khadim's\",\n",
       " 'Xtoon',\n",
       " 'SPARX',\n",
       " 'RapidBox',\n",
       " 'SAN FRISSCO',\n",
       " 'Clymb',\n",
       " 'PEXLO',\n",
       " 'BRUTON',\n",
       " 'Blackberrys',\n",
       " 'BIRDE',\n",
       " 'HOC',\n",
       " 'SPADE CLUB',\n",
       " 'REEBOK CLASSICS',\n",
       " 'NBL Sports',\n",
       " 'ESSENCE',\n",
       " 'OUTALYFE',\n",
       " 'ADIDAS']"
      ]
     },
     "execution_count": 369,
     "metadata": {},
     "output_type": "execute_result"
    }
   ],
   "source": [
    "sneaker_brand"
   ]
  },
  {
   "cell_type": "code",
   "execution_count": 370,
   "id": "fcc41f10",
   "metadata": {
    "collapsed": true
   },
   "outputs": [
    {
     "name": "stderr",
     "output_type": "stream",
     "text": [
      "<ipython-input-370-3f59d3c5dc76>:1: DeprecationWarning: find_elements_by_* commands are deprecated. Please use find_elements() instead\n",
      "  sdisc_tag3=driver.find_elements_by_xpath(\"//a[@class='IRpwTa']\")\n"
     ]
    },
    {
     "data": {
      "text/plain": [
       "[<selenium.webdriver.remote.webelement.WebElement (session=\"e3416535b51d6df72ad7c773b019b76a\", element=\"f7e27b66-0bfb-4c2f-b1d8-2a2ab5405f85\")>,\n",
       " <selenium.webdriver.remote.webelement.WebElement (session=\"e3416535b51d6df72ad7c773b019b76a\", element=\"731d3ed3-33ed-4b64-bfd5-d82bb4b5eb84\")>,\n",
       " <selenium.webdriver.remote.webelement.WebElement (session=\"e3416535b51d6df72ad7c773b019b76a\", element=\"25750a88-1aeb-4313-a3db-5ef920ecd9c0\")>,\n",
       " <selenium.webdriver.remote.webelement.WebElement (session=\"e3416535b51d6df72ad7c773b019b76a\", element=\"dbb5afef-5ffe-4a85-89b9-98bbc678ecdf\")>,\n",
       " <selenium.webdriver.remote.webelement.WebElement (session=\"e3416535b51d6df72ad7c773b019b76a\", element=\"cfca6180-a939-438a-bef2-7e0b131d0c58\")>,\n",
       " <selenium.webdriver.remote.webelement.WebElement (session=\"e3416535b51d6df72ad7c773b019b76a\", element=\"023d75c7-9e75-4297-b2e8-e46ea274e68b\")>,\n",
       " <selenium.webdriver.remote.webelement.WebElement (session=\"e3416535b51d6df72ad7c773b019b76a\", element=\"a20f496c-7eef-46dd-b8ea-f6f65d763ef0\")>,\n",
       " <selenium.webdriver.remote.webelement.WebElement (session=\"e3416535b51d6df72ad7c773b019b76a\", element=\"60a7a2ff-d2f2-4601-86f0-be0cf578f1bd\")>,\n",
       " <selenium.webdriver.remote.webelement.WebElement (session=\"e3416535b51d6df72ad7c773b019b76a\", element=\"02a1283c-32b9-4adc-ab02-643b3a6fdb09\")>,\n",
       " <selenium.webdriver.remote.webelement.WebElement (session=\"e3416535b51d6df72ad7c773b019b76a\", element=\"ab45bc9f-0fc3-4830-8ff7-8f5a2b6a71e4\")>,\n",
       " <selenium.webdriver.remote.webelement.WebElement (session=\"e3416535b51d6df72ad7c773b019b76a\", element=\"2f36de80-18e5-4a25-963a-a60b7250eae8\")>,\n",
       " <selenium.webdriver.remote.webelement.WebElement (session=\"e3416535b51d6df72ad7c773b019b76a\", element=\"4881c2e4-f15a-4e1c-9bed-2215a549e0c4\")>,\n",
       " <selenium.webdriver.remote.webelement.WebElement (session=\"e3416535b51d6df72ad7c773b019b76a\", element=\"aa721f35-1235-457a-ab27-90f25b6c82c8\")>,\n",
       " <selenium.webdriver.remote.webelement.WebElement (session=\"e3416535b51d6df72ad7c773b019b76a\", element=\"a9447e2c-cb90-47fa-a0d2-ede20d17c5d5\")>,\n",
       " <selenium.webdriver.remote.webelement.WebElement (session=\"e3416535b51d6df72ad7c773b019b76a\", element=\"5e737a7a-8734-4d41-bb27-f385462c6cb1\")>,\n",
       " <selenium.webdriver.remote.webelement.WebElement (session=\"e3416535b51d6df72ad7c773b019b76a\", element=\"3abc497d-d332-43de-ab23-78768507a9fb\")>,\n",
       " <selenium.webdriver.remote.webelement.WebElement (session=\"e3416535b51d6df72ad7c773b019b76a\", element=\"3281a072-acf4-4af3-84d5-ccaa3878cde8\")>,\n",
       " <selenium.webdriver.remote.webelement.WebElement (session=\"e3416535b51d6df72ad7c773b019b76a\", element=\"424a20ac-5db4-44d7-8c14-364fffef9760\")>,\n",
       " <selenium.webdriver.remote.webelement.WebElement (session=\"e3416535b51d6df72ad7c773b019b76a\", element=\"2ab0da8d-5cfd-4632-9826-9e539c1e4dfb\")>,\n",
       " <selenium.webdriver.remote.webelement.WebElement (session=\"e3416535b51d6df72ad7c773b019b76a\", element=\"f303c48b-de4b-4d7d-9726-b6c4be6ba004\")>,\n",
       " <selenium.webdriver.remote.webelement.WebElement (session=\"e3416535b51d6df72ad7c773b019b76a\", element=\"a3c1917a-81f0-423b-b740-0e5ecd1f1fdc\")>,\n",
       " <selenium.webdriver.remote.webelement.WebElement (session=\"e3416535b51d6df72ad7c773b019b76a\", element=\"74dcc049-c905-4586-bfe6-aed309bbf35b\")>,\n",
       " <selenium.webdriver.remote.webelement.WebElement (session=\"e3416535b51d6df72ad7c773b019b76a\", element=\"f11d4276-0405-4855-9b30-3c38ce89b55c\")>,\n",
       " <selenium.webdriver.remote.webelement.WebElement (session=\"e3416535b51d6df72ad7c773b019b76a\", element=\"df4d8eea-8367-49e2-9b36-0abe84a49234\")>,\n",
       " <selenium.webdriver.remote.webelement.WebElement (session=\"e3416535b51d6df72ad7c773b019b76a\", element=\"23868d13-f9af-4b6f-a22e-35c174347f3a\")>,\n",
       " <selenium.webdriver.remote.webelement.WebElement (session=\"e3416535b51d6df72ad7c773b019b76a\", element=\"dae79c93-1f90-4fdd-aa9b-d2bcb07ea721\")>,\n",
       " <selenium.webdriver.remote.webelement.WebElement (session=\"e3416535b51d6df72ad7c773b019b76a\", element=\"3c0245d3-faa6-4d21-9b25-9aac1c1e7afe\")>,\n",
       " <selenium.webdriver.remote.webelement.WebElement (session=\"e3416535b51d6df72ad7c773b019b76a\", element=\"b6a1349c-2ce3-4a8a-a5a9-d3cfe50b189f\")>,\n",
       " <selenium.webdriver.remote.webelement.WebElement (session=\"e3416535b51d6df72ad7c773b019b76a\", element=\"18cb8e15-6947-4d3f-985f-e018ae62cd73\")>,\n",
       " <selenium.webdriver.remote.webelement.WebElement (session=\"e3416535b51d6df72ad7c773b019b76a\", element=\"e5d75ae9-93bc-4da2-a6bf-ecf7754b80eb\")>,\n",
       " <selenium.webdriver.remote.webelement.WebElement (session=\"e3416535b51d6df72ad7c773b019b76a\", element=\"2910ca7e-304a-4030-b1be-7082212c88bb\")>]"
      ]
     },
     "execution_count": 370,
     "metadata": {},
     "output_type": "execute_result"
    }
   ],
   "source": [
    "sdisc_tag3=driver.find_elements_by_xpath(\"//a[@class='IRpwTa']\")\n",
    "sdisc_tag3"
   ]
  },
  {
   "cell_type": "code",
   "execution_count": 371,
   "id": "921b1b03",
   "metadata": {},
   "outputs": [],
   "source": [
    "for i in sdisc_tag3:\n",
    "    sdiscription3=i.text\n",
    "    sneaker_discription.append(sdiscription3)"
   ]
  },
  {
   "cell_type": "code",
   "execution_count": 372,
   "id": "cb3e2469",
   "metadata": {},
   "outputs": [
    {
     "data": {
      "text/plain": [
       "94"
      ]
     },
     "execution_count": 372,
     "metadata": {},
     "output_type": "execute_result"
    }
   ],
   "source": [
    "len(sneaker_discription)"
   ]
  },
  {
   "cell_type": "code",
   "execution_count": 373,
   "id": "8e727235",
   "metadata": {},
   "outputs": [
    {
     "data": {
      "text/plain": [
       "['Gym/Walking/Running Sneakers For Men',\n",
       " \"Original Luxury Branded Fashionable Men's Casual Walkin...\",\n",
       " 'Super Stylish & Trendy Combo Pack of 02 Pairs Sneakers ...',\n",
       " 'Sneakers For Men',\n",
       " '411 Casual Sneakers For Men',\n",
       " 'Unique & Perfect Collection Combo Pack of 02 Shoes for ...',\n",
       " 'Sneakers For Men',\n",
       " 'Perfect & Affordable Combo Pack of 02 Pairs Sneakers Ou...',\n",
       " 'Relaxed Attractive Combo pack of 3 Sneakers For Men',\n",
       " \"Original Luxury Branded Fashionable Men's Casual Walkin...\",\n",
       " 'White Boots || High Tops || Sneakers For Men',\n",
       " 'Shark-41 Sneakers For Men',\n",
       " 'Relaxed Attractive Combo pack of 4 Sneakers For Men',\n",
       " 'Sneakers Sneakers For Men',\n",
       " 'Combo Pack Of 4 Casual Shoes Loafer Shoes Sneakers For ...',\n",
       " 'Relaxed Attractive Combo pack of 4 Sneakers For Men',\n",
       " 'Casual Sneakers Shoes For Men Sneakers For Men',\n",
       " \"Casual , Partywear Sneakers Shoes For Men's And Boys Wh...\",\n",
       " 'Numenzo Black Sneaker For Men Sneakers For Men',\n",
       " 'Lace Up Trendy Sneakers For Men',\n",
       " 'Modern Trendy Shoes Sneakers For Men',\n",
       " 'Series 7 Sneakers For Men',\n",
       " 'Fashionable sneaker casual shoes Sneakers For Men',\n",
       " 'Sneakers For Men',\n",
       " 'Sneakers For Men',\n",
       " 'Sports Running Shoes Sneakers For Men',\n",
       " 'Sneakers For Men',\n",
       " 'Sneakers for men(black_6) Sneakers For Men',\n",
       " \"White Sneaker For Men's/Boy's Sneakers For Men\",\n",
       " 'Sneakers For Men',\n",
       " 'Sneakers For Men',\n",
       " 'Combo Pack Of 2 Latest Stylish Casual Shoes for Men Lac...',\n",
       " 'Canvas Casual Partywear Outdoor Sneakers Shoes For Mens...',\n",
       " 'Sneakers For Men',\n",
       " 'Sneakers For Men',\n",
       " 'Sneakers For Men',\n",
       " 'Fashion Outdoor Canvas Casual Light Weight Lace-up Even...',\n",
       " 'Sneakers For Men',\n",
       " 'Luxury Fashionable casual sneaker shoes Sneakers For Me...',\n",
       " 'Smart Casuals Canvas Shoes Combo pack of 2 Sneakers For...',\n",
       " 'Sneakers For Men',\n",
       " 'Sneakers For Men',\n",
       " 'Synthetic Leather Casual Partywear Wedding Sneakers Sho...',\n",
       " 'Sneakers For Men',\n",
       " 'Fashionable casual sneakers shoes Sneakers For Men',\n",
       " 'Perforated Low IDP Sneakers For Men',\n",
       " 'Puma Wired Cage Sneakers For Men',\n",
       " 'Lace Up Classsic Sneakers For Men',\n",
       " 'sneaker men red 1258 - 6 Sneakers For Men',\n",
       " \"Men's Grey Textile Slip On Casual Sneaker Shoes Sneaker...\",\n",
       " \"Luxury Branded Fashionable Men's Casual Walking Partywe...\",\n",
       " 'Fashion Outdoor Canvas Casual Light Weight Lace-up Even...',\n",
       " 'Casual Sneakers Green Shoes For Men And Boys Sneakers F...',\n",
       " 'SM-675 Sneakers For Men',\n",
       " 'Affordable Combo Pack of 03 Pairs Sneakers Outdoor Loaf...',\n",
       " 'Fashion Outdoor Canvas Casual Light Weight Lace-up Even...',\n",
       " \"Casual , Partywear Sneakers Shoes For Men's And Boys Wh...\",\n",
       " 'Sneakers For Men',\n",
       " 'Combo Pack of 2 Sports Running LightWeight Shoes Sneake...',\n",
       " 'SM-322 Sneakers For Men',\n",
       " 'Lace Up Trendy Sneakers For Men',\n",
       " 'Casual Sneakers White Shoes For Men And Boys Sneakers F...',\n",
       " 'casual for men (beige 06) Sneakers For Men',\n",
       " 'casual for men (blue 06) Sneakers For Men',\n",
       " 'Sneakers For Men',\n",
       " 'SD-323 Sneakers For Men',\n",
       " 'Sneakers For Men',\n",
       " 'Men Casual Shoe New Trend With Fashion Panda Desgined L...',\n",
       " 'Plank Eng Knit Slipon IDP Sneakers For Men',\n",
       " 'Skypy-31 Walking Shoes,Training Shoes,Sneakers,Loafers,...',\n",
       " 'Mesh And Rubber Casual Partywear New Design Stylish Par...',\n",
       " 'Luxury Fashionable casual sneaker shoes and partywear s...',\n",
       " \"Men's Sneakers Fashion Lightweight Running Shoes Tennis...\",\n",
       " 'Sneakers For Men',\n",
       " 'Lightweight Combo Pack of 02 Pair Casual Sneaker Canvas...',\n",
       " 'Sneakers For Men',\n",
       " '42400742490 Sneakers For Men',\n",
       " \"Men's Canvas Low Top Sneakers Lace-up Classic Casual Sn...\",\n",
       " 'Sneakers For Men',\n",
       " 'Casual Sneakers Shoes For Men And Boys Sneakers For Men',\n",
       " 'Birde Trendy Casual Shoes Sneakers For Men',\n",
       " 'Pro Dress Sneakers Sneakers For Men',\n",
       " \"white Casual shoes,Sneakers for men's Sneakers For Men\",\n",
       " 'Casual Sneakers Sneakers For Men',\n",
       " 'Mesh Sports/Walking Shoes/Outdoor Ultra Lightweight Run...',\n",
       " \"Men's Casual Shoes Combo Pack of 02 Sneakers For Men\",\n",
       " 'Lattest Sneakers Shoe Sneakers For Men',\n",
       " 'Sneakers For Men',\n",
       " 'Birde Trendy Casual Shoes Sneakers For Men',\n",
       " 'Luxury Fashionable Breathable Casual Sneakers Shoes For...',\n",
       " 'ROYAL COMPLETE 2LW Running Shoe For Men',\n",
       " 'Trendy Sneakers For Men',\n",
       " 'Latest collection, Casual Party Wear Comfortable, Flexi...',\n",
       " 'Grand Court Sneakers For Men']"
      ]
     },
     "execution_count": 373,
     "metadata": {},
     "output_type": "execute_result"
    }
   ],
   "source": [
    "sneaker_discription"
   ]
  },
  {
   "cell_type": "code",
   "execution_count": 374,
   "id": "2fbf4b29",
   "metadata": {},
   "outputs": [
    {
     "name": "stderr",
     "output_type": "stream",
     "text": [
      "<ipython-input-374-1887c51b4d95>:1: DeprecationWarning: find_elements_by_* commands are deprecated. Please use find_elements() instead\n",
      "  sprice_tag3=driver.find_elements_by_xpath(\"//div[@class='_30jeq3']\")\n"
     ]
    },
    {
     "data": {
      "text/plain": [
       "[<selenium.webdriver.remote.webelement.WebElement (session=\"e3416535b51d6df72ad7c773b019b76a\", element=\"24d8499e-a1ee-4f24-8d6c-9da564230b95\")>,\n",
       " <selenium.webdriver.remote.webelement.WebElement (session=\"e3416535b51d6df72ad7c773b019b76a\", element=\"0158d5e1-181e-45af-b743-ab9d578a9d00\")>,\n",
       " <selenium.webdriver.remote.webelement.WebElement (session=\"e3416535b51d6df72ad7c773b019b76a\", element=\"2ba6eef4-d913-4f9c-8a4b-52f012e510d7\")>,\n",
       " <selenium.webdriver.remote.webelement.WebElement (session=\"e3416535b51d6df72ad7c773b019b76a\", element=\"2bd903a8-6a4f-4121-891b-910b483f3699\")>,\n",
       " <selenium.webdriver.remote.webelement.WebElement (session=\"e3416535b51d6df72ad7c773b019b76a\", element=\"3fc4e29b-8037-4f85-9655-a84614d11a71\")>,\n",
       " <selenium.webdriver.remote.webelement.WebElement (session=\"e3416535b51d6df72ad7c773b019b76a\", element=\"db0c7914-bd20-4e2d-a5a7-77138a7800db\")>,\n",
       " <selenium.webdriver.remote.webelement.WebElement (session=\"e3416535b51d6df72ad7c773b019b76a\", element=\"563c0ce3-8407-4d4d-9913-7edde215265a\")>,\n",
       " <selenium.webdriver.remote.webelement.WebElement (session=\"e3416535b51d6df72ad7c773b019b76a\", element=\"a2ea2d33-133e-4476-8a3e-1afafc4d2bf9\")>,\n",
       " <selenium.webdriver.remote.webelement.WebElement (session=\"e3416535b51d6df72ad7c773b019b76a\", element=\"0811bb6b-06c1-4deb-a0f4-3038fdbf77e6\")>,\n",
       " <selenium.webdriver.remote.webelement.WebElement (session=\"e3416535b51d6df72ad7c773b019b76a\", element=\"fa0d5810-e7aa-4c32-a7c9-ccb5622a45ed\")>,\n",
       " <selenium.webdriver.remote.webelement.WebElement (session=\"e3416535b51d6df72ad7c773b019b76a\", element=\"2ccc5f77-ed06-4c4d-b3a2-14d8404a3cf5\")>,\n",
       " <selenium.webdriver.remote.webelement.WebElement (session=\"e3416535b51d6df72ad7c773b019b76a\", element=\"959502f0-eb6e-484b-8de7-24d7b9206de7\")>,\n",
       " <selenium.webdriver.remote.webelement.WebElement (session=\"e3416535b51d6df72ad7c773b019b76a\", element=\"6f770a88-9ae4-4be0-bd9f-d21f0a6b330d\")>,\n",
       " <selenium.webdriver.remote.webelement.WebElement (session=\"e3416535b51d6df72ad7c773b019b76a\", element=\"9c15c381-cfe0-490f-af55-4a5e82d1fbf1\")>,\n",
       " <selenium.webdriver.remote.webelement.WebElement (session=\"e3416535b51d6df72ad7c773b019b76a\", element=\"776adce3-0dea-4e4b-9896-3cad1560249a\")>,\n",
       " <selenium.webdriver.remote.webelement.WebElement (session=\"e3416535b51d6df72ad7c773b019b76a\", element=\"9365e866-dc20-432c-978e-2bbe060fd942\")>,\n",
       " <selenium.webdriver.remote.webelement.WebElement (session=\"e3416535b51d6df72ad7c773b019b76a\", element=\"91a540f3-81eb-47e1-8cb9-a16658b9ff7a\")>,\n",
       " <selenium.webdriver.remote.webelement.WebElement (session=\"e3416535b51d6df72ad7c773b019b76a\", element=\"a5ce7ccc-b452-4e34-9dd3-2f9e099ae722\")>,\n",
       " <selenium.webdriver.remote.webelement.WebElement (session=\"e3416535b51d6df72ad7c773b019b76a\", element=\"3e823cbb-9b05-4843-bfd2-e57bc0232539\")>,\n",
       " <selenium.webdriver.remote.webelement.WebElement (session=\"e3416535b51d6df72ad7c773b019b76a\", element=\"f571235c-5708-4c72-8b70-394deaa1711b\")>,\n",
       " <selenium.webdriver.remote.webelement.WebElement (session=\"e3416535b51d6df72ad7c773b019b76a\", element=\"95ff825e-f169-4266-8b61-28d75bb81e39\")>,\n",
       " <selenium.webdriver.remote.webelement.WebElement (session=\"e3416535b51d6df72ad7c773b019b76a\", element=\"30480d7e-9352-4b54-ad4f-18990e20aff2\")>,\n",
       " <selenium.webdriver.remote.webelement.WebElement (session=\"e3416535b51d6df72ad7c773b019b76a\", element=\"6faeaa4f-6ffc-40c3-8094-dd65d75fd4c3\")>,\n",
       " <selenium.webdriver.remote.webelement.WebElement (session=\"e3416535b51d6df72ad7c773b019b76a\", element=\"cd736e43-ca72-46ea-aadb-431896482ca9\")>,\n",
       " <selenium.webdriver.remote.webelement.WebElement (session=\"e3416535b51d6df72ad7c773b019b76a\", element=\"c1db39e0-3709-450b-9bcf-966d3683ddd0\")>,\n",
       " <selenium.webdriver.remote.webelement.WebElement (session=\"e3416535b51d6df72ad7c773b019b76a\", element=\"3cf4c972-1645-41a3-bdc3-f40e3ed16c8b\")>,\n",
       " <selenium.webdriver.remote.webelement.WebElement (session=\"e3416535b51d6df72ad7c773b019b76a\", element=\"3dac5fb4-743a-4a34-925c-a41c9f406cc5\")>,\n",
       " <selenium.webdriver.remote.webelement.WebElement (session=\"e3416535b51d6df72ad7c773b019b76a\", element=\"cdd6a9ee-c781-4e1e-9da7-7ae1a8e774a2\")>,\n",
       " <selenium.webdriver.remote.webelement.WebElement (session=\"e3416535b51d6df72ad7c773b019b76a\", element=\"fe3b847e-acea-4244-af64-59dd3fb68b5a\")>,\n",
       " <selenium.webdriver.remote.webelement.WebElement (session=\"e3416535b51d6df72ad7c773b019b76a\", element=\"b0ed002a-805c-4db8-a0b2-37d92f6a2caa\")>,\n",
       " <selenium.webdriver.remote.webelement.WebElement (session=\"e3416535b51d6df72ad7c773b019b76a\", element=\"d2888930-3c2d-45b4-afd4-7844d5f8840f\")>,\n",
       " <selenium.webdriver.remote.webelement.WebElement (session=\"e3416535b51d6df72ad7c773b019b76a\", element=\"bb757e23-9752-4b00-8a0d-71950995bbc5\")>,\n",
       " <selenium.webdriver.remote.webelement.WebElement (session=\"e3416535b51d6df72ad7c773b019b76a\", element=\"7a94d578-91b3-4f5b-ae57-bba90fa7765f\")>,\n",
       " <selenium.webdriver.remote.webelement.WebElement (session=\"e3416535b51d6df72ad7c773b019b76a\", element=\"5e938d17-bb08-459d-840a-70e6873339a7\")>,\n",
       " <selenium.webdriver.remote.webelement.WebElement (session=\"e3416535b51d6df72ad7c773b019b76a\", element=\"e4fe75e6-b27a-49f1-a512-efa9ac9e9f05\")>,\n",
       " <selenium.webdriver.remote.webelement.WebElement (session=\"e3416535b51d6df72ad7c773b019b76a\", element=\"67435356-9cb5-420a-9cd8-2f194641d282\")>,\n",
       " <selenium.webdriver.remote.webelement.WebElement (session=\"e3416535b51d6df72ad7c773b019b76a\", element=\"a92ddf35-c2e6-4f23-9d8f-495c99f4f942\")>,\n",
       " <selenium.webdriver.remote.webelement.WebElement (session=\"e3416535b51d6df72ad7c773b019b76a\", element=\"a2a64954-9ed8-48c0-91f1-35ec3b28d4f2\")>,\n",
       " <selenium.webdriver.remote.webelement.WebElement (session=\"e3416535b51d6df72ad7c773b019b76a\", element=\"53844556-5f10-4406-84cd-396ed0147ea7\")>,\n",
       " <selenium.webdriver.remote.webelement.WebElement (session=\"e3416535b51d6df72ad7c773b019b76a\", element=\"b81fa0f1-f9ba-49bb-ae8b-32f219b36a97\")>]"
      ]
     },
     "execution_count": 374,
     "metadata": {},
     "output_type": "execute_result"
    }
   ],
   "source": [
    "sprice_tag3=driver.find_elements_by_xpath(\"//div[@class='_30jeq3']\")\n",
    "sprice_tag3"
   ]
  },
  {
   "cell_type": "code",
   "execution_count": 375,
   "id": "9e3db1b7",
   "metadata": {},
   "outputs": [],
   "source": [
    "for i in sprice_tag3:\n",
    "    sprice3=i.text\n",
    "    sneaker_price.append(sprice3)"
   ]
  },
  {
   "cell_type": "code",
   "execution_count": 378,
   "id": "87880e70",
   "metadata": {},
   "outputs": [
    {
     "data": {
      "text/plain": [
       "120"
      ]
     },
     "execution_count": 378,
     "metadata": {},
     "output_type": "execute_result"
    }
   ],
   "source": [
    "len(sneaker_price)"
   ]
  },
  {
   "cell_type": "code",
   "execution_count": 379,
   "id": "65330fa9",
   "metadata": {},
   "outputs": [
    {
     "data": {
      "text/plain": [
       "['₹419',\n",
       " '₹379',\n",
       " '₹499',\n",
       " '₹699',\n",
       " '₹398',\n",
       " '₹499',\n",
       " '₹599',\n",
       " '₹431',\n",
       " '₹479',\n",
       " '₹599',\n",
       " '₹220',\n",
       " '₹729',\n",
       " '₹499',\n",
       " '₹549',\n",
       " '₹499',\n",
       " '₹698',\n",
       " '₹639',\n",
       " '₹398',\n",
       " '₹666',\n",
       " '₹699',\n",
       " '₹399',\n",
       " '₹348',\n",
       " '₹499',\n",
       " '₹1,049',\n",
       " '₹379',\n",
       " '₹499',\n",
       " '₹448',\n",
       " '₹1,350',\n",
       " '₹458',\n",
       " '₹299',\n",
       " '₹499',\n",
       " '₹2,399',\n",
       " '₹499',\n",
       " '₹345',\n",
       " '₹499',\n",
       " '₹473',\n",
       " '₹592',\n",
       " '₹645',\n",
       " '₹499',\n",
       " '₹3,496',\n",
       " '₹499',\n",
       " '₹499',\n",
       " '₹499',\n",
       " '₹943',\n",
       " '₹449',\n",
       " '₹399',\n",
       " '₹499',\n",
       " '₹3,146',\n",
       " '₹379',\n",
       " '₹499',\n",
       " '₹499',\n",
       " '₹1,898',\n",
       " '₹166',\n",
       " '₹1,599',\n",
       " '₹1,719',\n",
       " '₹999',\n",
       " '₹469',\n",
       " '₹197',\n",
       " '₹399',\n",
       " '₹999',\n",
       " '₹499',\n",
       " '₹399',\n",
       " '₹499',\n",
       " '₹528',\n",
       " '₹499',\n",
       " '₹788',\n",
       " '₹166',\n",
       " '₹2,399',\n",
       " '₹799',\n",
       " '₹499',\n",
       " '₹384',\n",
       " '₹799',\n",
       " '₹474',\n",
       " '₹699',\n",
       " '₹849',\n",
       " '₹1,049',\n",
       " '₹399',\n",
       " '₹549',\n",
       " '₹474',\n",
       " '₹1,049',\n",
       " '₹474',\n",
       " '₹499',\n",
       " '₹674',\n",
       " '₹739',\n",
       " '₹442',\n",
       " '₹2,359',\n",
       " '₹399',\n",
       " '₹599',\n",
       " '₹499',\n",
       " '₹499',\n",
       " '₹199',\n",
       " '₹1,299',\n",
       " '₹498',\n",
       " '₹499',\n",
       " '₹499',\n",
       " '₹1,999',\n",
       " '₹399',\n",
       " '₹499',\n",
       " '₹499',\n",
       " '₹799',\n",
       " '₹449',\n",
       " '₹299',\n",
       " '₹645',\n",
       " '₹959',\n",
       " '₹449',\n",
       " '₹1,039',\n",
       " '₹580',\n",
       " '₹1,898',\n",
       " '₹259',\n",
       " '₹588',\n",
       " '₹299',\n",
       " '₹3,496',\n",
       " '₹299',\n",
       " '₹439',\n",
       " '₹699',\n",
       " '₹3,582',\n",
       " '₹299',\n",
       " '₹499',\n",
       " '₹414',\n",
       " '₹4,599']"
      ]
     },
     "execution_count": 379,
     "metadata": {},
     "output_type": "execute_result"
    }
   ],
   "source": [
    "sneaker_price"
   ]
  },
  {
   "cell_type": "code",
   "execution_count": 380,
   "id": "16818931",
   "metadata": {},
   "outputs": [
    {
     "name": "stderr",
     "output_type": "stream",
     "text": [
      "<ipython-input-380-13b08cd0617d>:1: DeprecationWarning: find_elements_by_* commands are deprecated. Please use find_elements() instead\n",
      "  soffer_tag3=driver.find_elements_by_xpath(\"//div[@class='_3Ay6Sb']\")\n"
     ]
    },
    {
     "data": {
      "text/plain": [
       "[<selenium.webdriver.remote.webelement.WebElement (session=\"e3416535b51d6df72ad7c773b019b76a\", element=\"312a6ff7-3fa4-4d0c-9102-bc92a0cef62c\")>,\n",
       " <selenium.webdriver.remote.webelement.WebElement (session=\"e3416535b51d6df72ad7c773b019b76a\", element=\"45a5def5-563a-4aba-b5c0-492f12c61ee8\")>,\n",
       " <selenium.webdriver.remote.webelement.WebElement (session=\"e3416535b51d6df72ad7c773b019b76a\", element=\"b98cb623-0bcd-4749-ae7c-3989eb637df1\")>,\n",
       " <selenium.webdriver.remote.webelement.WebElement (session=\"e3416535b51d6df72ad7c773b019b76a\", element=\"73e34e22-7da8-4342-acf7-21f4a8272d44\")>,\n",
       " <selenium.webdriver.remote.webelement.WebElement (session=\"e3416535b51d6df72ad7c773b019b76a\", element=\"e0720992-bcd8-495f-8f22-13609b632049\")>,\n",
       " <selenium.webdriver.remote.webelement.WebElement (session=\"e3416535b51d6df72ad7c773b019b76a\", element=\"f31b1b89-cc1b-48ea-98b3-15731f30778d\")>,\n",
       " <selenium.webdriver.remote.webelement.WebElement (session=\"e3416535b51d6df72ad7c773b019b76a\", element=\"b183a1d0-29c2-4c54-b476-a08c6468160e\")>,\n",
       " <selenium.webdriver.remote.webelement.WebElement (session=\"e3416535b51d6df72ad7c773b019b76a\", element=\"d9a6c74d-d13d-47aa-bca3-8e1a86888ec7\")>,\n",
       " <selenium.webdriver.remote.webelement.WebElement (session=\"e3416535b51d6df72ad7c773b019b76a\", element=\"03cce6e5-0c03-421a-99c1-2bc16e15c094\")>,\n",
       " <selenium.webdriver.remote.webelement.WebElement (session=\"e3416535b51d6df72ad7c773b019b76a\", element=\"9e7f77a5-9469-4904-acd8-b0c5e9cee600\")>,\n",
       " <selenium.webdriver.remote.webelement.WebElement (session=\"e3416535b51d6df72ad7c773b019b76a\", element=\"6a6fbdd5-b203-4fe6-8944-a345cb512204\")>,\n",
       " <selenium.webdriver.remote.webelement.WebElement (session=\"e3416535b51d6df72ad7c773b019b76a\", element=\"70e4774f-fc4b-4034-94df-ff92df46d861\")>,\n",
       " <selenium.webdriver.remote.webelement.WebElement (session=\"e3416535b51d6df72ad7c773b019b76a\", element=\"43481cb1-084e-4c21-b8f4-3485ff586e42\")>,\n",
       " <selenium.webdriver.remote.webelement.WebElement (session=\"e3416535b51d6df72ad7c773b019b76a\", element=\"94c53ea3-9827-451d-aaad-79643cf9ffc3\")>,\n",
       " <selenium.webdriver.remote.webelement.WebElement (session=\"e3416535b51d6df72ad7c773b019b76a\", element=\"e0d2347e-32ad-4424-9ec7-80981544681c\")>,\n",
       " <selenium.webdriver.remote.webelement.WebElement (session=\"e3416535b51d6df72ad7c773b019b76a\", element=\"807043f4-3efc-4edd-ac92-673760c2844d\")>,\n",
       " <selenium.webdriver.remote.webelement.WebElement (session=\"e3416535b51d6df72ad7c773b019b76a\", element=\"b58f0129-215f-4b25-9aa6-8637203ded60\")>,\n",
       " <selenium.webdriver.remote.webelement.WebElement (session=\"e3416535b51d6df72ad7c773b019b76a\", element=\"365ec8aa-c9b6-43af-9834-ba01667ea758\")>,\n",
       " <selenium.webdriver.remote.webelement.WebElement (session=\"e3416535b51d6df72ad7c773b019b76a\", element=\"f745e57c-d28a-46a6-817e-057da704f327\")>,\n",
       " <selenium.webdriver.remote.webelement.WebElement (session=\"e3416535b51d6df72ad7c773b019b76a\", element=\"4d4cc459-d6ac-48c2-80ec-01247af90ea0\")>,\n",
       " <selenium.webdriver.remote.webelement.WebElement (session=\"e3416535b51d6df72ad7c773b019b76a\", element=\"cd49669b-7deb-4e9b-80aa-1443b93c0f76\")>,\n",
       " <selenium.webdriver.remote.webelement.WebElement (session=\"e3416535b51d6df72ad7c773b019b76a\", element=\"9061c0db-a96d-46b3-ae01-d4c926d1f838\")>,\n",
       " <selenium.webdriver.remote.webelement.WebElement (session=\"e3416535b51d6df72ad7c773b019b76a\", element=\"82db89b6-dc4c-46ab-bc0d-3c988dfa61e4\")>,\n",
       " <selenium.webdriver.remote.webelement.WebElement (session=\"e3416535b51d6df72ad7c773b019b76a\", element=\"0348292f-5688-4732-939a-8607f6d880c4\")>,\n",
       " <selenium.webdriver.remote.webelement.WebElement (session=\"e3416535b51d6df72ad7c773b019b76a\", element=\"ca90d845-7b45-439e-b411-9c3234e83b03\")>,\n",
       " <selenium.webdriver.remote.webelement.WebElement (session=\"e3416535b51d6df72ad7c773b019b76a\", element=\"d5884b91-b137-4411-9651-3b9e52fbf27f\")>,\n",
       " <selenium.webdriver.remote.webelement.WebElement (session=\"e3416535b51d6df72ad7c773b019b76a\", element=\"b584c59e-c923-4d92-b53a-2b51b07a9f90\")>,\n",
       " <selenium.webdriver.remote.webelement.WebElement (session=\"e3416535b51d6df72ad7c773b019b76a\", element=\"56731c79-204d-480b-baba-7306dabd6bdd\")>,\n",
       " <selenium.webdriver.remote.webelement.WebElement (session=\"e3416535b51d6df72ad7c773b019b76a\", element=\"12101778-6e7b-48e1-be56-08b2646085f8\")>,\n",
       " <selenium.webdriver.remote.webelement.WebElement (session=\"e3416535b51d6df72ad7c773b019b76a\", element=\"080b6b07-29c3-4fd5-9b09-a9c4a8b78366\")>,\n",
       " <selenium.webdriver.remote.webelement.WebElement (session=\"e3416535b51d6df72ad7c773b019b76a\", element=\"82f34264-70cc-42a3-8f1c-8605ec467a7d\")>,\n",
       " <selenium.webdriver.remote.webelement.WebElement (session=\"e3416535b51d6df72ad7c773b019b76a\", element=\"77209bff-19ea-4e14-8b14-e6169cabc324\")>,\n",
       " <selenium.webdriver.remote.webelement.WebElement (session=\"e3416535b51d6df72ad7c773b019b76a\", element=\"0ec71ea9-0221-4b9a-a364-6abd3db071bf\")>,\n",
       " <selenium.webdriver.remote.webelement.WebElement (session=\"e3416535b51d6df72ad7c773b019b76a\", element=\"65df6019-c72b-42e2-a248-ff4422d2a407\")>,\n",
       " <selenium.webdriver.remote.webelement.WebElement (session=\"e3416535b51d6df72ad7c773b019b76a\", element=\"f75a57e1-18da-4289-9483-c9c28e8c392a\")>,\n",
       " <selenium.webdriver.remote.webelement.WebElement (session=\"e3416535b51d6df72ad7c773b019b76a\", element=\"cbf09dec-c6a9-4607-b8d7-43cd7e70beed\")>]"
      ]
     },
     "execution_count": 380,
     "metadata": {},
     "output_type": "execute_result"
    }
   ],
   "source": [
    "soffer_tag3=driver.find_elements_by_xpath(\"//div[@class='_3Ay6Sb']\")\n",
    "soffer_tag3"
   ]
  },
  {
   "cell_type": "code",
   "execution_count": 381,
   "id": "a3a5b6a2",
   "metadata": {},
   "outputs": [],
   "source": [
    "for j in soffer_tag3:\n",
    "    soffer3=j.text\n",
    "    sneaker_offer.append(soffer3)"
   ]
  },
  {
   "cell_type": "code",
   "execution_count": 382,
   "id": "361d9dbf",
   "metadata": {},
   "outputs": [
    {
     "data": {
      "text/plain": [
       "['58% off',\n",
       " '62% off',\n",
       " '75% off',\n",
       " '56% off',\n",
       " '60% off',\n",
       " '75% off',\n",
       " '60% off',\n",
       " '56% off',\n",
       " '63% off',\n",
       " '66% off',\n",
       " '77% off',\n",
       " '51% off',\n",
       " '50% off',\n",
       " '45% off',\n",
       " '50% off',\n",
       " '65% off',\n",
       " '14% off',\n",
       " '60% off',\n",
       " '80% off',\n",
       " '64% off',\n",
       " '60% off',\n",
       " '47% off',\n",
       " '61% off',\n",
       " '70% off',\n",
       " '50% off',\n",
       " '77% off',\n",
       " '54% off',\n",
       " '54% off',\n",
       " '40% off',\n",
       " '50% off',\n",
       " '20% off',\n",
       " '50% off',\n",
       " '65% off',\n",
       " '75% off',\n",
       " '76% off',\n",
       " '76% off',\n",
       " '13% off',\n",
       " '50% off',\n",
       " '30% off',\n",
       " '50% off',\n",
       " '50% off',\n",
       " '50% off',\n",
       " '27% off',\n",
       " '65% off',\n",
       " '60% off',\n",
       " '50% off',\n",
       " '30% off',\n",
       " '62% off',\n",
       " '50% off',\n",
       " '83% off',\n",
       " '62% off',\n",
       " '66% off',\n",
       " '60% off',\n",
       " '50% off',\n",
       " '53% off',\n",
       " '60% off',\n",
       " '60% off',\n",
       " '71% off',\n",
       " '37% off',\n",
       " '60% off',\n",
       " '50% off',\n",
       " '64% off',\n",
       " '50% off',\n",
       " '12% off',\n",
       " '66% off',\n",
       " '20% off',\n",
       " '65% off',\n",
       " '50% off',\n",
       " '61% off',\n",
       " '81% off',\n",
       " '58% off',\n",
       " '15% off',\n",
       " '60% off',\n",
       " '45% off',\n",
       " '52% off',\n",
       " '52% off',\n",
       " '75% off',\n",
       " '10% off',\n",
       " '67% off',\n",
       " '55% off',\n",
       " '41% off',\n",
       " '50% off',\n",
       " '40% off',\n",
       " '50% off',\n",
       " '50% off',\n",
       " '60% off',\n",
       " '68% off',\n",
       " '50% off',\n",
       " '83% off',\n",
       " '73% off',\n",
       " '50% off',\n",
       " '50% off',\n",
       " '55% off',\n",
       " '40% off',\n",
       " '35% off',\n",
       " '40% off',\n",
       " '70% off',\n",
       " '20% off',\n",
       " '41% off',\n",
       " '62% off',\n",
       " '74% off',\n",
       " '41% off',\n",
       " '76% off',\n",
       " '30% off',\n",
       " '40% off',\n",
       " '78% off',\n",
       " '30% off',\n",
       " '48% off',\n",
       " '70% off',\n",
       " '50% off',\n",
       " '58% off']"
      ]
     },
     "execution_count": 382,
     "metadata": {},
     "output_type": "execute_result"
    }
   ],
   "source": [
    "sneaker_offer"
   ]
  },
  {
   "cell_type": "code",
   "execution_count": 384,
   "id": "53cc5bd8",
   "metadata": {},
   "outputs": [],
   "source": [
    "sneaker=pd.DataFrame({})"
   ]
  },
  {
   "cell_type": "code",
   "execution_count": 385,
   "id": "cae01af1",
   "metadata": {},
   "outputs": [],
   "source": [
    "sneaker['BRAND']=sneaker_brand[0:90]\n",
    "sneaker['DISCRIPTION']=sneaker_discription[0:90]\n",
    "sneaker['PRICE']=sneaker_price[0:90]\n",
    "sneaker['OFFER']=sneaker_offer[0:90]"
   ]
  },
  {
   "cell_type": "code",
   "execution_count": 386,
   "id": "dde1fce1",
   "metadata": {},
   "outputs": [
    {
     "data": {
      "text/html": [
       "<div>\n",
       "<style scoped>\n",
       "    .dataframe tbody tr th:only-of-type {\n",
       "        vertical-align: middle;\n",
       "    }\n",
       "\n",
       "    .dataframe tbody tr th {\n",
       "        vertical-align: top;\n",
       "    }\n",
       "\n",
       "    .dataframe thead th {\n",
       "        text-align: right;\n",
       "    }\n",
       "</style>\n",
       "<table border=\"1\" class=\"dataframe\">\n",
       "  <thead>\n",
       "    <tr style=\"text-align: right;\">\n",
       "      <th></th>\n",
       "      <th>BRAND</th>\n",
       "      <th>DISCRIPTION</th>\n",
       "      <th>PRICE</th>\n",
       "      <th>OFFER</th>\n",
       "    </tr>\n",
       "  </thead>\n",
       "  <tbody>\n",
       "    <tr>\n",
       "      <th>0</th>\n",
       "      <td>Footaction</td>\n",
       "      <td>Gym/Walking/Running Sneakers For Men</td>\n",
       "      <td>₹419</td>\n",
       "      <td>58% off</td>\n",
       "    </tr>\n",
       "    <tr>\n",
       "      <th>1</th>\n",
       "      <td>SUSON</td>\n",
       "      <td>Original Luxury Branded Fashionable Men's Casu...</td>\n",
       "      <td>₹379</td>\n",
       "      <td>62% off</td>\n",
       "    </tr>\n",
       "    <tr>\n",
       "      <th>2</th>\n",
       "      <td>ASTEROID</td>\n",
       "      <td>Super Stylish &amp; Trendy Combo Pack of 02 Pairs ...</td>\n",
       "      <td>₹499</td>\n",
       "      <td>75% off</td>\n",
       "    </tr>\n",
       "    <tr>\n",
       "      <th>3</th>\n",
       "      <td>Chevit</td>\n",
       "      <td>Sneakers For Men</td>\n",
       "      <td>₹699</td>\n",
       "      <td>56% off</td>\n",
       "    </tr>\n",
       "    <tr>\n",
       "      <th>4</th>\n",
       "      <td>Magnolia</td>\n",
       "      <td>411 Casual Sneakers For Men</td>\n",
       "      <td>₹398</td>\n",
       "      <td>60% off</td>\n",
       "    </tr>\n",
       "    <tr>\n",
       "      <th>...</th>\n",
       "      <td>...</td>\n",
       "      <td>...</td>\n",
       "      <td>...</td>\n",
       "      <td>...</td>\n",
       "    </tr>\n",
       "    <tr>\n",
       "      <th>85</th>\n",
       "      <td>PUMA</td>\n",
       "      <td>Men's Casual Shoes Combo Pack of 02 Sneakers F...</td>\n",
       "      <td>₹2,359</td>\n",
       "      <td>60% off</td>\n",
       "    </tr>\n",
       "    <tr>\n",
       "      <th>86</th>\n",
       "      <td>ASIAN</td>\n",
       "      <td>Lattest Sneakers Shoe Sneakers For Men</td>\n",
       "      <td>₹399</td>\n",
       "      <td>68% off</td>\n",
       "    </tr>\n",
       "    <tr>\n",
       "      <th>87</th>\n",
       "      <td>ENJOY the celebration people</td>\n",
       "      <td>Sneakers For Men</td>\n",
       "      <td>₹599</td>\n",
       "      <td>50% off</td>\n",
       "    </tr>\n",
       "    <tr>\n",
       "      <th>88</th>\n",
       "      <td>ESSENCE</td>\n",
       "      <td>Birde Trendy Casual Shoes Sneakers For Men</td>\n",
       "      <td>₹499</td>\n",
       "      <td>83% off</td>\n",
       "    </tr>\n",
       "    <tr>\n",
       "      <th>89</th>\n",
       "      <td>Echor</td>\n",
       "      <td>Luxury Fashionable Breathable Casual Sneakers ...</td>\n",
       "      <td>₹499</td>\n",
       "      <td>73% off</td>\n",
       "    </tr>\n",
       "  </tbody>\n",
       "</table>\n",
       "<p>90 rows × 4 columns</p>\n",
       "</div>"
      ],
      "text/plain": [
       "                           BRAND  \\\n",
       "0                     Footaction   \n",
       "1                          SUSON   \n",
       "2                       ASTEROID   \n",
       "3                         Chevit   \n",
       "4                       Magnolia   \n",
       "..                           ...   \n",
       "85                          PUMA   \n",
       "86                         ASIAN   \n",
       "87  ENJOY the celebration people   \n",
       "88                       ESSENCE   \n",
       "89                         Echor   \n",
       "\n",
       "                                          DISCRIPTION   PRICE    OFFER  \n",
       "0                Gym/Walking/Running Sneakers For Men    ₹419  58% off  \n",
       "1   Original Luxury Branded Fashionable Men's Casu...    ₹379  62% off  \n",
       "2   Super Stylish & Trendy Combo Pack of 02 Pairs ...    ₹499  75% off  \n",
       "3                                    Sneakers For Men    ₹699  56% off  \n",
       "4                         411 Casual Sneakers For Men    ₹398  60% off  \n",
       "..                                                ...     ...      ...  \n",
       "85  Men's Casual Shoes Combo Pack of 02 Sneakers F...  ₹2,359  60% off  \n",
       "86             Lattest Sneakers Shoe Sneakers For Men    ₹399  68% off  \n",
       "87                                   Sneakers For Men    ₹599  50% off  \n",
       "88         Birde Trendy Casual Shoes Sneakers For Men    ₹499  83% off  \n",
       "89  Luxury Fashionable Breathable Casual Sneakers ...    ₹499  73% off  \n",
       "\n",
       "[90 rows x 4 columns]"
      ]
     },
     "execution_count": 386,
     "metadata": {},
     "output_type": "execute_result"
    }
   ],
   "source": [
    "sneaker"
   ]
  },
  {
   "cell_type": "markdown",
   "id": "b805fd3d",
   "metadata": {},
   "source": [
    "# 7)shoes from myntra"
   ]
  },
  {
   "cell_type": "code",
   "execution_count": 99,
   "id": "97484c29",
   "metadata": {},
   "outputs": [],
   "source": [
    "PATH = r\"/Users/akshathaaravind/Downloads/chromedriver\""
   ]
  },
  {
   "cell_type": "code",
   "execution_count": 100,
   "id": "7903a242",
   "metadata": {},
   "outputs": [],
   "source": [
    "driver=webdriver.Chrome(PATH)"
   ]
  },
  {
   "cell_type": "code",
   "execution_count": 19,
   "id": "3c6aafa7",
   "metadata": {},
   "outputs": [],
   "source": [
    "driver.get(\"https://www.myntra.com/shoes\")"
   ]
  },
  {
   "cell_type": "code",
   "execution_count": 24,
   "id": "a03075f6",
   "metadata": {},
   "outputs": [
    {
     "name": "stderr",
     "output_type": "stream",
     "text": [
      "<ipython-input-24-9ac63c116813>:1: DeprecationWarning: find_elements_by_* commands are deprecated. Please use find_elements() instead\n",
      "  filter_button=driver.find_elements_by_xpath(\"//label[@class='common-customCheckbox vertical-filters-label']\")\n"
     ]
    }
   ],
   "source": [
    "filter_button=driver.find_elements_by_xpath(\"//label[@class='common-customCheckbox vertical-filters-label']\")"
   ]
  },
  {
   "cell_type": "code",
   "execution_count": 25,
   "id": "295aa44d",
   "metadata": {},
   "outputs": [],
   "source": [
    "for i in filter_button:\n",
    "    if i.text=='Rs. s. 7149 to Rs. 14099':\n",
    "        i.click()\n",
    "        break"
   ]
  },
  {
   "cell_type": "code",
   "execution_count": 26,
   "id": "169d41d7",
   "metadata": {
    "collapsed": true
   },
   "outputs": [
    {
     "name": "stderr",
     "output_type": "stream",
     "text": [
      "<ipython-input-26-ac3ccb048a91>:1: DeprecationWarning: find_elements_by_* commands are deprecated. Please use find_elements() instead\n",
      "  filter_button1=driver.find_elements_by_xpath(\"//label[@class='common-customCheckbox']\")\n"
     ]
    }
   ],
   "source": [
    "filter_button1=driver.find_elements_by_xpath(\"//label[@class='common-customCheckbox']\")"
   ]
  },
  {
   "cell_type": "code",
   "execution_count": 27,
   "id": "52317eed",
   "metadata": {},
   "outputs": [],
   "source": [
    "for i in filter_button1:\n",
    "    if i.text=='Black':\n",
    "        i.click()\n",
    "        break"
   ]
  },
  {
   "cell_type": "code",
   "execution_count": 53,
   "id": "8b121a84",
   "metadata": {},
   "outputs": [],
   "source": [
    "shoe_brand=[]\n",
    "shoe_discription=[]\n",
    "shoe_price=[]\n"
   ]
  },
  {
   "cell_type": "code",
   "execution_count": 54,
   "id": "5c07081d",
   "metadata": {
    "collapsed": true
   },
   "outputs": [
    {
     "name": "stderr",
     "output_type": "stream",
     "text": [
      "<ipython-input-54-89c1e8ff60bc>:1: DeprecationWarning: find_elements_by_* commands are deprecated. Please use find_elements() instead\n",
      "  shoebrand_tag=driver.find_elements_by_xpath(\"//h3[@class='product-brand']\")\n"
     ]
    }
   ],
   "source": [
    "shoebrand_tag=driver.find_elements_by_xpath(\"//h3[@class='product-brand']\")"
   ]
  },
  {
   "cell_type": "code",
   "execution_count": 55,
   "id": "f193d3c4",
   "metadata": {
    "collapsed": true
   },
   "outputs": [
    {
     "data": {
      "text/plain": [
       "[<selenium.webdriver.remote.webelement.WebElement (session=\"448ff2359386b6cbd62d748320acebdf\", element=\"5f3093cc-9b70-4b37-98b3-514a07bf5d58\")>,\n",
       " <selenium.webdriver.remote.webelement.WebElement (session=\"448ff2359386b6cbd62d748320acebdf\", element=\"2d7bba68-a5df-402d-b633-3d3cbae5d88e\")>,\n",
       " <selenium.webdriver.remote.webelement.WebElement (session=\"448ff2359386b6cbd62d748320acebdf\", element=\"3ac79871-9a52-4ec3-b050-7b7d28050d76\")>,\n",
       " <selenium.webdriver.remote.webelement.WebElement (session=\"448ff2359386b6cbd62d748320acebdf\", element=\"d6096382-bed9-4b25-977f-5949d29adc87\")>,\n",
       " <selenium.webdriver.remote.webelement.WebElement (session=\"448ff2359386b6cbd62d748320acebdf\", element=\"9677b553-38ac-41eb-a3ac-4fc8ea49bb1e\")>,\n",
       " <selenium.webdriver.remote.webelement.WebElement (session=\"448ff2359386b6cbd62d748320acebdf\", element=\"b2281bcd-594a-4189-8110-f30d6c6a9fb2\")>,\n",
       " <selenium.webdriver.remote.webelement.WebElement (session=\"448ff2359386b6cbd62d748320acebdf\", element=\"b4f94e5b-dd36-4879-a6fc-1671dbad10fc\")>,\n",
       " <selenium.webdriver.remote.webelement.WebElement (session=\"448ff2359386b6cbd62d748320acebdf\", element=\"36267d71-30fb-40fe-a590-df8608766ed1\")>,\n",
       " <selenium.webdriver.remote.webelement.WebElement (session=\"448ff2359386b6cbd62d748320acebdf\", element=\"6d87d7f7-8493-4096-9bbd-d82509260f9f\")>,\n",
       " <selenium.webdriver.remote.webelement.WebElement (session=\"448ff2359386b6cbd62d748320acebdf\", element=\"422b01ab-f67f-4762-bedb-619a7623ff0c\")>,\n",
       " <selenium.webdriver.remote.webelement.WebElement (session=\"448ff2359386b6cbd62d748320acebdf\", element=\"74e5a28c-2c74-42ed-a22b-0ec22b52d942\")>,\n",
       " <selenium.webdriver.remote.webelement.WebElement (session=\"448ff2359386b6cbd62d748320acebdf\", element=\"5c1bffad-03d7-4a90-b90b-6f095ce3efb9\")>,\n",
       " <selenium.webdriver.remote.webelement.WebElement (session=\"448ff2359386b6cbd62d748320acebdf\", element=\"0c205ffd-08b7-4ed8-bc3b-77a2d5ef4659\")>,\n",
       " <selenium.webdriver.remote.webelement.WebElement (session=\"448ff2359386b6cbd62d748320acebdf\", element=\"9f49f730-d4db-483c-b1c2-d290eff9be00\")>,\n",
       " <selenium.webdriver.remote.webelement.WebElement (session=\"448ff2359386b6cbd62d748320acebdf\", element=\"fbb1ddd1-eb30-496e-a6ce-ec06e7027f25\")>,\n",
       " <selenium.webdriver.remote.webelement.WebElement (session=\"448ff2359386b6cbd62d748320acebdf\", element=\"6cc53edd-d95c-401a-89b5-eee980c6b882\")>,\n",
       " <selenium.webdriver.remote.webelement.WebElement (session=\"448ff2359386b6cbd62d748320acebdf\", element=\"75a161aa-915f-4cc5-917b-d15292b9d400\")>,\n",
       " <selenium.webdriver.remote.webelement.WebElement (session=\"448ff2359386b6cbd62d748320acebdf\", element=\"99437d7b-586b-4a22-81b9-a0b96261520b\")>,\n",
       " <selenium.webdriver.remote.webelement.WebElement (session=\"448ff2359386b6cbd62d748320acebdf\", element=\"11f33c13-5495-46fc-8c38-844b43c251dc\")>,\n",
       " <selenium.webdriver.remote.webelement.WebElement (session=\"448ff2359386b6cbd62d748320acebdf\", element=\"d0670653-d62b-4b66-ae3a-f708edbf3d1c\")>,\n",
       " <selenium.webdriver.remote.webelement.WebElement (session=\"448ff2359386b6cbd62d748320acebdf\", element=\"8db0e4d2-80d8-46d7-804e-4ae9247e3b6a\")>,\n",
       " <selenium.webdriver.remote.webelement.WebElement (session=\"448ff2359386b6cbd62d748320acebdf\", element=\"48b43d09-8850-4249-81e3-7bfc94687137\")>,\n",
       " <selenium.webdriver.remote.webelement.WebElement (session=\"448ff2359386b6cbd62d748320acebdf\", element=\"aa939db4-906e-49ab-b0ae-577462246ce1\")>,\n",
       " <selenium.webdriver.remote.webelement.WebElement (session=\"448ff2359386b6cbd62d748320acebdf\", element=\"ee4c0a40-2f8c-4741-93a6-431240fd8c1e\")>,\n",
       " <selenium.webdriver.remote.webelement.WebElement (session=\"448ff2359386b6cbd62d748320acebdf\", element=\"e9f7d519-84d8-4b27-8088-e351ae32fffc\")>,\n",
       " <selenium.webdriver.remote.webelement.WebElement (session=\"448ff2359386b6cbd62d748320acebdf\", element=\"6b0b6d08-44f9-4217-bc9b-922c85977fdf\")>,\n",
       " <selenium.webdriver.remote.webelement.WebElement (session=\"448ff2359386b6cbd62d748320acebdf\", element=\"ee7e6dd7-5f33-41db-8de5-fd53a69b3bc0\")>,\n",
       " <selenium.webdriver.remote.webelement.WebElement (session=\"448ff2359386b6cbd62d748320acebdf\", element=\"72d4646d-02fb-419d-b294-f2454372fa78\")>,\n",
       " <selenium.webdriver.remote.webelement.WebElement (session=\"448ff2359386b6cbd62d748320acebdf\", element=\"c8ea9e52-e092-4a7d-a5dc-b85507e65201\")>,\n",
       " <selenium.webdriver.remote.webelement.WebElement (session=\"448ff2359386b6cbd62d748320acebdf\", element=\"8d28c8cc-1efd-4ba0-b131-d4999bd446f8\")>,\n",
       " <selenium.webdriver.remote.webelement.WebElement (session=\"448ff2359386b6cbd62d748320acebdf\", element=\"4ce1a8c0-3f7f-46fc-acaa-93b89fb7167b\")>,\n",
       " <selenium.webdriver.remote.webelement.WebElement (session=\"448ff2359386b6cbd62d748320acebdf\", element=\"4f7189c7-d54d-4bca-a5e8-a9a3f1491d71\")>,\n",
       " <selenium.webdriver.remote.webelement.WebElement (session=\"448ff2359386b6cbd62d748320acebdf\", element=\"f087a934-c00a-4255-9ad4-db0ac4f4fbcb\")>,\n",
       " <selenium.webdriver.remote.webelement.WebElement (session=\"448ff2359386b6cbd62d748320acebdf\", element=\"029769f2-06eb-448e-a3d9-10dd25ed9830\")>,\n",
       " <selenium.webdriver.remote.webelement.WebElement (session=\"448ff2359386b6cbd62d748320acebdf\", element=\"85f44d57-1c12-4aea-8f3f-059f1251c695\")>,\n",
       " <selenium.webdriver.remote.webelement.WebElement (session=\"448ff2359386b6cbd62d748320acebdf\", element=\"31ced1d2-ead2-42c5-a2a0-361a52611c4a\")>,\n",
       " <selenium.webdriver.remote.webelement.WebElement (session=\"448ff2359386b6cbd62d748320acebdf\", element=\"c1ae4fd8-c2d2-426e-8c2c-f4ef93940d27\")>,\n",
       " <selenium.webdriver.remote.webelement.WebElement (session=\"448ff2359386b6cbd62d748320acebdf\", element=\"c98b284a-53e9-41a0-a81e-5428ca746e76\")>,\n",
       " <selenium.webdriver.remote.webelement.WebElement (session=\"448ff2359386b6cbd62d748320acebdf\", element=\"1d224375-4930-4afb-b2a7-9d8193242479\")>,\n",
       " <selenium.webdriver.remote.webelement.WebElement (session=\"448ff2359386b6cbd62d748320acebdf\", element=\"4d06e81a-a4d0-45ac-9938-e78f1a8825b9\")>,\n",
       " <selenium.webdriver.remote.webelement.WebElement (session=\"448ff2359386b6cbd62d748320acebdf\", element=\"06785e38-6eea-42aa-b804-bd2ad43a51fb\")>,\n",
       " <selenium.webdriver.remote.webelement.WebElement (session=\"448ff2359386b6cbd62d748320acebdf\", element=\"906c3cf5-a191-48a0-88e0-c7846d3ac5e0\")>,\n",
       " <selenium.webdriver.remote.webelement.WebElement (session=\"448ff2359386b6cbd62d748320acebdf\", element=\"ca39ed0b-82a1-4214-b2a5-b8e4edbb5f53\")>,\n",
       " <selenium.webdriver.remote.webelement.WebElement (session=\"448ff2359386b6cbd62d748320acebdf\", element=\"0c21a87b-44ef-45b5-a34b-c6c0c6a7b351\")>,\n",
       " <selenium.webdriver.remote.webelement.WebElement (session=\"448ff2359386b6cbd62d748320acebdf\", element=\"2620c575-3b97-413b-9641-270564450fc2\")>,\n",
       " <selenium.webdriver.remote.webelement.WebElement (session=\"448ff2359386b6cbd62d748320acebdf\", element=\"435c4d00-1840-4776-94e1-30fdd9d33c2f\")>,\n",
       " <selenium.webdriver.remote.webelement.WebElement (session=\"448ff2359386b6cbd62d748320acebdf\", element=\"f93bd376-c874-4ad3-8f87-8b77cc9c9090\")>,\n",
       " <selenium.webdriver.remote.webelement.WebElement (session=\"448ff2359386b6cbd62d748320acebdf\", element=\"c67ccc19-f5d0-4ff3-941c-d99e23d8ba2e\")>,\n",
       " <selenium.webdriver.remote.webelement.WebElement (session=\"448ff2359386b6cbd62d748320acebdf\", element=\"98cc2bdb-cd16-4f8a-a6c8-d2a51eac0b75\")>,\n",
       " <selenium.webdriver.remote.webelement.WebElement (session=\"448ff2359386b6cbd62d748320acebdf\", element=\"8466a209-8b05-4eec-b752-af0502ee3666\")>]"
      ]
     },
     "execution_count": 55,
     "metadata": {},
     "output_type": "execute_result"
    }
   ],
   "source": [
    "shoebrand_tag"
   ]
  },
  {
   "cell_type": "code",
   "execution_count": 56,
   "id": "74ef8eca",
   "metadata": {},
   "outputs": [],
   "source": [
    "for i in shoebrand_tag:\n",
    "    shoebrand=i.text\n",
    "    shoe_brand.append(shoebrand)"
   ]
  },
  {
   "cell_type": "code",
   "execution_count": 57,
   "id": "4541770d",
   "metadata": {},
   "outputs": [
    {
     "data": {
      "text/plain": [
       "['Nike',\n",
       " 'Nike',\n",
       " 'Nike',\n",
       " 'Nike',\n",
       " 'Nike',\n",
       " 'Puma',\n",
       " 'PUMA Motorsport',\n",
       " 'Nike',\n",
       " 'Puma',\n",
       " 'Nike',\n",
       " 'Nike',\n",
       " 'Hush Puppies',\n",
       " 'Puma',\n",
       " 'Hush Puppies',\n",
       " 'Puma',\n",
       " 'Cole Haan',\n",
       " 'Hush Puppies',\n",
       " 'ASICS',\n",
       " 'UNDER ARMOUR',\n",
       " 'PUMA Hoops',\n",
       " 'Puma',\n",
       " 'Saint G',\n",
       " 'ASICS',\n",
       " 'Saint G',\n",
       " 'PUMA Motorsport',\n",
       " 'PUMA Motorsport',\n",
       " 'PUMA Motorsport',\n",
       " 'Calvin Klein',\n",
       " 'Bugatti',\n",
       " 'Bugatti',\n",
       " 'Puma',\n",
       " 'ROSSO BRUNELLO',\n",
       " 'ASICS',\n",
       " 'Puma',\n",
       " 'Hush Puppies',\n",
       " 'Puma',\n",
       " 'Puma',\n",
       " 'Tommy Hilfiger',\n",
       " 'Puma',\n",
       " 'Geox',\n",
       " 'Calvin Klein',\n",
       " 'Pavers England',\n",
       " 'Calvin Klein',\n",
       " 'Puma',\n",
       " 'Cole Haan',\n",
       " 'Calvin Klein',\n",
       " 'J.FONTINI',\n",
       " 'Puma',\n",
       " 'Tommy Hilfiger',\n",
       " 'Hush Puppies']"
      ]
     },
     "execution_count": 57,
     "metadata": {},
     "output_type": "execute_result"
    }
   ],
   "source": [
    "shoe_brand"
   ]
  },
  {
   "cell_type": "code",
   "execution_count": 58,
   "id": "e1392f3c",
   "metadata": {
    "collapsed": true
   },
   "outputs": [
    {
     "name": "stderr",
     "output_type": "stream",
     "text": [
      "<ipython-input-58-a4c167c6cd33>:1: DeprecationWarning: find_elements_by_* commands are deprecated. Please use find_elements() instead\n",
      "  shoediscription_tag=driver.find_elements_by_xpath(\"//h4[@class='product-product']\")\n"
     ]
    },
    {
     "data": {
      "text/plain": [
       "[<selenium.webdriver.remote.webelement.WebElement (session=\"448ff2359386b6cbd62d748320acebdf\", element=\"dc8cf94b-d214-4a74-8a4b-f91de6914698\")>,\n",
       " <selenium.webdriver.remote.webelement.WebElement (session=\"448ff2359386b6cbd62d748320acebdf\", element=\"9b794521-8ee4-463a-94fc-340c0cf23bdd\")>,\n",
       " <selenium.webdriver.remote.webelement.WebElement (session=\"448ff2359386b6cbd62d748320acebdf\", element=\"f6ed32a5-3e3a-4d31-803e-26369c89fffe\")>,\n",
       " <selenium.webdriver.remote.webelement.WebElement (session=\"448ff2359386b6cbd62d748320acebdf\", element=\"2bd18e4b-d616-4c5a-8981-1f4405b8d188\")>,\n",
       " <selenium.webdriver.remote.webelement.WebElement (session=\"448ff2359386b6cbd62d748320acebdf\", element=\"e6319810-7a26-42d5-80d2-9cf0056139f5\")>,\n",
       " <selenium.webdriver.remote.webelement.WebElement (session=\"448ff2359386b6cbd62d748320acebdf\", element=\"256b33c4-0e1e-4fbe-96a3-33adb2d890ec\")>,\n",
       " <selenium.webdriver.remote.webelement.WebElement (session=\"448ff2359386b6cbd62d748320acebdf\", element=\"91c03fd5-0041-43f3-af19-7f38fb245b69\")>,\n",
       " <selenium.webdriver.remote.webelement.WebElement (session=\"448ff2359386b6cbd62d748320acebdf\", element=\"82c45f56-c1da-44b6-bf92-8c0f1ac0a835\")>,\n",
       " <selenium.webdriver.remote.webelement.WebElement (session=\"448ff2359386b6cbd62d748320acebdf\", element=\"c45172a4-1953-4539-981e-3a940214d301\")>,\n",
       " <selenium.webdriver.remote.webelement.WebElement (session=\"448ff2359386b6cbd62d748320acebdf\", element=\"fcfef504-b153-486d-b6fb-8ac863eadd97\")>,\n",
       " <selenium.webdriver.remote.webelement.WebElement (session=\"448ff2359386b6cbd62d748320acebdf\", element=\"69c226b2-fe6f-4b6d-968b-72abfdc077c1\")>,\n",
       " <selenium.webdriver.remote.webelement.WebElement (session=\"448ff2359386b6cbd62d748320acebdf\", element=\"ff6f23f2-4f41-4e06-b570-560adc425a13\")>,\n",
       " <selenium.webdriver.remote.webelement.WebElement (session=\"448ff2359386b6cbd62d748320acebdf\", element=\"946b1b27-93df-4d54-ac78-895604416dcc\")>,\n",
       " <selenium.webdriver.remote.webelement.WebElement (session=\"448ff2359386b6cbd62d748320acebdf\", element=\"5632881c-9cef-4997-9ae5-17399c6f5f9e\")>,\n",
       " <selenium.webdriver.remote.webelement.WebElement (session=\"448ff2359386b6cbd62d748320acebdf\", element=\"656f8fee-7f7f-4aa0-9376-298766e32be1\")>,\n",
       " <selenium.webdriver.remote.webelement.WebElement (session=\"448ff2359386b6cbd62d748320acebdf\", element=\"f48a3203-aa66-485a-a5c9-e279dc2ab94a\")>,\n",
       " <selenium.webdriver.remote.webelement.WebElement (session=\"448ff2359386b6cbd62d748320acebdf\", element=\"17f3ef30-f72e-4a6a-90b8-db536363f3fd\")>,\n",
       " <selenium.webdriver.remote.webelement.WebElement (session=\"448ff2359386b6cbd62d748320acebdf\", element=\"a592f30d-25b3-419b-aae4-be617d15a7f0\")>,\n",
       " <selenium.webdriver.remote.webelement.WebElement (session=\"448ff2359386b6cbd62d748320acebdf\", element=\"1bb442de-0ed8-40d2-92a9-a9b8e5125027\")>,\n",
       " <selenium.webdriver.remote.webelement.WebElement (session=\"448ff2359386b6cbd62d748320acebdf\", element=\"8a0b3d7b-609e-4fb9-8728-3d8f2d345648\")>,\n",
       " <selenium.webdriver.remote.webelement.WebElement (session=\"448ff2359386b6cbd62d748320acebdf\", element=\"6a39a457-c470-4d32-9e2c-ec4a57a07a7d\")>,\n",
       " <selenium.webdriver.remote.webelement.WebElement (session=\"448ff2359386b6cbd62d748320acebdf\", element=\"d18fa5c2-6ca4-4471-851e-d52e04d48fc5\")>,\n",
       " <selenium.webdriver.remote.webelement.WebElement (session=\"448ff2359386b6cbd62d748320acebdf\", element=\"f29fd873-29fe-448c-9ae7-9ee4901a1ce0\")>,\n",
       " <selenium.webdriver.remote.webelement.WebElement (session=\"448ff2359386b6cbd62d748320acebdf\", element=\"dba99084-a8a6-4986-9cfc-16491fddff61\")>,\n",
       " <selenium.webdriver.remote.webelement.WebElement (session=\"448ff2359386b6cbd62d748320acebdf\", element=\"f2436b8c-1283-4abd-9f3d-db05e716e23d\")>,\n",
       " <selenium.webdriver.remote.webelement.WebElement (session=\"448ff2359386b6cbd62d748320acebdf\", element=\"df951c7f-1406-418c-a75a-4cf4b646737a\")>,\n",
       " <selenium.webdriver.remote.webelement.WebElement (session=\"448ff2359386b6cbd62d748320acebdf\", element=\"9745655d-7b0f-4fca-a62b-9bb7004aa1e1\")>,\n",
       " <selenium.webdriver.remote.webelement.WebElement (session=\"448ff2359386b6cbd62d748320acebdf\", element=\"23f46cb5-42db-4114-b58f-ac36a3cc1479\")>,\n",
       " <selenium.webdriver.remote.webelement.WebElement (session=\"448ff2359386b6cbd62d748320acebdf\", element=\"52e317a7-03f3-45d2-babd-6697fc49c13a\")>,\n",
       " <selenium.webdriver.remote.webelement.WebElement (session=\"448ff2359386b6cbd62d748320acebdf\", element=\"87f78d60-bf1f-458f-b987-039b202beea7\")>,\n",
       " <selenium.webdriver.remote.webelement.WebElement (session=\"448ff2359386b6cbd62d748320acebdf\", element=\"2fd41515-26fa-4550-be54-f2762519b0ae\")>,\n",
       " <selenium.webdriver.remote.webelement.WebElement (session=\"448ff2359386b6cbd62d748320acebdf\", element=\"e2b38f57-804b-4ae1-9790-c8876e25dcea\")>,\n",
       " <selenium.webdriver.remote.webelement.WebElement (session=\"448ff2359386b6cbd62d748320acebdf\", element=\"9cd3e426-775b-43b6-bc02-88744eea9f0f\")>,\n",
       " <selenium.webdriver.remote.webelement.WebElement (session=\"448ff2359386b6cbd62d748320acebdf\", element=\"89a5aff1-2675-44fe-bbe8-e4e2d6449a69\")>,\n",
       " <selenium.webdriver.remote.webelement.WebElement (session=\"448ff2359386b6cbd62d748320acebdf\", element=\"2f0cbd78-2034-4a38-ac3c-bf00195ce431\")>,\n",
       " <selenium.webdriver.remote.webelement.WebElement (session=\"448ff2359386b6cbd62d748320acebdf\", element=\"83233a47-738a-4f8e-a79d-fc767e4081c5\")>,\n",
       " <selenium.webdriver.remote.webelement.WebElement (session=\"448ff2359386b6cbd62d748320acebdf\", element=\"f154b19e-243c-436f-9f67-b76ce4d74e5a\")>,\n",
       " <selenium.webdriver.remote.webelement.WebElement (session=\"448ff2359386b6cbd62d748320acebdf\", element=\"44fbb822-6e20-4417-aeef-0f41ade75640\")>,\n",
       " <selenium.webdriver.remote.webelement.WebElement (session=\"448ff2359386b6cbd62d748320acebdf\", element=\"27ccb043-176a-4abf-9160-6bb74999e522\")>,\n",
       " <selenium.webdriver.remote.webelement.WebElement (session=\"448ff2359386b6cbd62d748320acebdf\", element=\"538726a7-3c60-41cc-bb91-53bc8bfd9548\")>,\n",
       " <selenium.webdriver.remote.webelement.WebElement (session=\"448ff2359386b6cbd62d748320acebdf\", element=\"5b2b8bf4-5e82-49ff-8212-3fb1d08150ce\")>,\n",
       " <selenium.webdriver.remote.webelement.WebElement (session=\"448ff2359386b6cbd62d748320acebdf\", element=\"44bfb3dd-2217-490b-bf8c-bc89d866493d\")>,\n",
       " <selenium.webdriver.remote.webelement.WebElement (session=\"448ff2359386b6cbd62d748320acebdf\", element=\"4d4af0d4-779e-4691-a65b-ffacfdc18319\")>,\n",
       " <selenium.webdriver.remote.webelement.WebElement (session=\"448ff2359386b6cbd62d748320acebdf\", element=\"68aa737b-a311-4868-9453-d2b352b5591b\")>,\n",
       " <selenium.webdriver.remote.webelement.WebElement (session=\"448ff2359386b6cbd62d748320acebdf\", element=\"8b896a67-1bbd-4ee3-884d-e0879b30f1c9\")>,\n",
       " <selenium.webdriver.remote.webelement.WebElement (session=\"448ff2359386b6cbd62d748320acebdf\", element=\"34139a2e-cfcc-4746-a107-9cf958ce1d31\")>,\n",
       " <selenium.webdriver.remote.webelement.WebElement (session=\"448ff2359386b6cbd62d748320acebdf\", element=\"44b9151e-47cd-4046-b19f-9780b8826ed5\")>,\n",
       " <selenium.webdriver.remote.webelement.WebElement (session=\"448ff2359386b6cbd62d748320acebdf\", element=\"492f2c7b-8282-4930-b2a0-e8f83428689d\")>,\n",
       " <selenium.webdriver.remote.webelement.WebElement (session=\"448ff2359386b6cbd62d748320acebdf\", element=\"ae2a2fe9-d495-4d7e-b024-aadd5494707c\")>,\n",
       " <selenium.webdriver.remote.webelement.WebElement (session=\"448ff2359386b6cbd62d748320acebdf\", element=\"444ff229-6b2a-4a3d-9aeb-f98e4078db57\")>]"
      ]
     },
     "execution_count": 58,
     "metadata": {},
     "output_type": "execute_result"
    }
   ],
   "source": [
    "shoediscription_tag=driver.find_elements_by_xpath(\"//h4[@class='product-product']\")\n",
    "shoediscription_tag"
   ]
  },
  {
   "cell_type": "code",
   "execution_count": 59,
   "id": "d52ac86e",
   "metadata": {},
   "outputs": [],
   "source": [
    "for i in shoediscription_tag:\n",
    "    shoediscription=i.text\n",
    "    shoe_discription.append(shoediscription)"
   ]
  },
  {
   "cell_type": "code",
   "execution_count": 60,
   "id": "0d0f4639",
   "metadata": {},
   "outputs": [
    {
     "data": {
      "text/plain": [
       "['AIR ZOOM PEGASUS Running Shoes',\n",
       " 'LEBRON WITNESS Basketball Shoe',\n",
       " 'Men Zoom Span 4 Running Shoes',\n",
       " 'Men ZOOM SPAN 4 Running Shoes',\n",
       " 'Air Zoom Pegasus 38 Shield Run',\n",
       " 'Men Deviate Nitro Running Shoe',\n",
       " 'Unisex Scuderia Ferrari Shoes',\n",
       " 'Men FLIGHT LEGACY Sneakers',\n",
       " 'Men Velocity Nitro Running',\n",
       " 'Men AIR PRESTO Sneakers',\n",
       " \"Men BlazerLow '77 Sneakers\",\n",
       " 'Men Formal Derbys',\n",
       " 'Men Liberate NITRO Running',\n",
       " 'Men Solid Leather Formal Slip-Ons',\n",
       " 'Unisex Mirage Remix Sneakers',\n",
       " 'Men Wingtip Oxford Sneakers',\n",
       " 'Men Solid Leather Formal Slip-Ons',\n",
       " 'Men Colourblocked PU Sneakers',\n",
       " 'Women Charged Bandit 6 Running',\n",
       " 'Unisex Clyde All-Pro Team',\n",
       " 'Unisex Leather Trainers',\n",
       " 'Women Leather Heeled Boots',\n",
       " 'Men Running Shoes',\n",
       " 'Men Mid-Top Chelsea Boots',\n",
       " 'Unisex BMW RS-Connect Sneakers',\n",
       " 'Unisex Ferrari Wild Rider Shoe',\n",
       " 'Unisex FerrariRS-Fast Sneakers',\n",
       " 'Men UV MONO Leather Sneakers',\n",
       " 'Men Black Walking Shoes',\n",
       " 'Men Walking Shoes',\n",
       " 'Men Running Shoes',\n",
       " 'Men Solid Leather Formal Monk Shoes',\n",
       " 'Men Black Running Sports Shoes',\n",
       " 'Women Liberate NITRO Running',\n",
       " 'Men Solid Leather Formal Derbys',\n",
       " 'Women Magnify Nitro Shoes',\n",
       " 'Men Football Shoes',\n",
       " 'Women Leather Pumps',\n",
       " 'Women Velocity NITRO Runners',\n",
       " 'Men Leather Flat Boots',\n",
       " 'Men Mid-Top Runner Sneakers',\n",
       " 'Men Textured Leather Formal Derbys',\n",
       " 'Men Textured Leather Sneaker',\n",
       " 'FIRST MILE Forever XT Utility',\n",
       " 'Men GENERATION ZEROGRAND STITCHLITE',\n",
       " 'Men Solid Low Top LTH Sneakers',\n",
       " 'Men Black Leather Loafers',\n",
       " 'Unisex Textured Sneakers',\n",
       " 'Women Leather Block Pumps',\n",
       " 'Men Leather Slip-On Sneakers']"
      ]
     },
     "execution_count": 60,
     "metadata": {},
     "output_type": "execute_result"
    }
   ],
   "source": [
    "shoe_discription"
   ]
  },
  {
   "cell_type": "code",
   "execution_count": 61,
   "id": "06e915d8",
   "metadata": {
    "collapsed": true
   },
   "outputs": [
    {
     "name": "stderr",
     "output_type": "stream",
     "text": [
      "<ipython-input-61-afbf69630fa5>:1: DeprecationWarning: find_elements_by_* commands are deprecated. Please use find_elements() instead\n",
      "  shoeprice_tag=driver.find_elements_by_xpath(\"//div[@class='product-price']\")\n"
     ]
    }
   ],
   "source": [
    "shoeprice_tag=driver.find_elements_by_xpath(\"//div[@class='product-price']\")"
   ]
  },
  {
   "cell_type": "code",
   "execution_count": 62,
   "id": "9e9d37ef",
   "metadata": {
    "collapsed": true
   },
   "outputs": [
    {
     "data": {
      "text/plain": [
       "[<selenium.webdriver.remote.webelement.WebElement (session=\"448ff2359386b6cbd62d748320acebdf\", element=\"b5521951-a8f3-4f34-8c60-689e9c5bd993\")>,\n",
       " <selenium.webdriver.remote.webelement.WebElement (session=\"448ff2359386b6cbd62d748320acebdf\", element=\"ef1935cd-eb2b-4072-ab8b-ac72e480eed3\")>,\n",
       " <selenium.webdriver.remote.webelement.WebElement (session=\"448ff2359386b6cbd62d748320acebdf\", element=\"6b1603c2-a1af-470e-b71b-6250173b4c18\")>,\n",
       " <selenium.webdriver.remote.webelement.WebElement (session=\"448ff2359386b6cbd62d748320acebdf\", element=\"9b2418af-7d61-4cfa-9a11-190988d3d486\")>,\n",
       " <selenium.webdriver.remote.webelement.WebElement (session=\"448ff2359386b6cbd62d748320acebdf\", element=\"b4677758-2432-4fd1-8606-0062a4a69376\")>,\n",
       " <selenium.webdriver.remote.webelement.WebElement (session=\"448ff2359386b6cbd62d748320acebdf\", element=\"f2a9bff5-f465-4ec9-90f2-9504570b86ec\")>,\n",
       " <selenium.webdriver.remote.webelement.WebElement (session=\"448ff2359386b6cbd62d748320acebdf\", element=\"3162e962-ae95-4026-a60e-b40b32c8ce62\")>,\n",
       " <selenium.webdriver.remote.webelement.WebElement (session=\"448ff2359386b6cbd62d748320acebdf\", element=\"4b776f75-b3bc-47fc-a3f5-c1ebe0c8e387\")>,\n",
       " <selenium.webdriver.remote.webelement.WebElement (session=\"448ff2359386b6cbd62d748320acebdf\", element=\"c416c79f-1c93-4a0b-b0ba-d677f7401067\")>,\n",
       " <selenium.webdriver.remote.webelement.WebElement (session=\"448ff2359386b6cbd62d748320acebdf\", element=\"680cfb3e-d939-40c0-b9dc-09a91cd91dfe\")>,\n",
       " <selenium.webdriver.remote.webelement.WebElement (session=\"448ff2359386b6cbd62d748320acebdf\", element=\"be3bcf4a-a3d6-4a46-8a78-44b54b832faa\")>,\n",
       " <selenium.webdriver.remote.webelement.WebElement (session=\"448ff2359386b6cbd62d748320acebdf\", element=\"2225035a-0c7f-415b-be52-28fa946e316d\")>,\n",
       " <selenium.webdriver.remote.webelement.WebElement (session=\"448ff2359386b6cbd62d748320acebdf\", element=\"9f1a23c1-3ab6-40a9-b243-d0833f9c2ca8\")>,\n",
       " <selenium.webdriver.remote.webelement.WebElement (session=\"448ff2359386b6cbd62d748320acebdf\", element=\"fb8891ad-a9da-4f0c-9742-3cee5290837b\")>,\n",
       " <selenium.webdriver.remote.webelement.WebElement (session=\"448ff2359386b6cbd62d748320acebdf\", element=\"62773a83-8e95-427c-889b-cae96b61dda1\")>,\n",
       " <selenium.webdriver.remote.webelement.WebElement (session=\"448ff2359386b6cbd62d748320acebdf\", element=\"b7cfdea8-312d-4659-89d9-e593850f4d8e\")>,\n",
       " <selenium.webdriver.remote.webelement.WebElement (session=\"448ff2359386b6cbd62d748320acebdf\", element=\"486d871a-2861-4092-aa1a-2c593500f3a8\")>,\n",
       " <selenium.webdriver.remote.webelement.WebElement (session=\"448ff2359386b6cbd62d748320acebdf\", element=\"a0de8adc-5139-4f50-bc08-d8110fa7fc18\")>,\n",
       " <selenium.webdriver.remote.webelement.WebElement (session=\"448ff2359386b6cbd62d748320acebdf\", element=\"508727e0-a5dc-4576-8039-23c2ddfcf9e1\")>,\n",
       " <selenium.webdriver.remote.webelement.WebElement (session=\"448ff2359386b6cbd62d748320acebdf\", element=\"83aef6d5-7d46-4dbb-ba34-1772f213fdfd\")>,\n",
       " <selenium.webdriver.remote.webelement.WebElement (session=\"448ff2359386b6cbd62d748320acebdf\", element=\"7d9c061f-1d0d-4060-863c-4b1bc22cc6e0\")>,\n",
       " <selenium.webdriver.remote.webelement.WebElement (session=\"448ff2359386b6cbd62d748320acebdf\", element=\"8b95eae2-1e09-4f35-b839-79636ec4ef15\")>,\n",
       " <selenium.webdriver.remote.webelement.WebElement (session=\"448ff2359386b6cbd62d748320acebdf\", element=\"1160cf95-7c2e-4e28-b1fa-7759c741db52\")>,\n",
       " <selenium.webdriver.remote.webelement.WebElement (session=\"448ff2359386b6cbd62d748320acebdf\", element=\"3a58179d-9506-4f3f-bb8f-5959a6ae0660\")>,\n",
       " <selenium.webdriver.remote.webelement.WebElement (session=\"448ff2359386b6cbd62d748320acebdf\", element=\"ca3911cb-4efd-4e78-803e-58e2f90dca5c\")>,\n",
       " <selenium.webdriver.remote.webelement.WebElement (session=\"448ff2359386b6cbd62d748320acebdf\", element=\"927211a9-3730-47a1-a982-ef67cc2c4f99\")>,\n",
       " <selenium.webdriver.remote.webelement.WebElement (session=\"448ff2359386b6cbd62d748320acebdf\", element=\"6f012ee4-8ba4-49ce-9358-7a83764f8ff5\")>,\n",
       " <selenium.webdriver.remote.webelement.WebElement (session=\"448ff2359386b6cbd62d748320acebdf\", element=\"ea9ba348-55de-4b79-9d78-d416685ae737\")>,\n",
       " <selenium.webdriver.remote.webelement.WebElement (session=\"448ff2359386b6cbd62d748320acebdf\", element=\"e85b0d5a-b935-43ca-ac0a-2f51ff196357\")>,\n",
       " <selenium.webdriver.remote.webelement.WebElement (session=\"448ff2359386b6cbd62d748320acebdf\", element=\"56c190f9-f31e-43bf-903c-642aca0257f4\")>,\n",
       " <selenium.webdriver.remote.webelement.WebElement (session=\"448ff2359386b6cbd62d748320acebdf\", element=\"8d094492-12b6-4125-84aa-b8a26c95f97a\")>,\n",
       " <selenium.webdriver.remote.webelement.WebElement (session=\"448ff2359386b6cbd62d748320acebdf\", element=\"75f14313-117b-4aa8-9a5f-7ffa7792347f\")>,\n",
       " <selenium.webdriver.remote.webelement.WebElement (session=\"448ff2359386b6cbd62d748320acebdf\", element=\"ccee4438-b559-407b-8afd-49e880e1d5e6\")>,\n",
       " <selenium.webdriver.remote.webelement.WebElement (session=\"448ff2359386b6cbd62d748320acebdf\", element=\"5824a9a9-b1d3-4ac3-90d2-7eccfde4ce1c\")>,\n",
       " <selenium.webdriver.remote.webelement.WebElement (session=\"448ff2359386b6cbd62d748320acebdf\", element=\"5d608004-b091-4e2c-a026-3f112c2a424c\")>,\n",
       " <selenium.webdriver.remote.webelement.WebElement (session=\"448ff2359386b6cbd62d748320acebdf\", element=\"3da87115-d37e-4fc7-bdf0-a4f7854bea41\")>,\n",
       " <selenium.webdriver.remote.webelement.WebElement (session=\"448ff2359386b6cbd62d748320acebdf\", element=\"408b2c53-92e0-4e83-801a-b3e7461f7bab\")>,\n",
       " <selenium.webdriver.remote.webelement.WebElement (session=\"448ff2359386b6cbd62d748320acebdf\", element=\"dc1bd651-a169-4a04-adf0-7cc83189ce18\")>,\n",
       " <selenium.webdriver.remote.webelement.WebElement (session=\"448ff2359386b6cbd62d748320acebdf\", element=\"cc00c534-fc18-458a-a9ec-72cdb848cbc2\")>,\n",
       " <selenium.webdriver.remote.webelement.WebElement (session=\"448ff2359386b6cbd62d748320acebdf\", element=\"00609e24-7ab8-4e5c-adbd-6e35427139e7\")>,\n",
       " <selenium.webdriver.remote.webelement.WebElement (session=\"448ff2359386b6cbd62d748320acebdf\", element=\"5878a120-3230-4231-8ddb-440b805e6d11\")>,\n",
       " <selenium.webdriver.remote.webelement.WebElement (session=\"448ff2359386b6cbd62d748320acebdf\", element=\"a35f018d-3b14-42af-b580-55d214abd854\")>,\n",
       " <selenium.webdriver.remote.webelement.WebElement (session=\"448ff2359386b6cbd62d748320acebdf\", element=\"ccb002f2-445a-4f4f-a988-91ee9f76ad3f\")>,\n",
       " <selenium.webdriver.remote.webelement.WebElement (session=\"448ff2359386b6cbd62d748320acebdf\", element=\"43d3892f-08ad-487e-8374-d109d3a1be44\")>,\n",
       " <selenium.webdriver.remote.webelement.WebElement (session=\"448ff2359386b6cbd62d748320acebdf\", element=\"2f925ea5-e3de-4e6f-a30d-429abc187610\")>,\n",
       " <selenium.webdriver.remote.webelement.WebElement (session=\"448ff2359386b6cbd62d748320acebdf\", element=\"2cd169f4-e5b1-4857-bf75-ebc93570dbb0\")>,\n",
       " <selenium.webdriver.remote.webelement.WebElement (session=\"448ff2359386b6cbd62d748320acebdf\", element=\"709cccbf-f7ac-480f-ae83-503f06b64d70\")>,\n",
       " <selenium.webdriver.remote.webelement.WebElement (session=\"448ff2359386b6cbd62d748320acebdf\", element=\"60b265bf-dfbc-438f-b64a-a473f3a462bc\")>,\n",
       " <selenium.webdriver.remote.webelement.WebElement (session=\"448ff2359386b6cbd62d748320acebdf\", element=\"1c495adf-b0dd-4e5c-84d6-7dd08fbd4422\")>,\n",
       " <selenium.webdriver.remote.webelement.WebElement (session=\"448ff2359386b6cbd62d748320acebdf\", element=\"5dfa678f-f08c-4dfc-a7e9-ea8f3ad1f2b5\")>]"
      ]
     },
     "execution_count": 62,
     "metadata": {},
     "output_type": "execute_result"
    }
   ],
   "source": [
    "shoeprice_tag"
   ]
  },
  {
   "cell_type": "code",
   "execution_count": 63,
   "id": "1a767ca2",
   "metadata": {},
   "outputs": [],
   "source": [
    "for i in shoeprice_tag:\n",
    "    shoeprice=i.text\n",
    "    shoe_price.append(shoeprice)"
   ]
  },
  {
   "cell_type": "code",
   "execution_count": 64,
   "id": "1271733f",
   "metadata": {},
   "outputs": [
    {
     "data": {
      "text/plain": [
       "['Rs. 9995',\n",
       " 'Rs. 8295',\n",
       " 'Rs. 7195',\n",
       " 'Rs. 7195',\n",
       " 'Rs. 11495',\n",
       " 'Rs. 12749Rs. 14999(15% OFF)',\n",
       " 'Rs. 8499Rs. 9999(15% OFF)',\n",
       " 'Rs. 7995',\n",
       " 'Rs. 9349Rs. 10999(15% OFF)',\n",
       " 'Rs. 11495',\n",
       " 'Rs. 7195',\n",
       " 'Rs. 8999Rs. 9999(10% OFF)',\n",
       " 'Rs. 8499Rs. 9999(15% OFF)',\n",
       " 'Rs. 8099Rs. 8999(10% OFF)',\n",
       " 'Rs. 7649Rs. 8999(15% OFF)',\n",
       " 'Rs. 10399Rs. 12999(20% OFF)',\n",
       " 'Rs. 8999Rs. 9999(10% OFF)',\n",
       " 'Rs. 9999',\n",
       " 'Rs. 8999',\n",
       " 'Rs. 8999',\n",
       " 'Rs. 8499Rs. 9999(15% OFF)',\n",
       " 'Rs. 13900',\n",
       " 'Rs. 7999',\n",
       " 'Rs. 10900',\n",
       " 'Rs. 8499Rs. 9999(15% OFF)',\n",
       " 'Rs. 7149Rs. 10999(35% OFF)',\n",
       " 'Rs. 8499Rs. 9999(15% OFF)',\n",
       " 'Rs. 8999',\n",
       " 'Rs. 8999',\n",
       " 'Rs. 8999',\n",
       " 'Rs. 9749Rs. 12999(25% OFF)',\n",
       " 'Rs. 12999',\n",
       " 'Rs. 7999',\n",
       " 'Rs. 8499Rs. 9999(15% OFF)',\n",
       " 'Rs. 8999Rs. 9999(10% OFF)',\n",
       " 'Rs. 10399Rs. 12999(20% OFF)',\n",
       " 'Rs. 11899Rs. 16999(30% OFF)',\n",
       " 'Rs. 7999',\n",
       " 'Rs. 9349Rs. 10999(15% OFF)',\n",
       " 'Rs. 11999',\n",
       " 'Rs. 10999',\n",
       " 'Rs. 7199Rs. 8999(20% OFF)',\n",
       " 'Rs. 9999',\n",
       " 'Rs. 7199Rs. 8999(20% OFF)',\n",
       " 'Rs. 9599Rs. 11999(20% OFF)',\n",
       " 'Rs. 8999',\n",
       " 'Rs. 8490',\n",
       " 'Rs. 8499Rs. 9999(15% OFF)',\n",
       " 'Rs. 7999',\n",
       " 'Rs. 7999Rs. 9999(20% OFF)']"
      ]
     },
     "execution_count": 64,
     "metadata": {},
     "output_type": "execute_result"
    }
   ],
   "source": [
    "shoe_price"
   ]
  },
  {
   "cell_type": "code",
   "execution_count": 78,
   "id": "3b7abf30",
   "metadata": {
    "collapsed": true
   },
   "outputs": [
    {
     "name": "stderr",
     "output_type": "stream",
     "text": [
      "<ipython-input-78-d3091a509bb9>:1: DeprecationWarning: find_elements_by_* commands are deprecated. Please use find_elements() instead\n",
      "  next_btn=driver.find_elements_by_xpath(\"//li[@class='pagination-next']\")\n"
     ]
    }
   ],
   "source": [
    "next_btn=driver.find_elements_by_xpath(\"//li[@class='pagination-next']\")\n",
    "next_btn.click()"
   ]
  },
  {
   "cell_type": "code",
   "execution_count": 81,
   "id": "bf00be3e",
   "metadata": {
    "collapsed": true
   },
   "outputs": [
    {
     "name": "stderr",
     "output_type": "stream",
     "text": [
      "<ipython-input-81-0a6bdf8767b1>:1: DeprecationWarning: find_elements_by_* commands are deprecated. Please use find_elements() instead\n",
      "  shoebrand_tag2=driver.find_elements_by_xpath(\"//h3[@class='product-brand']\")\n"
     ]
    }
   ],
   "source": [
    "shoebrand_tag2=driver.find_elements_by_xpath(\"//h3[@class='product-brand']\")"
   ]
  },
  {
   "cell_type": "code",
   "execution_count": 82,
   "id": "a3004a62",
   "metadata": {
    "collapsed": true
   },
   "outputs": [
    {
     "data": {
      "text/plain": [
       "[<selenium.webdriver.remote.webelement.WebElement (session=\"448ff2359386b6cbd62d748320acebdf\", element=\"5535e2bf-afbc-4a4e-bf54-5db5482c6211\")>,\n",
       " <selenium.webdriver.remote.webelement.WebElement (session=\"448ff2359386b6cbd62d748320acebdf\", element=\"87e40ad5-f059-466b-b074-4ab3f9d610bb\")>,\n",
       " <selenium.webdriver.remote.webelement.WebElement (session=\"448ff2359386b6cbd62d748320acebdf\", element=\"2c8e1ff4-c1d8-406d-9852-e811f9f09da2\")>,\n",
       " <selenium.webdriver.remote.webelement.WebElement (session=\"448ff2359386b6cbd62d748320acebdf\", element=\"720f22ab-f606-43c1-aa7d-b009e36e8f39\")>,\n",
       " <selenium.webdriver.remote.webelement.WebElement (session=\"448ff2359386b6cbd62d748320acebdf\", element=\"dc82b23b-eadb-412b-940e-80b5b6205929\")>,\n",
       " <selenium.webdriver.remote.webelement.WebElement (session=\"448ff2359386b6cbd62d748320acebdf\", element=\"49e6a971-69a4-47ef-ada4-af39422d4503\")>,\n",
       " <selenium.webdriver.remote.webelement.WebElement (session=\"448ff2359386b6cbd62d748320acebdf\", element=\"29f15d55-582d-45e0-9223-4a055ac4a112\")>,\n",
       " <selenium.webdriver.remote.webelement.WebElement (session=\"448ff2359386b6cbd62d748320acebdf\", element=\"d8ad4535-30df-4670-8245-8efd3257f9a9\")>,\n",
       " <selenium.webdriver.remote.webelement.WebElement (session=\"448ff2359386b6cbd62d748320acebdf\", element=\"0d9b3f69-e663-4e55-8ecb-6cbc98036965\")>,\n",
       " <selenium.webdriver.remote.webelement.WebElement (session=\"448ff2359386b6cbd62d748320acebdf\", element=\"705e8966-6dcb-495f-be63-3ac7a9f6686c\")>,\n",
       " <selenium.webdriver.remote.webelement.WebElement (session=\"448ff2359386b6cbd62d748320acebdf\", element=\"7560e15c-bc44-4a68-9cfa-b5c04fc67cd2\")>,\n",
       " <selenium.webdriver.remote.webelement.WebElement (session=\"448ff2359386b6cbd62d748320acebdf\", element=\"4b9a4924-b8ea-4bfa-833e-5307c38710c7\")>,\n",
       " <selenium.webdriver.remote.webelement.WebElement (session=\"448ff2359386b6cbd62d748320acebdf\", element=\"af806f9d-38ad-4342-a5c0-a46d0e1d5096\")>,\n",
       " <selenium.webdriver.remote.webelement.WebElement (session=\"448ff2359386b6cbd62d748320acebdf\", element=\"4e811cea-4aff-4988-a98e-09082386c730\")>,\n",
       " <selenium.webdriver.remote.webelement.WebElement (session=\"448ff2359386b6cbd62d748320acebdf\", element=\"be58d834-bf74-4cab-875a-14204669b09b\")>,\n",
       " <selenium.webdriver.remote.webelement.WebElement (session=\"448ff2359386b6cbd62d748320acebdf\", element=\"8eb5bcba-dc9a-4ded-88d0-d7e3dc01bf15\")>,\n",
       " <selenium.webdriver.remote.webelement.WebElement (session=\"448ff2359386b6cbd62d748320acebdf\", element=\"870ea3bf-bbc1-4b73-8853-a495a7b6e1fb\")>,\n",
       " <selenium.webdriver.remote.webelement.WebElement (session=\"448ff2359386b6cbd62d748320acebdf\", element=\"6a17d528-a467-453d-9ab5-d93c4d4b3127\")>,\n",
       " <selenium.webdriver.remote.webelement.WebElement (session=\"448ff2359386b6cbd62d748320acebdf\", element=\"510854c7-c6af-4d42-877b-94ae8d56d98e\")>,\n",
       " <selenium.webdriver.remote.webelement.WebElement (session=\"448ff2359386b6cbd62d748320acebdf\", element=\"cc33ba76-f2b3-453a-86c4-c6e1ceafc7e7\")>,\n",
       " <selenium.webdriver.remote.webelement.WebElement (session=\"448ff2359386b6cbd62d748320acebdf\", element=\"13958466-38b2-4334-96bb-480e60758743\")>,\n",
       " <selenium.webdriver.remote.webelement.WebElement (session=\"448ff2359386b6cbd62d748320acebdf\", element=\"2276960d-163a-4c0e-a79e-8bace7540f4e\")>,\n",
       " <selenium.webdriver.remote.webelement.WebElement (session=\"448ff2359386b6cbd62d748320acebdf\", element=\"f61f00f7-5236-4946-abb9-07b4e9229e3f\")>,\n",
       " <selenium.webdriver.remote.webelement.WebElement (session=\"448ff2359386b6cbd62d748320acebdf\", element=\"e9d68a9a-2219-4f73-afb6-7df3a189ac15\")>,\n",
       " <selenium.webdriver.remote.webelement.WebElement (session=\"448ff2359386b6cbd62d748320acebdf\", element=\"b96939af-27b9-4a33-af38-4a5ebdf049e9\")>,\n",
       " <selenium.webdriver.remote.webelement.WebElement (session=\"448ff2359386b6cbd62d748320acebdf\", element=\"f1d045b6-7146-485d-a1ab-674ffe17a29f\")>,\n",
       " <selenium.webdriver.remote.webelement.WebElement (session=\"448ff2359386b6cbd62d748320acebdf\", element=\"f60991f3-13ea-4960-89b8-7f7e532418a0\")>,\n",
       " <selenium.webdriver.remote.webelement.WebElement (session=\"448ff2359386b6cbd62d748320acebdf\", element=\"e2d637a8-1d99-4fa1-a08f-9e2b644e28f2\")>,\n",
       " <selenium.webdriver.remote.webelement.WebElement (session=\"448ff2359386b6cbd62d748320acebdf\", element=\"060109a5-5712-455d-929a-5086b156c72b\")>,\n",
       " <selenium.webdriver.remote.webelement.WebElement (session=\"448ff2359386b6cbd62d748320acebdf\", element=\"62035b05-2fea-4d85-a208-c52af9ddf7a1\")>,\n",
       " <selenium.webdriver.remote.webelement.WebElement (session=\"448ff2359386b6cbd62d748320acebdf\", element=\"757c914d-0668-4a98-8dfe-d14fed765562\")>,\n",
       " <selenium.webdriver.remote.webelement.WebElement (session=\"448ff2359386b6cbd62d748320acebdf\", element=\"5ee7e46d-2e68-4808-bb90-18d6a0673c09\")>,\n",
       " <selenium.webdriver.remote.webelement.WebElement (session=\"448ff2359386b6cbd62d748320acebdf\", element=\"79b6f1a0-7c4c-4b82-8ecb-403de3c7e9c1\")>,\n",
       " <selenium.webdriver.remote.webelement.WebElement (session=\"448ff2359386b6cbd62d748320acebdf\", element=\"8d5b6a40-a147-4cf2-a2ae-40fd9278044b\")>,\n",
       " <selenium.webdriver.remote.webelement.WebElement (session=\"448ff2359386b6cbd62d748320acebdf\", element=\"49a9c837-3f1a-4451-8382-329f2b50eab1\")>,\n",
       " <selenium.webdriver.remote.webelement.WebElement (session=\"448ff2359386b6cbd62d748320acebdf\", element=\"0484533b-f171-42b8-a09f-081e77b60b1e\")>,\n",
       " <selenium.webdriver.remote.webelement.WebElement (session=\"448ff2359386b6cbd62d748320acebdf\", element=\"cd53ff4c-8c5e-492c-ae8e-99f934aa15ba\")>,\n",
       " <selenium.webdriver.remote.webelement.WebElement (session=\"448ff2359386b6cbd62d748320acebdf\", element=\"97d05748-fca2-4ed3-8665-c820a36135c8\")>,\n",
       " <selenium.webdriver.remote.webelement.WebElement (session=\"448ff2359386b6cbd62d748320acebdf\", element=\"9f7160fc-cee2-4ea8-8be1-6cd9c63548b5\")>,\n",
       " <selenium.webdriver.remote.webelement.WebElement (session=\"448ff2359386b6cbd62d748320acebdf\", element=\"e14cbd9f-2b3e-42d7-8734-99d87865b802\")>,\n",
       " <selenium.webdriver.remote.webelement.WebElement (session=\"448ff2359386b6cbd62d748320acebdf\", element=\"b069067f-ac36-4e07-98b2-a5d1705f823f\")>,\n",
       " <selenium.webdriver.remote.webelement.WebElement (session=\"448ff2359386b6cbd62d748320acebdf\", element=\"11da31b9-9754-497b-8b9c-e0df5f640064\")>,\n",
       " <selenium.webdriver.remote.webelement.WebElement (session=\"448ff2359386b6cbd62d748320acebdf\", element=\"82237aa7-2496-4fde-b9a8-5f7f38100042\")>,\n",
       " <selenium.webdriver.remote.webelement.WebElement (session=\"448ff2359386b6cbd62d748320acebdf\", element=\"9c7b0e29-51d2-4d35-b995-3f97bcfea50f\")>,\n",
       " <selenium.webdriver.remote.webelement.WebElement (session=\"448ff2359386b6cbd62d748320acebdf\", element=\"02de134f-6c35-427f-94bf-1f0f17a6b88c\")>,\n",
       " <selenium.webdriver.remote.webelement.WebElement (session=\"448ff2359386b6cbd62d748320acebdf\", element=\"cf454a87-fcad-4448-b978-4bab92d4b97f\")>,\n",
       " <selenium.webdriver.remote.webelement.WebElement (session=\"448ff2359386b6cbd62d748320acebdf\", element=\"ccdcfb38-98df-4233-b89b-0bade48332f4\")>,\n",
       " <selenium.webdriver.remote.webelement.WebElement (session=\"448ff2359386b6cbd62d748320acebdf\", element=\"4762880a-04e8-4f54-92a7-f0e7b8fdab9a\")>,\n",
       " <selenium.webdriver.remote.webelement.WebElement (session=\"448ff2359386b6cbd62d748320acebdf\", element=\"001cae31-5469-4651-a68c-a5f7aee9322c\")>,\n",
       " <selenium.webdriver.remote.webelement.WebElement (session=\"448ff2359386b6cbd62d748320acebdf\", element=\"ffaf0f84-390d-49a4-8230-44b3313864aa\")>]"
      ]
     },
     "execution_count": 82,
     "metadata": {},
     "output_type": "execute_result"
    }
   ],
   "source": [
    "shoebrand_tag2"
   ]
  },
  {
   "cell_type": "code",
   "execution_count": 83,
   "id": "e6d59209",
   "metadata": {},
   "outputs": [],
   "source": [
    "for i in shoebrand_tag2:\n",
    "    shoebrand2=i.text\n",
    "    shoe_brand.append(shoebrand2)"
   ]
  },
  {
   "cell_type": "code",
   "execution_count": 84,
   "id": "187f4ac8",
   "metadata": {},
   "outputs": [
    {
     "data": {
      "text/plain": [
       "['Nike',\n",
       " 'Nike',\n",
       " 'Nike',\n",
       " 'Nike',\n",
       " 'Nike',\n",
       " 'Puma',\n",
       " 'PUMA Motorsport',\n",
       " 'Nike',\n",
       " 'Puma',\n",
       " 'Nike',\n",
       " 'Nike',\n",
       " 'Hush Puppies',\n",
       " 'Puma',\n",
       " 'Hush Puppies',\n",
       " 'Puma',\n",
       " 'Cole Haan',\n",
       " 'Hush Puppies',\n",
       " 'ASICS',\n",
       " 'UNDER ARMOUR',\n",
       " 'PUMA Hoops',\n",
       " 'Puma',\n",
       " 'Saint G',\n",
       " 'ASICS',\n",
       " 'Saint G',\n",
       " 'PUMA Motorsport',\n",
       " 'PUMA Motorsport',\n",
       " 'PUMA Motorsport',\n",
       " 'Calvin Klein',\n",
       " 'Bugatti',\n",
       " 'Bugatti',\n",
       " 'Puma',\n",
       " 'ROSSO BRUNELLO',\n",
       " 'ASICS',\n",
       " 'Puma',\n",
       " 'Hush Puppies',\n",
       " 'Puma',\n",
       " 'Puma',\n",
       " 'Tommy Hilfiger',\n",
       " 'Puma',\n",
       " 'Geox',\n",
       " 'Calvin Klein',\n",
       " 'Pavers England',\n",
       " 'Calvin Klein',\n",
       " 'Puma',\n",
       " 'Cole Haan',\n",
       " 'Calvin Klein',\n",
       " 'J.FONTINI',\n",
       " 'Puma',\n",
       " 'Tommy Hilfiger',\n",
       " 'Hush Puppies',\n",
       " 'Hush Puppies',\n",
       " 'Tommy Hilfiger',\n",
       " 'J.FONTINI',\n",
       " 'ASICS',\n",
       " 'Tommy Hilfiger',\n",
       " 'ASICS',\n",
       " 'Geox',\n",
       " 'Hush Puppies',\n",
       " 'DAVINCHI',\n",
       " 'DAVINCHI',\n",
       " 'Calvin Klein',\n",
       " 'Hush Puppies',\n",
       " 'Saint G',\n",
       " 'Saint G',\n",
       " 'Bugatti',\n",
       " 'Saint G',\n",
       " 'Geox',\n",
       " 'Saint G',\n",
       " 'Geox',\n",
       " 'ASICS',\n",
       " 'ASICS',\n",
       " 'Geox',\n",
       " 'Geox',\n",
       " 'UNDER ARMOUR',\n",
       " 'Puma',\n",
       " 'UNDER ARMOUR',\n",
       " 'Cole Haan',\n",
       " 'Geox',\n",
       " 'UNDER ARMOUR',\n",
       " 'UNDER ARMOUR',\n",
       " 'J.FONTINI',\n",
       " 'Hush Puppies',\n",
       " 'KLEAT',\n",
       " 'J.FONTINI',\n",
       " 'Ruosh',\n",
       " 'Puma',\n",
       " 'Ruosh',\n",
       " 'Puma',\n",
       " 'Geox',\n",
       " 'Bugatti',\n",
       " 'KLEAT',\n",
       " 'J.FONTINI',\n",
       " 'Calvin Klein',\n",
       " 'Calvin Klein',\n",
       " 'KLEAT',\n",
       " 'Calvin Klein',\n",
       " 'Puma',\n",
       " 'ECCO',\n",
       " 'DAVINCHI',\n",
       " 'DAVINCHI']"
      ]
     },
     "execution_count": 84,
     "metadata": {},
     "output_type": "execute_result"
    }
   ],
   "source": [
    "shoe_brand"
   ]
  },
  {
   "cell_type": "code",
   "execution_count": 85,
   "id": "5b522140",
   "metadata": {},
   "outputs": [
    {
     "data": {
      "text/plain": [
       "100"
      ]
     },
     "execution_count": 85,
     "metadata": {},
     "output_type": "execute_result"
    }
   ],
   "source": [
    "len(shoe_brand)"
   ]
  },
  {
   "cell_type": "code",
   "execution_count": 86,
   "id": "c22cc2fa",
   "metadata": {
    "collapsed": true
   },
   "outputs": [
    {
     "name": "stderr",
     "output_type": "stream",
     "text": [
      "<ipython-input-86-2c7ebb863675>:1: DeprecationWarning: find_elements_by_* commands are deprecated. Please use find_elements() instead\n",
      "  shoeprice_tag2=driver.find_elements_by_xpath(\"//div[@class='product-price']\")\n"
     ]
    },
    {
     "data": {
      "text/plain": [
       "[<selenium.webdriver.remote.webelement.WebElement (session=\"448ff2359386b6cbd62d748320acebdf\", element=\"393c71ab-4444-4b54-9d7c-1c793e77a6b2\")>,\n",
       " <selenium.webdriver.remote.webelement.WebElement (session=\"448ff2359386b6cbd62d748320acebdf\", element=\"c481fc3a-c8d0-4d34-95b3-1163430779bc\")>,\n",
       " <selenium.webdriver.remote.webelement.WebElement (session=\"448ff2359386b6cbd62d748320acebdf\", element=\"f258fcfd-8582-4410-a562-185b8065b838\")>,\n",
       " <selenium.webdriver.remote.webelement.WebElement (session=\"448ff2359386b6cbd62d748320acebdf\", element=\"11b8e992-b939-4253-9d03-2298412bc074\")>,\n",
       " <selenium.webdriver.remote.webelement.WebElement (session=\"448ff2359386b6cbd62d748320acebdf\", element=\"0507d672-b36d-481a-be4f-8cc43ee4ab0f\")>,\n",
       " <selenium.webdriver.remote.webelement.WebElement (session=\"448ff2359386b6cbd62d748320acebdf\", element=\"5e0508e2-ab5d-4267-a54a-faad260d349d\")>,\n",
       " <selenium.webdriver.remote.webelement.WebElement (session=\"448ff2359386b6cbd62d748320acebdf\", element=\"adcca7b3-b045-468c-b6d7-fe3ec74abeb8\")>,\n",
       " <selenium.webdriver.remote.webelement.WebElement (session=\"448ff2359386b6cbd62d748320acebdf\", element=\"1b2cf266-4832-4877-aba6-51342f4487ed\")>,\n",
       " <selenium.webdriver.remote.webelement.WebElement (session=\"448ff2359386b6cbd62d748320acebdf\", element=\"861f6bc6-6829-4284-94e1-1ce65d8af412\")>,\n",
       " <selenium.webdriver.remote.webelement.WebElement (session=\"448ff2359386b6cbd62d748320acebdf\", element=\"6d6908bd-a090-4496-bb7a-8084ff2ac6f0\")>,\n",
       " <selenium.webdriver.remote.webelement.WebElement (session=\"448ff2359386b6cbd62d748320acebdf\", element=\"43593066-1968-467f-a635-e1d82373f3d6\")>,\n",
       " <selenium.webdriver.remote.webelement.WebElement (session=\"448ff2359386b6cbd62d748320acebdf\", element=\"1205bb7e-1e45-4ff8-89b2-52b9db6e0682\")>,\n",
       " <selenium.webdriver.remote.webelement.WebElement (session=\"448ff2359386b6cbd62d748320acebdf\", element=\"17c01ebb-fae4-493c-8eb6-390fd3899896\")>,\n",
       " <selenium.webdriver.remote.webelement.WebElement (session=\"448ff2359386b6cbd62d748320acebdf\", element=\"d7de23f2-748c-4e4c-ae5f-5669ee98657b\")>,\n",
       " <selenium.webdriver.remote.webelement.WebElement (session=\"448ff2359386b6cbd62d748320acebdf\", element=\"12d82269-582f-4285-8afc-ab1a4db1839c\")>,\n",
       " <selenium.webdriver.remote.webelement.WebElement (session=\"448ff2359386b6cbd62d748320acebdf\", element=\"562d06b1-6a50-4be5-8591-8db0a11d0667\")>,\n",
       " <selenium.webdriver.remote.webelement.WebElement (session=\"448ff2359386b6cbd62d748320acebdf\", element=\"f657fbb7-a3bb-4f77-9824-daaae9de4c61\")>,\n",
       " <selenium.webdriver.remote.webelement.WebElement (session=\"448ff2359386b6cbd62d748320acebdf\", element=\"93f49f06-7463-4b08-8fa4-45e8a43b232a\")>,\n",
       " <selenium.webdriver.remote.webelement.WebElement (session=\"448ff2359386b6cbd62d748320acebdf\", element=\"5390e1d2-7d88-46ef-8bb3-e2923372a919\")>,\n",
       " <selenium.webdriver.remote.webelement.WebElement (session=\"448ff2359386b6cbd62d748320acebdf\", element=\"a9f38786-b3a0-4e49-bba4-9fe444fb31ed\")>,\n",
       " <selenium.webdriver.remote.webelement.WebElement (session=\"448ff2359386b6cbd62d748320acebdf\", element=\"fec14570-2cbe-4fae-bac6-a8be2516b300\")>,\n",
       " <selenium.webdriver.remote.webelement.WebElement (session=\"448ff2359386b6cbd62d748320acebdf\", element=\"ce5df05d-c544-48e1-aad0-0bbe30c7a4d7\")>,\n",
       " <selenium.webdriver.remote.webelement.WebElement (session=\"448ff2359386b6cbd62d748320acebdf\", element=\"80b0e5d6-244f-4375-bd48-02a32c85d196\")>,\n",
       " <selenium.webdriver.remote.webelement.WebElement (session=\"448ff2359386b6cbd62d748320acebdf\", element=\"4fee1d0b-9580-4438-948d-d7d8ff59e42e\")>,\n",
       " <selenium.webdriver.remote.webelement.WebElement (session=\"448ff2359386b6cbd62d748320acebdf\", element=\"32853969-855a-4735-a137-37b50c3b88dd\")>,\n",
       " <selenium.webdriver.remote.webelement.WebElement (session=\"448ff2359386b6cbd62d748320acebdf\", element=\"34ef2f40-4f99-460c-9370-49834c7892b8\")>,\n",
       " <selenium.webdriver.remote.webelement.WebElement (session=\"448ff2359386b6cbd62d748320acebdf\", element=\"78f1af6e-eb50-4cc4-aea7-46e8dc188a73\")>,\n",
       " <selenium.webdriver.remote.webelement.WebElement (session=\"448ff2359386b6cbd62d748320acebdf\", element=\"2b191af9-d694-43ba-a00a-a98a89e6c8a7\")>,\n",
       " <selenium.webdriver.remote.webelement.WebElement (session=\"448ff2359386b6cbd62d748320acebdf\", element=\"504c1359-971c-4610-a1c4-9a728fb62663\")>,\n",
       " <selenium.webdriver.remote.webelement.WebElement (session=\"448ff2359386b6cbd62d748320acebdf\", element=\"c02d9318-e6b5-4cb6-94bd-03cc6da996f8\")>,\n",
       " <selenium.webdriver.remote.webelement.WebElement (session=\"448ff2359386b6cbd62d748320acebdf\", element=\"cd818854-d14e-48ef-b0bd-8c2eb572e024\")>,\n",
       " <selenium.webdriver.remote.webelement.WebElement (session=\"448ff2359386b6cbd62d748320acebdf\", element=\"e4b24f3b-9ed3-457a-acec-f0dc4b5a2246\")>,\n",
       " <selenium.webdriver.remote.webelement.WebElement (session=\"448ff2359386b6cbd62d748320acebdf\", element=\"a6a3775e-e5d9-42d0-9bd1-c7082b89b84a\")>,\n",
       " <selenium.webdriver.remote.webelement.WebElement (session=\"448ff2359386b6cbd62d748320acebdf\", element=\"9ff23f9a-6310-4e2d-852e-6670236f64d1\")>,\n",
       " <selenium.webdriver.remote.webelement.WebElement (session=\"448ff2359386b6cbd62d748320acebdf\", element=\"6747c1bc-43cc-413e-84e6-a53e73014906\")>,\n",
       " <selenium.webdriver.remote.webelement.WebElement (session=\"448ff2359386b6cbd62d748320acebdf\", element=\"6a4a3de4-abb6-4cca-9f19-bc77a4721686\")>,\n",
       " <selenium.webdriver.remote.webelement.WebElement (session=\"448ff2359386b6cbd62d748320acebdf\", element=\"9b6fa094-2cd6-4ea7-9362-9c8d68bfb205\")>,\n",
       " <selenium.webdriver.remote.webelement.WebElement (session=\"448ff2359386b6cbd62d748320acebdf\", element=\"be17bbca-544f-4229-924f-777c6c822dbc\")>,\n",
       " <selenium.webdriver.remote.webelement.WebElement (session=\"448ff2359386b6cbd62d748320acebdf\", element=\"5ee23e0d-231e-4d97-b9d6-bc57714d9731\")>,\n",
       " <selenium.webdriver.remote.webelement.WebElement (session=\"448ff2359386b6cbd62d748320acebdf\", element=\"c6f8845f-0c53-4985-9f36-7f9ad4937826\")>,\n",
       " <selenium.webdriver.remote.webelement.WebElement (session=\"448ff2359386b6cbd62d748320acebdf\", element=\"3979fda5-dda4-4fa2-a84a-6b005f787130\")>,\n",
       " <selenium.webdriver.remote.webelement.WebElement (session=\"448ff2359386b6cbd62d748320acebdf\", element=\"b493dcdc-f7ae-48a2-ac3b-550464955400\")>,\n",
       " <selenium.webdriver.remote.webelement.WebElement (session=\"448ff2359386b6cbd62d748320acebdf\", element=\"7414b84b-f897-4b4c-9608-d27dc77b3fcd\")>,\n",
       " <selenium.webdriver.remote.webelement.WebElement (session=\"448ff2359386b6cbd62d748320acebdf\", element=\"f2dc5751-898f-4672-8181-f68f50ef9f64\")>,\n",
       " <selenium.webdriver.remote.webelement.WebElement (session=\"448ff2359386b6cbd62d748320acebdf\", element=\"66c93a12-9d25-4502-9eb0-51280425ef9b\")>,\n",
       " <selenium.webdriver.remote.webelement.WebElement (session=\"448ff2359386b6cbd62d748320acebdf\", element=\"abe7dfec-5082-4b5c-a9ae-42026c4017fd\")>,\n",
       " <selenium.webdriver.remote.webelement.WebElement (session=\"448ff2359386b6cbd62d748320acebdf\", element=\"c8ee2301-6f88-4da5-9683-2c94fbb2905c\")>,\n",
       " <selenium.webdriver.remote.webelement.WebElement (session=\"448ff2359386b6cbd62d748320acebdf\", element=\"278c4f97-8da6-4969-ba51-c931760f7c01\")>,\n",
       " <selenium.webdriver.remote.webelement.WebElement (session=\"448ff2359386b6cbd62d748320acebdf\", element=\"ad0462f9-186a-4043-b9ff-290c0ec88f9d\")>,\n",
       " <selenium.webdriver.remote.webelement.WebElement (session=\"448ff2359386b6cbd62d748320acebdf\", element=\"2d998811-3874-44e2-a0c8-ba73aadc5224\")>]"
      ]
     },
     "execution_count": 86,
     "metadata": {},
     "output_type": "execute_result"
    }
   ],
   "source": [
    "shoeprice_tag2=driver.find_elements_by_xpath(\"//div[@class='product-price']\")\n",
    "shoeprice_tag2"
   ]
  },
  {
   "cell_type": "code",
   "execution_count": 87,
   "id": "81f1b10d",
   "metadata": {},
   "outputs": [],
   "source": [
    "for i in shoeprice_tag2:\n",
    "    shoeprice2=i.text\n",
    "    shoe_price.append(shoeprice2)"
   ]
  },
  {
   "cell_type": "code",
   "execution_count": 88,
   "id": "4dd964f2",
   "metadata": {},
   "outputs": [
    {
     "data": {
      "text/plain": [
       "['Rs. 9995',\n",
       " 'Rs. 8295',\n",
       " 'Rs. 7195',\n",
       " 'Rs. 7195',\n",
       " 'Rs. 11495',\n",
       " 'Rs. 12749Rs. 14999(15% OFF)',\n",
       " 'Rs. 8499Rs. 9999(15% OFF)',\n",
       " 'Rs. 7995',\n",
       " 'Rs. 9349Rs. 10999(15% OFF)',\n",
       " 'Rs. 11495',\n",
       " 'Rs. 7195',\n",
       " 'Rs. 8999Rs. 9999(10% OFF)',\n",
       " 'Rs. 8499Rs. 9999(15% OFF)',\n",
       " 'Rs. 8099Rs. 8999(10% OFF)',\n",
       " 'Rs. 7649Rs. 8999(15% OFF)',\n",
       " 'Rs. 10399Rs. 12999(20% OFF)',\n",
       " 'Rs. 8999Rs. 9999(10% OFF)',\n",
       " 'Rs. 9999',\n",
       " 'Rs. 8999',\n",
       " 'Rs. 8999',\n",
       " 'Rs. 8499Rs. 9999(15% OFF)',\n",
       " 'Rs. 13900',\n",
       " 'Rs. 7999',\n",
       " 'Rs. 10900',\n",
       " 'Rs. 8499Rs. 9999(15% OFF)',\n",
       " 'Rs. 7149Rs. 10999(35% OFF)',\n",
       " 'Rs. 8499Rs. 9999(15% OFF)',\n",
       " 'Rs. 8999',\n",
       " 'Rs. 8999',\n",
       " 'Rs. 8999',\n",
       " 'Rs. 9749Rs. 12999(25% OFF)',\n",
       " 'Rs. 12999',\n",
       " 'Rs. 7999',\n",
       " 'Rs. 8499Rs. 9999(15% OFF)',\n",
       " 'Rs. 8999Rs. 9999(10% OFF)',\n",
       " 'Rs. 10399Rs. 12999(20% OFF)',\n",
       " 'Rs. 11899Rs. 16999(30% OFF)',\n",
       " 'Rs. 7999',\n",
       " 'Rs. 9349Rs. 10999(15% OFF)',\n",
       " 'Rs. 11999',\n",
       " 'Rs. 10999',\n",
       " 'Rs. 7199Rs. 8999(20% OFF)',\n",
       " 'Rs. 9999',\n",
       " 'Rs. 7199Rs. 8999(20% OFF)',\n",
       " 'Rs. 9599Rs. 11999(20% OFF)',\n",
       " 'Rs. 8999',\n",
       " 'Rs. 8490',\n",
       " 'Rs. 8499Rs. 9999(15% OFF)',\n",
       " 'Rs. 7999',\n",
       " 'Rs. 7999Rs. 9999(20% OFF)',\n",
       " 'Rs. 7999Rs. 9999(20% OFF)',\n",
       " 'Rs. 7999',\n",
       " 'Rs. 7990',\n",
       " 'Rs. 10399Rs. 12999(20% OFF)',\n",
       " 'Rs. 7599',\n",
       " 'Rs. 7999',\n",
       " 'Rs. 8999',\n",
       " 'Rs. 8999Rs. 9999(10% OFF)',\n",
       " 'Rs. 8990',\n",
       " 'Rs. 8990',\n",
       " 'Rs. 7999',\n",
       " 'Rs. 7199Rs. 8999(20% OFF)',\n",
       " 'Rs. 11000',\n",
       " 'Rs. 10900',\n",
       " 'Rs. 9999',\n",
       " 'Rs. 9500',\n",
       " 'Rs. 8999',\n",
       " 'Rs. 8900',\n",
       " 'Rs. 8999',\n",
       " 'Rs. 7199Rs. 8999(20% OFF)',\n",
       " 'Rs. 7699Rs. 10999(30% OFF)',\n",
       " 'Rs. 10499',\n",
       " 'Rs. 9999',\n",
       " 'Rs. 7499',\n",
       " 'Rs. 11049Rs. 12999(15% OFF)',\n",
       " 'Rs. 7999',\n",
       " 'Rs. 12799Rs. 15999(20% OFF)',\n",
       " 'Rs. 12999',\n",
       " 'Rs. 7999',\n",
       " 'Rs. 7999',\n",
       " 'Rs. 7990',\n",
       " 'Rs. 7199Rs. 7999(10% OFF)',\n",
       " 'Rs. 7999',\n",
       " 'Rs. 8990',\n",
       " 'Rs. 10792Rs. 13490(20% OFF)',\n",
       " 'Rs. 10399Rs. 12999(20% OFF)',\n",
       " 'Rs. 8990',\n",
       " 'Rs. 7999Rs. 9999(20% OFF)',\n",
       " 'Rs. 11999',\n",
       " 'Rs. 9999',\n",
       " 'Rs. 7999',\n",
       " 'Rs. 7990',\n",
       " 'Rs. 10999',\n",
       " 'Rs. 9999',\n",
       " 'Rs. 8999',\n",
       " 'Rs. 7999',\n",
       " 'Rs. 8499Rs. 9999(15% OFF)',\n",
       " 'Rs. 9999',\n",
       " 'Rs. 7990',\n",
       " 'Rs. 8990']"
      ]
     },
     "execution_count": 88,
     "metadata": {},
     "output_type": "execute_result"
    }
   ],
   "source": [
    "shoe_price"
   ]
  },
  {
   "cell_type": "code",
   "execution_count": 89,
   "id": "e36ea627",
   "metadata": {},
   "outputs": [
    {
     "data": {
      "text/plain": [
       "100"
      ]
     },
     "execution_count": 89,
     "metadata": {},
     "output_type": "execute_result"
    }
   ],
   "source": [
    "len(shoe_price)"
   ]
  },
  {
   "cell_type": "code",
   "execution_count": 90,
   "id": "dca78a0d",
   "metadata": {
    "collapsed": true
   },
   "outputs": [
    {
     "name": "stderr",
     "output_type": "stream",
     "text": [
      "<ipython-input-90-9937cc8106df>:1: DeprecationWarning: find_elements_by_* commands are deprecated. Please use find_elements() instead\n",
      "  shoediscription_tag2=driver.find_elements_by_xpath(\"//h4[@class='product-product']\")\n"
     ]
    },
    {
     "data": {
      "text/plain": [
       "[<selenium.webdriver.remote.webelement.WebElement (session=\"448ff2359386b6cbd62d748320acebdf\", element=\"fda1a0a8-f557-4b7d-b064-a11ddb3c4dc6\")>,\n",
       " <selenium.webdriver.remote.webelement.WebElement (session=\"448ff2359386b6cbd62d748320acebdf\", element=\"12069fe0-7b91-49c0-9511-ffb1800e271c\")>,\n",
       " <selenium.webdriver.remote.webelement.WebElement (session=\"448ff2359386b6cbd62d748320acebdf\", element=\"e27850c5-5d0f-4415-91ba-2a62ea32485d\")>,\n",
       " <selenium.webdriver.remote.webelement.WebElement (session=\"448ff2359386b6cbd62d748320acebdf\", element=\"66eb6470-cd1b-4daf-b035-6fc458d8453c\")>,\n",
       " <selenium.webdriver.remote.webelement.WebElement (session=\"448ff2359386b6cbd62d748320acebdf\", element=\"8e744887-b1a9-4ba3-84e9-48975d000d2a\")>,\n",
       " <selenium.webdriver.remote.webelement.WebElement (session=\"448ff2359386b6cbd62d748320acebdf\", element=\"e0e72e4a-9b81-453a-941f-1a21243f4f07\")>,\n",
       " <selenium.webdriver.remote.webelement.WebElement (session=\"448ff2359386b6cbd62d748320acebdf\", element=\"0f1677f1-7fb3-4e3a-8a59-603af8e915e5\")>,\n",
       " <selenium.webdriver.remote.webelement.WebElement (session=\"448ff2359386b6cbd62d748320acebdf\", element=\"474c3ca1-03a7-488e-9524-c317dbf5473a\")>,\n",
       " <selenium.webdriver.remote.webelement.WebElement (session=\"448ff2359386b6cbd62d748320acebdf\", element=\"c63748b2-2618-4a75-85e2-3c1c1d0858ed\")>,\n",
       " <selenium.webdriver.remote.webelement.WebElement (session=\"448ff2359386b6cbd62d748320acebdf\", element=\"7dfbaf92-1fe4-4726-b534-27d6103742fd\")>,\n",
       " <selenium.webdriver.remote.webelement.WebElement (session=\"448ff2359386b6cbd62d748320acebdf\", element=\"acdefa4c-6acf-4e1d-b4c4-ac8d726a4770\")>,\n",
       " <selenium.webdriver.remote.webelement.WebElement (session=\"448ff2359386b6cbd62d748320acebdf\", element=\"785ec98c-71bb-4651-9142-847b5bd50c78\")>,\n",
       " <selenium.webdriver.remote.webelement.WebElement (session=\"448ff2359386b6cbd62d748320acebdf\", element=\"f7526ec7-27ad-454b-bb6a-b174483806f6\")>,\n",
       " <selenium.webdriver.remote.webelement.WebElement (session=\"448ff2359386b6cbd62d748320acebdf\", element=\"6878b5f5-b25a-469d-b758-48807fa6b9da\")>,\n",
       " <selenium.webdriver.remote.webelement.WebElement (session=\"448ff2359386b6cbd62d748320acebdf\", element=\"0ba11338-a7fe-476a-ac1e-aadb61685a39\")>,\n",
       " <selenium.webdriver.remote.webelement.WebElement (session=\"448ff2359386b6cbd62d748320acebdf\", element=\"21135914-7d50-472b-b4d2-385eabf4fcc6\")>,\n",
       " <selenium.webdriver.remote.webelement.WebElement (session=\"448ff2359386b6cbd62d748320acebdf\", element=\"9050378d-0c1e-4aa5-9bc6-cdfb2ef89952\")>,\n",
       " <selenium.webdriver.remote.webelement.WebElement (session=\"448ff2359386b6cbd62d748320acebdf\", element=\"b4d4cfe7-913f-44fe-9f6f-42379e417f7c\")>,\n",
       " <selenium.webdriver.remote.webelement.WebElement (session=\"448ff2359386b6cbd62d748320acebdf\", element=\"362c4add-2dd9-497c-97bc-ed1052cef713\")>,\n",
       " <selenium.webdriver.remote.webelement.WebElement (session=\"448ff2359386b6cbd62d748320acebdf\", element=\"77f53ef8-c2ce-422a-b1de-24a5967fd664\")>,\n",
       " <selenium.webdriver.remote.webelement.WebElement (session=\"448ff2359386b6cbd62d748320acebdf\", element=\"cd501146-a344-4db5-944d-6c066c8500ae\")>,\n",
       " <selenium.webdriver.remote.webelement.WebElement (session=\"448ff2359386b6cbd62d748320acebdf\", element=\"b21c404b-8cd3-4339-a330-4ee4cb45b1bf\")>,\n",
       " <selenium.webdriver.remote.webelement.WebElement (session=\"448ff2359386b6cbd62d748320acebdf\", element=\"5f1175ea-cf60-4b01-a13c-6bc83cea8839\")>,\n",
       " <selenium.webdriver.remote.webelement.WebElement (session=\"448ff2359386b6cbd62d748320acebdf\", element=\"67ed99e1-e957-42b4-a0c1-db522319767e\")>,\n",
       " <selenium.webdriver.remote.webelement.WebElement (session=\"448ff2359386b6cbd62d748320acebdf\", element=\"69600143-0948-4f7b-9749-d2ecb2b8ca55\")>,\n",
       " <selenium.webdriver.remote.webelement.WebElement (session=\"448ff2359386b6cbd62d748320acebdf\", element=\"99cffc4b-12cd-409f-9ea8-5efbbc45dbc0\")>,\n",
       " <selenium.webdriver.remote.webelement.WebElement (session=\"448ff2359386b6cbd62d748320acebdf\", element=\"308455d4-6e93-40e2-85a7-f7b9ebe107c7\")>,\n",
       " <selenium.webdriver.remote.webelement.WebElement (session=\"448ff2359386b6cbd62d748320acebdf\", element=\"491942d9-5285-4f5f-ae72-7f5730dfdad0\")>,\n",
       " <selenium.webdriver.remote.webelement.WebElement (session=\"448ff2359386b6cbd62d748320acebdf\", element=\"79943d65-5325-434b-bbec-d19de4093e42\")>,\n",
       " <selenium.webdriver.remote.webelement.WebElement (session=\"448ff2359386b6cbd62d748320acebdf\", element=\"2da9e3d9-c223-4c96-87db-e7ba20ca97f0\")>,\n",
       " <selenium.webdriver.remote.webelement.WebElement (session=\"448ff2359386b6cbd62d748320acebdf\", element=\"f7b5f0cc-c468-4c52-9689-4b4f46019bad\")>,\n",
       " <selenium.webdriver.remote.webelement.WebElement (session=\"448ff2359386b6cbd62d748320acebdf\", element=\"5b134eae-a0f6-46eb-b01e-c238f033dda5\")>,\n",
       " <selenium.webdriver.remote.webelement.WebElement (session=\"448ff2359386b6cbd62d748320acebdf\", element=\"dfdc747b-a335-4eae-ab46-611e0c2fa415\")>,\n",
       " <selenium.webdriver.remote.webelement.WebElement (session=\"448ff2359386b6cbd62d748320acebdf\", element=\"4b76c39d-4b9c-4cc0-9d77-573568c320eb\")>,\n",
       " <selenium.webdriver.remote.webelement.WebElement (session=\"448ff2359386b6cbd62d748320acebdf\", element=\"5aad83d6-2808-46b7-b5bb-f49eb56ae9ea\")>,\n",
       " <selenium.webdriver.remote.webelement.WebElement (session=\"448ff2359386b6cbd62d748320acebdf\", element=\"f1deac1b-fd88-4b41-b086-b981304c381b\")>,\n",
       " <selenium.webdriver.remote.webelement.WebElement (session=\"448ff2359386b6cbd62d748320acebdf\", element=\"9199c9ed-6f83-405f-8d3e-d50f874200a2\")>,\n",
       " <selenium.webdriver.remote.webelement.WebElement (session=\"448ff2359386b6cbd62d748320acebdf\", element=\"e0b71acf-bf2d-4b69-b67d-de98f9633939\")>,\n",
       " <selenium.webdriver.remote.webelement.WebElement (session=\"448ff2359386b6cbd62d748320acebdf\", element=\"ecd26724-3f0b-404d-8321-1fa6cda12ce2\")>,\n",
       " <selenium.webdriver.remote.webelement.WebElement (session=\"448ff2359386b6cbd62d748320acebdf\", element=\"c9fb669f-1d97-48ec-a71f-f4a322229c3e\")>,\n",
       " <selenium.webdriver.remote.webelement.WebElement (session=\"448ff2359386b6cbd62d748320acebdf\", element=\"fc9a062f-7ec2-42bb-9e54-9ed7fce1de4f\")>,\n",
       " <selenium.webdriver.remote.webelement.WebElement (session=\"448ff2359386b6cbd62d748320acebdf\", element=\"1ddf2b56-0d64-4888-8810-f6d04bcda94d\")>,\n",
       " <selenium.webdriver.remote.webelement.WebElement (session=\"448ff2359386b6cbd62d748320acebdf\", element=\"ca919d4f-7bba-4c87-a711-a62ea7cd8a13\")>,\n",
       " <selenium.webdriver.remote.webelement.WebElement (session=\"448ff2359386b6cbd62d748320acebdf\", element=\"1a0efbff-5a25-4c6a-98b5-6468bb2a36b1\")>,\n",
       " <selenium.webdriver.remote.webelement.WebElement (session=\"448ff2359386b6cbd62d748320acebdf\", element=\"0d572513-7302-4be1-8c63-f54b4a0480f8\")>,\n",
       " <selenium.webdriver.remote.webelement.WebElement (session=\"448ff2359386b6cbd62d748320acebdf\", element=\"d7061da7-8f26-47f6-b007-cea0246ff447\")>,\n",
       " <selenium.webdriver.remote.webelement.WebElement (session=\"448ff2359386b6cbd62d748320acebdf\", element=\"f82e54ac-ff82-4f7b-b006-3dd8b5c106ce\")>,\n",
       " <selenium.webdriver.remote.webelement.WebElement (session=\"448ff2359386b6cbd62d748320acebdf\", element=\"8df23527-9064-4919-a241-b432672b675e\")>,\n",
       " <selenium.webdriver.remote.webelement.WebElement (session=\"448ff2359386b6cbd62d748320acebdf\", element=\"59802edc-da57-4f19-a967-6cdd57e5b01e\")>,\n",
       " <selenium.webdriver.remote.webelement.WebElement (session=\"448ff2359386b6cbd62d748320acebdf\", element=\"f52ca651-7970-4d26-a506-874709fb6d78\")>]"
      ]
     },
     "execution_count": 90,
     "metadata": {},
     "output_type": "execute_result"
    }
   ],
   "source": [
    "shoediscription_tag2=driver.find_elements_by_xpath(\"//h4[@class='product-product']\")\n",
    "shoediscription_tag2"
   ]
  },
  {
   "cell_type": "code",
   "execution_count": 91,
   "id": "be37a614",
   "metadata": {},
   "outputs": [],
   "source": [
    "for i in shoediscription_tag2:\n",
    "    shoediscription2=i.text\n",
    "    shoe_discription.append(shoediscription2)"
   ]
  },
  {
   "cell_type": "code",
   "execution_count": 92,
   "id": "6d779890",
   "metadata": {},
   "outputs": [
    {
     "data": {
      "text/plain": [
       "['AIR ZOOM PEGASUS Running Shoes',\n",
       " 'LEBRON WITNESS Basketball Shoe',\n",
       " 'Men Zoom Span 4 Running Shoes',\n",
       " 'Men ZOOM SPAN 4 Running Shoes',\n",
       " 'Air Zoom Pegasus 38 Shield Run',\n",
       " 'Men Deviate Nitro Running Shoe',\n",
       " 'Unisex Scuderia Ferrari Shoes',\n",
       " 'Men FLIGHT LEGACY Sneakers',\n",
       " 'Men Velocity Nitro Running',\n",
       " 'Men AIR PRESTO Sneakers',\n",
       " \"Men BlazerLow '77 Sneakers\",\n",
       " 'Men Formal Derbys',\n",
       " 'Men Liberate NITRO Running',\n",
       " 'Men Solid Leather Formal Slip-Ons',\n",
       " 'Unisex Mirage Remix Sneakers',\n",
       " 'Men Wingtip Oxford Sneakers',\n",
       " 'Men Solid Leather Formal Slip-Ons',\n",
       " 'Men Colourblocked PU Sneakers',\n",
       " 'Women Charged Bandit 6 Running',\n",
       " 'Unisex Clyde All-Pro Team',\n",
       " 'Unisex Leather Trainers',\n",
       " 'Women Leather Heeled Boots',\n",
       " 'Men Running Shoes',\n",
       " 'Men Mid-Top Chelsea Boots',\n",
       " 'Unisex BMW RS-Connect Sneakers',\n",
       " 'Unisex Ferrari Wild Rider Shoe',\n",
       " 'Unisex FerrariRS-Fast Sneakers',\n",
       " 'Men UV MONO Leather Sneakers',\n",
       " 'Men Black Walking Shoes',\n",
       " 'Men Walking Shoes',\n",
       " 'Men Running Shoes',\n",
       " 'Men Solid Leather Formal Monk Shoes',\n",
       " 'Men Black Running Sports Shoes',\n",
       " 'Women Liberate NITRO Running',\n",
       " 'Men Solid Leather Formal Derbys',\n",
       " 'Women Magnify Nitro Shoes',\n",
       " 'Men Football Shoes',\n",
       " 'Women Leather Pumps',\n",
       " 'Women Velocity NITRO Runners',\n",
       " 'Men Leather Flat Boots',\n",
       " 'Men Mid-Top Runner Sneakers',\n",
       " 'Men Textured Leather Formal Derbys',\n",
       " 'Men Textured Leather Sneaker',\n",
       " 'FIRST MILE Forever XT Utility',\n",
       " 'Men GENERATION ZEROGRAND STITCHLITE',\n",
       " 'Men Solid Low Top LTH Sneakers',\n",
       " 'Men Black Leather Loafers',\n",
       " 'Unisex Textured Sneakers',\n",
       " 'Women Leather Block Pumps',\n",
       " 'Men Leather Slip-On Sneakers',\n",
       " 'Men Leather Slip-On Sneakers',\n",
       " 'Men Lightweight Sneakers',\n",
       " 'Men Textured Leather Loafers',\n",
       " 'Women NOVABLAST Road Running',\n",
       " 'Women Textured Pumps',\n",
       " 'Skycourt Sneakers',\n",
       " 'Men Leather Formal Slip-Ons',\n",
       " 'Men Solid Formal Slip-Ons',\n",
       " 'Ustraa black',\n",
       " 'Men Textured Formal Leather Loafers',\n",
       " 'Men Solid Suede Sneakers',\n",
       " 'Men Solid Leather Formal Derbys',\n",
       " 'Women Leather Heeled Boots',\n",
       " 'Textured Leather Block Heeled Boots',\n",
       " 'Leather Block Heeled Boots',\n",
       " 'Women Leather Heeled Boots',\n",
       " 'Women Leather Pumps',\n",
       " 'Leather Kitten Heeled Boots',\n",
       " 'Women Leather Heeled Loafers',\n",
       " 'Women Running Shoes',\n",
       " 'Men DS LIGHT X-FLY 4 Running',\n",
       " 'Men Woven Design Sneakers',\n",
       " 'Men Leather Driving Shoes',\n",
       " 'Women Charged Impulse Shft',\n",
       " 'Women Eternity NITRO Shoes',\n",
       " 'Women Charged Vantage ClrShft',\n",
       " 'Men Lightweight Brogues',\n",
       " 'Men Leather Mid-Top Flat Boots',\n",
       " 'Women Charged Vantage Running',\n",
       " 'Women Charged Rogue 2.5ClrSft',\n",
       " 'Men Textured Leather Loafers',\n",
       " 'Men Leather Derbys',\n",
       " 'Men Woven Design Loafers',\n",
       " 'Men Solid Loafers',\n",
       " 'Men Solid Leather Formal Oxfords',\n",
       " 'Men Magnify Nitro Running',\n",
       " 'Men Solid Leather Formal Monks',\n",
       " 'Men Electrify Nitro Running',\n",
       " 'Men Solid Sneakers',\n",
       " 'Men Running Shoes',\n",
       " 'Men Woven Design Sneakers',\n",
       " 'Men Solid Leather Formal Slip-Ons',\n",
       " 'Men Mid-Top Runner Sneakers',\n",
       " 'Men Solid Leather Sneakers',\n",
       " 'Men Suede Flat Boots',\n",
       " 'Men Textured Suede Sneakers',\n",
       " 'Unisex Mirage Sport Trainers',\n",
       " 'Women Leather Sneakers',\n",
       " 'Solid Leather Formal Shoes',\n",
       " 'Men Formal Leather Slip-Ons']"
      ]
     },
     "execution_count": 92,
     "metadata": {},
     "output_type": "execute_result"
    }
   ],
   "source": [
    "shoe_discription"
   ]
  },
  {
   "cell_type": "code",
   "execution_count": 93,
   "id": "3eb9b362",
   "metadata": {},
   "outputs": [
    {
     "data": {
      "text/plain": [
       "100"
      ]
     },
     "execution_count": 93,
     "metadata": {},
     "output_type": "execute_result"
    }
   ],
   "source": [
    "len(shoe_discription)"
   ]
  },
  {
   "cell_type": "code",
   "execution_count": 94,
   "id": "a033f1ed",
   "metadata": {},
   "outputs": [],
   "source": [
    "shoe=pd.DataFrame({})"
   ]
  },
  {
   "cell_type": "code",
   "execution_count": 95,
   "id": "f6ef7eda",
   "metadata": {},
   "outputs": [],
   "source": [
    "shoe['BRAND']=shoe_brand\n",
    "shoe['DISCRIPTION']=shoe_discription\n",
    "shoe['PRICE']=shoe_price"
   ]
  },
  {
   "cell_type": "code",
   "execution_count": 96,
   "id": "74d22a76",
   "metadata": {},
   "outputs": [
    {
     "data": {
      "text/html": [
       "<div>\n",
       "<style scoped>\n",
       "    .dataframe tbody tr th:only-of-type {\n",
       "        vertical-align: middle;\n",
       "    }\n",
       "\n",
       "    .dataframe tbody tr th {\n",
       "        vertical-align: top;\n",
       "    }\n",
       "\n",
       "    .dataframe thead th {\n",
       "        text-align: right;\n",
       "    }\n",
       "</style>\n",
       "<table border=\"1\" class=\"dataframe\">\n",
       "  <thead>\n",
       "    <tr style=\"text-align: right;\">\n",
       "      <th></th>\n",
       "      <th>BRAND</th>\n",
       "      <th>DISCRIPTION</th>\n",
       "      <th>PRICE</th>\n",
       "    </tr>\n",
       "  </thead>\n",
       "  <tbody>\n",
       "    <tr>\n",
       "      <th>0</th>\n",
       "      <td>Nike</td>\n",
       "      <td>AIR ZOOM PEGASUS Running Shoes</td>\n",
       "      <td>Rs. 9995</td>\n",
       "    </tr>\n",
       "    <tr>\n",
       "      <th>1</th>\n",
       "      <td>Nike</td>\n",
       "      <td>LEBRON WITNESS Basketball Shoe</td>\n",
       "      <td>Rs. 8295</td>\n",
       "    </tr>\n",
       "    <tr>\n",
       "      <th>2</th>\n",
       "      <td>Nike</td>\n",
       "      <td>Men Zoom Span 4 Running Shoes</td>\n",
       "      <td>Rs. 7195</td>\n",
       "    </tr>\n",
       "    <tr>\n",
       "      <th>3</th>\n",
       "      <td>Nike</td>\n",
       "      <td>Men ZOOM SPAN 4 Running Shoes</td>\n",
       "      <td>Rs. 7195</td>\n",
       "    </tr>\n",
       "    <tr>\n",
       "      <th>4</th>\n",
       "      <td>Nike</td>\n",
       "      <td>Air Zoom Pegasus 38 Shield Run</td>\n",
       "      <td>Rs. 11495</td>\n",
       "    </tr>\n",
       "    <tr>\n",
       "      <th>...</th>\n",
       "      <td>...</td>\n",
       "      <td>...</td>\n",
       "      <td>...</td>\n",
       "    </tr>\n",
       "    <tr>\n",
       "      <th>95</th>\n",
       "      <td>Calvin Klein</td>\n",
       "      <td>Men Textured Suede Sneakers</td>\n",
       "      <td>Rs. 7999</td>\n",
       "    </tr>\n",
       "    <tr>\n",
       "      <th>96</th>\n",
       "      <td>Puma</td>\n",
       "      <td>Unisex Mirage Sport Trainers</td>\n",
       "      <td>Rs. 8499Rs. 9999(15% OFF)</td>\n",
       "    </tr>\n",
       "    <tr>\n",
       "      <th>97</th>\n",
       "      <td>ECCO</td>\n",
       "      <td>Women Leather Sneakers</td>\n",
       "      <td>Rs. 9999</td>\n",
       "    </tr>\n",
       "    <tr>\n",
       "      <th>98</th>\n",
       "      <td>DAVINCHI</td>\n",
       "      <td>Solid Leather Formal Shoes</td>\n",
       "      <td>Rs. 7990</td>\n",
       "    </tr>\n",
       "    <tr>\n",
       "      <th>99</th>\n",
       "      <td>DAVINCHI</td>\n",
       "      <td>Men Formal Leather Slip-Ons</td>\n",
       "      <td>Rs. 8990</td>\n",
       "    </tr>\n",
       "  </tbody>\n",
       "</table>\n",
       "<p>100 rows × 3 columns</p>\n",
       "</div>"
      ],
      "text/plain": [
       "           BRAND                     DISCRIPTION                      PRICE\n",
       "0           Nike  AIR ZOOM PEGASUS Running Shoes                   Rs. 9995\n",
       "1           Nike  LEBRON WITNESS Basketball Shoe                   Rs. 8295\n",
       "2           Nike   Men Zoom Span 4 Running Shoes                   Rs. 7195\n",
       "3           Nike   Men ZOOM SPAN 4 Running Shoes                   Rs. 7195\n",
       "4           Nike  Air Zoom Pegasus 38 Shield Run                  Rs. 11495\n",
       "..           ...                             ...                        ...\n",
       "95  Calvin Klein     Men Textured Suede Sneakers                   Rs. 7999\n",
       "96          Puma    Unisex Mirage Sport Trainers  Rs. 8499Rs. 9999(15% OFF)\n",
       "97          ECCO          Women Leather Sneakers                   Rs. 9999\n",
       "98      DAVINCHI      Solid Leather Formal Shoes                   Rs. 7990\n",
       "99      DAVINCHI     Men Formal Leather Slip-Ons                   Rs. 8990\n",
       "\n",
       "[100 rows x 3 columns]"
      ]
     },
     "execution_count": 96,
     "metadata": {},
     "output_type": "execute_result"
    }
   ],
   "source": [
    "shoe\n"
   ]
  },
  {
   "cell_type": "markdown",
   "id": "c38e7791",
   "metadata": {},
   "source": [
    "# 8)intel i7 and i9 from Amazon"
   ]
  },
  {
   "cell_type": "code",
   "execution_count": 2,
   "id": "87ead8f2",
   "metadata": {},
   "outputs": [],
   "source": [
    "PATH = r\"/Users/akshathaaravind/Downloads/chromedriver\""
   ]
  },
  {
   "cell_type": "code",
   "execution_count": 12,
   "id": "4be3baab",
   "metadata": {
    "collapsed": true
   },
   "outputs": [
    {
     "name": "stderr",
     "output_type": "stream",
     "text": [
      "<ipython-input-12-39becb130489>:1: DeprecationWarning: executable_path has been deprecated, please pass in a Service object\n",
      "  driver=webdriver.Chrome(PATH)\n"
     ]
    }
   ],
   "source": [
    "driver=webdriver.Chrome(PATH)"
   ]
  },
  {
   "cell_type": "code",
   "execution_count": 14,
   "id": "cef8e1d6",
   "metadata": {},
   "outputs": [],
   "source": [
    "import warnings"
   ]
  },
  {
   "cell_type": "code",
   "execution_count": 15,
   "id": "b05df118",
   "metadata": {},
   "outputs": [],
   "source": [
    "warnings.filterwarnings(\"ignore\")"
   ]
  },
  {
   "cell_type": "code",
   "execution_count": 18,
   "id": "2cbc38a3",
   "metadata": {},
   "outputs": [],
   "source": [
    "driver.get(\"https://www.amazon.in/\")"
   ]
  },
  {
   "cell_type": "code",
   "execution_count": 19,
   "id": "96befc81",
   "metadata": {},
   "outputs": [],
   "source": [
    "search=driver.find_element_by_xpath(\"//input[@id='twotabsearchtextbox']\")"
   ]
  },
  {
   "cell_type": "code",
   "execution_count": 20,
   "id": "14722a25",
   "metadata": {},
   "outputs": [],
   "source": [
    "search.send_keys(\"Laptop\")"
   ]
  },
  {
   "cell_type": "code",
   "execution_count": 21,
   "id": "e30df59d",
   "metadata": {},
   "outputs": [],
   "source": [
    "search_icon=driver.find_element_by_xpath(\"//input[@id='nav-search-submit-button']\")"
   ]
  },
  {
   "cell_type": "code",
   "execution_count": 22,
   "id": "059cbd28",
   "metadata": {},
   "outputs": [],
   "source": [
    "search_icon.click()"
   ]
  },
  {
   "cell_type": "code",
   "execution_count": 23,
   "id": "6caa0647",
   "metadata": {},
   "outputs": [],
   "source": [
    "i7filter_button=driver.find_elements_by_xpath(\"//a[@class='a-link-normal s-navigation-item']/span\")"
   ]
  },
  {
   "cell_type": "code",
   "execution_count": 24,
   "id": "a700c8fd",
   "metadata": {},
   "outputs": [],
   "source": [
    "for i in i7filter_button:\n",
    "    if i.text=='Intel Core i7':\n",
    "        i.click()\n",
    "        break"
   ]
  },
  {
   "cell_type": "code",
   "execution_count": 25,
   "id": "a8c084dc",
   "metadata": {},
   "outputs": [],
   "source": [
    "i9filter_button=driver.find_elements_by_xpath(\"//a[@class='a-link-normal s-navigation-item']/span\")"
   ]
  },
  {
   "cell_type": "code",
   "execution_count": 26,
   "id": "5aa669b9",
   "metadata": {},
   "outputs": [],
   "source": [
    "for i in i9filter_button:\n",
    "    if i.text=='Intel Core i9':\n",
    "        i.click()\n",
    "        break"
   ]
  },
  {
   "cell_type": "code",
   "execution_count": 27,
   "id": "004aac57",
   "metadata": {},
   "outputs": [],
   "source": [
    "title=[]\n",
    "rating=[]\n",
    "price=[]"
   ]
  },
  {
   "cell_type": "code",
   "execution_count": 28,
   "id": "d8e1f87f",
   "metadata": {},
   "outputs": [],
   "source": [
    "title_tag=driver.find_elements_by_xpath(\"//span[@class='a-size-medium a-color-base a-text-normal']\")"
   ]
  },
  {
   "cell_type": "code",
   "execution_count": 29,
   "id": "665dbd67",
   "metadata": {
    "collapsed": true
   },
   "outputs": [
    {
     "data": {
      "text/plain": [
       "[<selenium.webdriver.remote.webelement.WebElement (session=\"07a214f6f14603707be5ac700bbe0a4b\", element=\"de6f2ba4-03db-4b43-acb7-b45c3a6b1de0\")>,\n",
       " <selenium.webdriver.remote.webelement.WebElement (session=\"07a214f6f14603707be5ac700bbe0a4b\", element=\"17451971-68e9-4bbb-8ad7-bebb27acc894\")>,\n",
       " <selenium.webdriver.remote.webelement.WebElement (session=\"07a214f6f14603707be5ac700bbe0a4b\", element=\"0bed6757-4342-42f2-94b8-bc3bee600a73\")>,\n",
       " <selenium.webdriver.remote.webelement.WebElement (session=\"07a214f6f14603707be5ac700bbe0a4b\", element=\"8c580371-35ac-4022-82d8-30d278cbafaf\")>,\n",
       " <selenium.webdriver.remote.webelement.WebElement (session=\"07a214f6f14603707be5ac700bbe0a4b\", element=\"f3005fc0-f4c8-4a41-9f02-0ef77615b935\")>,\n",
       " <selenium.webdriver.remote.webelement.WebElement (session=\"07a214f6f14603707be5ac700bbe0a4b\", element=\"0a2aed3f-8b42-45e2-a955-fa83e53dbe69\")>,\n",
       " <selenium.webdriver.remote.webelement.WebElement (session=\"07a214f6f14603707be5ac700bbe0a4b\", element=\"b964e4cf-7eef-4558-ae45-e5aa82fc60e2\")>,\n",
       " <selenium.webdriver.remote.webelement.WebElement (session=\"07a214f6f14603707be5ac700bbe0a4b\", element=\"ed2e7ef6-09a8-4eb3-98d6-d27974232c2f\")>,\n",
       " <selenium.webdriver.remote.webelement.WebElement (session=\"07a214f6f14603707be5ac700bbe0a4b\", element=\"d01739bf-2d72-4804-8d10-b7b9ea7c3165\")>,\n",
       " <selenium.webdriver.remote.webelement.WebElement (session=\"07a214f6f14603707be5ac700bbe0a4b\", element=\"b2f9d357-073e-4409-8fb3-127756e90977\")>,\n",
       " <selenium.webdriver.remote.webelement.WebElement (session=\"07a214f6f14603707be5ac700bbe0a4b\", element=\"d830c6f9-93e1-4ec7-b860-467be1320cf7\")>,\n",
       " <selenium.webdriver.remote.webelement.WebElement (session=\"07a214f6f14603707be5ac700bbe0a4b\", element=\"e8470ff2-d726-4d82-991b-c02a6bf9e180\")>,\n",
       " <selenium.webdriver.remote.webelement.WebElement (session=\"07a214f6f14603707be5ac700bbe0a4b\", element=\"21e3c79d-2ee5-4926-8afe-3133bf8006b2\")>,\n",
       " <selenium.webdriver.remote.webelement.WebElement (session=\"07a214f6f14603707be5ac700bbe0a4b\", element=\"d49a8b9e-89da-4c72-a24e-4c7dd5e78e7e\")>,\n",
       " <selenium.webdriver.remote.webelement.WebElement (session=\"07a214f6f14603707be5ac700bbe0a4b\", element=\"f5bd7474-f4a1-4a00-a7dc-e419b86e0836\")>,\n",
       " <selenium.webdriver.remote.webelement.WebElement (session=\"07a214f6f14603707be5ac700bbe0a4b\", element=\"3b73a92e-f367-4588-a9df-5ed192b86fe8\")>,\n",
       " <selenium.webdriver.remote.webelement.WebElement (session=\"07a214f6f14603707be5ac700bbe0a4b\", element=\"c3b3b0bb-90b4-4566-8625-a3afaa50461b\")>,\n",
       " <selenium.webdriver.remote.webelement.WebElement (session=\"07a214f6f14603707be5ac700bbe0a4b\", element=\"a90a1689-1c3f-4123-ac2f-d7d6bb6023b8\")>,\n",
       " <selenium.webdriver.remote.webelement.WebElement (session=\"07a214f6f14603707be5ac700bbe0a4b\", element=\"e6265501-ba5a-43e2-b9ed-96e1e8fae5ad\")>,\n",
       " <selenium.webdriver.remote.webelement.WebElement (session=\"07a214f6f14603707be5ac700bbe0a4b\", element=\"a2cd9981-6095-4ede-94b3-a8d635f3fdeb\")>,\n",
       " <selenium.webdriver.remote.webelement.WebElement (session=\"07a214f6f14603707be5ac700bbe0a4b\", element=\"07362251-c5af-4660-ae88-a7be7e349e36\")>,\n",
       " <selenium.webdriver.remote.webelement.WebElement (session=\"07a214f6f14603707be5ac700bbe0a4b\", element=\"8773bfe6-9069-48b3-924a-7b24d7696e21\")>,\n",
       " <selenium.webdriver.remote.webelement.WebElement (session=\"07a214f6f14603707be5ac700bbe0a4b\", element=\"608c7eba-87fc-4854-b288-f6e88cab6a7e\")>,\n",
       " <selenium.webdriver.remote.webelement.WebElement (session=\"07a214f6f14603707be5ac700bbe0a4b\", element=\"416a3e6c-e99f-4e39-8741-2a70a97e7df2\")>,\n",
       " <selenium.webdriver.remote.webelement.WebElement (session=\"07a214f6f14603707be5ac700bbe0a4b\", element=\"63c6f193-5e8a-4894-99e7-5fca743b3a97\")>,\n",
       " <selenium.webdriver.remote.webelement.WebElement (session=\"07a214f6f14603707be5ac700bbe0a4b\", element=\"abd6b7fb-6208-4524-9872-a4e992d833a3\")>,\n",
       " <selenium.webdriver.remote.webelement.WebElement (session=\"07a214f6f14603707be5ac700bbe0a4b\", element=\"112dcbe9-1d2a-461c-960b-e90272c952c0\")>,\n",
       " <selenium.webdriver.remote.webelement.WebElement (session=\"07a214f6f14603707be5ac700bbe0a4b\", element=\"8a5cefc3-e92f-4a5f-8aac-94ea01a23076\")>,\n",
       " <selenium.webdriver.remote.webelement.WebElement (session=\"07a214f6f14603707be5ac700bbe0a4b\", element=\"efa90757-3a9f-4a6e-aa22-1740ab60e225\")>,\n",
       " <selenium.webdriver.remote.webelement.WebElement (session=\"07a214f6f14603707be5ac700bbe0a4b\", element=\"65de86fe-4fb0-428e-8942-7c3ca30de974\")>]"
      ]
     },
     "execution_count": 29,
     "metadata": {},
     "output_type": "execute_result"
    }
   ],
   "source": [
    "title_tag"
   ]
  },
  {
   "cell_type": "code",
   "execution_count": 30,
   "id": "211c1605",
   "metadata": {},
   "outputs": [],
   "source": [
    "for i in title_tag:\n",
    "    titles=i.text\n",
    "    title.append(titles)\n",
    "    "
   ]
  },
  {
   "cell_type": "code",
   "execution_count": 31,
   "id": "b362fb6b",
   "metadata": {},
   "outputs": [
    {
     "data": {
      "text/plain": [
       "['LG Gram 17 Ultra-Light Intel Evo 11th Gen Core i7,16 GB RAM, 512 GB SSD, Win-10, Iris Xe Graphics, 17-inches (43.18 cms), Thunderbolt 4, USC -C x 2 (with Power), 1.35 kg, 3 Yr Warranty (17Z90P, Black)',\n",
       " 'LG Gram 14 Ultralight Intel Evo 11th Gen Core i7,16 GB RAM, 512 GB SSD, Win-10, Iris Xe Graphics, 14-inches (35.56 cms), Thunderbolt 4, USC -Cx2 (with Power), 999 Grams, 3 Yr Warranty (14Z90P, Black)',\n",
       " 'ASUS TUF Gaming F17 (2021), 17.3-inch (43.94 cms) FHD 144Hz, Intel Core i7-11800H 11th Gen, GeForce RTX 3050 Ti 4GB Graphics, Gaming Laptop (16GB/1TB SSD/Windows 10/Eclipse Gray/2.6 Kg) FX766HE-HX022T',\n",
       " 'Dell 14 (2021) i7-1195G7 2in1 Touch Screen Laptop, 16GB, 512GB SSD, Win 10 + MS Office, 14.0\" (35.56 cms) FHD Display, Backlit KB, FPR + Active Pen, Platinum Silver (Inspiron 5410, D560596WIN9S)',\n",
       " 'HP Pavilion (2021) Intel 11th Gen Core i7 14 inches FHD Screen Thin & Light Laptop, 16 GB RAM, 1TB SSD, Iris Xe Graphics, Windows 10, MS Office, Backlit Keyboard, 1.41kg (14-dv0058TU)',\n",
       " 'Lenovo ThinkBook 15 Intel 11th Gen Core i7 15.6\"(39.62 cm)FHD IPS 300 nits Antiglare 100% sRGB Thin & Light Laptop(16GB/1TB HDD+128GB SSD/Windows 10/MS Office/3 Yr Onsite Warranty/1.7 Kg) 20VEA0HBIH',\n",
       " 'Acer Nitro 5 11th Gen Intel Core i7-11800H 15.6\" (39.62cms) Full HD Gaming Laptop (16 GB/256GB SSD/1 TB HDD/Win 10/RTX 3050 Ti 4GB Graphics/144 Hz, Black, 2.4 kg/RGB Backlit Keyboard) AN515-57',\n",
       " '(Renewed) Dell Intel Core i7 6th Gen 14-Inch(35.56 cms) 1366 x 768 HD Laptop (16GB RAM /1TB SSD/Windows 10 Pro/MS Office/ Intel HD Integrated Graphics/ 1.5Kg,Black) Latitude E5470',\n",
       " '(Renewed) Lenovo Thinkpad Hybrid Laptop T450s (Slim) Intel Core i7 - 5600u Processor, 12 GB Ram, 1TB Harddisk & 256 GB ssd, Windows 10 Pro, 14.1 Inches Notebook Computer',\n",
       " '(Renewed) Dell Intel Core i7 6th Gen 14-Inch(35.56 cms) 1366 x 768 HD Laptop (16GB RAM /1TB HDD/Windows 10 Pro/MS Office/ Intel HD Integrated Graphics/ 1.5Kg,Black) Latitude E5470',\n",
       " '(Renewed) Dell Latitude Touch Screen Laptop E7470 Intel Core i7 - 6600u Processor 6th Gen, 64 GB Ram & 2TB SSD, 14.1 Inches (Ultra Slim & Feather Light 1.54KG) Notebook Computer',\n",
       " '(Renewed) Dell Latitude Touch Screen Laptop E7470 Intel Core i7 - 6600u Processor 6th Gen, 8 GB Ram & 128 GB SSD, 14.1 Inches (Ultra Slim & Feather Light 1.54KG) Notebook Computer',\n",
       " '(Renewed) Dell Latitude Touch Screen Laptop E7470 Intel Core i7 - 6600u Processor 6th Gen, 16 GB Ram & 256 GB SSD, 14.1 Inches (Ultra Slim & Feather Light 1.54KG) Notebook Computer',\n",
       " '(Renewed) Dell Latitude Touch Screen Laptop E7470 Intel Core i7 - 6600u Processor 6th Gen, 8 GB Ram & 1TB SSD, 14.1 Inches (Ultra Slim & Feather Light 1.54KG) Notebook Computer',\n",
       " 'ASUS ZenBook 13 OLED (2021) Intel Core i7-1165G7 11th Gen 14\" (35.56cms) FHD Thin and Light Laptop (16GB/512GB SSD/Windows 10/Office 2019/Intel Iris Xᵉ Graphics/Pine Grey/1.14 kg), UX325EA-KG722TS',\n",
       " 'Lenovo Legion 5 11th Gen Intel Core i7 15.6\"(39.62cm) FHD IPS Gaming Laptop (16GB/512GB SSD/NVIDIA RTX 3050 4GB/120Hz Refresh Rate/Windows 10/MS Office/Backlit Keyboard/Phantom Blue/2.4Kg), 82JK007WIN',\n",
       " 'MSI Prestige 14EVO, Intel i7-1185G7, 14\" (35.56 cm) FHD IPS-Level 60Hz Panel Laptop (16GB/512GB NVMe SSD/Windows 10 Home/Carbon Grey/1.29Kg), A11M-463IN',\n",
       " '(Renewed) Dell Latitude Touch Screen Laptop E7470 Intel Core i7 - 6600u Processor 6th Gen, 32 GB Ram & 512 GB SSD, 14.1 Inches (Ultra Slim & Feather Light 1.54KG) Notebook Computer',\n",
       " '(Renewed) Dell Latitude Laptop E7470 Intel Core i7 - 6600u Processor 6th Gen, 32 GB Ram & 256 GB SSD, 14.1 Inches (Ultra Slim & Feather Light 1.54KG) Notebook Computer',\n",
       " '(Renewed) Dell Latitude Touch Screen Laptop E7470 Intel Core i7 - 6600u Processor 6th Gen, 16 GB Ram & 512 GB SSD, 14.1 Inches (Ultra Slim & Feather Light 1.54KG) Notebook Computer',\n",
       " '(Renewed) Dell Latitude Touch Screen Laptop E7470 Intel Core i7 - 6600u Processor 6th Gen, 32 GB Ram & 128 GB SSD, 14.1 Inches (Ultra Slim & Feather Light 1.54KG) Notebook Computer',\n",
       " 'Mi Notebook Horizon Edition 14 Intel Core i7-10510U 10th Gen Thin and Light Laptop(8GB/512GB SSD/Windows 10/Nvidia MX350 2GB Graphics/Grey/1.35Kg)(Without Webcam) XMA1904-AF',\n",
       " 'ASUS TUF Dash F15 15.6-inch FHD 144Hz, Intel Core i7-11370H 11th Gen RTX 3050 4GB Gaming Laptop (16GB RAM/512GB SSD/Win10/White/2 kg)+ Wireless Mouse + Microsoft 365 Personal 12-Month Subscription',\n",
       " 'Lenovo Yoga 7i 11th Gen Intel Core i7-1165G7 14 inches FHD IPS 2-in-1 Touchscreen Business Laptop (16GB/512GB SSD/Windows 10/MS Office/Digital Pen/Fingerprint Reader/Slate Grey/1.43Kg), 82BH004HIN',\n",
       " '(Renewed) Dell Latitude Touch Screen Laptop E7470 Intel Core i7 - 6600u Processor 6th Gen, 32 GB Ram & 256 GB SSD, 14.1 Inches (Ultra Slim & Feather Light 1.54KG) Notebook Computer',\n",
       " '(Renewed) Dell Latitude Touch Screen Laptop E7470 Intel Core i7 - 6600u Processor 6th Gen, 16 GB Ram & 1TB SSD, 14.1 Inches (Ultra Slim & Feather Light 1.54KG) Notebook Computer',\n",
       " 'HP Pavilion 13(2021) 11th Gen Intel Core i7 Laptop, 16GB RAM, 1TB SSD, 13.3-inch(33.8 cm) FHD Screen, Win 10, MS Office, Ceramic White, 1.24 Kg (13-bb0078TU)',\n",
       " 'HP Pavilion x360 11th Gen Intel Core i7 14-inch(35.6 cm) Touchscreen 2-in-1 FHD Laptop (16GB/512GB SSD/Fingerprint Reader/Windows 10/MS Office/Natural Silver/1.41 Kg), 14-dy0050TU',\n",
       " 'HP Envy Intel 11th Gen Core i7 Processor 13.3 inches FHD Touchscreen Gaming Laptop (16GB/1TB SSD/Windows 10/NVIDIA MX450 2GB/Natural Silver/1.3 kg), 13-ba1018TX',\n",
       " 'ASUS ZenBook 14 (2020) Intel Core i7-1165G7 11th Gen 14-inch (35.56 cms) FHD Thin & Light Laptop (16GB/512GB SSD/Office 2019/Windows 10/Intel Iris Xᵉ Graphics/Pine Grey/1.17 kg), UX425EA-KI701TS']"
      ]
     },
     "execution_count": 31,
     "metadata": {},
     "output_type": "execute_result"
    }
   ],
   "source": [
    "title"
   ]
  },
  {
   "cell_type": "code",
   "execution_count": 32,
   "id": "6bb79987",
   "metadata": {},
   "outputs": [
    {
     "data": {
      "text/plain": [
       "30"
      ]
     },
     "execution_count": 32,
     "metadata": {},
     "output_type": "execute_result"
    }
   ],
   "source": [
    "len(title)"
   ]
  },
  {
   "cell_type": "code",
   "execution_count": 33,
   "id": "c3ecc170",
   "metadata": {},
   "outputs": [],
   "source": [
    "price_tag=driver.find_elements_by_xpath(\"//span[@class='a-price-whole']\")"
   ]
  },
  {
   "cell_type": "code",
   "execution_count": 34,
   "id": "50574386",
   "metadata": {
    "collapsed": true
   },
   "outputs": [
    {
     "data": {
      "text/plain": [
       "[<selenium.webdriver.remote.webelement.WebElement (session=\"07a214f6f14603707be5ac700bbe0a4b\", element=\"c25a9b9d-4709-4afe-bf98-5cb6415534ca\")>,\n",
       " <selenium.webdriver.remote.webelement.WebElement (session=\"07a214f6f14603707be5ac700bbe0a4b\", element=\"2c7a6399-8220-4110-bf7f-0a44837eb6c6\")>,\n",
       " <selenium.webdriver.remote.webelement.WebElement (session=\"07a214f6f14603707be5ac700bbe0a4b\", element=\"3a29aec8-7692-4207-94c1-1289e91cb7d8\")>,\n",
       " <selenium.webdriver.remote.webelement.WebElement (session=\"07a214f6f14603707be5ac700bbe0a4b\", element=\"6f9e7a99-47ee-49a0-8519-6778cc248da6\")>,\n",
       " <selenium.webdriver.remote.webelement.WebElement (session=\"07a214f6f14603707be5ac700bbe0a4b\", element=\"85090a2c-0fec-4554-bada-23738e090c73\")>,\n",
       " <selenium.webdriver.remote.webelement.WebElement (session=\"07a214f6f14603707be5ac700bbe0a4b\", element=\"9af4b1b9-7ae8-4eac-b48d-fb1892039b87\")>,\n",
       " <selenium.webdriver.remote.webelement.WebElement (session=\"07a214f6f14603707be5ac700bbe0a4b\", element=\"bd09aea8-b117-49bd-8574-295585bba240\")>,\n",
       " <selenium.webdriver.remote.webelement.WebElement (session=\"07a214f6f14603707be5ac700bbe0a4b\", element=\"3d9a885d-ded2-46f5-b121-47388970a79d\")>,\n",
       " <selenium.webdriver.remote.webelement.WebElement (session=\"07a214f6f14603707be5ac700bbe0a4b\", element=\"44ed43bc-6af9-47cf-adfb-0b8a2c9cd291\")>,\n",
       " <selenium.webdriver.remote.webelement.WebElement (session=\"07a214f6f14603707be5ac700bbe0a4b\", element=\"24810821-fc5d-46f5-8b4f-59a8d47490f6\")>,\n",
       " <selenium.webdriver.remote.webelement.WebElement (session=\"07a214f6f14603707be5ac700bbe0a4b\", element=\"6f7fcc43-63ec-4efc-8ece-b70ac82183dc\")>,\n",
       " <selenium.webdriver.remote.webelement.WebElement (session=\"07a214f6f14603707be5ac700bbe0a4b\", element=\"76f397dd-8197-4b42-9767-9135e4327871\")>,\n",
       " <selenium.webdriver.remote.webelement.WebElement (session=\"07a214f6f14603707be5ac700bbe0a4b\", element=\"60a50f6d-d562-4f6a-9cc6-a5ec1782f7af\")>,\n",
       " <selenium.webdriver.remote.webelement.WebElement (session=\"07a214f6f14603707be5ac700bbe0a4b\", element=\"2555a2ff-ed35-4e49-be31-5373eb6b3c3c\")>,\n",
       " <selenium.webdriver.remote.webelement.WebElement (session=\"07a214f6f14603707be5ac700bbe0a4b\", element=\"cd628003-3673-499f-87f1-8371bd004199\")>,\n",
       " <selenium.webdriver.remote.webelement.WebElement (session=\"07a214f6f14603707be5ac700bbe0a4b\", element=\"afa20139-0668-4f0a-8aa8-36e39774ccad\")>,\n",
       " <selenium.webdriver.remote.webelement.WebElement (session=\"07a214f6f14603707be5ac700bbe0a4b\", element=\"7331951e-8342-480e-8c63-c9e6214e7b9f\")>,\n",
       " <selenium.webdriver.remote.webelement.WebElement (session=\"07a214f6f14603707be5ac700bbe0a4b\", element=\"4e179301-b50c-4df3-8f5b-6b0fc9938f43\")>,\n",
       " <selenium.webdriver.remote.webelement.WebElement (session=\"07a214f6f14603707be5ac700bbe0a4b\", element=\"bf24feb1-4f89-457b-bdfa-2f7e4ed5e942\")>,\n",
       " <selenium.webdriver.remote.webelement.WebElement (session=\"07a214f6f14603707be5ac700bbe0a4b\", element=\"862adb8a-6c2f-439e-a2c2-229ce99d3d36\")>,\n",
       " <selenium.webdriver.remote.webelement.WebElement (session=\"07a214f6f14603707be5ac700bbe0a4b\", element=\"33e110b7-d043-4cd8-99e1-ff894bb871d6\")>,\n",
       " <selenium.webdriver.remote.webelement.WebElement (session=\"07a214f6f14603707be5ac700bbe0a4b\", element=\"3b71a253-3390-42d8-845d-2810956185ab\")>,\n",
       " <selenium.webdriver.remote.webelement.WebElement (session=\"07a214f6f14603707be5ac700bbe0a4b\", element=\"4d5aaad9-5214-45ad-a2c3-2bdfbcf53cca\")>,\n",
       " <selenium.webdriver.remote.webelement.WebElement (session=\"07a214f6f14603707be5ac700bbe0a4b\", element=\"d25cf265-df90-4c38-b255-c66bb14df20e\")>,\n",
       " <selenium.webdriver.remote.webelement.WebElement (session=\"07a214f6f14603707be5ac700bbe0a4b\", element=\"a5f5b22e-c44a-4830-b6a7-6ac461c5e8dc\")>,\n",
       " <selenium.webdriver.remote.webelement.WebElement (session=\"07a214f6f14603707be5ac700bbe0a4b\", element=\"45ae69e2-6c30-41eb-9116-eff09c26bea2\")>,\n",
       " <selenium.webdriver.remote.webelement.WebElement (session=\"07a214f6f14603707be5ac700bbe0a4b\", element=\"099459ad-8c5b-4e3e-a479-a65ce3bb166a\")>,\n",
       " <selenium.webdriver.remote.webelement.WebElement (session=\"07a214f6f14603707be5ac700bbe0a4b\", element=\"4013ba16-2149-44a1-a09b-51b92c9df890\")>,\n",
       " <selenium.webdriver.remote.webelement.WebElement (session=\"07a214f6f14603707be5ac700bbe0a4b\", element=\"7e97c7c2-efad-47de-90b9-101a30a1e7a6\")>,\n",
       " <selenium.webdriver.remote.webelement.WebElement (session=\"07a214f6f14603707be5ac700bbe0a4b\", element=\"3f66fc60-7d4a-4370-94fd-976676a063a6\")>]"
      ]
     },
     "execution_count": 34,
     "metadata": {},
     "output_type": "execute_result"
    }
   ],
   "source": [
    "price_tag"
   ]
  },
  {
   "cell_type": "code",
   "execution_count": 35,
   "id": "918606fb",
   "metadata": {},
   "outputs": [],
   "source": [
    "for i in price_tag:\n",
    "    prices=i.text\n",
    "    price.append(prices)"
   ]
  },
  {
   "cell_type": "code",
   "execution_count": 36,
   "id": "20b0ac4b",
   "metadata": {},
   "outputs": [
    {
     "data": {
      "text/plain": [
       "['1,06,057',\n",
       " '87,999',\n",
       " '1,13,990',\n",
       " '88,490',\n",
       " '84,990',\n",
       " '85,990',\n",
       " '85,990',\n",
       " '57,999',\n",
       " '39,990',\n",
       " '47,999',\n",
       " '99,990',\n",
       " '46,990',\n",
       " '53,990',\n",
       " '54,990',\n",
       " '96,990',\n",
       " '1,04,990',\n",
       " '94,990',\n",
       " '68,990',\n",
       " '62,990',\n",
       " '56,990',\n",
       " '64,990',\n",
       " '58,990',\n",
       " '85,590',\n",
       " '1,09,990',\n",
       " '65,990',\n",
       " '60,990',\n",
       " '89,900',\n",
       " '84,990',\n",
       " '1,25,000',\n",
       " '96,690']"
      ]
     },
     "execution_count": 36,
     "metadata": {},
     "output_type": "execute_result"
    }
   ],
   "source": [
    "price\n",
    "    "
   ]
  },
  {
   "cell_type": "code",
   "execution_count": 37,
   "id": "647b5838",
   "metadata": {},
   "outputs": [],
   "source": [
    "rating_tag=driver.find_elements_by_xpath(\"//i[@class='a-icon a-icon-star-small a-star-small-4-5 aok-align-bottom']\")"
   ]
  },
  {
   "cell_type": "code",
   "execution_count": 40,
   "id": "45099b17",
   "metadata": {},
   "outputs": [],
   "source": [
    "for i in rating_tag:\n",
    "    ratings=i\n",
    "    rating.append(ratings)"
   ]
  },
  {
   "cell_type": "code",
   "execution_count": 41,
   "id": "4986099e",
   "metadata": {},
   "outputs": [
    {
     "data": {
      "text/plain": [
       "['',\n",
       " '',\n",
       " '',\n",
       " '',\n",
       " '',\n",
       " '',\n",
       " '',\n",
       " '',\n",
       " '',\n",
       " <selenium.webdriver.remote.webelement.WebElement (session=\"07a214f6f14603707be5ac700bbe0a4b\", element=\"4a32af18-0dc9-4a60-a6c0-9ddf4ff32ad8\")>,\n",
       " <selenium.webdriver.remote.webelement.WebElement (session=\"07a214f6f14603707be5ac700bbe0a4b\", element=\"fba898b0-a757-450f-a6e4-7e58b0dc0512\")>,\n",
       " <selenium.webdriver.remote.webelement.WebElement (session=\"07a214f6f14603707be5ac700bbe0a4b\", element=\"2c638fb4-6a03-454d-b6ef-a7f397eea065\")>,\n",
       " <selenium.webdriver.remote.webelement.WebElement (session=\"07a214f6f14603707be5ac700bbe0a4b\", element=\"8a55ea3d-0cc6-4d6a-bd4c-8e8a9de99d94\")>,\n",
       " <selenium.webdriver.remote.webelement.WebElement (session=\"07a214f6f14603707be5ac700bbe0a4b\", element=\"ae035e11-c95f-4074-b7d8-b0f662bf4b99\")>,\n",
       " <selenium.webdriver.remote.webelement.WebElement (session=\"07a214f6f14603707be5ac700bbe0a4b\", element=\"379d78be-e7dd-4e97-835d-f46dfeb5289f\")>,\n",
       " <selenium.webdriver.remote.webelement.WebElement (session=\"07a214f6f14603707be5ac700bbe0a4b\", element=\"87662df3-60ac-4675-9425-f63797b0b09d\")>,\n",
       " <selenium.webdriver.remote.webelement.WebElement (session=\"07a214f6f14603707be5ac700bbe0a4b\", element=\"93fadd2c-a80d-45ff-8c21-41db79310e91\")>,\n",
       " <selenium.webdriver.remote.webelement.WebElement (session=\"07a214f6f14603707be5ac700bbe0a4b\", element=\"b7a62838-37ef-4bea-80ce-4f1aedbd9a6d\")>]"
      ]
     },
     "execution_count": 41,
     "metadata": {},
     "output_type": "execute_result"
    }
   ],
   "source": [
    "rating"
   ]
  },
  {
   "cell_type": "code",
   "execution_count": 46,
   "id": "0b6d6cc0",
   "metadata": {},
   "outputs": [],
   "source": [
    "laptop=pd.DataFrame({})"
   ]
  },
  {
   "cell_type": "code",
   "execution_count": 48,
   "id": "09a7f664",
   "metadata": {},
   "outputs": [],
   "source": [
    "laptop['NAME']=title[0:10]\n",
    "laptop['PRICE']=price[0:10]"
   ]
  },
  {
   "cell_type": "code",
   "execution_count": 49,
   "id": "a7ea075f",
   "metadata": {},
   "outputs": [
    {
     "data": {
      "text/html": [
       "<div>\n",
       "<style scoped>\n",
       "    .dataframe tbody tr th:only-of-type {\n",
       "        vertical-align: middle;\n",
       "    }\n",
       "\n",
       "    .dataframe tbody tr th {\n",
       "        vertical-align: top;\n",
       "    }\n",
       "\n",
       "    .dataframe thead th {\n",
       "        text-align: right;\n",
       "    }\n",
       "</style>\n",
       "<table border=\"1\" class=\"dataframe\">\n",
       "  <thead>\n",
       "    <tr style=\"text-align: right;\">\n",
       "      <th></th>\n",
       "      <th>NAME</th>\n",
       "      <th>PRICE</th>\n",
       "    </tr>\n",
       "  </thead>\n",
       "  <tbody>\n",
       "    <tr>\n",
       "      <th>0</th>\n",
       "      <td>LG Gram 17 Ultra-Light Intel Evo 11th Gen Core...</td>\n",
       "      <td>1,06,057</td>\n",
       "    </tr>\n",
       "    <tr>\n",
       "      <th>1</th>\n",
       "      <td>LG Gram 14 Ultralight Intel Evo 11th Gen Core ...</td>\n",
       "      <td>87,999</td>\n",
       "    </tr>\n",
       "    <tr>\n",
       "      <th>2</th>\n",
       "      <td>ASUS TUF Gaming F17 (2021), 17.3-inch (43.94 c...</td>\n",
       "      <td>1,13,990</td>\n",
       "    </tr>\n",
       "    <tr>\n",
       "      <th>3</th>\n",
       "      <td>Dell 14 (2021) i7-1195G7 2in1 Touch Screen Lap...</td>\n",
       "      <td>88,490</td>\n",
       "    </tr>\n",
       "    <tr>\n",
       "      <th>4</th>\n",
       "      <td>HP Pavilion (2021) Intel 11th Gen Core i7 14 i...</td>\n",
       "      <td>84,990</td>\n",
       "    </tr>\n",
       "    <tr>\n",
       "      <th>5</th>\n",
       "      <td>Lenovo ThinkBook 15 Intel 11th Gen Core i7 15....</td>\n",
       "      <td>85,990</td>\n",
       "    </tr>\n",
       "    <tr>\n",
       "      <th>6</th>\n",
       "      <td>Acer Nitro 5 11th Gen Intel Core i7-11800H 15....</td>\n",
       "      <td>85,990</td>\n",
       "    </tr>\n",
       "    <tr>\n",
       "      <th>7</th>\n",
       "      <td>(Renewed) Dell Intel Core i7 6th Gen 14-Inch(3...</td>\n",
       "      <td>57,999</td>\n",
       "    </tr>\n",
       "    <tr>\n",
       "      <th>8</th>\n",
       "      <td>(Renewed) Lenovo Thinkpad Hybrid Laptop T450s ...</td>\n",
       "      <td>39,990</td>\n",
       "    </tr>\n",
       "    <tr>\n",
       "      <th>9</th>\n",
       "      <td>(Renewed) Dell Intel Core i7 6th Gen 14-Inch(3...</td>\n",
       "      <td>47,999</td>\n",
       "    </tr>\n",
       "  </tbody>\n",
       "</table>\n",
       "</div>"
      ],
      "text/plain": [
       "                                                NAME     PRICE\n",
       "0  LG Gram 17 Ultra-Light Intel Evo 11th Gen Core...  1,06,057\n",
       "1  LG Gram 14 Ultralight Intel Evo 11th Gen Core ...    87,999\n",
       "2  ASUS TUF Gaming F17 (2021), 17.3-inch (43.94 c...  1,13,990\n",
       "3  Dell 14 (2021) i7-1195G7 2in1 Touch Screen Lap...    88,490\n",
       "4  HP Pavilion (2021) Intel 11th Gen Core i7 14 i...    84,990\n",
       "5  Lenovo ThinkBook 15 Intel 11th Gen Core i7 15....    85,990\n",
       "6  Acer Nitro 5 11th Gen Intel Core i7-11800H 15....    85,990\n",
       "7  (Renewed) Dell Intel Core i7 6th Gen 14-Inch(3...    57,999\n",
       "8  (Renewed) Lenovo Thinkpad Hybrid Laptop T450s ...    39,990\n",
       "9  (Renewed) Dell Intel Core i7 6th Gen 14-Inch(3...    47,999"
      ]
     },
     "execution_count": 49,
     "metadata": {},
     "output_type": "execute_result"
    }
   ],
   "source": [
    "laptop"
   ]
  },
  {
   "cell_type": "markdown",
   "id": "ac2c9e71",
   "metadata": {},
   "source": [
    "# 9)job details from ambitionbox"
   ]
  },
  {
   "cell_type": "code",
   "execution_count": 416,
   "id": "0c84e5af",
   "metadata": {},
   "outputs": [],
   "source": [
    "driver.get(\"https://www.ambitionbox.com/\")"
   ]
  },
  {
   "cell_type": "code",
   "execution_count": 417,
   "id": "3f67de13",
   "metadata": {},
   "outputs": [],
   "source": [
    "job=driver.find_elements_by_xpath(\"//a[@class='link jobs']\")"
   ]
  },
  {
   "cell_type": "code",
   "execution_count": 418,
   "id": "2296fc08",
   "metadata": {},
   "outputs": [],
   "source": [
    "for i in job:\n",
    "    if i.text=='Jobs':\n",
    "        i.click()\n",
    "        break"
   ]
  },
  {
   "cell_type": "code",
   "execution_count": 419,
   "id": "fc4ce708",
   "metadata": {},
   "outputs": [],
   "source": [
    "search_job=driver.find_element_by_xpath(\"//input[@class='input tt-input']\")"
   ]
  },
  {
   "cell_type": "code",
   "execution_count": 420,
   "id": "7b44d0c9",
   "metadata": {},
   "outputs": [],
   "source": [
    "search_job.send_keys(\"Data Scientist\")"
   ]
  },
  {
   "cell_type": "code",
   "execution_count": 421,
   "id": "ee2dd818",
   "metadata": {},
   "outputs": [],
   "source": [
    "search_btn=driver.find_element_by_xpath(\"//span[@class='ctas-btn-medium']\")"
   ]
  },
  {
   "cell_type": "code",
   "execution_count": 422,
   "id": "ff3447f2",
   "metadata": {},
   "outputs": [],
   "source": [
    "search_btn.click()"
   ]
  },
  {
   "cell_type": "code",
   "execution_count": 423,
   "id": "ca5a8b88",
   "metadata": {},
   "outputs": [],
   "source": [
    "location_clk=driver.find_elements_by_xpath(\"//p[@class='body-medium text-capitalize undefined']\")"
   ]
  },
  {
   "cell_type": "code",
   "execution_count": 424,
   "id": "7a49fac2",
   "metadata": {},
   "outputs": [],
   "source": [
    "for i in location_clk:\n",
    "    if i.text=='Location':\n",
    "        i.click()\n",
    "        break"
   ]
  },
  {
   "cell_type": "code",
   "execution_count": 452,
   "id": "1157a051",
   "metadata": {},
   "outputs": [],
   "source": [
    "searchn=driver.find_element_by_id('location_Noida')"
   ]
  },
  {
   "cell_type": "code",
   "execution_count": 454,
   "id": "b023d9ad",
   "metadata": {
    "collapsed": true
   },
   "outputs": [
    {
     "ename": "ElementNotInteractableException",
     "evalue": "Message: element not interactable\n  (Session info: chrome=95.0.4638.69)\nStacktrace:\n0   chromedriver                        0x000000010336f89c __gxx_personality_v0 + 538736\n1   chromedriver                        0x0000000103305b64 __gxx_personality_v0 + 105272\n2   chromedriver                        0x0000000102f0e9a0 chromedriver + 158112\n3   chromedriver                        0x0000000102f3ef00 chromedriver + 356096\n4   chromedriver                        0x0000000102f34c14 chromedriver + 314388\n5   chromedriver                        0x0000000102f34a14 chromedriver + 313876\n6   chromedriver                        0x0000000102f6738c chromedriver + 521100\n7   chromedriver                        0x0000000102f334d8 chromedriver + 308440\n8   chromedriver                        0x0000000103332ca0 __gxx_personality_v0 + 289908\n9   chromedriver                        0x0000000103346dc8 __gxx_personality_v0 + 372124\n10  chromedriver                        0x000000010334b94c __gxx_personality_v0 + 391456\n11  chromedriver                        0x0000000103347d04 __gxx_personality_v0 + 376024\n12  chromedriver                        0x0000000103328c88 __gxx_personality_v0 + 248924\n13  chromedriver                        0x0000000103360bd0 __gxx_personality_v0 + 478116\n14  chromedriver                        0x0000000103360d44 __gxx_personality_v0 + 478488\n15  chromedriver                        0x0000000103376458 __gxx_personality_v0 + 566316\n16  libsystem_pthread.dylib             0x000000018934f878 _pthread_start + 320\n17  libsystem_pthread.dylib             0x000000018934a5e0 thread_start + 8\n",
     "output_type": "error",
     "traceback": [
      "\u001b[0;31m---------------------------------------------------------------------------\u001b[0m",
      "\u001b[0;31mElementNotInteractableException\u001b[0m           Traceback (most recent call last)",
      "\u001b[0;32m<ipython-input-454-caa4d171fba3>\u001b[0m in \u001b[0;36m<module>\u001b[0;34m\u001b[0m\n\u001b[0;32m----> 1\u001b[0;31m \u001b[0msearchn\u001b[0m\u001b[0;34m.\u001b[0m\u001b[0mclick\u001b[0m\u001b[0;34m(\u001b[0m\u001b[0;34m)\u001b[0m\u001b[0;34m\u001b[0m\u001b[0;34m\u001b[0m\u001b[0m\n\u001b[0m",
      "\u001b[0;32m~/opt/anaconda3/lib/python3.8/site-packages/selenium/webdriver/remote/webelement.py\u001b[0m in \u001b[0;36mclick\u001b[0;34m(self)\u001b[0m\n\u001b[1;32m     78\u001b[0m     \u001b[0;32mdef\u001b[0m \u001b[0mclick\u001b[0m\u001b[0;34m(\u001b[0m\u001b[0mself\u001b[0m\u001b[0;34m)\u001b[0m \u001b[0;34m->\u001b[0m \u001b[0;32mNone\u001b[0m\u001b[0;34m:\u001b[0m\u001b[0;34m\u001b[0m\u001b[0;34m\u001b[0m\u001b[0m\n\u001b[1;32m     79\u001b[0m         \u001b[0;34m\"\"\"Clicks the element.\"\"\"\u001b[0m\u001b[0;34m\u001b[0m\u001b[0;34m\u001b[0m\u001b[0m\n\u001b[0;32m---> 80\u001b[0;31m         \u001b[0mself\u001b[0m\u001b[0;34m.\u001b[0m\u001b[0m_execute\u001b[0m\u001b[0;34m(\u001b[0m\u001b[0mCommand\u001b[0m\u001b[0;34m.\u001b[0m\u001b[0mCLICK_ELEMENT\u001b[0m\u001b[0;34m)\u001b[0m\u001b[0;34m\u001b[0m\u001b[0;34m\u001b[0m\u001b[0m\n\u001b[0m\u001b[1;32m     81\u001b[0m \u001b[0;34m\u001b[0m\u001b[0m\n\u001b[1;32m     82\u001b[0m     \u001b[0;32mdef\u001b[0m \u001b[0msubmit\u001b[0m\u001b[0;34m(\u001b[0m\u001b[0mself\u001b[0m\u001b[0;34m)\u001b[0m\u001b[0;34m:\u001b[0m\u001b[0;34m\u001b[0m\u001b[0;34m\u001b[0m\u001b[0m\n",
      "\u001b[0;32m~/opt/anaconda3/lib/python3.8/site-packages/selenium/webdriver/remote/webelement.py\u001b[0m in \u001b[0;36m_execute\u001b[0;34m(self, command, params)\u001b[0m\n\u001b[1;32m    691\u001b[0m             \u001b[0mparams\u001b[0m \u001b[0;34m=\u001b[0m \u001b[0;34m{\u001b[0m\u001b[0;34m}\u001b[0m\u001b[0;34m\u001b[0m\u001b[0;34m\u001b[0m\u001b[0m\n\u001b[1;32m    692\u001b[0m         \u001b[0mparams\u001b[0m\u001b[0;34m[\u001b[0m\u001b[0;34m'id'\u001b[0m\u001b[0;34m]\u001b[0m \u001b[0;34m=\u001b[0m \u001b[0mself\u001b[0m\u001b[0;34m.\u001b[0m\u001b[0m_id\u001b[0m\u001b[0;34m\u001b[0m\u001b[0;34m\u001b[0m\u001b[0m\n\u001b[0;32m--> 693\u001b[0;31m         \u001b[0;32mreturn\u001b[0m \u001b[0mself\u001b[0m\u001b[0;34m.\u001b[0m\u001b[0m_parent\u001b[0m\u001b[0;34m.\u001b[0m\u001b[0mexecute\u001b[0m\u001b[0;34m(\u001b[0m\u001b[0mcommand\u001b[0m\u001b[0;34m,\u001b[0m \u001b[0mparams\u001b[0m\u001b[0;34m)\u001b[0m\u001b[0;34m\u001b[0m\u001b[0;34m\u001b[0m\u001b[0m\n\u001b[0m\u001b[1;32m    694\u001b[0m \u001b[0;34m\u001b[0m\u001b[0m\n\u001b[1;32m    695\u001b[0m     \u001b[0;32mdef\u001b[0m \u001b[0mfind_element\u001b[0m\u001b[0;34m(\u001b[0m\u001b[0mself\u001b[0m\u001b[0;34m,\u001b[0m \u001b[0mby\u001b[0m\u001b[0;34m=\u001b[0m\u001b[0mBy\u001b[0m\u001b[0;34m.\u001b[0m\u001b[0mID\u001b[0m\u001b[0;34m,\u001b[0m \u001b[0mvalue\u001b[0m\u001b[0;34m=\u001b[0m\u001b[0;32mNone\u001b[0m\u001b[0;34m)\u001b[0m\u001b[0;34m:\u001b[0m\u001b[0;34m\u001b[0m\u001b[0;34m\u001b[0m\u001b[0m\n",
      "\u001b[0;32m~/opt/anaconda3/lib/python3.8/site-packages/selenium/webdriver/remote/webdriver.py\u001b[0m in \u001b[0;36mexecute\u001b[0;34m(self, driver_command, params)\u001b[0m\n\u001b[1;32m    416\u001b[0m         \u001b[0mresponse\u001b[0m \u001b[0;34m=\u001b[0m \u001b[0mself\u001b[0m\u001b[0;34m.\u001b[0m\u001b[0mcommand_executor\u001b[0m\u001b[0;34m.\u001b[0m\u001b[0mexecute\u001b[0m\u001b[0;34m(\u001b[0m\u001b[0mdriver_command\u001b[0m\u001b[0;34m,\u001b[0m \u001b[0mparams\u001b[0m\u001b[0;34m)\u001b[0m\u001b[0;34m\u001b[0m\u001b[0;34m\u001b[0m\u001b[0m\n\u001b[1;32m    417\u001b[0m         \u001b[0;32mif\u001b[0m \u001b[0mresponse\u001b[0m\u001b[0;34m:\u001b[0m\u001b[0;34m\u001b[0m\u001b[0;34m\u001b[0m\u001b[0m\n\u001b[0;32m--> 418\u001b[0;31m             \u001b[0mself\u001b[0m\u001b[0;34m.\u001b[0m\u001b[0merror_handler\u001b[0m\u001b[0;34m.\u001b[0m\u001b[0mcheck_response\u001b[0m\u001b[0;34m(\u001b[0m\u001b[0mresponse\u001b[0m\u001b[0;34m)\u001b[0m\u001b[0;34m\u001b[0m\u001b[0;34m\u001b[0m\u001b[0m\n\u001b[0m\u001b[1;32m    419\u001b[0m             response['value'] = self._unwrap_value(\n\u001b[1;32m    420\u001b[0m                 response.get('value', None))\n",
      "\u001b[0;32m~/opt/anaconda3/lib/python3.8/site-packages/selenium/webdriver/remote/errorhandler.py\u001b[0m in \u001b[0;36mcheck_response\u001b[0;34m(self, response)\u001b[0m\n\u001b[1;32m    241\u001b[0m                 \u001b[0malert_text\u001b[0m \u001b[0;34m=\u001b[0m \u001b[0mvalue\u001b[0m\u001b[0;34m[\u001b[0m\u001b[0;34m'alert'\u001b[0m\u001b[0;34m]\u001b[0m\u001b[0;34m.\u001b[0m\u001b[0mget\u001b[0m\u001b[0;34m(\u001b[0m\u001b[0;34m'text'\u001b[0m\u001b[0;34m)\u001b[0m\u001b[0;34m\u001b[0m\u001b[0;34m\u001b[0m\u001b[0m\n\u001b[1;32m    242\u001b[0m             \u001b[0;32mraise\u001b[0m \u001b[0mexception_class\u001b[0m\u001b[0;34m(\u001b[0m\u001b[0mmessage\u001b[0m\u001b[0;34m,\u001b[0m \u001b[0mscreen\u001b[0m\u001b[0;34m,\u001b[0m \u001b[0mstacktrace\u001b[0m\u001b[0;34m,\u001b[0m \u001b[0malert_text\u001b[0m\u001b[0;34m)\u001b[0m  \u001b[0;31m# type: ignore[call-arg]  # mypy is not smart enough here\u001b[0m\u001b[0;34m\u001b[0m\u001b[0;34m\u001b[0m\u001b[0m\n\u001b[0;32m--> 243\u001b[0;31m         \u001b[0;32mraise\u001b[0m \u001b[0mexception_class\u001b[0m\u001b[0;34m(\u001b[0m\u001b[0mmessage\u001b[0m\u001b[0;34m,\u001b[0m \u001b[0mscreen\u001b[0m\u001b[0;34m,\u001b[0m \u001b[0mstacktrace\u001b[0m\u001b[0;34m)\u001b[0m\u001b[0;34m\u001b[0m\u001b[0;34m\u001b[0m\u001b[0m\n\u001b[0m\u001b[1;32m    244\u001b[0m \u001b[0;34m\u001b[0m\u001b[0m\n\u001b[1;32m    245\u001b[0m     \u001b[0;32mdef\u001b[0m \u001b[0m_value_or_default\u001b[0m\u001b[0;34m(\u001b[0m\u001b[0mself\u001b[0m\u001b[0;34m,\u001b[0m \u001b[0mobj\u001b[0m\u001b[0;34m:\u001b[0m \u001b[0mMapping\u001b[0m\u001b[0;34m[\u001b[0m\u001b[0m_KT\u001b[0m\u001b[0;34m,\u001b[0m \u001b[0m_VT\u001b[0m\u001b[0;34m]\u001b[0m\u001b[0;34m,\u001b[0m \u001b[0mkey\u001b[0m\u001b[0;34m:\u001b[0m \u001b[0m_KT\u001b[0m\u001b[0;34m,\u001b[0m \u001b[0mdefault\u001b[0m\u001b[0;34m:\u001b[0m \u001b[0m_VT\u001b[0m\u001b[0;34m)\u001b[0m \u001b[0;34m->\u001b[0m \u001b[0m_VT\u001b[0m\u001b[0;34m:\u001b[0m\u001b[0;34m\u001b[0m\u001b[0;34m\u001b[0m\u001b[0m\n",
      "\u001b[0;31mElementNotInteractableException\u001b[0m: Message: element not interactable\n  (Session info: chrome=95.0.4638.69)\nStacktrace:\n0   chromedriver                        0x000000010336f89c __gxx_personality_v0 + 538736\n1   chromedriver                        0x0000000103305b64 __gxx_personality_v0 + 105272\n2   chromedriver                        0x0000000102f0e9a0 chromedriver + 158112\n3   chromedriver                        0x0000000102f3ef00 chromedriver + 356096\n4   chromedriver                        0x0000000102f34c14 chromedriver + 314388\n5   chromedriver                        0x0000000102f34a14 chromedriver + 313876\n6   chromedriver                        0x0000000102f6738c chromedriver + 521100\n7   chromedriver                        0x0000000102f334d8 chromedriver + 308440\n8   chromedriver                        0x0000000103332ca0 __gxx_personality_v0 + 289908\n9   chromedriver                        0x0000000103346dc8 __gxx_personality_v0 + 372124\n10  chromedriver                        0x000000010334b94c __gxx_personality_v0 + 391456\n11  chromedriver                        0x0000000103347d04 __gxx_personality_v0 + 376024\n12  chromedriver                        0x0000000103328c88 __gxx_personality_v0 + 248924\n13  chromedriver                        0x0000000103360bd0 __gxx_personality_v0 + 478116\n14  chromedriver                        0x0000000103360d44 __gxx_personality_v0 + 478488\n15  chromedriver                        0x0000000103376458 __gxx_personality_v0 + 566316\n16  libsystem_pthread.dylib             0x000000018934f878 _pthread_start + 320\n17  libsystem_pthread.dylib             0x000000018934a5e0 thread_start + 8\n"
     ]
    }
   ],
   "source": [
    "searchn.click()"
   ]
  },
  {
   "cell_type": "code",
   "execution_count": 455,
   "id": "d348bba8",
   "metadata": {},
   "outputs": [],
   "source": [
    "title=[]\n",
    "date=[]\n",
    "rating=[]"
   ]
  },
  {
   "cell_type": "code",
   "execution_count": 456,
   "id": "eb1b0830",
   "metadata": {},
   "outputs": [],
   "source": [
    "title_tag=driver.find_elements_by_xpath(\"//a[@class='title noclick']\")"
   ]
  },
  {
   "cell_type": "code",
   "execution_count": 457,
   "id": "f74935b6",
   "metadata": {
    "collapsed": true
   },
   "outputs": [
    {
     "data": {
      "text/plain": [
       "[<selenium.webdriver.remote.webelement.WebElement (session=\"a61f154263b4ef044cec9048931b9d71\", element=\"a8cd8c29-93ab-480a-9aab-4f0a7fe448fa\")>,\n",
       " <selenium.webdriver.remote.webelement.WebElement (session=\"a61f154263b4ef044cec9048931b9d71\", element=\"d17e164d-7020-47ea-82ea-812343d0f460\")>,\n",
       " <selenium.webdriver.remote.webelement.WebElement (session=\"a61f154263b4ef044cec9048931b9d71\", element=\"eb3a9e86-5179-4b07-b5fe-4bc023b91040\")>,\n",
       " <selenium.webdriver.remote.webelement.WebElement (session=\"a61f154263b4ef044cec9048931b9d71\", element=\"dcad7f00-6d75-4a54-8fc4-d507677c7010\")>,\n",
       " <selenium.webdriver.remote.webelement.WebElement (session=\"a61f154263b4ef044cec9048931b9d71\", element=\"ede41795-758d-41ce-a5e0-ab2b319813e7\")>,\n",
       " <selenium.webdriver.remote.webelement.WebElement (session=\"a61f154263b4ef044cec9048931b9d71\", element=\"6ce18cd2-f7ac-43c0-8c97-69c4d9c90e62\")>,\n",
       " <selenium.webdriver.remote.webelement.WebElement (session=\"a61f154263b4ef044cec9048931b9d71\", element=\"278fd102-754e-438b-a1bb-f9f6615b7224\")>,\n",
       " <selenium.webdriver.remote.webelement.WebElement (session=\"a61f154263b4ef044cec9048931b9d71\", element=\"18a2ff01-a304-441a-ae18-a0b1ef49c21a\")>,\n",
       " <selenium.webdriver.remote.webelement.WebElement (session=\"a61f154263b4ef044cec9048931b9d71\", element=\"3aad17d0-6d9f-4874-bb50-6dcbe6a3527e\")>,\n",
       " <selenium.webdriver.remote.webelement.WebElement (session=\"a61f154263b4ef044cec9048931b9d71\", element=\"5977183f-5f58-4edd-9c55-e9423010473e\")>]"
      ]
     },
     "execution_count": 457,
     "metadata": {},
     "output_type": "execute_result"
    }
   ],
   "source": [
    "title_tag"
   ]
  },
  {
   "cell_type": "code",
   "execution_count": 458,
   "id": "c88c68ff",
   "metadata": {},
   "outputs": [],
   "source": [
    "for i in title_tag:\n",
    "    titles=i.text\n",
    "    title.append(titles)"
   ]
  },
  {
   "cell_type": "code",
   "execution_count": 459,
   "id": "26efe1ba",
   "metadata": {},
   "outputs": [
    {
     "data": {
      "text/plain": [
       "['Data Scientist',\n",
       " 'Group Lead-Data Scientist',\n",
       " 'Data Scientist',\n",
       " 'Urgent Vacancy || Data Scientist || Noida',\n",
       " 'Urgent Requirement || Data Scientist || Noida',\n",
       " 'Senior Data Scientist',\n",
       " 'Data Scientist - Machine Learning (5-14 yrs)',\n",
       " 'Data Scientist - Consulting Firm (8-15 yrs)',\n",
       " 'Manager - Data Scientist - Retail/BFSI (8-15 yrs)',\n",
       " 'Data Scientist: Artificial Intelligence']"
      ]
     },
     "execution_count": 459,
     "metadata": {},
     "output_type": "execute_result"
    }
   ],
   "source": [
    "title"
   ]
  },
  {
   "cell_type": "code",
   "execution_count": 463,
   "id": "235d2fdf",
   "metadata": {},
   "outputs": [],
   "source": [
    "postdate=driver.find_elements_by_xpath(\"//span[@class='body-small-l']\")"
   ]
  },
  {
   "cell_type": "code",
   "execution_count": 464,
   "id": "d93c3332",
   "metadata": {
    "collapsed": true
   },
   "outputs": [
    {
     "data": {
      "text/plain": [
       "[<selenium.webdriver.remote.webelement.WebElement (session=\"a61f154263b4ef044cec9048931b9d71\", element=\"048083c5-6bd6-4eff-9b43-05169118418e\")>,\n",
       " <selenium.webdriver.remote.webelement.WebElement (session=\"a61f154263b4ef044cec9048931b9d71\", element=\"752ba6da-fe0e-45f5-8bbd-6ebf2df80e04\")>,\n",
       " <selenium.webdriver.remote.webelement.WebElement (session=\"a61f154263b4ef044cec9048931b9d71\", element=\"97c837a7-b0b3-4c4a-a424-011cfdaa17fb\")>,\n",
       " <selenium.webdriver.remote.webelement.WebElement (session=\"a61f154263b4ef044cec9048931b9d71\", element=\"5f256a42-9ea3-4c1a-be71-4a0588633140\")>,\n",
       " <selenium.webdriver.remote.webelement.WebElement (session=\"a61f154263b4ef044cec9048931b9d71\", element=\"d4474237-a3d0-4fc0-991d-36b085a92af9\")>,\n",
       " <selenium.webdriver.remote.webelement.WebElement (session=\"a61f154263b4ef044cec9048931b9d71\", element=\"403419d1-4c62-4b46-8743-26692c05744c\")>,\n",
       " <selenium.webdriver.remote.webelement.WebElement (session=\"a61f154263b4ef044cec9048931b9d71\", element=\"b2f800ec-f69b-4bf1-85c1-7001a1f8dd34\")>,\n",
       " <selenium.webdriver.remote.webelement.WebElement (session=\"a61f154263b4ef044cec9048931b9d71\", element=\"4b018523-d758-459a-a979-c9e79c7a18b7\")>,\n",
       " <selenium.webdriver.remote.webelement.WebElement (session=\"a61f154263b4ef044cec9048931b9d71\", element=\"6c24d03d-b99d-4b79-87fc-24ef8efc23dc\")>,\n",
       " <selenium.webdriver.remote.webelement.WebElement (session=\"a61f154263b4ef044cec9048931b9d71\", element=\"2582a13a-4c8e-45c1-bab9-c90ea5e104b2\")>,\n",
       " <selenium.webdriver.remote.webelement.WebElement (session=\"a61f154263b4ef044cec9048931b9d71\", element=\"0a246869-c3bc-40bf-b71f-2ca431baece2\")>,\n",
       " <selenium.webdriver.remote.webelement.WebElement (session=\"a61f154263b4ef044cec9048931b9d71\", element=\"abe637bf-efd8-4af3-a69f-b387693909a5\")>,\n",
       " <selenium.webdriver.remote.webelement.WebElement (session=\"a61f154263b4ef044cec9048931b9d71\", element=\"eecf4d95-d571-43e8-ab85-1f685de1eafa\")>,\n",
       " <selenium.webdriver.remote.webelement.WebElement (session=\"a61f154263b4ef044cec9048931b9d71\", element=\"64a1acb4-97a5-4f0e-8112-e445ccf60372\")>,\n",
       " <selenium.webdriver.remote.webelement.WebElement (session=\"a61f154263b4ef044cec9048931b9d71\", element=\"f9101e6a-d72a-4a97-a50c-cd4ee2e2aba6\")>,\n",
       " <selenium.webdriver.remote.webelement.WebElement (session=\"a61f154263b4ef044cec9048931b9d71\", element=\"f5873965-5ce4-4eca-90b2-9ce98207040f\")>,\n",
       " <selenium.webdriver.remote.webelement.WebElement (session=\"a61f154263b4ef044cec9048931b9d71\", element=\"9fe0e605-b598-4753-9a76-b69bdb4f5132\")>,\n",
       " <selenium.webdriver.remote.webelement.WebElement (session=\"a61f154263b4ef044cec9048931b9d71\", element=\"5c4909de-25c2-4097-bbbf-c1e44bceb639\")>,\n",
       " <selenium.webdriver.remote.webelement.WebElement (session=\"a61f154263b4ef044cec9048931b9d71\", element=\"687e49e8-a837-4701-8c74-8f9c24c79bde\")>,\n",
       " <selenium.webdriver.remote.webelement.WebElement (session=\"a61f154263b4ef044cec9048931b9d71\", element=\"beda59dd-a7bc-478c-a509-80d0a94adb65\")>]"
      ]
     },
     "execution_count": 464,
     "metadata": {},
     "output_type": "execute_result"
    }
   ],
   "source": [
    "postdate"
   ]
  },
  {
   "cell_type": "code",
   "execution_count": 465,
   "id": "88171846",
   "metadata": {},
   "outputs": [],
   "source": [
    "for i in postdate:\n",
    "    dates=i.text.split(\",\")[0]\n",
    "    date.append(dates)"
   ]
  },
  {
   "cell_type": "code",
   "execution_count": 466,
   "id": "9f505635",
   "metadata": {},
   "outputs": [
    {
     "data": {
      "text/plain": [
       "['7d ago',\n",
       " 'via naukri.com',\n",
       " '2d ago',\n",
       " 'via naukri.com',\n",
       " '28d ago',\n",
       " 'via naukri.com',\n",
       " '19d ago',\n",
       " 'via naukri.com',\n",
       " '19d ago',\n",
       " 'via naukri.com',\n",
       " '30d ago',\n",
       " 'via naukri.com',\n",
       " '1d ago',\n",
       " 'via hirist.com',\n",
       " '2d ago',\n",
       " 'via iimjobs.com',\n",
       " '4d ago',\n",
       " 'via iimjobs.com',\n",
       " '1mon ago',\n",
       " 'via naukri.com']"
      ]
     },
     "execution_count": 466,
     "metadata": {},
     "output_type": "execute_result"
    }
   ],
   "source": [
    "date"
   ]
  },
  {
   "cell_type": "code",
   "execution_count": 467,
   "id": "fc9cb831",
   "metadata": {},
   "outputs": [
    {
     "data": {
      "text/plain": [
       "20"
      ]
     },
     "execution_count": 467,
     "metadata": {},
     "output_type": "execute_result"
    }
   ],
   "source": [
    "len(date)"
   ]
  },
  {
   "cell_type": "code",
   "execution_count": 468,
   "id": "0ce3720a",
   "metadata": {},
   "outputs": [],
   "source": [
    "rating_tag=driver.find_elements_by_xpath(\"//span[@class='body-small']\")"
   ]
  },
  {
   "cell_type": "code",
   "execution_count": 469,
   "id": "720b9b55",
   "metadata": {
    "collapsed": true
   },
   "outputs": [
    {
     "data": {
      "text/plain": [
       "[<selenium.webdriver.remote.webelement.WebElement (session=\"a61f154263b4ef044cec9048931b9d71\", element=\"826a4339-0f40-4355-b254-1e4290716ee8\")>,\n",
       " <selenium.webdriver.remote.webelement.WebElement (session=\"a61f154263b4ef044cec9048931b9d71\", element=\"c7229287-d495-45b8-9862-4b899a172d84\")>,\n",
       " <selenium.webdriver.remote.webelement.WebElement (session=\"a61f154263b4ef044cec9048931b9d71\", element=\"237f1aa1-ae13-4691-9552-ca58a5eb4758\")>,\n",
       " <selenium.webdriver.remote.webelement.WebElement (session=\"a61f154263b4ef044cec9048931b9d71\", element=\"d9bbe182-2bf2-4c91-9e2d-64ef7c388d1c\")>,\n",
       " <selenium.webdriver.remote.webelement.WebElement (session=\"a61f154263b4ef044cec9048931b9d71\", element=\"2bc2d688-a39d-4227-98e3-6860dce6d1b1\")>,\n",
       " <selenium.webdriver.remote.webelement.WebElement (session=\"a61f154263b4ef044cec9048931b9d71\", element=\"da8a48db-2f27-42ed-afcf-167fe04e342b\")>,\n",
       " <selenium.webdriver.remote.webelement.WebElement (session=\"a61f154263b4ef044cec9048931b9d71\", element=\"85eb0c26-ced2-4442-bd00-0a4d484fb30d\")>,\n",
       " <selenium.webdriver.remote.webelement.WebElement (session=\"a61f154263b4ef044cec9048931b9d71\", element=\"767b7194-f3ff-46da-90e7-3d1ad3ed6fc5\")>,\n",
       " <selenium.webdriver.remote.webelement.WebElement (session=\"a61f154263b4ef044cec9048931b9d71\", element=\"4a4bef90-bcb8-44a4-b045-46da2feb721e\")>,\n",
       " <selenium.webdriver.remote.webelement.WebElement (session=\"a61f154263b4ef044cec9048931b9d71\", element=\"a072bc60-eec7-4b3d-9706-b75e95907629\")>]"
      ]
     },
     "execution_count": 469,
     "metadata": {},
     "output_type": "execute_result"
    }
   ],
   "source": [
    "rating_tag"
   ]
  },
  {
   "cell_type": "code",
   "execution_count": 470,
   "id": "f73ccf48",
   "metadata": {},
   "outputs": [],
   "source": [
    "for i in rating_tag:\n",
    "    ratings=i.text\n",
    "    rating.append(ratings)"
   ]
  },
  {
   "cell_type": "code",
   "execution_count": 471,
   "id": "41f663c8",
   "metadata": {},
   "outputs": [
    {
     "data": {
      "text/plain": [
       "['4.1', '4.1', '4.1', '4.1', '4.1', '3.8', '4.2', '3.9', '3.9', '4.1']"
      ]
     },
     "execution_count": 471,
     "metadata": {},
     "output_type": "execute_result"
    }
   ],
   "source": [
    "rating"
   ]
  },
  {
   "cell_type": "code",
   "execution_count": 472,
   "id": "287ed7f6",
   "metadata": {},
   "outputs": [],
   "source": [
    "dsjobs=pd.DataFrame({})"
   ]
  },
  {
   "cell_type": "code",
   "execution_count": 473,
   "id": "0d5fff98",
   "metadata": {},
   "outputs": [],
   "source": [
    "dsjobs['TITLE']=title[0:10]\n",
    "dsjobs['RATING']=rating[0:10]\n",
    "dsjobs['POSTDATE']=date[0:10]"
   ]
  },
  {
   "cell_type": "code",
   "execution_count": 474,
   "id": "07eac1b9",
   "metadata": {},
   "outputs": [
    {
     "data": {
      "text/html": [
       "<div>\n",
       "<style scoped>\n",
       "    .dataframe tbody tr th:only-of-type {\n",
       "        vertical-align: middle;\n",
       "    }\n",
       "\n",
       "    .dataframe tbody tr th {\n",
       "        vertical-align: top;\n",
       "    }\n",
       "\n",
       "    .dataframe thead th {\n",
       "        text-align: right;\n",
       "    }\n",
       "</style>\n",
       "<table border=\"1\" class=\"dataframe\">\n",
       "  <thead>\n",
       "    <tr style=\"text-align: right;\">\n",
       "      <th></th>\n",
       "      <th>TITLE</th>\n",
       "      <th>RATING</th>\n",
       "      <th>POSTDATE</th>\n",
       "    </tr>\n",
       "  </thead>\n",
       "  <tbody>\n",
       "    <tr>\n",
       "      <th>0</th>\n",
       "      <td>Data Scientist</td>\n",
       "      <td>4.1</td>\n",
       "      <td>7d ago</td>\n",
       "    </tr>\n",
       "    <tr>\n",
       "      <th>1</th>\n",
       "      <td>Group Lead-Data Scientist</td>\n",
       "      <td>4.1</td>\n",
       "      <td>via naukri.com</td>\n",
       "    </tr>\n",
       "    <tr>\n",
       "      <th>2</th>\n",
       "      <td>Data Scientist</td>\n",
       "      <td>4.1</td>\n",
       "      <td>2d ago</td>\n",
       "    </tr>\n",
       "    <tr>\n",
       "      <th>3</th>\n",
       "      <td>Urgent Vacancy || Data Scientist || Noida</td>\n",
       "      <td>4.1</td>\n",
       "      <td>via naukri.com</td>\n",
       "    </tr>\n",
       "    <tr>\n",
       "      <th>4</th>\n",
       "      <td>Urgent Requirement || Data Scientist || Noida</td>\n",
       "      <td>4.1</td>\n",
       "      <td>28d ago</td>\n",
       "    </tr>\n",
       "    <tr>\n",
       "      <th>5</th>\n",
       "      <td>Senior Data Scientist</td>\n",
       "      <td>3.8</td>\n",
       "      <td>via naukri.com</td>\n",
       "    </tr>\n",
       "    <tr>\n",
       "      <th>6</th>\n",
       "      <td>Data Scientist - Machine Learning (5-14 yrs)</td>\n",
       "      <td>4.2</td>\n",
       "      <td>19d ago</td>\n",
       "    </tr>\n",
       "    <tr>\n",
       "      <th>7</th>\n",
       "      <td>Data Scientist - Consulting Firm (8-15 yrs)</td>\n",
       "      <td>3.9</td>\n",
       "      <td>via naukri.com</td>\n",
       "    </tr>\n",
       "    <tr>\n",
       "      <th>8</th>\n",
       "      <td>Manager - Data Scientist - Retail/BFSI (8-15 yrs)</td>\n",
       "      <td>3.9</td>\n",
       "      <td>19d ago</td>\n",
       "    </tr>\n",
       "    <tr>\n",
       "      <th>9</th>\n",
       "      <td>Data Scientist: Artificial Intelligence</td>\n",
       "      <td>4.1</td>\n",
       "      <td>via naukri.com</td>\n",
       "    </tr>\n",
       "  </tbody>\n",
       "</table>\n",
       "</div>"
      ],
      "text/plain": [
       "                                               TITLE RATING        POSTDATE\n",
       "0                                     Data Scientist    4.1          7d ago\n",
       "1                          Group Lead-Data Scientist    4.1  via naukri.com\n",
       "2                                     Data Scientist    4.1          2d ago\n",
       "3          Urgent Vacancy || Data Scientist || Noida    4.1  via naukri.com\n",
       "4      Urgent Requirement || Data Scientist || Noida    4.1         28d ago\n",
       "5                              Senior Data Scientist    3.8  via naukri.com\n",
       "6       Data Scientist - Machine Learning (5-14 yrs)    4.2         19d ago\n",
       "7        Data Scientist - Consulting Firm (8-15 yrs)    3.9  via naukri.com\n",
       "8  Manager - Data Scientist - Retail/BFSI (8-15 yrs)    3.9         19d ago\n",
       "9            Data Scientist: Artificial Intelligence    4.1  via naukri.com"
      ]
     },
     "execution_count": 474,
     "metadata": {},
     "output_type": "execute_result"
    }
   ],
   "source": [
    "dsjobs"
   ]
  },
  {
   "cell_type": "markdown",
   "id": "3fa89e62",
   "metadata": {},
   "source": [
    "# 10)salary data from ambitionbox"
   ]
  },
  {
   "cell_type": "code",
   "execution_count": 364,
   "id": "5207d21d",
   "metadata": {},
   "outputs": [],
   "source": [
    "driver.get(\"https://www.ambitionbox.com/\")"
   ]
  },
  {
   "cell_type": "code",
   "execution_count": 365,
   "id": "a1928a16",
   "metadata": {},
   "outputs": [],
   "source": [
    "salary=driver.find_elements_by_xpath(\"//a[@class='link jobs']\")"
   ]
  },
  {
   "cell_type": "code",
   "execution_count": 366,
   "id": "5a1ef375",
   "metadata": {},
   "outputs": [],
   "source": [
    "for i in salary:\n",
    "    if i.text=='Salaries':\n",
    "        i.click()\n",
    "        break"
   ]
  },
  {
   "cell_type": "code",
   "execution_count": 367,
   "id": "2a6fd5c6",
   "metadata": {},
   "outputs": [],
   "source": [
    "search_job1=driver.find_element_by_xpath(\"//input[@class='tt-input']\")"
   ]
  },
  {
   "cell_type": "code",
   "execution_count": 368,
   "id": "99097b63",
   "metadata": {},
   "outputs": [],
   "source": [
    "search_job1.send_keys(\"Data Scientist\")"
   ]
  },
  {
   "cell_type": "code",
   "execution_count": 369,
   "id": "ebdb6b70",
   "metadata": {},
   "outputs": [],
   "source": [
    "search_job1.click()"
   ]
  },
  {
   "cell_type": "code",
   "execution_count": 370,
   "id": "09b9decc",
   "metadata": {},
   "outputs": [],
   "source": [
    "company=[]\n",
    "experiance=[]\n",
    "avgsalary=[]\n",
    "minsalary=[]\n",
    "maxsalary=[]"
   ]
  },
  {
   "cell_type": "code",
   "execution_count": 371,
   "id": "c39987d3",
   "metadata": {},
   "outputs": [],
   "source": [
    "company_tag=driver.find_elements_by_xpath(\"//div[@class='name']/a\")"
   ]
  },
  {
   "cell_type": "code",
   "execution_count": 372,
   "id": "67a668ed",
   "metadata": {
    "collapsed": true
   },
   "outputs": [
    {
     "data": {
      "text/plain": [
       "[<selenium.webdriver.remote.webelement.WebElement (session=\"edf542fa869d72c0ee73fe534e764019\", element=\"ce9b8e89-88b3-4562-ae1a-5c9b3ae14f27\")>,\n",
       " <selenium.webdriver.remote.webelement.WebElement (session=\"edf542fa869d72c0ee73fe534e764019\", element=\"98699dac-ed20-4a2e-ad8f-13d966c80ba4\")>,\n",
       " <selenium.webdriver.remote.webelement.WebElement (session=\"edf542fa869d72c0ee73fe534e764019\", element=\"7f5771f1-5049-414b-9e3f-5f1ee76666d8\")>,\n",
       " <selenium.webdriver.remote.webelement.WebElement (session=\"edf542fa869d72c0ee73fe534e764019\", element=\"904e9b76-6f26-4cd3-807e-73f995342b8d\")>,\n",
       " <selenium.webdriver.remote.webelement.WebElement (session=\"edf542fa869d72c0ee73fe534e764019\", element=\"f9adee3b-9e40-49fc-937e-bd8693996a7b\")>,\n",
       " <selenium.webdriver.remote.webelement.WebElement (session=\"edf542fa869d72c0ee73fe534e764019\", element=\"1802b15d-08a5-4aeb-afdd-4961d8ef014c\")>,\n",
       " <selenium.webdriver.remote.webelement.WebElement (session=\"edf542fa869d72c0ee73fe534e764019\", element=\"f05ec0e6-048d-4acb-81c5-e1de13042934\")>,\n",
       " <selenium.webdriver.remote.webelement.WebElement (session=\"edf542fa869d72c0ee73fe534e764019\", element=\"5f5c4fb7-3cd5-4166-bb92-1037b037a70e\")>,\n",
       " <selenium.webdriver.remote.webelement.WebElement (session=\"edf542fa869d72c0ee73fe534e764019\", element=\"243837e9-d55d-4e0e-b7e3-ab65a3378feb\")>,\n",
       " <selenium.webdriver.remote.webelement.WebElement (session=\"edf542fa869d72c0ee73fe534e764019\", element=\"de629f51-801c-449d-9217-97f440edac1b\")>]"
      ]
     },
     "execution_count": 372,
     "metadata": {},
     "output_type": "execute_result"
    }
   ],
   "source": [
    "company_tag"
   ]
  },
  {
   "cell_type": "code",
   "execution_count": 373,
   "id": "bd0ab69c",
   "metadata": {},
   "outputs": [],
   "source": [
    "for i in company_tag:\n",
    "    title=i.text\n",
    "    company.append(title)"
   ]
  },
  {
   "cell_type": "code",
   "execution_count": 374,
   "id": "91c75a1f",
   "metadata": {},
   "outputs": [
    {
     "data": {
      "text/plain": [
       "['Ab Inbev',\n",
       " 'Optum',\n",
       " 'Fractal Analytics',\n",
       " 'Tiger Analytics',\n",
       " 'UnitedHealth',\n",
       " 'Verizon',\n",
       " 'Ganit Business Solutions',\n",
       " 'Deloitte',\n",
       " 'Ernst & Young',\n",
       " 'Ericsson']"
      ]
     },
     "execution_count": 374,
     "metadata": {},
     "output_type": "execute_result"
    }
   ],
   "source": [
    "company"
   ]
  },
  {
   "cell_type": "code",
   "execution_count": 375,
   "id": "46fc6e1c",
   "metadata": {},
   "outputs": [],
   "source": [
    "experiance_tag=driver.find_elements_by_xpath(\"//div[@class='salaries sbold-list-header']\")"
   ]
  },
  {
   "cell_type": "code",
   "execution_count": 376,
   "id": "1d7efffa",
   "metadata": {
    "collapsed": true
   },
   "outputs": [
    {
     "data": {
      "text/plain": [
       "[<selenium.webdriver.remote.webelement.WebElement (session=\"edf542fa869d72c0ee73fe534e764019\", element=\"d08f7850-5c11-4159-b3e4-acaf7fb2346d\")>,\n",
       " <selenium.webdriver.remote.webelement.WebElement (session=\"edf542fa869d72c0ee73fe534e764019\", element=\"89806f9c-cecd-45b3-acf5-c8e561caec2f\")>,\n",
       " <selenium.webdriver.remote.webelement.WebElement (session=\"edf542fa869d72c0ee73fe534e764019\", element=\"0532f279-eb1f-4034-884e-a9dda6f6991e\")>,\n",
       " <selenium.webdriver.remote.webelement.WebElement (session=\"edf542fa869d72c0ee73fe534e764019\", element=\"65fbd72d-0077-4d0c-aefa-fd27c74ddf80\")>,\n",
       " <selenium.webdriver.remote.webelement.WebElement (session=\"edf542fa869d72c0ee73fe534e764019\", element=\"db6c13af-2eae-4339-bdcd-a657294cd38a\")>,\n",
       " <selenium.webdriver.remote.webelement.WebElement (session=\"edf542fa869d72c0ee73fe534e764019\", element=\"a590d61a-51e8-4c40-8f8d-4ffdd773d8bc\")>,\n",
       " <selenium.webdriver.remote.webelement.WebElement (session=\"edf542fa869d72c0ee73fe534e764019\", element=\"0595984f-cce6-4f0e-b5f0-22e6d16cbcea\")>,\n",
       " <selenium.webdriver.remote.webelement.WebElement (session=\"edf542fa869d72c0ee73fe534e764019\", element=\"f0afb697-f4ca-401b-a0f2-101999c1c565\")>,\n",
       " <selenium.webdriver.remote.webelement.WebElement (session=\"edf542fa869d72c0ee73fe534e764019\", element=\"40592ec5-3c6c-47e7-af34-35622d06419f\")>,\n",
       " <selenium.webdriver.remote.webelement.WebElement (session=\"edf542fa869d72c0ee73fe534e764019\", element=\"68457c49-eb33-4ae3-8960-ab9d1f33deb8\")>]"
      ]
     },
     "execution_count": 376,
     "metadata": {},
     "output_type": "execute_result"
    }
   ],
   "source": [
    "experiance_tag"
   ]
  },
  {
   "cell_type": "code",
   "execution_count": 377,
   "id": "f6acaf0b",
   "metadata": {},
   "outputs": [],
   "source": [
    "for i in experiance_tag:\n",
    "    exp=i.text.split('.')[1]\n",
    "    experiance.append(exp)"
   ]
  },
  {
   "cell_type": "code",
   "execution_count": 378,
   "id": "1c52aa75",
   "metadata": {},
   "outputs": [
    {
     "data": {
      "text/plain": [
       "[' \\n4 yrs exp',\n",
       " ' \\n3-4 yrs exp',\n",
       " ' \\n2-4 yrs exp',\n",
       " ' \\n3-4 yrs exp',\n",
       " ' \\n2-4 yrs exp',\n",
       " ' \\n4 yrs exp',\n",
       " ' \\n4 yrs exp',\n",
       " ' \\n2-4 yrs exp',\n",
       " ' \\n3-4 yrs exp',\n",
       " ' \\n3-4 yrs exp']"
      ]
     },
     "execution_count": 378,
     "metadata": {},
     "output_type": "execute_result"
    }
   ],
   "source": [
    "experiance"
   ]
  },
  {
   "cell_type": "code",
   "execution_count": 379,
   "id": "576e0707",
   "metadata": {},
   "outputs": [],
   "source": [
    "avgsalary_tag=driver.find_elements_by_xpath(\"//p[@class='averageCtc']\")"
   ]
  },
  {
   "cell_type": "code",
   "execution_count": 380,
   "id": "88156b46",
   "metadata": {
    "collapsed": true
   },
   "outputs": [
    {
     "data": {
      "text/plain": [
       "[<selenium.webdriver.remote.webelement.WebElement (session=\"edf542fa869d72c0ee73fe534e764019\", element=\"2b209004-34fd-40ec-a5dd-89dcca041ec3\")>,\n",
       " <selenium.webdriver.remote.webelement.WebElement (session=\"edf542fa869d72c0ee73fe534e764019\", element=\"19a9542e-f521-44a2-ba5a-8f0de0e26d43\")>,\n",
       " <selenium.webdriver.remote.webelement.WebElement (session=\"edf542fa869d72c0ee73fe534e764019\", element=\"0660ab78-410f-46ed-aeed-0c629453e6c2\")>,\n",
       " <selenium.webdriver.remote.webelement.WebElement (session=\"edf542fa869d72c0ee73fe534e764019\", element=\"5dcca9e3-66a0-414c-8e2d-a40fc01f8373\")>,\n",
       " <selenium.webdriver.remote.webelement.WebElement (session=\"edf542fa869d72c0ee73fe534e764019\", element=\"d3995cf2-4a5d-462a-8777-86c3a1b71b9e\")>,\n",
       " <selenium.webdriver.remote.webelement.WebElement (session=\"edf542fa869d72c0ee73fe534e764019\", element=\"f250e9ff-af7f-4492-b874-3d5715ecf692\")>,\n",
       " <selenium.webdriver.remote.webelement.WebElement (session=\"edf542fa869d72c0ee73fe534e764019\", element=\"ca40c2fb-2086-4aaa-96e8-e76d71f28bba\")>,\n",
       " <selenium.webdriver.remote.webelement.WebElement (session=\"edf542fa869d72c0ee73fe534e764019\", element=\"b9719316-9dd9-43da-834c-8c7493700689\")>,\n",
       " <selenium.webdriver.remote.webelement.WebElement (session=\"edf542fa869d72c0ee73fe534e764019\", element=\"7769c6ba-8573-413c-859d-3cd736417d67\")>,\n",
       " <selenium.webdriver.remote.webelement.WebElement (session=\"edf542fa869d72c0ee73fe534e764019\", element=\"1c2e92d0-cc55-451d-b413-24316909fd71\")>]"
      ]
     },
     "execution_count": 380,
     "metadata": {},
     "output_type": "execute_result"
    }
   ],
   "source": [
    "avgsalary_tag"
   ]
  },
  {
   "cell_type": "code",
   "execution_count": 381,
   "id": "0ea04860",
   "metadata": {},
   "outputs": [],
   "source": [
    "for i in avgsalary_tag:\n",
    "    sal=i.text\n",
    "    avgsalary.append(sal)"
   ]
  },
  {
   "cell_type": "code",
   "execution_count": 382,
   "id": "2ffa8cd3",
   "metadata": {},
   "outputs": [
    {
     "data": {
      "text/plain": [
       "['₹ 19.4L',\n",
       " '₹ 15.1L',\n",
       " '₹ 14.7L',\n",
       " '₹ 13.4L',\n",
       " '₹ 13.3L',\n",
       " '₹ 12.7L',\n",
       " '₹ 12.4L',\n",
       " '₹ 11.2L',\n",
       " '₹ 11.1L',\n",
       " '₹ 10.9L']"
      ]
     },
     "execution_count": 382,
     "metadata": {},
     "output_type": "execute_result"
    }
   ],
   "source": [
    "avgsalary"
   ]
  },
  {
   "cell_type": "code",
   "execution_count": 391,
   "id": "bda98765",
   "metadata": {},
   "outputs": [],
   "source": [
    "max_salary=driver.find_elements_by_xpath(\"//div[@class='salary-values']/div[2]\")"
   ]
  },
  {
   "cell_type": "code",
   "execution_count": 392,
   "id": "59b9b931",
   "metadata": {
    "collapsed": true
   },
   "outputs": [
    {
     "data": {
      "text/plain": [
       "[<selenium.webdriver.remote.webelement.WebElement (session=\"edf542fa869d72c0ee73fe534e764019\", element=\"ea5fa6aa-5f88-48d8-904f-6574c6161ab5\")>,\n",
       " <selenium.webdriver.remote.webelement.WebElement (session=\"edf542fa869d72c0ee73fe534e764019\", element=\"c99aa827-5fe2-42ce-8ea4-a5543fcd8a25\")>,\n",
       " <selenium.webdriver.remote.webelement.WebElement (session=\"edf542fa869d72c0ee73fe534e764019\", element=\"0a6c7ece-5cca-4d70-898a-520aa988ca3e\")>,\n",
       " <selenium.webdriver.remote.webelement.WebElement (session=\"edf542fa869d72c0ee73fe534e764019\", element=\"898d0b6a-d8ae-40c0-94ce-4dcc9339947b\")>,\n",
       " <selenium.webdriver.remote.webelement.WebElement (session=\"edf542fa869d72c0ee73fe534e764019\", element=\"05f6b145-2ea3-48fb-bb18-9b92e2203f68\")>,\n",
       " <selenium.webdriver.remote.webelement.WebElement (session=\"edf542fa869d72c0ee73fe534e764019\", element=\"1379e90a-d5fc-49f8-8b44-bc65520bf732\")>,\n",
       " <selenium.webdriver.remote.webelement.WebElement (session=\"edf542fa869d72c0ee73fe534e764019\", element=\"9bb774e5-d0ab-45bd-b30c-677e1acf8bad\")>,\n",
       " <selenium.webdriver.remote.webelement.WebElement (session=\"edf542fa869d72c0ee73fe534e764019\", element=\"d37ddd9e-071d-4804-957d-4ee45de15664\")>,\n",
       " <selenium.webdriver.remote.webelement.WebElement (session=\"edf542fa869d72c0ee73fe534e764019\", element=\"a4349570-adaa-4f9e-88b5-444d7b85cd81\")>,\n",
       " <selenium.webdriver.remote.webelement.WebElement (session=\"edf542fa869d72c0ee73fe534e764019\", element=\"96beb211-8cec-4974-ac96-e36b3a926ad1\")>]"
      ]
     },
     "execution_count": 392,
     "metadata": {},
     "output_type": "execute_result"
    }
   ],
   "source": [
    "max_salary"
   ]
  },
  {
   "cell_type": "code",
   "execution_count": 393,
   "id": "ef7340b1",
   "metadata": {},
   "outputs": [],
   "source": [
    "for i in max_salary:\n",
    "    sal=i.text\n",
    "    maxsalary.append(sal)"
   ]
  },
  {
   "cell_type": "code",
   "execution_count": 394,
   "id": "9dcc065f",
   "metadata": {},
   "outputs": [
    {
     "data": {
      "text/plain": [
       "['₹ 23.0L',\n",
       " '₹ 21.3L',\n",
       " '₹ 20.8L',\n",
       " '₹ 18.5L',\n",
       " '₹ 20.5L',\n",
       " '₹ 21.0L',\n",
       " '₹ 15.0L',\n",
       " '₹ 20.5L',\n",
       " '₹ 20.0L',\n",
       " '₹ 21.5L']"
      ]
     },
     "execution_count": 394,
     "metadata": {},
     "output_type": "execute_result"
    }
   ],
   "source": [
    "maxsalary"
   ]
  },
  {
   "cell_type": "code",
   "execution_count": 395,
   "id": "ec9068c3",
   "metadata": {},
   "outputs": [],
   "source": [
    "min_salary=driver.find_elements_by_xpath(\"//div[@class='salary-values']/div[1]\")"
   ]
  },
  {
   "cell_type": "code",
   "execution_count": 396,
   "id": "8efdf44a",
   "metadata": {
    "collapsed": true
   },
   "outputs": [
    {
     "data": {
      "text/plain": [
       "[<selenium.webdriver.remote.webelement.WebElement (session=\"edf542fa869d72c0ee73fe534e764019\", element=\"8346413f-1862-4aab-acab-fc8006355522\")>,\n",
       " <selenium.webdriver.remote.webelement.WebElement (session=\"edf542fa869d72c0ee73fe534e764019\", element=\"04aeb7ed-e807-4046-889e-e2f293dd9241\")>,\n",
       " <selenium.webdriver.remote.webelement.WebElement (session=\"edf542fa869d72c0ee73fe534e764019\", element=\"993a3cd5-793f-453a-bd2b-a5d042669875\")>,\n",
       " <selenium.webdriver.remote.webelement.WebElement (session=\"edf542fa869d72c0ee73fe534e764019\", element=\"d6bdcd43-9447-43c6-a0e8-c2ddde7e5406\")>,\n",
       " <selenium.webdriver.remote.webelement.WebElement (session=\"edf542fa869d72c0ee73fe534e764019\", element=\"37b1c4eb-404b-490b-84b1-447e7ddc5c24\")>,\n",
       " <selenium.webdriver.remote.webelement.WebElement (session=\"edf542fa869d72c0ee73fe534e764019\", element=\"a000c9fc-b38b-44b7-a73e-ec1c376c2f66\")>,\n",
       " <selenium.webdriver.remote.webelement.WebElement (session=\"edf542fa869d72c0ee73fe534e764019\", element=\"790ccd03-ae8f-43ca-8252-79a2ac30b568\")>,\n",
       " <selenium.webdriver.remote.webelement.WebElement (session=\"edf542fa869d72c0ee73fe534e764019\", element=\"9e891024-5088-4fb2-90d6-5ed687eb9a7b\")>,\n",
       " <selenium.webdriver.remote.webelement.WebElement (session=\"edf542fa869d72c0ee73fe534e764019\", element=\"6c50c91d-7c0b-4c2f-bfda-d1535e7a0715\")>,\n",
       " <selenium.webdriver.remote.webelement.WebElement (session=\"edf542fa869d72c0ee73fe534e764019\", element=\"728333ee-3afb-4d1d-922f-f30933472db7\")>]"
      ]
     },
     "execution_count": 396,
     "metadata": {},
     "output_type": "execute_result"
    }
   ],
   "source": [
    "min_salary"
   ]
  },
  {
   "cell_type": "code",
   "execution_count": 397,
   "id": "53577b94",
   "metadata": {},
   "outputs": [],
   "source": [
    "for i in min_salary:\n",
    "    sal1=i.text\n",
    "    minsalary.append(sal1)"
   ]
  },
  {
   "cell_type": "code",
   "execution_count": 398,
   "id": "84223097",
   "metadata": {},
   "outputs": [
    {
     "data": {
      "text/plain": [
       "['₹ 15.0L',\n",
       " '₹ 11.0L',\n",
       " '₹ 9.0L',\n",
       " '₹ 8.3L',\n",
       " '₹ 7.2L',\n",
       " '₹ 10.0L',\n",
       " '₹ 8.5L',\n",
       " '₹ 6.9L',\n",
       " '₹ 6.0L',\n",
       " '₹ 5.0L']"
      ]
     },
     "execution_count": 398,
     "metadata": {},
     "output_type": "execute_result"
    }
   ],
   "source": [
    "minsalary"
   ]
  },
  {
   "cell_type": "code",
   "execution_count": 399,
   "id": "19f2c140",
   "metadata": {},
   "outputs": [],
   "source": [
    "salarydata=[]"
   ]
  },
  {
   "cell_type": "code",
   "execution_count": 402,
   "id": "4145b03b",
   "metadata": {},
   "outputs": [],
   "source": [
    "data_tag=driver.find_elements_by_xpath(\"//div[@class='name']/span\")"
   ]
  },
  {
   "cell_type": "code",
   "execution_count": 403,
   "id": "82f23bae",
   "metadata": {
    "collapsed": true
   },
   "outputs": [
    {
     "data": {
      "text/plain": [
       "[<selenium.webdriver.remote.webelement.WebElement (session=\"edf542fa869d72c0ee73fe534e764019\", element=\"73b856bd-2b6d-44b7-9022-b0628aa5c667\")>,\n",
       " <selenium.webdriver.remote.webelement.WebElement (session=\"edf542fa869d72c0ee73fe534e764019\", element=\"2c713756-e13f-43b9-92f5-dd1f84474471\")>,\n",
       " <selenium.webdriver.remote.webelement.WebElement (session=\"edf542fa869d72c0ee73fe534e764019\", element=\"a678daf5-325f-4114-a843-29f5e225bbe6\")>,\n",
       " <selenium.webdriver.remote.webelement.WebElement (session=\"edf542fa869d72c0ee73fe534e764019\", element=\"71609cd4-d516-4521-8b84-a9a4d8e89542\")>,\n",
       " <selenium.webdriver.remote.webelement.WebElement (session=\"edf542fa869d72c0ee73fe534e764019\", element=\"69f49016-2265-4b23-82b6-b0325b9b6591\")>,\n",
       " <selenium.webdriver.remote.webelement.WebElement (session=\"edf542fa869d72c0ee73fe534e764019\", element=\"22f0b90d-755c-4a92-9d8d-8b6c8b968f3f\")>,\n",
       " <selenium.webdriver.remote.webelement.WebElement (session=\"edf542fa869d72c0ee73fe534e764019\", element=\"2b334584-ea43-418f-a348-5aa22cb1e762\")>,\n",
       " <selenium.webdriver.remote.webelement.WebElement (session=\"edf542fa869d72c0ee73fe534e764019\", element=\"4bd6187e-fd46-490b-8ede-855f99db3f79\")>,\n",
       " <selenium.webdriver.remote.webelement.WebElement (session=\"edf542fa869d72c0ee73fe534e764019\", element=\"135eb5c5-7871-4c0e-9b81-1db22f69ac15\")>,\n",
       " <selenium.webdriver.remote.webelement.WebElement (session=\"edf542fa869d72c0ee73fe534e764019\", element=\"f3ba2f48-34d5-46d2-a03e-9cccd3bf72b5\")>]"
      ]
     },
     "execution_count": 403,
     "metadata": {},
     "output_type": "execute_result"
    }
   ],
   "source": [
    "data_tag"
   ]
  },
  {
   "cell_type": "code",
   "execution_count": 404,
   "id": "5d16c2f2",
   "metadata": {},
   "outputs": [],
   "source": [
    "for i in data_tag:\n",
    "    data=i.text\n",
    "    salarydata.append(data)"
   ]
  },
  {
   "cell_type": "code",
   "execution_count": 405,
   "id": "c456cd49",
   "metadata": {},
   "outputs": [
    {
     "data": {
      "text/plain": [
       "['based on 10 salaries',\n",
       " 'based on 22 salaries',\n",
       " 'based on 60 salaries',\n",
       " 'based on 24 salaries',\n",
       " 'based on 45 salaries',\n",
       " 'based on 14 salaries',\n",
       " 'based on 12 salaries',\n",
       " 'based on 45 salaries',\n",
       " 'based on 26 salaries',\n",
       " 'based on 43 salaries']"
      ]
     },
     "execution_count": 405,
     "metadata": {},
     "output_type": "execute_result"
    }
   ],
   "source": [
    "salarydata"
   ]
  },
  {
   "cell_type": "code",
   "execution_count": 406,
   "id": "96c9766a",
   "metadata": {},
   "outputs": [],
   "source": [
    "SALARIINFO=pd.DataFrame({})"
   ]
  },
  {
   "cell_type": "code",
   "execution_count": 407,
   "id": "090bd93a",
   "metadata": {},
   "outputs": [],
   "source": [
    "SALARIINFO['NAME']=company\n",
    "SALARIINFO['DATA']=salarydata\n",
    "SALARIINFO['EXP']=experiance\n",
    "SALARIINFO['AVG SAL']=avgsalary\n",
    "SALARIINFO['MIN SAL']=minsalary\n",
    "SALARIINFO['MAX SAL']=maxsalary"
   ]
  },
  {
   "cell_type": "code",
   "execution_count": 408,
   "id": "cca6e952",
   "metadata": {},
   "outputs": [
    {
     "data": {
      "text/html": [
       "<div>\n",
       "<style scoped>\n",
       "    .dataframe tbody tr th:only-of-type {\n",
       "        vertical-align: middle;\n",
       "    }\n",
       "\n",
       "    .dataframe tbody tr th {\n",
       "        vertical-align: top;\n",
       "    }\n",
       "\n",
       "    .dataframe thead th {\n",
       "        text-align: right;\n",
       "    }\n",
       "</style>\n",
       "<table border=\"1\" class=\"dataframe\">\n",
       "  <thead>\n",
       "    <tr style=\"text-align: right;\">\n",
       "      <th></th>\n",
       "      <th>NAME</th>\n",
       "      <th>DATA</th>\n",
       "      <th>EXP</th>\n",
       "      <th>AVG SAL</th>\n",
       "      <th>MIN SAL</th>\n",
       "      <th>MAX SAL</th>\n",
       "    </tr>\n",
       "  </thead>\n",
       "  <tbody>\n",
       "    <tr>\n",
       "      <th>0</th>\n",
       "      <td>Ab Inbev</td>\n",
       "      <td>based on 10 salaries</td>\n",
       "      <td>\\n4 yrs exp</td>\n",
       "      <td>₹ 19.4L</td>\n",
       "      <td>₹ 15.0L</td>\n",
       "      <td>₹ 23.0L</td>\n",
       "    </tr>\n",
       "    <tr>\n",
       "      <th>1</th>\n",
       "      <td>Optum</td>\n",
       "      <td>based on 22 salaries</td>\n",
       "      <td>\\n3-4 yrs exp</td>\n",
       "      <td>₹ 15.1L</td>\n",
       "      <td>₹ 11.0L</td>\n",
       "      <td>₹ 21.3L</td>\n",
       "    </tr>\n",
       "    <tr>\n",
       "      <th>2</th>\n",
       "      <td>Fractal Analytics</td>\n",
       "      <td>based on 60 salaries</td>\n",
       "      <td>\\n2-4 yrs exp</td>\n",
       "      <td>₹ 14.7L</td>\n",
       "      <td>₹ 9.0L</td>\n",
       "      <td>₹ 20.8L</td>\n",
       "    </tr>\n",
       "    <tr>\n",
       "      <th>3</th>\n",
       "      <td>Tiger Analytics</td>\n",
       "      <td>based on 24 salaries</td>\n",
       "      <td>\\n3-4 yrs exp</td>\n",
       "      <td>₹ 13.4L</td>\n",
       "      <td>₹ 8.3L</td>\n",
       "      <td>₹ 18.5L</td>\n",
       "    </tr>\n",
       "    <tr>\n",
       "      <th>4</th>\n",
       "      <td>UnitedHealth</td>\n",
       "      <td>based on 45 salaries</td>\n",
       "      <td>\\n2-4 yrs exp</td>\n",
       "      <td>₹ 13.3L</td>\n",
       "      <td>₹ 7.2L</td>\n",
       "      <td>₹ 20.5L</td>\n",
       "    </tr>\n",
       "    <tr>\n",
       "      <th>5</th>\n",
       "      <td>Verizon</td>\n",
       "      <td>based on 14 salaries</td>\n",
       "      <td>\\n4 yrs exp</td>\n",
       "      <td>₹ 12.7L</td>\n",
       "      <td>₹ 10.0L</td>\n",
       "      <td>₹ 21.0L</td>\n",
       "    </tr>\n",
       "    <tr>\n",
       "      <th>6</th>\n",
       "      <td>Ganit Business Solutions</td>\n",
       "      <td>based on 12 salaries</td>\n",
       "      <td>\\n4 yrs exp</td>\n",
       "      <td>₹ 12.4L</td>\n",
       "      <td>₹ 8.5L</td>\n",
       "      <td>₹ 15.0L</td>\n",
       "    </tr>\n",
       "    <tr>\n",
       "      <th>7</th>\n",
       "      <td>Deloitte</td>\n",
       "      <td>based on 45 salaries</td>\n",
       "      <td>\\n2-4 yrs exp</td>\n",
       "      <td>₹ 11.2L</td>\n",
       "      <td>₹ 6.9L</td>\n",
       "      <td>₹ 20.5L</td>\n",
       "    </tr>\n",
       "    <tr>\n",
       "      <th>8</th>\n",
       "      <td>Ernst &amp; Young</td>\n",
       "      <td>based on 26 salaries</td>\n",
       "      <td>\\n3-4 yrs exp</td>\n",
       "      <td>₹ 11.1L</td>\n",
       "      <td>₹ 6.0L</td>\n",
       "      <td>₹ 20.0L</td>\n",
       "    </tr>\n",
       "    <tr>\n",
       "      <th>9</th>\n",
       "      <td>Ericsson</td>\n",
       "      <td>based on 43 salaries</td>\n",
       "      <td>\\n3-4 yrs exp</td>\n",
       "      <td>₹ 10.9L</td>\n",
       "      <td>₹ 5.0L</td>\n",
       "      <td>₹ 21.5L</td>\n",
       "    </tr>\n",
       "  </tbody>\n",
       "</table>\n",
       "</div>"
      ],
      "text/plain": [
       "                       NAME                  DATA             EXP  AVG SAL  \\\n",
       "0                  Ab Inbev  based on 10 salaries     \\n4 yrs exp  ₹ 19.4L   \n",
       "1                     Optum  based on 22 salaries   \\n3-4 yrs exp  ₹ 15.1L   \n",
       "2         Fractal Analytics  based on 60 salaries   \\n2-4 yrs exp  ₹ 14.7L   \n",
       "3           Tiger Analytics  based on 24 salaries   \\n3-4 yrs exp  ₹ 13.4L   \n",
       "4              UnitedHealth  based on 45 salaries   \\n2-4 yrs exp  ₹ 13.3L   \n",
       "5                   Verizon  based on 14 salaries     \\n4 yrs exp  ₹ 12.7L   \n",
       "6  Ganit Business Solutions  based on 12 salaries     \\n4 yrs exp  ₹ 12.4L   \n",
       "7                  Deloitte  based on 45 salaries   \\n2-4 yrs exp  ₹ 11.2L   \n",
       "8             Ernst & Young  based on 26 salaries   \\n3-4 yrs exp  ₹ 11.1L   \n",
       "9                  Ericsson  based on 43 salaries   \\n3-4 yrs exp  ₹ 10.9L   \n",
       "\n",
       "   MIN SAL  MAX SAL  \n",
       "0  ₹ 15.0L  ₹ 23.0L  \n",
       "1  ₹ 11.0L  ₹ 21.3L  \n",
       "2   ₹ 9.0L  ₹ 20.8L  \n",
       "3   ₹ 8.3L  ₹ 18.5L  \n",
       "4   ₹ 7.2L  ₹ 20.5L  \n",
       "5  ₹ 10.0L  ₹ 21.0L  \n",
       "6   ₹ 8.5L  ₹ 15.0L  \n",
       "7   ₹ 6.9L  ₹ 20.5L  \n",
       "8   ₹ 6.0L  ₹ 20.0L  \n",
       "9   ₹ 5.0L  ₹ 21.5L  "
      ]
     },
     "execution_count": 408,
     "metadata": {},
     "output_type": "execute_result"
    }
   ],
   "source": [
    "SALARIINFO"
   ]
  },
  {
   "cell_type": "code",
   "execution_count": null,
   "id": "ac8ee5bb",
   "metadata": {},
   "outputs": [],
   "source": []
  }
 ],
 "metadata": {
  "kernelspec": {
   "display_name": "Python 3",
   "language": "python",
   "name": "python3"
  },
  "language_info": {
   "codemirror_mode": {
    "name": "ipython",
    "version": 3
   },
   "file_extension": ".py",
   "mimetype": "text/x-python",
   "name": "python",
   "nbconvert_exporter": "python",
   "pygments_lexer": "ipython3",
   "version": "3.8.8"
  }
 },
 "nbformat": 4,
 "nbformat_minor": 5
}
